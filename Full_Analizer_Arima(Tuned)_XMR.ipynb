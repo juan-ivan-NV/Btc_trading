{
  "nbformat": 4,
  "nbformat_minor": 0,
  "metadata": {
    "colab": {
      "name": "Full_Analizer_Arima(Tuned)_XMR.ipynb",
      "provenance": [],
      "collapsed_sections": [],
      "toc_visible": true
    },
    "kernelspec": {
      "name": "python3",
      "display_name": "Python 3"
    }
  },
  "cells": [
    {
      "cell_type": "markdown",
      "metadata": {
        "id": "YNLHCi3upHck",
        "colab_type": "text"
      },
      "source": [
        "# Data Extraction"
      ]
    },
    {
      "cell_type": "code",
      "metadata": {
        "id": "jye4FTYgo5hR",
        "colab_type": "code",
        "colab": {}
      },
      "source": [
        "import urllib.request as urllib2\n",
        "from bs4 import BeautifulSoup\n",
        "import pandas as pd\n",
        "import datetime \n",
        "import csv"
      ],
      "execution_count": 5,
      "outputs": []
    },
    {
      "cell_type": "code",
      "metadata": {
        "id": "TvbD8dDbncHv",
        "colab_type": "code",
        "colab": {}
      },
      "source": [
        "# Data about the crypto to be analized \n",
        "coin = 'full_data_XMR_27072020.csv'\n"
      ],
      "execution_count": 6,
      "outputs": []
    },
    {
      "cell_type": "code",
      "metadata": {
        "id": "3FAkHx3JpURy",
        "colab_type": "code",
        "colab": {}
      },
      "source": [
        "# There is no issue with start date, the one that is typed is the first from the BTC but it works for * cryptos \n",
        "today = datetime.date.today()\n",
        "mktcap_page = 'https://coinmarketcap.com/currencies/monero/historical-data/?start=20130428&amp;end='+\"{:%Y%m%d}\".format(today)\n",
        "page = urllib2.urlopen(mktcap_page)\n",
        "soup = BeautifulSoup(page, 'html.parser')\n",
        "table = soup.find(\"table\")"
      ],
      "execution_count": 7,
      "outputs": []
    },
    {
      "cell_type": "code",
      "metadata": {
        "id": "NV_2JahepbUC",
        "colab_type": "code",
        "colab": {
          "base_uri": "https://localhost:8080/",
          "height": 35
        },
        "outputId": "d5f6fac0-6085-496d-879d-9d8a72ca48df"
      },
      "source": [
        "headings = [th.get_text().strip() for th in table.find(\"tr\").find_all(\"th\")]\n",
        "headings = [x.replace('*','') for x in headings]\n",
        "headings"
      ],
      "execution_count": 8,
      "outputs": [
        {
          "output_type": "execute_result",
          "data": {
            "text/plain": [
              "['Date', 'Open', 'High', 'Low', 'Close', 'Volume', 'Market Cap']"
            ]
          },
          "metadata": {
            "tags": []
          },
          "execution_count": 8
        }
      ]
    },
    {
      "cell_type": "code",
      "metadata": {
        "id": "hPuRynwspeQX",
        "colab_type": "code",
        "colab": {
          "base_uri": "https://localhost:8080/",
          "height": 141
        },
        "outputId": "606b63cd-b982-41f0-e510-3c235af89325"
      },
      "source": [
        "datasets = []\n",
        "\n",
        "for row in soup.find_all(\"tr\")[1:]:\n",
        "    dataset = dict(zip(headings, (tr.get_text() for tr in row.find_all(\"td\"))))\n",
        "    if len(dataset) > 1:\n",
        "        datasets.append(dataset)\n",
        "\n",
        "datasets[0]"
      ],
      "execution_count": 9,
      "outputs": [
        {
          "output_type": "execute_result",
          "data": {
            "text/plain": [
              "{'Close': '77.94',\n",
              " 'Date': 'Jul 26, 2020',\n",
              " 'High': '78.01',\n",
              " 'Low': '73.09',\n",
              " 'Market Cap': '1,375,282,378',\n",
              " 'Open': '73.46',\n",
              " 'Volume': '86,834,241'}"
            ]
          },
          "metadata": {
            "tags": []
          },
          "execution_count": 9
        }
      ]
    },
    {
      "cell_type": "code",
      "metadata": {
        "id": "Ke0EvOrypeS5",
        "colab_type": "code",
        "colab": {
          "base_uri": "https://localhost:8080/",
          "height": 223
        },
        "outputId": "c47d7548-816f-4187-970a-66c3a7790ff0"
      },
      "source": [
        "my_df = pd.DataFrame(datasets)\n",
        "full_data = my_df.set_index('Date')\n",
        "#full_data = df[['Open', 'High', 'Low', 'Close', 'Volume', 'Market Cap']]\n",
        "full_data.to_csv(coin, index=True, header=True)\n",
        "full_data.head()"
      ],
      "execution_count": 10,
      "outputs": [
        {
          "output_type": "execute_result",
          "data": {
            "text/html": [
              "<div>\n",
              "<style scoped>\n",
              "    .dataframe tbody tr th:only-of-type {\n",
              "        vertical-align: middle;\n",
              "    }\n",
              "\n",
              "    .dataframe tbody tr th {\n",
              "        vertical-align: top;\n",
              "    }\n",
              "\n",
              "    .dataframe thead th {\n",
              "        text-align: right;\n",
              "    }\n",
              "</style>\n",
              "<table border=\"1\" class=\"dataframe\">\n",
              "  <thead>\n",
              "    <tr style=\"text-align: right;\">\n",
              "      <th></th>\n",
              "      <th>Open</th>\n",
              "      <th>High</th>\n",
              "      <th>Low</th>\n",
              "      <th>Close</th>\n",
              "      <th>Volume</th>\n",
              "      <th>Market Cap</th>\n",
              "    </tr>\n",
              "    <tr>\n",
              "      <th>Date</th>\n",
              "      <th></th>\n",
              "      <th></th>\n",
              "      <th></th>\n",
              "      <th></th>\n",
              "      <th></th>\n",
              "      <th></th>\n",
              "    </tr>\n",
              "  </thead>\n",
              "  <tbody>\n",
              "    <tr>\n",
              "      <th>Jul 26, 2020</th>\n",
              "      <td>73.46</td>\n",
              "      <td>78.01</td>\n",
              "      <td>73.09</td>\n",
              "      <td>77.94</td>\n",
              "      <td>86,834,241</td>\n",
              "      <td>1,375,282,378</td>\n",
              "    </tr>\n",
              "    <tr>\n",
              "      <th>Jul 25, 2020</th>\n",
              "      <td>71.58</td>\n",
              "      <td>73.85</td>\n",
              "      <td>71.50</td>\n",
              "      <td>73.46</td>\n",
              "      <td>60,151,560</td>\n",
              "      <td>1,296,168,871</td>\n",
              "    </tr>\n",
              "    <tr>\n",
              "      <th>Jul 24, 2020</th>\n",
              "      <td>72.84</td>\n",
              "      <td>72.99</td>\n",
              "      <td>71.39</td>\n",
              "      <td>71.58</td>\n",
              "      <td>73,201,966</td>\n",
              "      <td>1,262,847,204</td>\n",
              "    </tr>\n",
              "    <tr>\n",
              "      <th>Jul 23, 2020</th>\n",
              "      <td>71.47</td>\n",
              "      <td>73.87</td>\n",
              "      <td>70.89</td>\n",
              "      <td>72.86</td>\n",
              "      <td>82,557,920</td>\n",
              "      <td>1,285,366,161</td>\n",
              "    </tr>\n",
              "    <tr>\n",
              "      <th>Jul 22, 2020</th>\n",
              "      <td>69.57</td>\n",
              "      <td>71.49</td>\n",
              "      <td>69.34</td>\n",
              "      <td>71.46</td>\n",
              "      <td>62,044,445</td>\n",
              "      <td>1,260,610,029</td>\n",
              "    </tr>\n",
              "  </tbody>\n",
              "</table>\n",
              "</div>"
            ],
            "text/plain": [
              "               Open   High    Low  Close      Volume     Market Cap\n",
              "Date                                                               \n",
              "Jul 26, 2020  73.46  78.01  73.09  77.94  86,834,241  1,375,282,378\n",
              "Jul 25, 2020  71.58  73.85  71.50  73.46  60,151,560  1,296,168,871\n",
              "Jul 24, 2020  72.84  72.99  71.39  71.58  73,201,966  1,262,847,204\n",
              "Jul 23, 2020  71.47  73.87  70.89  72.86  82,557,920  1,285,366,161\n",
              "Jul 22, 2020  69.57  71.49  69.34  71.46  62,044,445  1,260,610,029"
            ]
          },
          "metadata": {
            "tags": []
          },
          "execution_count": 10
        }
      ]
    },
    {
      "cell_type": "code",
      "metadata": {
        "id": "bDr9VxCcpebr",
        "colab_type": "code",
        "colab": {
          "base_uri": "https://localhost:8080/",
          "height": 35
        },
        "outputId": "2f1c8f83-10eb-4a85-fb25-5978cb2744bf"
      },
      "source": [
        "full_data.shape"
      ],
      "execution_count": 11,
      "outputs": [
        {
          "output_type": "execute_result",
          "data": {
            "text/plain": [
              "(2258, 6)"
            ]
          },
          "metadata": {
            "tags": []
          },
          "execution_count": 11
        }
      ]
    },
    {
      "cell_type": "code",
      "metadata": {
        "id": "qDpsRZpyp-WT",
        "colab_type": "code",
        "colab": {
          "base_uri": "https://localhost:8080/",
          "height": 141
        },
        "outputId": "e1525497-bf47-41e4-eaad-a7e0ae3f8a52"
      },
      "source": [
        "full_data.dtypes"
      ],
      "execution_count": 12,
      "outputs": [
        {
          "output_type": "execute_result",
          "data": {
            "text/plain": [
              "Open          object\n",
              "High          object\n",
              "Low           object\n",
              "Close         object\n",
              "Volume        object\n",
              "Market Cap    object\n",
              "dtype: object"
            ]
          },
          "metadata": {
            "tags": []
          },
          "execution_count": 12
        }
      ]
    },
    {
      "cell_type": "code",
      "metadata": {
        "id": "mNVuO2E6p-ZA",
        "colab_type": "code",
        "colab": {
          "base_uri": "https://localhost:8080/",
          "height": 223
        },
        "outputId": "842cd950-6ed5-4e59-a580-8677b78eb352"
      },
      "source": [
        "def obj_to_int(x):\n",
        "    x = x.replace(',','')\n",
        "    return float(x)\n",
        "full_data['Low'] = full_data['Low'].apply(obj_to_int)\n",
        "full_data['High'] = full_data['High'].apply(obj_to_int)\n",
        "full_data.head()"
      ],
      "execution_count": 13,
      "outputs": [
        {
          "output_type": "execute_result",
          "data": {
            "text/html": [
              "<div>\n",
              "<style scoped>\n",
              "    .dataframe tbody tr th:only-of-type {\n",
              "        vertical-align: middle;\n",
              "    }\n",
              "\n",
              "    .dataframe tbody tr th {\n",
              "        vertical-align: top;\n",
              "    }\n",
              "\n",
              "    .dataframe thead th {\n",
              "        text-align: right;\n",
              "    }\n",
              "</style>\n",
              "<table border=\"1\" class=\"dataframe\">\n",
              "  <thead>\n",
              "    <tr style=\"text-align: right;\">\n",
              "      <th></th>\n",
              "      <th>Open</th>\n",
              "      <th>High</th>\n",
              "      <th>Low</th>\n",
              "      <th>Close</th>\n",
              "      <th>Volume</th>\n",
              "      <th>Market Cap</th>\n",
              "    </tr>\n",
              "    <tr>\n",
              "      <th>Date</th>\n",
              "      <th></th>\n",
              "      <th></th>\n",
              "      <th></th>\n",
              "      <th></th>\n",
              "      <th></th>\n",
              "      <th></th>\n",
              "    </tr>\n",
              "  </thead>\n",
              "  <tbody>\n",
              "    <tr>\n",
              "      <th>Jul 26, 2020</th>\n",
              "      <td>73.46</td>\n",
              "      <td>78.01</td>\n",
              "      <td>73.09</td>\n",
              "      <td>77.94</td>\n",
              "      <td>86,834,241</td>\n",
              "      <td>1,375,282,378</td>\n",
              "    </tr>\n",
              "    <tr>\n",
              "      <th>Jul 25, 2020</th>\n",
              "      <td>71.58</td>\n",
              "      <td>73.85</td>\n",
              "      <td>71.50</td>\n",
              "      <td>73.46</td>\n",
              "      <td>60,151,560</td>\n",
              "      <td>1,296,168,871</td>\n",
              "    </tr>\n",
              "    <tr>\n",
              "      <th>Jul 24, 2020</th>\n",
              "      <td>72.84</td>\n",
              "      <td>72.99</td>\n",
              "      <td>71.39</td>\n",
              "      <td>71.58</td>\n",
              "      <td>73,201,966</td>\n",
              "      <td>1,262,847,204</td>\n",
              "    </tr>\n",
              "    <tr>\n",
              "      <th>Jul 23, 2020</th>\n",
              "      <td>71.47</td>\n",
              "      <td>73.87</td>\n",
              "      <td>70.89</td>\n",
              "      <td>72.86</td>\n",
              "      <td>82,557,920</td>\n",
              "      <td>1,285,366,161</td>\n",
              "    </tr>\n",
              "    <tr>\n",
              "      <th>Jul 22, 2020</th>\n",
              "      <td>69.57</td>\n",
              "      <td>71.49</td>\n",
              "      <td>69.34</td>\n",
              "      <td>71.46</td>\n",
              "      <td>62,044,445</td>\n",
              "      <td>1,260,610,029</td>\n",
              "    </tr>\n",
              "  </tbody>\n",
              "</table>\n",
              "</div>"
            ],
            "text/plain": [
              "               Open   High    Low  Close      Volume     Market Cap\n",
              "Date                                                               \n",
              "Jul 26, 2020  73.46  78.01  73.09  77.94  86,834,241  1,375,282,378\n",
              "Jul 25, 2020  71.58  73.85  71.50  73.46  60,151,560  1,296,168,871\n",
              "Jul 24, 2020  72.84  72.99  71.39  71.58  73,201,966  1,262,847,204\n",
              "Jul 23, 2020  71.47  73.87  70.89  72.86  82,557,920  1,285,366,161\n",
              "Jul 22, 2020  69.57  71.49  69.34  71.46  62,044,445  1,260,610,029"
            ]
          },
          "metadata": {
            "tags": []
          },
          "execution_count": 13
        }
      ]
    },
    {
      "cell_type": "code",
      "metadata": {
        "id": "wFVgK5qlp-b3",
        "colab_type": "code",
        "colab": {
          "base_uri": "https://localhost:8080/",
          "height": 606
        },
        "outputId": "e16f364b-6972-49d0-e0ec-de8ebfc15405"
      },
      "source": [
        "_= full_data[['Low','High']][::-1].plot(grid=True, figsize=(21, 10))"
      ],
      "execution_count": 14,
      "outputs": [
        {
          "output_type": "display_data",
          "data": {
            "image/png": "[encoded data removed]",
            "text/plain": [
              "<Figure size 1512x720 with 1 Axes>"
            ]
          },
          "metadata": {
            "tags": [],
            "needs_background": "light"
          }
        }
      ]
    },
    {
      "cell_type": "markdown",
      "metadata": {
        "id": "Q7VZtGDzq64i",
        "colab_type": "text"
      },
      "source": [
        "# Preparing data for time series"
      ]
    },
    {
      "cell_type": "code",
      "metadata": {
        "id": "bhMAAwVsp-eW",
        "colab_type": "code",
        "colab": {}
      },
      "source": [
        "# This function replaces ',' for nothing and then changes data type object to float\n",
        "\n",
        "def obj_to_num(df,cols):\n",
        "    \n",
        "    def obj_to_num(row):\n",
        "        if ',' in str(row):\n",
        "          row = row.replace(',','')\n",
        "          return float(row)\n",
        "        else:\n",
        "          return float(row)\n",
        "\n",
        "    for col in cols:     \n",
        "        df[col] = df[col].apply(obj_to_num) \n",
        "    return df\n",
        "\n",
        "# This function changes data column (object) to timestamp[ns] and also can change all dataframe clumns to float \n",
        "\n",
        "def prepare_data(file):\n",
        "\n",
        "  dateparse = lambda x: datetime.datetime.strptime(x, '%b %d, %Y').strftime('%Y-%m-%d')\n",
        "  data  = pd.read_csv(file, parse_dates=[0], date_parser=dateparse)\n",
        "  columns = ['Open','High','Low','Close','Volume','Market Cap']\n",
        "  num_data = obj_to_num(data,columns)\n",
        "  data['Date'] = data['Date'].dt.tz_localize(None)\n",
        "  data = data.groupby([pd.Grouper(key='Date', freq='d')]).first().reset_index()\n",
        "  data = data.set_index('Date')\n",
        "  data = data[['High','Low']]\n",
        "  data.dropna(subset=['High','Low'], inplace=True)\n",
        "\n",
        "  return data"
      ],
      "execution_count": 15,
      "outputs": []
    },
    {
      "cell_type": "code",
      "metadata": {
        "id": "_8DL7DcoqwdK",
        "colab_type": "code",
        "colab": {
          "base_uri": "https://localhost:8080/",
          "height": 294
        },
        "outputId": "fca31a88-b83d-4cda-a132-604d9c1575eb"
      },
      "source": [
        "file = coin\n",
        "data = prepare_data(file)\n",
        "data.head()"
      ],
      "execution_count": 23,
      "outputs": [
        {
          "output_type": "stream",
          "text": [
            "/usr/local/lib/python3.6/dist-packages/ipykernel_launcher.py:20: FutureWarning:\n",
            "\n",
            "The pandas.datetime class is deprecated and will be removed from pandas in a future version. Import from datetime instead.\n",
            "\n"
          ],
          "name": "stderr"
        },
        {
          "output_type": "execute_result",
          "data": {
            "text/html": [
              "<div>\n",
              "<style scoped>\n",
              "    .dataframe tbody tr th:only-of-type {\n",
              "        vertical-align: middle;\n",
              "    }\n",
              "\n",
              "    .dataframe tbody tr th {\n",
              "        vertical-align: top;\n",
              "    }\n",
              "\n",
              "    .dataframe thead th {\n",
              "        text-align: right;\n",
              "    }\n",
              "</style>\n",
              "<table border=\"1\" class=\"dataframe\">\n",
              "  <thead>\n",
              "    <tr style=\"text-align: right;\">\n",
              "      <th></th>\n",
              "      <th>High</th>\n",
              "      <th>Low</th>\n",
              "    </tr>\n",
              "    <tr>\n",
              "      <th>Date</th>\n",
              "      <th></th>\n",
              "      <th></th>\n",
              "    </tr>\n",
              "  </thead>\n",
              "  <tbody>\n",
              "    <tr>\n",
              "      <th>2014-05-21</th>\n",
              "      <td>2.65</td>\n",
              "      <td>1.23</td>\n",
              "    </tr>\n",
              "    <tr>\n",
              "      <th>2014-05-22</th>\n",
              "      <td>2.19</td>\n",
              "      <td>1.36</td>\n",
              "    </tr>\n",
              "    <tr>\n",
              "      <th>2014-05-23</th>\n",
              "      <td>3.43</td>\n",
              "      <td>2.05</td>\n",
              "    </tr>\n",
              "    <tr>\n",
              "      <th>2014-05-24</th>\n",
              "      <td>4.01</td>\n",
              "      <td>2.62</td>\n",
              "    </tr>\n",
              "    <tr>\n",
              "      <th>2014-05-25</th>\n",
              "      <td>4.04</td>\n",
              "      <td>2.80</td>\n",
              "    </tr>\n",
              "  </tbody>\n",
              "</table>\n",
              "</div>"
            ],
            "text/plain": [
              "            High   Low\n",
              "Date                  \n",
              "2014-05-21  2.65  1.23\n",
              "2014-05-22  2.19  1.36\n",
              "2014-05-23  3.43  2.05\n",
              "2014-05-24  4.01  2.62\n",
              "2014-05-25  4.04  2.80"
            ]
          },
          "metadata": {
            "tags": []
          },
          "execution_count": 23
        }
      ]
    },
    {
      "cell_type": "code",
      "metadata": {
        "id": "nNhycTqIqwmu",
        "colab_type": "code",
        "colab": {
          "base_uri": "https://localhost:8080/",
          "height": 159
        },
        "outputId": "048747eb-84c0-4224-c436-345091c49b44"
      },
      "source": [
        "data.index"
      ],
      "execution_count": 15,
      "outputs": [
        {
          "output_type": "execute_result",
          "data": {
            "text/plain": [
              "DatetimeIndex(['2014-05-21', '2014-05-22', '2014-05-23', '2014-05-24',\n",
              "               '2014-05-25', '2014-05-26', '2014-05-27', '2014-05-28',\n",
              "               '2014-05-29', '2014-05-30',\n",
              "               ...\n",
              "               '2020-07-17', '2020-07-18', '2020-07-19', '2020-07-20',\n",
              "               '2020-07-21', '2020-07-22', '2020-07-23', '2020-07-24',\n",
              "               '2020-07-25', '2020-07-26'],\n",
              "              dtype='datetime64[ns]', name='Date', length=2258, freq=None)"
            ]
          },
          "metadata": {
            "tags": []
          },
          "execution_count": 15
        }
      ]
    },
    {
      "cell_type": "code",
      "metadata": {
        "id": "wxSPqJ-Rqwlx",
        "colab_type": "code",
        "colab": {
          "base_uri": "https://localhost:8080/",
          "height": 248
        },
        "outputId": "781e0443-e679-4487-b49f-902ae4dc928d"
      },
      "source": [
        "!pip install chart_studio"
      ],
      "execution_count": 16,
      "outputs": [
        {
          "output_type": "stream",
          "text": [
            "Collecting chart_studio\n",
            "\u001b[?25l  Downloading https://files.pythonhosted.org/packages/ca/ce/330794a6b6ca4b9182c38fc69dd2a9cbff60fd49421cb8648ee5fee352dc/chart_studio-1.1.0-py3-none-any.whl (64kB)\n",
            "\r\u001b[K     |█████                           | 10kB 18.5MB/s eta 0:00:01\r\u001b[K     |██████████▏                     | 20kB 6.4MB/s eta 0:00:01\r\u001b[K     |███████████████▎                | 30kB 7.5MB/s eta 0:00:01\r\u001b[K     |████████████████████▍           | 40kB 8.4MB/s eta 0:00:01\r\u001b[K     |█████████████████████████▍      | 51kB 6.7MB/s eta 0:00:01\r\u001b[K     |██████████████████████████████▌ | 61kB 7.4MB/s eta 0:00:01\r\u001b[K     |████████████████████████████████| 71kB 4.6MB/s \n",
            "\u001b[?25hRequirement already satisfied: retrying>=1.3.3 in /usr/local/lib/python3.6/dist-packages (from chart_studio) (1.3.3)\n",
            "Requirement already satisfied: six in /usr/local/lib/python3.6/dist-packages (from chart_studio) (1.15.0)\n",
            "Requirement already satisfied: requests in /usr/local/lib/python3.6/dist-packages (from chart_studio) (2.23.0)\n",
            "Requirement already satisfied: plotly in /usr/local/lib/python3.6/dist-packages (from chart_studio) (4.4.1)\n",
            "Requirement already satisfied: certifi>=2017.4.17 in /usr/local/lib/python3.6/dist-packages (from requests->chart_studio) (2020.6.20)\n",
            "Requirement already satisfied: idna<3,>=2.5 in /usr/local/lib/python3.6/dist-packages (from requests->chart_studio) (2.10)\n",
            "Requirement already satisfied: chardet<4,>=3.0.2 in /usr/local/lib/python3.6/dist-packages (from requests->chart_studio) (3.0.4)\n",
            "Requirement already satisfied: urllib3!=1.25.0,!=1.25.1,<1.26,>=1.21.1 in /usr/local/lib/python3.6/dist-packages (from requests->chart_studio) (1.24.3)\n",
            "Installing collected packages: chart-studio\n",
            "Successfully installed chart-studio-1.1.0\n"
          ],
          "name": "stdout"
        }
      ]
    },
    {
      "cell_type": "code",
      "metadata": {
        "id": "xUHuNuV2qwjt",
        "colab_type": "code",
        "colab": {
          "base_uri": "https://localhost:8080/",
          "height": 88
        },
        "outputId": "4620b558-d523-4700-cc9c-b1e45f9aba60"
      },
      "source": [
        "import plotly.graph_objects as go\n",
        "import chart_studio as py\n",
        "\n",
        "import seaborn as sns\n",
        "\n",
        "from statsmodels.tsa.seasonal import seasonal_decompose"
      ],
      "execution_count": 17,
      "outputs": [
        {
          "output_type": "stream",
          "text": [
            "/usr/local/lib/python3.6/dist-packages/statsmodels/tools/_testing.py:19: FutureWarning:\n",
            "\n",
            "pandas.util.testing is deprecated. Use the functions in the public API at pandas.testing instead.\n",
            "\n"
          ],
          "name": "stderr"
        }
      ]
    },
    {
      "cell_type": "code",
      "metadata": {
        "id": "zA4zZnv1p-hN",
        "colab_type": "code",
        "colab": {}
      },
      "source": [
        "py.tools.set_credentials_file(username='xxxx', api_key='xxxxx')"
      ],
      "execution_count": 18,
      "outputs": []
    },
    {
      "cell_type": "code",
      "metadata": {
        "id": "xr2Cppz8s7D_",
        "colab_type": "code",
        "colab": {
          "base_uri": "https://localhost:8080/",
          "height": 546
        },
        "outputId": "8776725b-9039-4826-e882-971e4b22b7dd"
      },
      "source": [
        "trace1 = go.Scatter(\n",
        "    x = data.index,\n",
        "    y = data['High'].astype(float),\n",
        "    mode = 'lines',\n",
        "    name = 'Monero Price (High)'\n",
        ")\n",
        "trace2 = go.Scatter(\n",
        "    x = data.index,\n",
        "    y = data['Low'].astype(float),\n",
        "    mode = 'lines',\n",
        "    name = 'Monero Price (High)'\n",
        ")\n",
        "\n",
        "layout = dict(\n",
        "    title='Historical monero High price (USD) (...-2020)',\n",
        "    xaxis=dict(\n",
        "        rangeselector=dict(\n",
        "            buttons=list([\n",
        "                dict(count=1,\n",
        "                     label='1m',\n",
        "                     step='month',\n",
        "                     stepmode='backward'),\n",
        "                dict(count=6,\n",
        "                     label='6m',\n",
        "                     step='month',\n",
        "                     stepmode='backward'),\n",
        "                dict(count=12,\n",
        "                     label='1y',\n",
        "                     step='month',\n",
        "                     stepmode='backward'),\n",
        "                dict(count=36,\n",
        "                     label='3y',\n",
        "                     step='month',\n",
        "                     stepmode='backward'),\n",
        "                dict(step='all')\n",
        "            ])\n",
        "        ),\n",
        "        rangeslider=dict(\n",
        "            visible = True\n",
        "        ),\n",
        "        type='date'\n",
        "    )\n",
        ")\n",
        "\n",
        "data = [trace1,trace2]\n",
        "fig = dict(data = data.copy(), layout=layout)\n",
        "py.plotly.iplot(fig, filename = \"Time Series with Rangeslider\")"
      ],
      "execution_count": 24,
      "outputs": [
        {
          "output_type": "execute_result",
          "data": {
            "text/html": [
              "\n",
              "        <iframe\n",
              "            width=\"100%\"\n",
              "            height=\"525px\"\n",
              "            src=\"https://plotly.com/~ji_nb/3.embed\"\n",
              "            frameborder=\"0\"\n",
              "            allowfullscreen\n",
              "        ></iframe>\n",
              "        "
            ],
            "text/plain": [
              "<IPython.lib.display.IFrame at 0x7f5ef6f05668>"
            ]
          },
          "metadata": {
            "tags": []
          },
          "execution_count": 24
        }
      ]
    },
    {
      "cell_type": "markdown",
      "metadata": {
        "id": "WXl3m_2ptnM8",
        "colab_type": "text"
      },
      "source": [
        "# Sarimax Model"
      ]
    },
    {
      "cell_type": "markdown",
      "metadata": {
        "id": "413Ns75LkN04",
        "colab_type": "text"
      },
      "source": [
        "## To trade dayli we want to know low and high prices on x number of days the closer the predictions are the more accurate result we have"
      ]
    },
    {
      "cell_type": "code",
      "metadata": {
        "id": "vKwu-SGwtfEh",
        "colab_type": "code",
        "colab": {
          "base_uri": "https://localhost:8080/",
          "height": 570
        },
        "outputId": "7d80bd11-1e71-415b-9b9c-35e1c65ebed2"
      },
      "source": [
        "!pip install pyramid-arima\n",
        "from pyramid.arima import auto_arima"
      ],
      "execution_count": 16,
      "outputs": [
        {
          "output_type": "stream",
          "text": [
            "Requirement already satisfied: pyramid-arima in /usr/local/lib/python3.6/dist-packages (0.9.0)\n",
            "Requirement already satisfied: scikit-learn>=0.17 in /usr/local/lib/python3.6/dist-packages (from pyramid-arima) (0.22.2.post1)\n",
            "Requirement already satisfied: numpy>=1.10 in /usr/local/lib/python3.6/dist-packages (from pyramid-arima) (1.18.5)\n",
            "Requirement already satisfied: scipy>=0.9 in /usr/local/lib/python3.6/dist-packages (from pyramid-arima) (1.4.1)\n",
            "Requirement already satisfied: statsmodels>=0.9.0 in /usr/local/lib/python3.6/dist-packages (from pyramid-arima) (0.10.2)\n",
            "Requirement already satisfied: Cython>=0.23 in /usr/local/lib/python3.6/dist-packages (from pyramid-arima) (0.29.21)\n",
            "Requirement already satisfied: pandas>=0.19 in /usr/local/lib/python3.6/dist-packages (from pyramid-arima) (1.0.5)\n",
            "Requirement already satisfied: joblib>=0.11 in /usr/local/lib/python3.6/dist-packages (from scikit-learn>=0.17->pyramid-arima) (0.16.0)\n",
            "Requirement already satisfied: patsy>=0.4.0 in /usr/local/lib/python3.6/dist-packages (from statsmodels>=0.9.0->pyramid-arima) (0.5.1)\n",
            "Requirement already satisfied: pytz>=2017.2 in /usr/local/lib/python3.6/dist-packages (from pandas>=0.19->pyramid-arima) (2018.9)\n",
            "Requirement already satisfied: python-dateutil>=2.6.1 in /usr/local/lib/python3.6/dist-packages (from pandas>=0.19->pyramid-arima) (2.8.1)\n",
            "Requirement already satisfied: six in /usr/local/lib/python3.6/dist-packages (from patsy>=0.4.0->statsmodels>=0.9.0->pyramid-arima) (1.15.0)\n"
          ],
          "name": "stdout"
        },
        {
          "output_type": "stream",
          "text": [
            "/usr/local/lib/python3.6/dist-packages/sklearn/externals/six.py:31: FutureWarning: The module is deprecated in version 0.21 and will be removed in version 0.23 since we've dropped support for Python 2.7. Please rely on the official version of six (https://pypi.org/project/six/).\n",
            "  \"(https://pypi.org/project/six/).\", FutureWarning)\n",
            "/usr/local/lib/python3.6/dist-packages/statsmodels/tools/_testing.py:19: FutureWarning: pandas.util.testing is deprecated. Use the functions in the public API at pandas.testing instead.\n",
            "  import pandas.util.testing as tm\n",
            "/usr/local/lib/python3.6/dist-packages/sklearn/externals/joblib/__init__.py:15: FutureWarning: sklearn.externals.joblib is deprecated in 0.21 and will be removed in 0.23. Please import this functionality directly from joblib, which can be installed with: pip install joblib. If this warning is raised when loading pickled models, you may need to re-serialize those models with scikit-learn 0.21+.\n",
            "  warnings.warn(msg, category=FutureWarning)\n",
            "/usr/local/lib/python3.6/dist-packages/pyramid/__init__.py:68: UserWarning: \n",
            "    The 'pyramid' package will be migrating to a new namespace beginning in \n",
            "    version 1.0.0: 'pmdarima'. This is due to a package name collision with the\n",
            "    Pyramid web framework. For more information, see Issue #34:\n",
            "    \n",
            "        https://github.com/tgsmith61591/pyramid/issues/34\n",
            "        \n",
            "    The package will subsequently be installable via the name 'pmdarima'; the\n",
            "    only functional change to the user will be the import name. All imports\n",
            "    from 'pyramid' will change to 'pmdarima'.\n",
            "    \n",
            "  \"\"\", UserWarning)\n"
          ],
          "name": "stderr"
        }
      ]
    },
    {
      "cell_type": "code",
      "metadata": {
        "id": "bKFeKo4zHnTs",
        "colab_type": "code",
        "colab": {}
      },
      "source": [
        "from scipy import stats\n",
        "import statsmodels.api as sm\n",
        "import warnings\n",
        "from itertools import product\n",
        "import matplotlib.pyplot as plt"
      ],
      "execution_count": 17,
      "outputs": []
    },
    {
      "cell_type": "code",
      "metadata": {
        "id": "wnRrASkft8ta",
        "colab_type": "code",
        "colab": {}
      },
      "source": [
        "# We do this again because the fo@#!ing pyplot plot changed data types \n",
        "file = coin\n",
        "data = prepare_data(file)"
      ],
      "execution_count": 18,
      "outputs": []
    },
    {
      "cell_type": "code",
      "metadata": {
        "id": "PEM34Na3lS4B",
        "colab_type": "code",
        "colab": {
          "base_uri": "https://localhost:8080/",
          "height": 223
        },
        "outputId": "3eafcac2-37c5-4853-8800-3a2d4aaee2b0"
      },
      "source": [
        "data.head()"
      ],
      "execution_count": 19,
      "outputs": [
        {
          "output_type": "execute_result",
          "data": {
            "text/html": [
              "<div>\n",
              "<style scoped>\n",
              "    .dataframe tbody tr th:only-of-type {\n",
              "        vertical-align: middle;\n",
              "    }\n",
              "\n",
              "    .dataframe tbody tr th {\n",
              "        vertical-align: top;\n",
              "    }\n",
              "\n",
              "    .dataframe thead th {\n",
              "        text-align: right;\n",
              "    }\n",
              "</style>\n",
              "<table border=\"1\" class=\"dataframe\">\n",
              "  <thead>\n",
              "    <tr style=\"text-align: right;\">\n",
              "      <th></th>\n",
              "      <th>High</th>\n",
              "      <th>Low</th>\n",
              "    </tr>\n",
              "    <tr>\n",
              "      <th>Date</th>\n",
              "      <th></th>\n",
              "      <th></th>\n",
              "    </tr>\n",
              "  </thead>\n",
              "  <tbody>\n",
              "    <tr>\n",
              "      <th>2014-05-21</th>\n",
              "      <td>2.65</td>\n",
              "      <td>1.23</td>\n",
              "    </tr>\n",
              "    <tr>\n",
              "      <th>2014-05-22</th>\n",
              "      <td>2.19</td>\n",
              "      <td>1.36</td>\n",
              "    </tr>\n",
              "    <tr>\n",
              "      <th>2014-05-23</th>\n",
              "      <td>3.43</td>\n",
              "      <td>2.05</td>\n",
              "    </tr>\n",
              "    <tr>\n",
              "      <th>2014-05-24</th>\n",
              "      <td>4.01</td>\n",
              "      <td>2.62</td>\n",
              "    </tr>\n",
              "    <tr>\n",
              "      <th>2014-05-25</th>\n",
              "      <td>4.04</td>\n",
              "      <td>2.80</td>\n",
              "    </tr>\n",
              "  </tbody>\n",
              "</table>\n",
              "</div>"
            ],
            "text/plain": [
              "            High   Low\n",
              "Date                  \n",
              "2014-05-21  2.65  1.23\n",
              "2014-05-22  2.19  1.36\n",
              "2014-05-23  3.43  2.05\n",
              "2014-05-24  4.01  2.62\n",
              "2014-05-25  4.04  2.80"
            ]
          },
          "metadata": {
            "tags": []
          },
          "execution_count": 19
        }
      ]
    },
    {
      "cell_type": "code",
      "metadata": {
        "id": "j2P_a7E5FilU",
        "colab_type": "code",
        "colab": {
          "base_uri": "https://localhost:8080/",
          "height": 159
        },
        "outputId": "8986540d-3baa-4ab8-87f2-d2666036b4fc"
      },
      "source": [
        "data.index"
      ],
      "execution_count": 20,
      "outputs": [
        {
          "output_type": "execute_result",
          "data": {
            "text/plain": [
              "DatetimeIndex(['2014-05-21', '2014-05-22', '2014-05-23', '2014-05-24',\n",
              "               '2014-05-25', '2014-05-26', '2014-05-27', '2014-05-28',\n",
              "               '2014-05-29', '2014-05-30',\n",
              "               ...\n",
              "               '2020-07-17', '2020-07-18', '2020-07-19', '2020-07-20',\n",
              "               '2020-07-21', '2020-07-22', '2020-07-23', '2020-07-24',\n",
              "               '2020-07-25', '2020-07-26'],\n",
              "              dtype='datetime64[ns]', name='Date', length=2258, freq=None)"
            ]
          },
          "metadata": {
            "tags": []
          },
          "execution_count": 20
        }
      ]
    },
    {
      "cell_type": "code",
      "metadata": {
        "id": "DJlCu9Iok8sx",
        "colab_type": "code",
        "colab": {
          "base_uri": "https://localhost:8080/",
          "height": 223
        },
        "outputId": "449091e1-47af-4bd5-b18c-1e4d0c62ab94"
      },
      "source": [
        "data_high = pd.DataFrame(data['High'].copy())\n",
        "data_high.head()"
      ],
      "execution_count": 21,
      "outputs": [
        {
          "output_type": "execute_result",
          "data": {
            "text/html": [
              "<div>\n",
              "<style scoped>\n",
              "    .dataframe tbody tr th:only-of-type {\n",
              "        vertical-align: middle;\n",
              "    }\n",
              "\n",
              "    .dataframe tbody tr th {\n",
              "        vertical-align: top;\n",
              "    }\n",
              "\n",
              "    .dataframe thead th {\n",
              "        text-align: right;\n",
              "    }\n",
              "</style>\n",
              "<table border=\"1\" class=\"dataframe\">\n",
              "  <thead>\n",
              "    <tr style=\"text-align: right;\">\n",
              "      <th></th>\n",
              "      <th>High</th>\n",
              "    </tr>\n",
              "    <tr>\n",
              "      <th>Date</th>\n",
              "      <th></th>\n",
              "    </tr>\n",
              "  </thead>\n",
              "  <tbody>\n",
              "    <tr>\n",
              "      <th>2014-05-21</th>\n",
              "      <td>2.65</td>\n",
              "    </tr>\n",
              "    <tr>\n",
              "      <th>2014-05-22</th>\n",
              "      <td>2.19</td>\n",
              "    </tr>\n",
              "    <tr>\n",
              "      <th>2014-05-23</th>\n",
              "      <td>3.43</td>\n",
              "    </tr>\n",
              "    <tr>\n",
              "      <th>2014-05-24</th>\n",
              "      <td>4.01</td>\n",
              "    </tr>\n",
              "    <tr>\n",
              "      <th>2014-05-25</th>\n",
              "      <td>4.04</td>\n",
              "    </tr>\n",
              "  </tbody>\n",
              "</table>\n",
              "</div>"
            ],
            "text/plain": [
              "            High\n",
              "Date            \n",
              "2014-05-21  2.65\n",
              "2014-05-22  2.19\n",
              "2014-05-23  3.43\n",
              "2014-05-24  4.01\n",
              "2014-05-25  4.04"
            ]
          },
          "metadata": {
            "tags": []
          },
          "execution_count": 21
        }
      ]
    },
    {
      "cell_type": "code",
      "metadata": {
        "id": "Q9G2NTgfHwCJ",
        "colab_type": "code",
        "colab": {
          "base_uri": "https://localhost:8080/",
          "height": 364
        },
        "outputId": "fb877602-fe8d-4f03-d54a-fd8b71a341e7"
      },
      "source": [
        "decomposition = sm.tsa.seasonal_decompose(data_high)\n",
        "\n",
        "trend = decomposition.trend\n",
        "seasonal = decomposition.seasonal\n",
        "residual = decomposition.resid\n",
        "\n",
        "fig = plt.figure(figsize=(20,8))\n",
        "\n",
        "plt.subplot(411)\n",
        "plt.plot(data_high, label='Original')\n",
        "plt.legend(loc='best')\n",
        "plt.subplot(412)\n",
        "plt.plot(trend, label='Trend')\n",
        "plt.legend(loc='best')\n",
        "plt.subplot(413)\n",
        "plt.plot(seasonal,label='Seasonality')\n",
        "plt.legend(loc='best')\n",
        "plt.subplot(414)\n",
        "plt.plot(residual, label='Residuals')\n",
        "plt.legend(loc='best')\n",
        "\n",
        "fig.suptitle('Decomposition of Prices Data')\n",
        "plt.show()"
      ],
      "execution_count": 22,
      "outputs": [
        {
          "output_type": "error",
          "ename": "ValueError",
          "evalue": "ignored",
          "traceback": [
            "\u001b[0;31m---------------------------------------------------------------------------\u001b[0m",
            "\u001b[0;31mValueError\u001b[0m                                Traceback (most recent call last)",
            "\u001b[0;32m<ipython-input-22-21da49d47d0e>\u001b[0m in \u001b[0;36m<module>\u001b[0;34m()\u001b[0m\n\u001b[0;32m----> 1\u001b[0;31m \u001b[0mdecomposition\u001b[0m \u001b[0;34m=\u001b[0m \u001b[0msm\u001b[0m\u001b[0;34m.\u001b[0m\u001b[0mtsa\u001b[0m\u001b[0;34m.\u001b[0m\u001b[0mseasonal_decompose\u001b[0m\u001b[0;34m(\u001b[0m\u001b[0mdata_high\u001b[0m\u001b[0;34m)\u001b[0m\u001b[0;34m\u001b[0m\u001b[0;34m\u001b[0m\u001b[0m\n\u001b[0m\u001b[1;32m      2\u001b[0m \u001b[0;34m\u001b[0m\u001b[0m\n\u001b[1;32m      3\u001b[0m \u001b[0mtrend\u001b[0m \u001b[0;34m=\u001b[0m \u001b[0mdecomposition\u001b[0m\u001b[0;34m.\u001b[0m\u001b[0mtrend\u001b[0m\u001b[0;34m\u001b[0m\u001b[0;34m\u001b[0m\u001b[0m\n\u001b[1;32m      4\u001b[0m \u001b[0mseasonal\u001b[0m \u001b[0;34m=\u001b[0m \u001b[0mdecomposition\u001b[0m\u001b[0;34m.\u001b[0m\u001b[0mseasonal\u001b[0m\u001b[0;34m\u001b[0m\u001b[0;34m\u001b[0m\u001b[0m\n\u001b[1;32m      5\u001b[0m \u001b[0mresidual\u001b[0m \u001b[0;34m=\u001b[0m \u001b[0mdecomposition\u001b[0m\u001b[0;34m.\u001b[0m\u001b[0mresid\u001b[0m\u001b[0;34m\u001b[0m\u001b[0;34m\u001b[0m\u001b[0m\n",
            "\u001b[0;32m/usr/local/lib/python3.6/dist-packages/statsmodels/tsa/seasonal.py\u001b[0m in \u001b[0;36mseasonal_decompose\u001b[0;34m(x, model, filt, freq, two_sided, extrapolate_trend)\u001b[0m\n\u001b[1;32m    125\u001b[0m             \u001b[0mfreq\u001b[0m \u001b[0;34m=\u001b[0m \u001b[0mpfreq\u001b[0m\u001b[0;34m\u001b[0m\u001b[0;34m\u001b[0m\u001b[0m\n\u001b[1;32m    126\u001b[0m         \u001b[0;32melse\u001b[0m\u001b[0;34m:\u001b[0m\u001b[0;34m\u001b[0m\u001b[0;34m\u001b[0m\u001b[0m\n\u001b[0;32m--> 127\u001b[0;31m             raise ValueError(\"You must specify a freq or x must be a \"\n\u001b[0m\u001b[1;32m    128\u001b[0m                              \u001b[0;34m\"pandas object with a timeseries index with \"\u001b[0m\u001b[0;34m\u001b[0m\u001b[0;34m\u001b[0m\u001b[0m\n\u001b[1;32m    129\u001b[0m                              \"a freq not set to None\")\n",
            "\u001b[0;31mValueError\u001b[0m: You must specify a freq or x must be a pandas object with a timeseries index with a freq not set to None"
          ]
        }
      ]
    },
    {
      "cell_type": "code",
      "metadata": {
        "id": "-36_uuCmILCH",
        "colab_type": "code",
        "colab": {
          "base_uri": "https://localhost:8080/",
          "height": 35
        },
        "outputId": "7f22b41b-52b8-48f7-f3c6-f4d6d160992a"
      },
      "source": [
        "# Test for p-value and null hypotesis\n",
        "print(\"Dickey–Fuller test: p=%f\" % sm.tsa.stattools.adfuller(data.High)[1])"
      ],
      "execution_count": 26,
      "outputs": [
        {
          "output_type": "stream",
          "text": [
            "Dickey–Fuller test: p=0.103705\n"
          ],
          "name": "stdout"
        }
      ]
    },
    {
      "cell_type": "code",
      "metadata": {
        "id": "630cdcStL2M4",
        "colab_type": "code",
        "colab": {
          "base_uri": "https://localhost:8080/",
          "height": 499
        },
        "outputId": "2e3070b1-80d6-4d9d-aec1-f82345f1e9ca"
      },
      "source": [
        "from statsmodels.graphics.tsaplots import plot_acf\n",
        "from statsmodels.graphics.tsaplots import plot_pacf\n",
        "from matplotlib import pyplot\n",
        "pyplot.figure(figsize=(20,8))\n",
        "pyplot.subplot(211)\n",
        "plot_acf(data.High, ax=pyplot.gca(),lags=40)\n",
        "pyplot.subplot(212)\n",
        "plot_pacf(data.High, ax=pyplot.gca(), lags=50)\n",
        "pyplot.show()"
      ],
      "execution_count": 27,
      "outputs": [
        {
          "output_type": "display_data",
          "data": {
            "image/png": "[encoded data removed]",
            "text/plain": [
              "<Figure size 1440x576 with 2 Axes>"
            ]
          },
          "metadata": {
            "tags": [],
            "needs_background": "light"
          }
        }
      ]
    },
    {
      "cell_type": "code",
      "metadata": {
        "id": "fXko1s1Ktlej",
        "colab_type": "code",
        "colab": {}
      },
      "source": [
        "# Initial approximation of parameters\n",
        "Qs = range(0, 2)\n",
        "qs = range(0, 3)\n",
        "Ps = range(0, 3)\n",
        "ps = range(0, 3)\n",
        "D=1\n",
        "d=1\n",
        "parameters = product(ps, qs, Ps, Qs)\n",
        "parameters_list = list(parameters)\n",
        "len(parameters_list)\n",
        "\n",
        "# Model Selection\n",
        "results = []\n",
        "best_aic = float(\"inf\")\n",
        "warnings.filterwarnings('ignore')\n",
        "for param in parameters_list:\n",
        "    try:\n",
        "        model=sm.tsa.statespace.SARIMAX(data.High, order=(param[0], d, param[1]), \n",
        "                                        seasonal_order=(param[2], D, param[3], 12),enforce_stationarity=False,\n",
        "                                            enforce_invertibility=False).fit(disp=-1)\n",
        "    except ValueError:\n",
        "        #print('wrong parameters:', param)\n",
        "        continue\n",
        "    aic = model.aic\n",
        "    if aic < best_aic:\n",
        "        best_model = model\n",
        "        best_aic = aic\n",
        "        best_param = param\n",
        "    results.append([param, model.aic])"
      ],
      "execution_count": 28,
      "outputs": []
    },
    {
      "cell_type": "code",
      "metadata": {
        "id": "5wpcsh3rMg6j",
        "colab_type": "code",
        "colab": {
          "base_uri": "https://localhost:8080/",
          "height": 540
        },
        "outputId": "423a609e-6f01-4b85-ffd5-aa8d074699c8"
      },
      "source": [
        "fig = plt.figure(figsize=(20,8))\n",
        "best_model.resid.plot()\n",
        "fig.suptitle('Residual Plot of the Best Model')\n",
        "print(\"Dickey–Fuller test:: p=%f\" % sm.tsa.stattools.adfuller(best_model.resid)[1])"
      ],
      "execution_count": 29,
      "outputs": [
        {
          "output_type": "stream",
          "text": [
            "Dickey–Fuller test:: p=0.000000\n"
          ],
          "name": "stdout"
        },
        {
          "output_type": "display_data",
          "data": {
            "image/png": "[encoded data removed]",
            "text/plain": [
              "<Figure size 1440x576 with 1 Axes>"
            ]
          },
          "metadata": {
            "tags": [],
            "needs_background": "light"
          }
        }
      ]
    },
    {
      "cell_type": "code",
      "metadata": {
        "id": "jErmOyLkNOkQ",
        "colab_type": "code",
        "colab": {
          "base_uri": "https://localhost:8080/",
          "height": 579
        },
        "outputId": "1429814e-ad7a-4a61-d039-52adb989fb9e"
      },
      "source": [
        "df_month2 = data[['High']]\n",
        "future = pd.DataFrame()\n",
        "df_month2 = pd.concat([df_month2, future])\n",
        "df_month2['forecast'] = best_model.predict(start=2150, end=2257)\n",
        "plt.figure(figsize=(21,10))\n",
        "df_month2.High.plot()\n",
        "df_month2.forecast.plot(color='r', ls='--', label='Predicted High_Price')\n",
        "plt.legend()\n",
        "plt.title('XMR - Monero Prices (USD) Predicted vs Actuals, by months')\n",
        "plt.ylabel('mean USD')\n",
        "plt.show()"
      ],
      "execution_count": 38,
      "outputs": [
        {
          "output_type": "display_data",
          "data": {
            "image/png": "[encoded data removed]",
            "text/plain": [
              "<Figure size 1512x720 with 1 Axes>"
            ]
          },
          "metadata": {
            "tags": [],
            "needs_background": "light"
          }
        }
      ]
    },
    {
      "cell_type": "code",
      "metadata": {
        "id": "5K0eTLwEN29Q",
        "colab_type": "code",
        "colab": {
          "base_uri": "https://localhost:8080/",
          "height": 663
        },
        "outputId": "374258bf-269b-49a1-8a46-cc765d60fa51"
      },
      "source": [
        "df_month2['forecast'] = best_model.predict(start=2237, end=2257)\n",
        "df_month2[-20:]"
      ],
      "execution_count": 40,
      "outputs": [
        {
          "output_type": "execute_result",
          "data": {
            "text/html": [
              "<div>\n",
              "<style scoped>\n",
              "    .dataframe tbody tr th:only-of-type {\n",
              "        vertical-align: middle;\n",
              "    }\n",
              "\n",
              "    .dataframe tbody tr th {\n",
              "        vertical-align: top;\n",
              "    }\n",
              "\n",
              "    .dataframe thead th {\n",
              "        text-align: right;\n",
              "    }\n",
              "</style>\n",
              "<table border=\"1\" class=\"dataframe\">\n",
              "  <thead>\n",
              "    <tr style=\"text-align: right;\">\n",
              "      <th></th>\n",
              "      <th>High</th>\n",
              "      <th>forecast</th>\n",
              "    </tr>\n",
              "    <tr>\n",
              "      <th>Date</th>\n",
              "      <th></th>\n",
              "      <th></th>\n",
              "    </tr>\n",
              "  </thead>\n",
              "  <tbody>\n",
              "    <tr>\n",
              "      <th>2020-07-07</th>\n",
              "      <td>65.07</td>\n",
              "      <td>65.423762</td>\n",
              "    </tr>\n",
              "    <tr>\n",
              "      <th>2020-07-08</th>\n",
              "      <td>67.11</td>\n",
              "      <td>64.775085</td>\n",
              "    </tr>\n",
              "    <tr>\n",
              "      <th>2020-07-09</th>\n",
              "      <td>68.96</td>\n",
              "      <td>67.374322</td>\n",
              "    </tr>\n",
              "    <tr>\n",
              "      <th>2020-07-10</th>\n",
              "      <td>68.33</td>\n",
              "      <td>69.172361</td>\n",
              "    </tr>\n",
              "    <tr>\n",
              "      <th>2020-07-11</th>\n",
              "      <td>69.57</td>\n",
              "      <td>67.487010</td>\n",
              "    </tr>\n",
              "    <tr>\n",
              "      <th>2020-07-12</th>\n",
              "      <td>70.24</td>\n",
              "      <td>69.970619</td>\n",
              "    </tr>\n",
              "    <tr>\n",
              "      <th>2020-07-13</th>\n",
              "      <td>69.93</td>\n",
              "      <td>70.558359</td>\n",
              "    </tr>\n",
              "    <tr>\n",
              "      <th>2020-07-14</th>\n",
              "      <td>69.16</td>\n",
              "      <td>70.145949</td>\n",
              "    </tr>\n",
              "    <tr>\n",
              "      <th>2020-07-15</th>\n",
              "      <td>72.52</td>\n",
              "      <td>69.006104</td>\n",
              "    </tr>\n",
              "    <tr>\n",
              "      <th>2020-07-16</th>\n",
              "      <td>71.41</td>\n",
              "      <td>73.317124</td>\n",
              "    </tr>\n",
              "    <tr>\n",
              "      <th>2020-07-17</th>\n",
              "      <td>68.18</td>\n",
              "      <td>70.381272</td>\n",
              "    </tr>\n",
              "    <tr>\n",
              "      <th>2020-07-18</th>\n",
              "      <td>69.02</td>\n",
              "      <td>67.784236</td>\n",
              "    </tr>\n",
              "    <tr>\n",
              "      <th>2020-07-19</th>\n",
              "      <td>69.04</td>\n",
              "      <td>69.797980</td>\n",
              "    </tr>\n",
              "    <tr>\n",
              "      <th>2020-07-20</th>\n",
              "      <td>70.17</td>\n",
              "      <td>68.821452</td>\n",
              "    </tr>\n",
              "    <tr>\n",
              "      <th>2020-07-21</th>\n",
              "      <td>71.51</td>\n",
              "      <td>70.272934</td>\n",
              "    </tr>\n",
              "    <tr>\n",
              "      <th>2020-07-22</th>\n",
              "      <td>71.49</td>\n",
              "      <td>71.733984</td>\n",
              "    </tr>\n",
              "    <tr>\n",
              "      <th>2020-07-23</th>\n",
              "      <td>73.87</td>\n",
              "      <td>70.899942</td>\n",
              "    </tr>\n",
              "    <tr>\n",
              "      <th>2020-07-24</th>\n",
              "      <td>72.99</td>\n",
              "      <td>74.481876</td>\n",
              "    </tr>\n",
              "    <tr>\n",
              "      <th>2020-07-25</th>\n",
              "      <td>73.85</td>\n",
              "      <td>72.815093</td>\n",
              "    </tr>\n",
              "    <tr>\n",
              "      <th>2020-07-26</th>\n",
              "      <td>78.01</td>\n",
              "      <td>74.457540</td>\n",
              "    </tr>\n",
              "  </tbody>\n",
              "</table>\n",
              "</div>"
            ],
            "text/plain": [
              "             High   forecast\n",
              "Date                        \n",
              "2020-07-07  65.07  65.423762\n",
              "2020-07-08  67.11  64.775085\n",
              "2020-07-09  68.96  67.374322\n",
              "2020-07-10  68.33  69.172361\n",
              "2020-07-11  69.57  67.487010\n",
              "2020-07-12  70.24  69.970619\n",
              "2020-07-13  69.93  70.558359\n",
              "2020-07-14  69.16  70.145949\n",
              "2020-07-15  72.52  69.006104\n",
              "2020-07-16  71.41  73.317124\n",
              "2020-07-17  68.18  70.381272\n",
              "2020-07-18  69.02  67.784236\n",
              "2020-07-19  69.04  69.797980\n",
              "2020-07-20  70.17  68.821452\n",
              "2020-07-21  71.51  70.272934\n",
              "2020-07-22  71.49  71.733984\n",
              "2020-07-23  73.87  70.899942\n",
              "2020-07-24  72.99  74.481876\n",
              "2020-07-25  73.85  72.815093\n",
              "2020-07-26  78.01  74.457540"
            ]
          },
          "metadata": {
            "tags": []
          },
          "execution_count": 40
        }
      ]
    },
    {
      "cell_type": "code",
      "metadata": {
        "id": "l3in_a0CQfRB",
        "colab_type": "code",
        "colab": {
          "base_uri": "https://localhost:8080/",
          "height": 141
        },
        "outputId": "329806de-59ae-45f1-cf23-bc31cf2c2473"
      },
      "source": [
        "# 1795 = 2020-07-06 and 1816 = 2020-07-26 so lets see what would be the price in the next 6 days\n",
        "best_model.predict(start=2257, end=2262)"
      ],
      "execution_count": 41,
      "outputs": [
        {
          "output_type": "execute_result",
          "data": {
            "text/plain": [
              "2257    74.457540\n",
              "2258    78.829751\n",
              "2259    78.418099\n",
              "2260    77.607404\n",
              "2261    77.676909\n",
              "2262    77.958891\n",
              "dtype: float64"
            ]
          },
          "metadata": {
            "tags": []
          },
          "execution_count": 41
        }
      ]
    }
  ]
}