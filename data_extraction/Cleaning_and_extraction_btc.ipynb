{
 "cells": [
  {
   "cell_type": "markdown",
   "metadata": {},
   "source": [
    "# Extraction"
   ]
  },
  {
   "cell_type": "markdown",
   "metadata": {},
   "source": [
    "## From https://coinmarketcap.com"
   ]
  },
  {
   "cell_type": "code",
   "execution_count": 1,
   "metadata": {},
   "outputs": [],
   "source": [
    "import urllib.request as urllib2\n",
    "from bs4 import BeautifulSoup\n",
    "import pandas as pd\n",
    "import datetime\n",
    "import csv"
   ]
  },
  {
   "cell_type": "code",
   "execution_count": 2,
   "metadata": {},
   "outputs": [],
   "source": [
    "# Data since 2013/04/28 to 2020/06/07\n",
    "today = datetime.date.today()\n",
    "mktcap_page = 'https://coinmarketcap.com/currencies/bitcoin/historical-data/?start=20130428&amp;end='+\"{:%Y%m%d}\".format(today)\n",
    "page = urllib2.urlopen(mktcap_page)\n",
    "soup = BeautifulSoup(page, 'html.parser')\n",
    "table = soup.find(\"table\")\n",
    "\n"
   ]
  },
  {
   "cell_type": "code",
   "execution_count": 3,
   "metadata": {},
   "outputs": [
    {
     "data": {
      "text/plain": [
       "['Date', 'Open*', 'High', 'Low', 'Close**', 'Volume', 'Market Cap']"
      ]
     },
     "execution_count": 3,
     "metadata": {},
     "output_type": "execute_result"
    }
   ],
   "source": [
    "## headings = [th.get_text().strip() for th in table.find(\"tr\").find_all(\"td\")]\n",
    "headings = [th.get_text().strip() for th in table.find(\"tr\").find_all(\"th\")]\n",
    "headings"
   ]
  },
  {
   "cell_type": "code",
   "execution_count": 4,
   "metadata": {},
   "outputs": [
    {
     "data": {
      "text/plain": [
       "['Date', 'Open', 'High', 'Low', 'Close', 'Volume', 'Market Cap']"
      ]
     },
     "execution_count": 4,
     "metadata": {},
     "output_type": "execute_result"
    }
   ],
   "source": [
    "headings = [x.replace('*','') for x in headings]\n",
    "headings"
   ]
  },
  {
   "cell_type": "code",
   "execution_count": 5,
   "metadata": {},
   "outputs": [
    {
     "data": {
      "text/plain": [
       "{'Date': 'Jul 08, 2020',\n",
       " 'Open': '9,253.02',\n",
       " 'High': '9,450.34',\n",
       " 'Low': '9,249.50',\n",
       " 'Close': '9,428.33',\n",
       " 'Volume': '19,702,359,883',\n",
       " 'Market Cap': '173,738,543,115'}"
      ]
     },
     "execution_count": 5,
     "metadata": {},
     "output_type": "execute_result"
    }
   ],
   "source": [
    "datasets = []\n",
    "\n",
    "for row in soup.find_all(\"tr\")[1:]:\n",
    "    dataset = dict(zip(headings, (tr.get_text() for tr in row.find_all(\"td\"))))\n",
    "    if len(dataset) > 1:\n",
    "        datasets.append(dataset)\n",
    "\n",
    "datasets[0]"
   ]
  },
  {
   "cell_type": "code",
   "execution_count": 6,
   "metadata": {},
   "outputs": [
    {
     "data": {
      "text/html": [
       "<div>\n",
       "<style scoped>\n",
       "    .dataframe tbody tr th:only-of-type {\n",
       "        vertical-align: middle;\n",
       "    }\n",
       "\n",
       "    .dataframe tbody tr th {\n",
       "        vertical-align: top;\n",
       "    }\n",
       "\n",
       "    .dataframe thead th {\n",
       "        text-align: right;\n",
       "    }\n",
       "</style>\n",
       "<table border=\"1\" class=\"dataframe\">\n",
       "  <thead>\n",
       "    <tr style=\"text-align: right;\">\n",
       "      <th></th>\n",
       "      <th>Date</th>\n",
       "      <th>Open</th>\n",
       "      <th>High</th>\n",
       "      <th>Low</th>\n",
       "      <th>Close</th>\n",
       "      <th>Volume</th>\n",
       "      <th>Market Cap</th>\n",
       "    </tr>\n",
       "  </thead>\n",
       "  <tbody>\n",
       "    <tr>\n",
       "      <td>0</td>\n",
       "      <td>Jul 08, 2020</td>\n",
       "      <td>9,253.02</td>\n",
       "      <td>9,450.34</td>\n",
       "      <td>9,249.50</td>\n",
       "      <td>9,428.33</td>\n",
       "      <td>19,702,359,883</td>\n",
       "      <td>173,738,543,115</td>\n",
       "    </tr>\n",
       "    <tr>\n",
       "      <td>1</td>\n",
       "      <td>Jul 07, 2020</td>\n",
       "      <td>9,349.16</td>\n",
       "      <td>9,360.62</td>\n",
       "      <td>9,201.82</td>\n",
       "      <td>9,252.28</td>\n",
       "      <td>13,839,652,595</td>\n",
       "      <td>170,485,472,276</td>\n",
       "    </tr>\n",
       "    <tr>\n",
       "      <td>2</td>\n",
       "      <td>Jul 06, 2020</td>\n",
       "      <td>9,072.85</td>\n",
       "      <td>9,375.47</td>\n",
       "      <td>9,058.66</td>\n",
       "      <td>9,375.47</td>\n",
       "      <td>17,889,263,252</td>\n",
       "      <td>172,746,103,840</td>\n",
       "    </tr>\n",
       "    <tr>\n",
       "      <td>3</td>\n",
       "      <td>Jul 05, 2020</td>\n",
       "      <td>9,126.09</td>\n",
       "      <td>9,162.18</td>\n",
       "      <td>8,977.02</td>\n",
       "      <td>9,073.94</td>\n",
       "      <td>12,903,406,143</td>\n",
       "      <td>167,181,726,154</td>\n",
       "    </tr>\n",
       "    <tr>\n",
       "      <td>4</td>\n",
       "      <td>Jul 04, 2020</td>\n",
       "      <td>9,084.23</td>\n",
       "      <td>9,183.30</td>\n",
       "      <td>9,053.63</td>\n",
       "      <td>9,132.49</td>\n",
       "      <td>12,290,528,515</td>\n",
       "      <td>168,251,076,678</td>\n",
       "    </tr>\n",
       "  </tbody>\n",
       "</table>\n",
       "</div>"
      ],
      "text/plain": [
       "           Date      Open      High       Low     Close          Volume  \\\n",
       "0  Jul 08, 2020  9,253.02  9,450.34  9,249.50  9,428.33  19,702,359,883   \n",
       "1  Jul 07, 2020  9,349.16  9,360.62  9,201.82  9,252.28  13,839,652,595   \n",
       "2  Jul 06, 2020  9,072.85  9,375.47  9,058.66  9,375.47  17,889,263,252   \n",
       "3  Jul 05, 2020  9,126.09  9,162.18  8,977.02  9,073.94  12,903,406,143   \n",
       "4  Jul 04, 2020  9,084.23  9,183.30  9,053.63  9,132.49  12,290,528,515   \n",
       "\n",
       "        Market Cap  \n",
       "0  173,738,543,115  \n",
       "1  170,485,472,276  \n",
       "2  172,746,103,840  \n",
       "3  167,181,726,154  \n",
       "4  168,251,076,678  "
      ]
     },
     "execution_count": 6,
     "metadata": {},
     "output_type": "execute_result"
    }
   ],
   "source": [
    "my_df = pd.DataFrame(datasets)\n",
    "my_df.head()"
   ]
  },
  {
   "cell_type": "code",
   "execution_count": 7,
   "metadata": {},
   "outputs": [],
   "source": [
    "full_data = my_df.set_index('Date')\n",
    "#full_data = df[['Open', 'High', 'Low', 'Close', 'Volume', 'Market Cap']]\n",
    "full_data.to_csv('full_data_btc_080072020.csv', index=True, header=True)"
   ]
  },
  {
   "cell_type": "code",
   "execution_count": 8,
   "metadata": {},
   "outputs": [
    {
     "data": {
      "text/html": [
       "<div>\n",
       "<style scoped>\n",
       "    .dataframe tbody tr th:only-of-type {\n",
       "        vertical-align: middle;\n",
       "    }\n",
       "\n",
       "    .dataframe tbody tr th {\n",
       "        vertical-align: top;\n",
       "    }\n",
       "\n",
       "    .dataframe thead th {\n",
       "        text-align: right;\n",
       "    }\n",
       "</style>\n",
       "<table border=\"1\" class=\"dataframe\">\n",
       "  <thead>\n",
       "    <tr style=\"text-align: right;\">\n",
       "      <th></th>\n",
       "      <th>Open</th>\n",
       "      <th>High</th>\n",
       "      <th>Low</th>\n",
       "      <th>Close</th>\n",
       "      <th>Volume</th>\n",
       "      <th>Market Cap</th>\n",
       "    </tr>\n",
       "    <tr>\n",
       "      <th>Date</th>\n",
       "      <th></th>\n",
       "      <th></th>\n",
       "      <th></th>\n",
       "      <th></th>\n",
       "      <th></th>\n",
       "      <th></th>\n",
       "    </tr>\n",
       "  </thead>\n",
       "  <tbody>\n",
       "    <tr>\n",
       "      <td>Jul 08, 2020</td>\n",
       "      <td>9,253.02</td>\n",
       "      <td>9,450.34</td>\n",
       "      <td>9,249.50</td>\n",
       "      <td>9,428.33</td>\n",
       "      <td>19,702,359,883</td>\n",
       "      <td>173,738,543,115</td>\n",
       "    </tr>\n",
       "    <tr>\n",
       "      <td>Jul 07, 2020</td>\n",
       "      <td>9,349.16</td>\n",
       "      <td>9,360.62</td>\n",
       "      <td>9,201.82</td>\n",
       "      <td>9,252.28</td>\n",
       "      <td>13,839,652,595</td>\n",
       "      <td>170,485,472,276</td>\n",
       "    </tr>\n",
       "    <tr>\n",
       "      <td>Jul 06, 2020</td>\n",
       "      <td>9,072.85</td>\n",
       "      <td>9,375.47</td>\n",
       "      <td>9,058.66</td>\n",
       "      <td>9,375.47</td>\n",
       "      <td>17,889,263,252</td>\n",
       "      <td>172,746,103,840</td>\n",
       "    </tr>\n",
       "    <tr>\n",
       "      <td>Jul 05, 2020</td>\n",
       "      <td>9,126.09</td>\n",
       "      <td>9,162.18</td>\n",
       "      <td>8,977.02</td>\n",
       "      <td>9,073.94</td>\n",
       "      <td>12,903,406,143</td>\n",
       "      <td>167,181,726,154</td>\n",
       "    </tr>\n",
       "    <tr>\n",
       "      <td>Jul 04, 2020</td>\n",
       "      <td>9,084.23</td>\n",
       "      <td>9,183.30</td>\n",
       "      <td>9,053.63</td>\n",
       "      <td>9,132.49</td>\n",
       "      <td>12,290,528,515</td>\n",
       "      <td>168,251,076,678</td>\n",
       "    </tr>\n",
       "    <tr>\n",
       "      <td>Jul 03, 2020</td>\n",
       "      <td>9,124.84</td>\n",
       "      <td>9,202.34</td>\n",
       "      <td>9,058.79</td>\n",
       "      <td>9,087.30</td>\n",
       "      <td>13,078,970,999</td>\n",
       "      <td>167,409,720,388</td>\n",
       "    </tr>\n",
       "    <tr>\n",
       "      <td>Jul 02, 2020</td>\n",
       "      <td>9,231.14</td>\n",
       "      <td>9,274.96</td>\n",
       "      <td>9,036.62</td>\n",
       "      <td>9,123.41</td>\n",
       "      <td>16,338,916,796</td>\n",
       "      <td>168,065,586,387</td>\n",
       "    </tr>\n",
       "    <tr>\n",
       "      <td>Jul 01, 2020</td>\n",
       "      <td>9,145.99</td>\n",
       "      <td>9,309.75</td>\n",
       "      <td>9,104.73</td>\n",
       "      <td>9,228.33</td>\n",
       "      <td>15,971,550,355</td>\n",
       "      <td>169,988,756,578</td>\n",
       "    </tr>\n",
       "    <tr>\n",
       "      <td>Jun 30, 2020</td>\n",
       "      <td>9,185.58</td>\n",
       "      <td>9,217.84</td>\n",
       "      <td>9,084.84</td>\n",
       "      <td>9,137.99</td>\n",
       "      <td>15,735,797,744</td>\n",
       "      <td>168,315,606,321</td>\n",
       "    </tr>\n",
       "    <tr>\n",
       "      <td>Jun 29, 2020</td>\n",
       "      <td>9,140.03</td>\n",
       "      <td>9,237.57</td>\n",
       "      <td>9,041.88</td>\n",
       "      <td>9,190.85</td>\n",
       "      <td>16,460,547,078</td>\n",
       "      <td>169,280,659,246</td>\n",
       "    </tr>\n",
       "  </tbody>\n",
       "</table>\n",
       "</div>"
      ],
      "text/plain": [
       "                  Open      High       Low     Close          Volume  \\\n",
       "Date                                                                   \n",
       "Jul 08, 2020  9,253.02  9,450.34  9,249.50  9,428.33  19,702,359,883   \n",
       "Jul 07, 2020  9,349.16  9,360.62  9,201.82  9,252.28  13,839,652,595   \n",
       "Jul 06, 2020  9,072.85  9,375.47  9,058.66  9,375.47  17,889,263,252   \n",
       "Jul 05, 2020  9,126.09  9,162.18  8,977.02  9,073.94  12,903,406,143   \n",
       "Jul 04, 2020  9,084.23  9,183.30  9,053.63  9,132.49  12,290,528,515   \n",
       "Jul 03, 2020  9,124.84  9,202.34  9,058.79  9,087.30  13,078,970,999   \n",
       "Jul 02, 2020  9,231.14  9,274.96  9,036.62  9,123.41  16,338,916,796   \n",
       "Jul 01, 2020  9,145.99  9,309.75  9,104.73  9,228.33  15,971,550,355   \n",
       "Jun 30, 2020  9,185.58  9,217.84  9,084.84  9,137.99  15,735,797,744   \n",
       "Jun 29, 2020  9,140.03  9,237.57  9,041.88  9,190.85  16,460,547,078   \n",
       "\n",
       "                   Market Cap  \n",
       "Date                           \n",
       "Jul 08, 2020  173,738,543,115  \n",
       "Jul 07, 2020  170,485,472,276  \n",
       "Jul 06, 2020  172,746,103,840  \n",
       "Jul 05, 2020  167,181,726,154  \n",
       "Jul 04, 2020  168,251,076,678  \n",
       "Jul 03, 2020  167,409,720,388  \n",
       "Jul 02, 2020  168,065,586,387  \n",
       "Jul 01, 2020  169,988,756,578  \n",
       "Jun 30, 2020  168,315,606,321  \n",
       "Jun 29, 2020  169,280,659,246  "
      ]
     },
     "execution_count": 8,
     "metadata": {},
     "output_type": "execute_result"
    }
   ],
   "source": [
    "full_data.head(10)"
   ]
  },
  {
   "cell_type": "code",
   "execution_count": 9,
   "metadata": {},
   "outputs": [
    {
     "data": {
      "text/plain": [
       "(2629, 6)"
      ]
     },
     "execution_count": 9,
     "metadata": {},
     "output_type": "execute_result"
    }
   ],
   "source": [
    "full_data.shape"
   ]
  },
  {
   "cell_type": "code",
   "execution_count": 10,
   "metadata": {},
   "outputs": [
    {
     "data": {
      "text/plain": [
       "Open          object\n",
       "High          object\n",
       "Low           object\n",
       "Close         object\n",
       "Volume        object\n",
       "Market Cap    object\n",
       "dtype: object"
      ]
     },
     "execution_count": 10,
     "metadata": {},
     "output_type": "execute_result"
    }
   ],
   "source": [
    "full_data.dtypes"
   ]
  },
  {
   "cell_type": "code",
   "execution_count": 11,
   "metadata": {},
   "outputs": [
    {
     "data": {
      "text/html": [
       "<div>\n",
       "<style scoped>\n",
       "    .dataframe tbody tr th:only-of-type {\n",
       "        vertical-align: middle;\n",
       "    }\n",
       "\n",
       "    .dataframe tbody tr th {\n",
       "        vertical-align: top;\n",
       "    }\n",
       "\n",
       "    .dataframe thead th {\n",
       "        text-align: right;\n",
       "    }\n",
       "</style>\n",
       "<table border=\"1\" class=\"dataframe\">\n",
       "  <thead>\n",
       "    <tr style=\"text-align: right;\">\n",
       "      <th></th>\n",
       "      <th>Open</th>\n",
       "      <th>High</th>\n",
       "      <th>Low</th>\n",
       "      <th>Close</th>\n",
       "      <th>Volume</th>\n",
       "      <th>Market Cap</th>\n",
       "    </tr>\n",
       "    <tr>\n",
       "      <th>Date</th>\n",
       "      <th></th>\n",
       "      <th></th>\n",
       "      <th></th>\n",
       "      <th></th>\n",
       "      <th></th>\n",
       "      <th></th>\n",
       "    </tr>\n",
       "  </thead>\n",
       "  <tbody>\n",
       "    <tr>\n",
       "      <td>Jul 08, 2020</td>\n",
       "      <td>9253.02</td>\n",
       "      <td>9,450.34</td>\n",
       "      <td>9,249.50</td>\n",
       "      <td>9428.33</td>\n",
       "      <td>19,702,359,883</td>\n",
       "      <td>173,738,543,115</td>\n",
       "    </tr>\n",
       "    <tr>\n",
       "      <td>Jul 07, 2020</td>\n",
       "      <td>9349.16</td>\n",
       "      <td>9,360.62</td>\n",
       "      <td>9,201.82</td>\n",
       "      <td>9252.28</td>\n",
       "      <td>13,839,652,595</td>\n",
       "      <td>170,485,472,276</td>\n",
       "    </tr>\n",
       "    <tr>\n",
       "      <td>Jul 06, 2020</td>\n",
       "      <td>9072.85</td>\n",
       "      <td>9,375.47</td>\n",
       "      <td>9,058.66</td>\n",
       "      <td>9375.47</td>\n",
       "      <td>17,889,263,252</td>\n",
       "      <td>172,746,103,840</td>\n",
       "    </tr>\n",
       "    <tr>\n",
       "      <td>Jul 05, 2020</td>\n",
       "      <td>9126.09</td>\n",
       "      <td>9,162.18</td>\n",
       "      <td>8,977.02</td>\n",
       "      <td>9073.94</td>\n",
       "      <td>12,903,406,143</td>\n",
       "      <td>167,181,726,154</td>\n",
       "    </tr>\n",
       "    <tr>\n",
       "      <td>Jul 04, 2020</td>\n",
       "      <td>9084.23</td>\n",
       "      <td>9,183.30</td>\n",
       "      <td>9,053.63</td>\n",
       "      <td>9132.49</td>\n",
       "      <td>12,290,528,515</td>\n",
       "      <td>168,251,076,678</td>\n",
       "    </tr>\n",
       "  </tbody>\n",
       "</table>\n",
       "</div>"
      ],
      "text/plain": [
       "                 Open      High       Low    Close          Volume  \\\n",
       "Date                                                                 \n",
       "Jul 08, 2020  9253.02  9,450.34  9,249.50  9428.33  19,702,359,883   \n",
       "Jul 07, 2020  9349.16  9,360.62  9,201.82  9252.28  13,839,652,595   \n",
       "Jul 06, 2020  9072.85  9,375.47  9,058.66  9375.47  17,889,263,252   \n",
       "Jul 05, 2020  9126.09  9,162.18  8,977.02  9073.94  12,903,406,143   \n",
       "Jul 04, 2020  9084.23  9,183.30  9,053.63  9132.49  12,290,528,515   \n",
       "\n",
       "                   Market Cap  \n",
       "Date                           \n",
       "Jul 08, 2020  173,738,543,115  \n",
       "Jul 07, 2020  170,485,472,276  \n",
       "Jul 06, 2020  172,746,103,840  \n",
       "Jul 05, 2020  167,181,726,154  \n",
       "Jul 04, 2020  168,251,076,678  "
      ]
     },
     "execution_count": 11,
     "metadata": {},
     "output_type": "execute_result"
    }
   ],
   "source": [
    "def obj_to_int(x):\n",
    "    x = x.replace(',','')\n",
    "    return float(x)\n",
    "full_data['Close'] = full_data['Close'].apply(obj_to_int)\n",
    "full_data['Open'] = full_data['Open'].apply(obj_to_int)\n",
    "full_data.head()"
   ]
  },
  {
   "cell_type": "code",
   "execution_count": 12,
   "metadata": {},
   "outputs": [
    {
     "data": {
      "text/plain": [
       "<matplotlib.axes._subplots.AxesSubplot at 0x1c8c47d0348>"
      ]
     },
     "execution_count": 12,
     "metadata": {},
     "output_type": "execute_result"
    }
   ],
   "source": [
    "full_data[['Open','Close']][::-1].plot(grid=True, figsize=(15, 10))"
   ]
  },
  {
   "cell_type": "code",
   "execution_count": null,
   "metadata": {},
   "outputs": [],
   "source": []
  }
 ],
 "metadata": {
  "kernelspec": {
   "display_name": "Python 3",
   "language": "python",
   "name": "python3"
  },
  "language_info": {
   "codemirror_mode": {
    "name": "ipython",
    "version": 3
   },
   "file_extension": ".py",
   "mimetype": "text/x-python",
   "name": "python",
   "nbconvert_exporter": "python",
   "pygments_lexer": "ipython3",
   "version": "3.7.4"
  }
 },
 "nbformat": 4,
 "nbformat_minor": 2
}
