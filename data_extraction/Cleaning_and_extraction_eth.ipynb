{
 "cells": [
  {
   "cell_type": "markdown",
   "metadata": {},
   "source": [
    "# Extraction"
   ]
  },
  {
   "cell_type": "markdown",
   "metadata": {},
   "source": [
    "## From https://coinmarketcap.com"
   ]
  },
  {
   "cell_type": "code",
   "execution_count": 1,
   "metadata": {},
   "outputs": [],
   "source": [
    "import urllib.request as urllib2\n",
    "from bs4 import BeautifulSoup\n",
    "import pandas as pd\n",
    "import datetime\n",
    "import csv"
   ]
  },
  {
   "cell_type": "code",
   "execution_count": 2,
   "metadata": {},
   "outputs": [],
   "source": [
    "# Data since 2013/04/28 to 2020/06/07\n",
    "today = datetime.date.today()\n",
    "mktcap_page = 'https://coinmarketcap.com/currencies/ethereum/historical-data/?start=20130428&amp;end='+\"{:%Y%m%d}\".format(today)\n",
    "page = urllib2.urlopen(mktcap_page)\n",
    "soup = BeautifulSoup(page, 'html.parser')\n",
    "table = soup.find(\"table\")\n",
    "\n"
   ]
  },
  {
   "cell_type": "code",
   "execution_count": 3,
   "metadata": {},
   "outputs": [
    {
     "data": {
      "text/plain": [
       "['Date', 'Open*', 'High', 'Low', 'Close**', 'Volume', 'Market Cap']"
      ]
     },
     "execution_count": 3,
     "metadata": {},
     "output_type": "execute_result"
    }
   ],
   "source": [
    "## headings = [th.get_text().strip() for th in table.find(\"tr\").find_all(\"td\")]\n",
    "headings = [th.get_text().strip() for th in table.find(\"tr\").find_all(\"th\")]\n",
    "headings"
   ]
  },
  {
   "cell_type": "code",
   "execution_count": 4,
   "metadata": {},
   "outputs": [
    {
     "data": {
      "text/plain": [
       "['Date', 'Open', 'High', 'Low', 'Close', 'Volume', 'Market Cap']"
      ]
     },
     "execution_count": 4,
     "metadata": {},
     "output_type": "execute_result"
    }
   ],
   "source": [
    "headings = [x.replace('*','') for x in headings]\n",
    "headings"
   ]
  },
  {
   "cell_type": "code",
   "execution_count": 5,
   "metadata": {},
   "outputs": [
    {
     "data": {
      "text/plain": [
       "{'Date': 'Jul 20, 2020',\n",
       " 'Open': '238.49',\n",
       " 'High': '239.58',\n",
       " 'Low': '234.85',\n",
       " 'Close': '236.15',\n",
       " 'Volume': '5,600,686,192',\n",
       " 'Market Cap': '26,411,853,756'}"
      ]
     },
     "execution_count": 5,
     "metadata": {},
     "output_type": "execute_result"
    }
   ],
   "source": [
    "datasets = []\n",
    "\n",
    "for row in soup.find_all(\"tr\")[1:]:\n",
    "    dataset = dict(zip(headings, (tr.get_text() for tr in row.find_all(\"td\"))))\n",
    "    if len(dataset) > 1:\n",
    "        datasets.append(dataset)\n",
    "\n",
    "datasets[0]"
   ]
  },
  {
   "cell_type": "code",
   "execution_count": 6,
   "metadata": {},
   "outputs": [
    {
     "data": {
      "text/html": [
       "<div>\n",
       "<style scoped>\n",
       "    .dataframe tbody tr th:only-of-type {\n",
       "        vertical-align: middle;\n",
       "    }\n",
       "\n",
       "    .dataframe tbody tr th {\n",
       "        vertical-align: top;\n",
       "    }\n",
       "\n",
       "    .dataframe thead th {\n",
       "        text-align: right;\n",
       "    }\n",
       "</style>\n",
       "<table border=\"1\" class=\"dataframe\">\n",
       "  <thead>\n",
       "    <tr style=\"text-align: right;\">\n",
       "      <th></th>\n",
       "      <th>Date</th>\n",
       "      <th>Open</th>\n",
       "      <th>High</th>\n",
       "      <th>Low</th>\n",
       "      <th>Close</th>\n",
       "      <th>Volume</th>\n",
       "      <th>Market Cap</th>\n",
       "    </tr>\n",
       "  </thead>\n",
       "  <tbody>\n",
       "    <tr>\n",
       "      <td>0</td>\n",
       "      <td>Jul 20, 2020</td>\n",
       "      <td>238.49</td>\n",
       "      <td>239.58</td>\n",
       "      <td>234.85</td>\n",
       "      <td>236.15</td>\n",
       "      <td>5,600,686,192</td>\n",
       "      <td>26,411,853,756</td>\n",
       "    </tr>\n",
       "    <tr>\n",
       "      <td>1</td>\n",
       "      <td>Jul 19, 2020</td>\n",
       "      <td>235.46</td>\n",
       "      <td>239.16</td>\n",
       "      <td>233.28</td>\n",
       "      <td>238.49</td>\n",
       "      <td>6,251,377,305</td>\n",
       "      <td>26,669,691,075</td>\n",
       "    </tr>\n",
       "    <tr>\n",
       "      <td>2</td>\n",
       "      <td>Jul 18, 2020</td>\n",
       "      <td>232.86</td>\n",
       "      <td>236.54</td>\n",
       "      <td>232.32</td>\n",
       "      <td>235.48</td>\n",
       "      <td>5,397,402,117</td>\n",
       "      <td>26,330,601,164</td>\n",
       "    </tr>\n",
       "    <tr>\n",
       "      <td>3</td>\n",
       "      <td>Jul 17, 2020</td>\n",
       "      <td>233.69</td>\n",
       "      <td>234.42</td>\n",
       "      <td>232.11</td>\n",
       "      <td>232.77</td>\n",
       "      <td>5,859,850,529</td>\n",
       "      <td>26,024,301,468</td>\n",
       "    </tr>\n",
       "    <tr>\n",
       "      <td>4</td>\n",
       "      <td>Jul 16, 2020</td>\n",
       "      <td>238.45</td>\n",
       "      <td>239.01</td>\n",
       "      <td>231.62</td>\n",
       "      <td>233.64</td>\n",
       "      <td>5,832,057,567</td>\n",
       "      <td>26,118,155,895</td>\n",
       "    </tr>\n",
       "  </tbody>\n",
       "</table>\n",
       "</div>"
      ],
      "text/plain": [
       "           Date    Open    High     Low   Close         Volume      Market Cap\n",
       "0  Jul 20, 2020  238.49  239.58  234.85  236.15  5,600,686,192  26,411,853,756\n",
       "1  Jul 19, 2020  235.46  239.16  233.28  238.49  6,251,377,305  26,669,691,075\n",
       "2  Jul 18, 2020  232.86  236.54  232.32  235.48  5,397,402,117  26,330,601,164\n",
       "3  Jul 17, 2020  233.69  234.42  232.11  232.77  5,859,850,529  26,024,301,468\n",
       "4  Jul 16, 2020  238.45  239.01  231.62  233.64  5,832,057,567  26,118,155,895"
      ]
     },
     "execution_count": 6,
     "metadata": {},
     "output_type": "execute_result"
    }
   ],
   "source": [
    "my_df = pd.DataFrame(datasets)\n",
    "my_df.head()"
   ]
  },
  {
   "cell_type": "code",
   "execution_count": 7,
   "metadata": {},
   "outputs": [],
   "source": [
    "full_data = my_df.set_index('Date')\n",
    "#full_data = df[['Open', 'High', 'Low', 'Close', 'Volume', 'Market Cap']]\n",
    "full_data.to_csv('full_data_eth_20072020.csv', index=True, header=True)"
   ]
  },
  {
   "cell_type": "code",
   "execution_count": 8,
   "metadata": {},
   "outputs": [
    {
     "data": {
      "text/html": [
       "<div>\n",
       "<style scoped>\n",
       "    .dataframe tbody tr th:only-of-type {\n",
       "        vertical-align: middle;\n",
       "    }\n",
       "\n",
       "    .dataframe tbody tr th {\n",
       "        vertical-align: top;\n",
       "    }\n",
       "\n",
       "    .dataframe thead th {\n",
       "        text-align: right;\n",
       "    }\n",
       "</style>\n",
       "<table border=\"1\" class=\"dataframe\">\n",
       "  <thead>\n",
       "    <tr style=\"text-align: right;\">\n",
       "      <th></th>\n",
       "      <th>Open</th>\n",
       "      <th>High</th>\n",
       "      <th>Low</th>\n",
       "      <th>Close</th>\n",
       "      <th>Volume</th>\n",
       "      <th>Market Cap</th>\n",
       "    </tr>\n",
       "    <tr>\n",
       "      <th>Date</th>\n",
       "      <th></th>\n",
       "      <th></th>\n",
       "      <th></th>\n",
       "      <th></th>\n",
       "      <th></th>\n",
       "      <th></th>\n",
       "    </tr>\n",
       "  </thead>\n",
       "  <tbody>\n",
       "    <tr>\n",
       "      <td>Jul 20, 2020</td>\n",
       "      <td>238.49</td>\n",
       "      <td>239.58</td>\n",
       "      <td>234.85</td>\n",
       "      <td>236.15</td>\n",
       "      <td>5,600,686,192</td>\n",
       "      <td>26,411,853,756</td>\n",
       "    </tr>\n",
       "    <tr>\n",
       "      <td>Jul 19, 2020</td>\n",
       "      <td>235.46</td>\n",
       "      <td>239.16</td>\n",
       "      <td>233.28</td>\n",
       "      <td>238.49</td>\n",
       "      <td>6,251,377,305</td>\n",
       "      <td>26,669,691,075</td>\n",
       "    </tr>\n",
       "    <tr>\n",
       "      <td>Jul 18, 2020</td>\n",
       "      <td>232.86</td>\n",
       "      <td>236.54</td>\n",
       "      <td>232.32</td>\n",
       "      <td>235.48</td>\n",
       "      <td>5,397,402,117</td>\n",
       "      <td>26,330,601,164</td>\n",
       "    </tr>\n",
       "    <tr>\n",
       "      <td>Jul 17, 2020</td>\n",
       "      <td>233.69</td>\n",
       "      <td>234.42</td>\n",
       "      <td>232.11</td>\n",
       "      <td>232.77</td>\n",
       "      <td>5,859,850,529</td>\n",
       "      <td>26,024,301,468</td>\n",
       "    </tr>\n",
       "    <tr>\n",
       "      <td>Jul 16, 2020</td>\n",
       "      <td>238.45</td>\n",
       "      <td>239.01</td>\n",
       "      <td>231.62</td>\n",
       "      <td>233.64</td>\n",
       "      <td>5,832,057,567</td>\n",
       "      <td>26,118,155,895</td>\n",
       "    </tr>\n",
       "    <tr>\n",
       "      <td>Jul 15, 2020</td>\n",
       "      <td>240.14</td>\n",
       "      <td>241.40</td>\n",
       "      <td>237.10</td>\n",
       "      <td>238.42</td>\n",
       "      <td>6,189,328,448</td>\n",
       "      <td>26,649,577,378</td>\n",
       "    </tr>\n",
       "    <tr>\n",
       "      <td>Jul 14, 2020</td>\n",
       "      <td>239.98</td>\n",
       "      <td>242.00</td>\n",
       "      <td>237.80</td>\n",
       "      <td>240.21</td>\n",
       "      <td>7,357,458,555</td>\n",
       "      <td>26,846,147,251</td>\n",
       "    </tr>\n",
       "    <tr>\n",
       "      <td>Jul 13, 2020</td>\n",
       "      <td>242.18</td>\n",
       "      <td>244.31</td>\n",
       "      <td>238.23</td>\n",
       "      <td>239.60</td>\n",
       "      <td>7,787,751,468</td>\n",
       "      <td>26,775,071,858</td>\n",
       "    </tr>\n",
       "    <tr>\n",
       "      <td>Jul 12, 2020</td>\n",
       "      <td>239.46</td>\n",
       "      <td>243.31</td>\n",
       "      <td>237.77</td>\n",
       "      <td>242.13</td>\n",
       "      <td>6,596,394,718</td>\n",
       "      <td>27,054,158,346</td>\n",
       "    </tr>\n",
       "    <tr>\n",
       "      <td>Jul 11, 2020</td>\n",
       "      <td>241.04</td>\n",
       "      <td>241.53</td>\n",
       "      <td>238.33</td>\n",
       "      <td>239.46</td>\n",
       "      <td>5,643,067,316</td>\n",
       "      <td>26,752,161,985</td>\n",
       "    </tr>\n",
       "  </tbody>\n",
       "</table>\n",
       "</div>"
      ],
      "text/plain": [
       "                Open    High     Low   Close         Volume      Market Cap\n",
       "Date                                                                       \n",
       "Jul 20, 2020  238.49  239.58  234.85  236.15  5,600,686,192  26,411,853,756\n",
       "Jul 19, 2020  235.46  239.16  233.28  238.49  6,251,377,305  26,669,691,075\n",
       "Jul 18, 2020  232.86  236.54  232.32  235.48  5,397,402,117  26,330,601,164\n",
       "Jul 17, 2020  233.69  234.42  232.11  232.77  5,859,850,529  26,024,301,468\n",
       "Jul 16, 2020  238.45  239.01  231.62  233.64  5,832,057,567  26,118,155,895\n",
       "Jul 15, 2020  240.14  241.40  237.10  238.42  6,189,328,448  26,649,577,378\n",
       "Jul 14, 2020  239.98  242.00  237.80  240.21  7,357,458,555  26,846,147,251\n",
       "Jul 13, 2020  242.18  244.31  238.23  239.60  7,787,751,468  26,775,071,858\n",
       "Jul 12, 2020  239.46  243.31  237.77  242.13  6,596,394,718  27,054,158,346\n",
       "Jul 11, 2020  241.04  241.53  238.33  239.46  5,643,067,316  26,752,161,985"
      ]
     },
     "execution_count": 8,
     "metadata": {},
     "output_type": "execute_result"
    }
   ],
   "source": [
    "full_data.head(10)"
   ]
  },
  {
   "cell_type": "code",
   "execution_count": 9,
   "metadata": {},
   "outputs": [
    {
     "data": {
      "text/plain": [
       "(1810, 6)"
      ]
     },
     "execution_count": 9,
     "metadata": {},
     "output_type": "execute_result"
    }
   ],
   "source": [
    "full_data.shape"
   ]
  },
  {
   "cell_type": "code",
   "execution_count": 10,
   "metadata": {},
   "outputs": [
    {
     "data": {
      "text/plain": [
       "Open          object\n",
       "High          object\n",
       "Low           object\n",
       "Close         object\n",
       "Volume        object\n",
       "Market Cap    object\n",
       "dtype: object"
      ]
     },
     "execution_count": 10,
     "metadata": {},
     "output_type": "execute_result"
    }
   ],
   "source": [
    "full_data.dtypes"
   ]
  },
  {
   "cell_type": "code",
   "execution_count": 11,
   "metadata": {},
   "outputs": [
    {
     "data": {
      "text/html": [
       "<div>\n",
       "<style scoped>\n",
       "    .dataframe tbody tr th:only-of-type {\n",
       "        vertical-align: middle;\n",
       "    }\n",
       "\n",
       "    .dataframe tbody tr th {\n",
       "        vertical-align: top;\n",
       "    }\n",
       "\n",
       "    .dataframe thead th {\n",
       "        text-align: right;\n",
       "    }\n",
       "</style>\n",
       "<table border=\"1\" class=\"dataframe\">\n",
       "  <thead>\n",
       "    <tr style=\"text-align: right;\">\n",
       "      <th></th>\n",
       "      <th>Open</th>\n",
       "      <th>High</th>\n",
       "      <th>Low</th>\n",
       "      <th>Close</th>\n",
       "      <th>Volume</th>\n",
       "      <th>Market Cap</th>\n",
       "    </tr>\n",
       "    <tr>\n",
       "      <th>Date</th>\n",
       "      <th></th>\n",
       "      <th></th>\n",
       "      <th></th>\n",
       "      <th></th>\n",
       "      <th></th>\n",
       "      <th></th>\n",
       "    </tr>\n",
       "  </thead>\n",
       "  <tbody>\n",
       "    <tr>\n",
       "      <td>Jul 20, 2020</td>\n",
       "      <td>238.49</td>\n",
       "      <td>239.58</td>\n",
       "      <td>234.85</td>\n",
       "      <td>236.15</td>\n",
       "      <td>5,600,686,192</td>\n",
       "      <td>26,411,853,756</td>\n",
       "    </tr>\n",
       "    <tr>\n",
       "      <td>Jul 19, 2020</td>\n",
       "      <td>235.46</td>\n",
       "      <td>239.16</td>\n",
       "      <td>233.28</td>\n",
       "      <td>238.49</td>\n",
       "      <td>6,251,377,305</td>\n",
       "      <td>26,669,691,075</td>\n",
       "    </tr>\n",
       "    <tr>\n",
       "      <td>Jul 18, 2020</td>\n",
       "      <td>232.86</td>\n",
       "      <td>236.54</td>\n",
       "      <td>232.32</td>\n",
       "      <td>235.48</td>\n",
       "      <td>5,397,402,117</td>\n",
       "      <td>26,330,601,164</td>\n",
       "    </tr>\n",
       "    <tr>\n",
       "      <td>Jul 17, 2020</td>\n",
       "      <td>233.69</td>\n",
       "      <td>234.42</td>\n",
       "      <td>232.11</td>\n",
       "      <td>232.77</td>\n",
       "      <td>5,859,850,529</td>\n",
       "      <td>26,024,301,468</td>\n",
       "    </tr>\n",
       "    <tr>\n",
       "      <td>Jul 16, 2020</td>\n",
       "      <td>238.45</td>\n",
       "      <td>239.01</td>\n",
       "      <td>231.62</td>\n",
       "      <td>233.64</td>\n",
       "      <td>5,832,057,567</td>\n",
       "      <td>26,118,155,895</td>\n",
       "    </tr>\n",
       "  </tbody>\n",
       "</table>\n",
       "</div>"
      ],
      "text/plain": [
       "                Open    High     Low   Close         Volume      Market Cap\n",
       "Date                                                                       \n",
       "Jul 20, 2020  238.49  239.58  234.85  236.15  5,600,686,192  26,411,853,756\n",
       "Jul 19, 2020  235.46  239.16  233.28  238.49  6,251,377,305  26,669,691,075\n",
       "Jul 18, 2020  232.86  236.54  232.32  235.48  5,397,402,117  26,330,601,164\n",
       "Jul 17, 2020  233.69  234.42  232.11  232.77  5,859,850,529  26,024,301,468\n",
       "Jul 16, 2020  238.45  239.01  231.62  233.64  5,832,057,567  26,118,155,895"
      ]
     },
     "execution_count": 11,
     "metadata": {},
     "output_type": "execute_result"
    }
   ],
   "source": [
    "def obj_to_int(x):\n",
    "    x = x.replace(',','')\n",
    "    return float(x)\n",
    "full_data['Close'] = full_data['Close'].apply(obj_to_int)\n",
    "full_data['Open'] = full_data['Open'].apply(obj_to_int)\n",
    "full_data.head()"
   ]
  },
  {
   "cell_type": "code",
   "execution_count": 13,
   "metadata": {},
   "outputs": [
    {
     "data": {
      "image/png": "[encoded data removed]",
      "text/plain": [
       "<Figure size 1080x720 with 1 Axes>"
      ]
     },
     "metadata": {
      "needs_background": "light"
     },
     "output_type": "display_data"
    }
   ],
   "source": [
    "_= full_data[['Open','Close']][::-1].plot(grid=True, figsize=(15, 10))"
   ]
  },
  {
   "cell_type": "code",
   "execution_count": null,
   "metadata": {},
   "outputs": [],
   "source": []
  }
 ],
 "metadata": {
  "kernelspec": {
   "display_name": "Python 3",
   "language": "python",
   "name": "python3"
  },
  "language_info": {
   "codemirror_mode": {
    "name": "ipython",
    "version": 3
   },
   "file_extension": ".py",
   "mimetype": "text/x-python",
   "name": "python",
   "nbconvert_exporter": "python",
   "pygments_lexer": "ipython3",
   "version": "3.7.4"
  }
 },
 "nbformat": 4,
 "nbformat_minor": 2
}
