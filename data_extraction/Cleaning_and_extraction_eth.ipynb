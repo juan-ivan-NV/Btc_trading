{
 "cells": [
  {
   "cell_type": "markdown",
   "metadata": {},
   "source": [
    "# Extraction"
   ]
  },
  {
   "cell_type": "markdown",
   "metadata": {},
   "source": [
    "## From https://coinmarketcap.com"
   ]
  },
  {
   "cell_type": "code",
   "execution_count": 1,
   "metadata": {},
   "outputs": [],
   "source": [
    "import urllib.request as urllib2\n",
    "from bs4 import BeautifulSoup\n",
    "import pandas as pd\n",
    "import datetime\n",
    "import csv"
   ]
  },
  {
   "cell_type": "code",
   "execution_count": 2,
   "metadata": {},
   "outputs": [],
   "source": [
    "# Data since 2013/04/28 to 2020/06/07\n",
    "today = datetime.date.today()\n",
    "mktcap_page = 'https://coinmarketcap.com/currencies/ethereum/historical-data/?start=20130428&amp;end='+\"{:%Y%m%d}\".format(today)\n",
    "page = urllib2.urlopen(mktcap_page)\n",
    "soup = BeautifulSoup(page, 'html.parser')\n",
    "table = soup.find(\"table\")\n",
    "\n"
   ]
  },
  {
   "cell_type": "code",
   "execution_count": 3,
   "metadata": {},
   "outputs": [
    {
     "data": {
      "text/plain": [
       "['Date', 'Open*', 'High', 'Low', 'Close**', 'Volume', 'Market Cap']"
      ]
     },
     "execution_count": 3,
     "metadata": {},
     "output_type": "execute_result"
    }
   ],
   "source": [
    "## headings = [th.get_text().strip() for th in table.find(\"tr\").find_all(\"td\")]\n",
    "headings = [th.get_text().strip() for th in table.find(\"tr\").find_all(\"th\")]\n",
    "headings"
   ]
  },
  {
   "cell_type": "code",
   "execution_count": 4,
   "metadata": {},
   "outputs": [
    {
     "data": {
      "text/plain": [
       "['Date', 'Open', 'High', 'Low', 'Close', 'Volume', 'Market Cap']"
      ]
     },
     "execution_count": 4,
     "metadata": {},
     "output_type": "execute_result"
    }
   ],
   "source": [
    "headings = [x.replace('*','') for x in headings]\n",
    "headings"
   ]
  },
  {
   "cell_type": "code",
   "execution_count": 5,
   "metadata": {},
   "outputs": [
    {
     "data": {
      "text/plain": [
       "{'Date': 'Jul 13, 2020',\n",
       " 'Open': '242.18',\n",
       " 'High': '244.31',\n",
       " 'Low': '238.23',\n",
       " 'Close': '239.60',\n",
       " 'Volume': '7,787,751,468',\n",
       " 'Market Cap': '26,775,071,858'}"
      ]
     },
     "execution_count": 5,
     "metadata": {},
     "output_type": "execute_result"
    }
   ],
   "source": [
    "datasets = []\n",
    "\n",
    "for row in soup.find_all(\"tr\")[1:]:\n",
    "    dataset = dict(zip(headings, (tr.get_text() for tr in row.find_all(\"td\"))))\n",
    "    if len(dataset) > 1:\n",
    "        datasets.append(dataset)\n",
    "\n",
    "datasets[0]"
   ]
  },
  {
   "cell_type": "code",
   "execution_count": 6,
   "metadata": {},
   "outputs": [
    {
     "data": {
      "text/html": [
       "<div>\n",
       "<style scoped>\n",
       "    .dataframe tbody tr th:only-of-type {\n",
       "        vertical-align: middle;\n",
       "    }\n",
       "\n",
       "    .dataframe tbody tr th {\n",
       "        vertical-align: top;\n",
       "    }\n",
       "\n",
       "    .dataframe thead th {\n",
       "        text-align: right;\n",
       "    }\n",
       "</style>\n",
       "<table border=\"1\" class=\"dataframe\">\n",
       "  <thead>\n",
       "    <tr style=\"text-align: right;\">\n",
       "      <th></th>\n",
       "      <th>Date</th>\n",
       "      <th>Open</th>\n",
       "      <th>High</th>\n",
       "      <th>Low</th>\n",
       "      <th>Close</th>\n",
       "      <th>Volume</th>\n",
       "      <th>Market Cap</th>\n",
       "    </tr>\n",
       "  </thead>\n",
       "  <tbody>\n",
       "    <tr>\n",
       "      <td>0</td>\n",
       "      <td>Jul 13, 2020</td>\n",
       "      <td>242.18</td>\n",
       "      <td>244.31</td>\n",
       "      <td>238.23</td>\n",
       "      <td>239.60</td>\n",
       "      <td>7,787,751,468</td>\n",
       "      <td>26,775,071,858</td>\n",
       "    </tr>\n",
       "    <tr>\n",
       "      <td>1</td>\n",
       "      <td>Jul 12, 2020</td>\n",
       "      <td>239.46</td>\n",
       "      <td>243.31</td>\n",
       "      <td>237.77</td>\n",
       "      <td>242.13</td>\n",
       "      <td>6,596,394,718</td>\n",
       "      <td>27,054,158,346</td>\n",
       "    </tr>\n",
       "    <tr>\n",
       "      <td>2</td>\n",
       "      <td>Jul 11, 2020</td>\n",
       "      <td>241.04</td>\n",
       "      <td>241.53</td>\n",
       "      <td>238.33</td>\n",
       "      <td>239.46</td>\n",
       "      <td>5,643,067,316</td>\n",
       "      <td>26,752,161,985</td>\n",
       "    </tr>\n",
       "    <tr>\n",
       "      <td>3</td>\n",
       "      <td>Jul 10, 2020</td>\n",
       "      <td>242.87</td>\n",
       "      <td>242.88</td>\n",
       "      <td>236.73</td>\n",
       "      <td>240.98</td>\n",
       "      <td>7,281,370,522</td>\n",
       "      <td>26,919,422,187</td>\n",
       "    </tr>\n",
       "    <tr>\n",
       "      <td>4</td>\n",
       "      <td>Jul 09, 2020</td>\n",
       "      <td>246.75</td>\n",
       "      <td>247.29</td>\n",
       "      <td>239.90</td>\n",
       "      <td>243.02</td>\n",
       "      <td>8,429,099,199</td>\n",
       "      <td>27,143,016,879</td>\n",
       "    </tr>\n",
       "  </tbody>\n",
       "</table>\n",
       "</div>"
      ],
      "text/plain": [
       "           Date    Open    High     Low   Close         Volume      Market Cap\n",
       "0  Jul 13, 2020  242.18  244.31  238.23  239.60  7,787,751,468  26,775,071,858\n",
       "1  Jul 12, 2020  239.46  243.31  237.77  242.13  6,596,394,718  27,054,158,346\n",
       "2  Jul 11, 2020  241.04  241.53  238.33  239.46  5,643,067,316  26,752,161,985\n",
       "3  Jul 10, 2020  242.87  242.88  236.73  240.98  7,281,370,522  26,919,422,187\n",
       "4  Jul 09, 2020  246.75  247.29  239.90  243.02  8,429,099,199  27,143,016,879"
      ]
     },
     "execution_count": 6,
     "metadata": {},
     "output_type": "execute_result"
    }
   ],
   "source": [
    "my_df = pd.DataFrame(datasets)\n",
    "my_df.head()"
   ]
  },
  {
   "cell_type": "code",
   "execution_count": 14,
   "metadata": {},
   "outputs": [],
   "source": [
    "full_data = my_df.set_index('Date')\n",
    "#full_data = df[['Open', 'High', 'Low', 'Close', 'Volume', 'Market Cap']]\n",
    "full_data.to_csv('full_data_eth_13072020.csv', index=True, header=True)"
   ]
  },
  {
   "cell_type": "code",
   "execution_count": 8,
   "metadata": {},
   "outputs": [
    {
     "data": {
      "text/html": [
       "<div>\n",
       "<style scoped>\n",
       "    .dataframe tbody tr th:only-of-type {\n",
       "        vertical-align: middle;\n",
       "    }\n",
       "\n",
       "    .dataframe tbody tr th {\n",
       "        vertical-align: top;\n",
       "    }\n",
       "\n",
       "    .dataframe thead th {\n",
       "        text-align: right;\n",
       "    }\n",
       "</style>\n",
       "<table border=\"1\" class=\"dataframe\">\n",
       "  <thead>\n",
       "    <tr style=\"text-align: right;\">\n",
       "      <th></th>\n",
       "      <th>Open</th>\n",
       "      <th>High</th>\n",
       "      <th>Low</th>\n",
       "      <th>Close</th>\n",
       "      <th>Volume</th>\n",
       "      <th>Market Cap</th>\n",
       "    </tr>\n",
       "    <tr>\n",
       "      <th>Date</th>\n",
       "      <th></th>\n",
       "      <th></th>\n",
       "      <th></th>\n",
       "      <th></th>\n",
       "      <th></th>\n",
       "      <th></th>\n",
       "    </tr>\n",
       "  </thead>\n",
       "  <tbody>\n",
       "    <tr>\n",
       "      <td>Jul 13, 2020</td>\n",
       "      <td>242.18</td>\n",
       "      <td>244.31</td>\n",
       "      <td>238.23</td>\n",
       "      <td>239.60</td>\n",
       "      <td>7,787,751,468</td>\n",
       "      <td>26,775,071,858</td>\n",
       "    </tr>\n",
       "    <tr>\n",
       "      <td>Jul 12, 2020</td>\n",
       "      <td>239.46</td>\n",
       "      <td>243.31</td>\n",
       "      <td>237.77</td>\n",
       "      <td>242.13</td>\n",
       "      <td>6,596,394,718</td>\n",
       "      <td>27,054,158,346</td>\n",
       "    </tr>\n",
       "    <tr>\n",
       "      <td>Jul 11, 2020</td>\n",
       "      <td>241.04</td>\n",
       "      <td>241.53</td>\n",
       "      <td>238.33</td>\n",
       "      <td>239.46</td>\n",
       "      <td>5,643,067,316</td>\n",
       "      <td>26,752,161,985</td>\n",
       "    </tr>\n",
       "    <tr>\n",
       "      <td>Jul 10, 2020</td>\n",
       "      <td>242.87</td>\n",
       "      <td>242.88</td>\n",
       "      <td>236.73</td>\n",
       "      <td>240.98</td>\n",
       "      <td>7,281,370,522</td>\n",
       "      <td>26,919,422,187</td>\n",
       "    </tr>\n",
       "    <tr>\n",
       "      <td>Jul 09, 2020</td>\n",
       "      <td>246.75</td>\n",
       "      <td>247.29</td>\n",
       "      <td>239.90</td>\n",
       "      <td>243.02</td>\n",
       "      <td>8,429,099,199</td>\n",
       "      <td>27,143,016,879</td>\n",
       "    </tr>\n",
       "    <tr>\n",
       "      <td>Jul 08, 2020</td>\n",
       "      <td>239.16</td>\n",
       "      <td>248.31</td>\n",
       "      <td>238.40</td>\n",
       "      <td>246.67</td>\n",
       "      <td>9,892,586,411</td>\n",
       "      <td>27,547,785,703</td>\n",
       "    </tr>\n",
       "    <tr>\n",
       "      <td>Jul 07, 2020</td>\n",
       "      <td>240.97</td>\n",
       "      <td>242.68</td>\n",
       "      <td>234.22</td>\n",
       "      <td>239.08</td>\n",
       "      <td>6,441,497,597</td>\n",
       "      <td>26,696,376,073</td>\n",
       "    </tr>\n",
       "    <tr>\n",
       "      <td>Jul 06, 2020</td>\n",
       "      <td>227.69</td>\n",
       "      <td>242.13</td>\n",
       "      <td>227.03</td>\n",
       "      <td>241.51</td>\n",
       "      <td>8,782,917,553</td>\n",
       "      <td>26,964,937,043</td>\n",
       "    </tr>\n",
       "    <tr>\n",
       "      <td>Jul 05, 2020</td>\n",
       "      <td>228.98</td>\n",
       "      <td>229.86</td>\n",
       "      <td>224.54</td>\n",
       "      <td>227.66</td>\n",
       "      <td>5,292,172,429</td>\n",
       "      <td>25,415,950,649</td>\n",
       "    </tr>\n",
       "    <tr>\n",
       "      <td>Jul 04, 2020</td>\n",
       "      <td>225.29</td>\n",
       "      <td>230.05</td>\n",
       "      <td>225.13</td>\n",
       "      <td>229.07</td>\n",
       "      <td>5,228,310,135</td>\n",
       "      <td>25,570,190,315</td>\n",
       "    </tr>\n",
       "  </tbody>\n",
       "</table>\n",
       "</div>"
      ],
      "text/plain": [
       "                Open    High     Low   Close         Volume      Market Cap\n",
       "Date                                                                       \n",
       "Jul 13, 2020  242.18  244.31  238.23  239.60  7,787,751,468  26,775,071,858\n",
       "Jul 12, 2020  239.46  243.31  237.77  242.13  6,596,394,718  27,054,158,346\n",
       "Jul 11, 2020  241.04  241.53  238.33  239.46  5,643,067,316  26,752,161,985\n",
       "Jul 10, 2020  242.87  242.88  236.73  240.98  7,281,370,522  26,919,422,187\n",
       "Jul 09, 2020  246.75  247.29  239.90  243.02  8,429,099,199  27,143,016,879\n",
       "Jul 08, 2020  239.16  248.31  238.40  246.67  9,892,586,411  27,547,785,703\n",
       "Jul 07, 2020  240.97  242.68  234.22  239.08  6,441,497,597  26,696,376,073\n",
       "Jul 06, 2020  227.69  242.13  227.03  241.51  8,782,917,553  26,964,937,043\n",
       "Jul 05, 2020  228.98  229.86  224.54  227.66  5,292,172,429  25,415,950,649\n",
       "Jul 04, 2020  225.29  230.05  225.13  229.07  5,228,310,135  25,570,190,315"
      ]
     },
     "execution_count": 8,
     "metadata": {},
     "output_type": "execute_result"
    }
   ],
   "source": [
    "full_data.head(10)"
   ]
  },
  {
   "cell_type": "code",
   "execution_count": 9,
   "metadata": {},
   "outputs": [
    {
     "data": {
      "text/plain": [
       "(1803, 6)"
      ]
     },
     "execution_count": 9,
     "metadata": {},
     "output_type": "execute_result"
    }
   ],
   "source": [
    "full_data.shape"
   ]
  },
  {
   "cell_type": "code",
   "execution_count": 10,
   "metadata": {},
   "outputs": [
    {
     "data": {
      "text/plain": [
       "Open          object\n",
       "High          object\n",
       "Low           object\n",
       "Close         object\n",
       "Volume        object\n",
       "Market Cap    object\n",
       "dtype: object"
      ]
     },
     "execution_count": 10,
     "metadata": {},
     "output_type": "execute_result"
    }
   ],
   "source": [
    "full_data.dtypes"
   ]
  },
  {
   "cell_type": "code",
   "execution_count": 11,
   "metadata": {},
   "outputs": [
    {
     "data": {
      "text/html": [
       "<div>\n",
       "<style scoped>\n",
       "    .dataframe tbody tr th:only-of-type {\n",
       "        vertical-align: middle;\n",
       "    }\n",
       "\n",
       "    .dataframe tbody tr th {\n",
       "        vertical-align: top;\n",
       "    }\n",
       "\n",
       "    .dataframe thead th {\n",
       "        text-align: right;\n",
       "    }\n",
       "</style>\n",
       "<table border=\"1\" class=\"dataframe\">\n",
       "  <thead>\n",
       "    <tr style=\"text-align: right;\">\n",
       "      <th></th>\n",
       "      <th>Open</th>\n",
       "      <th>High</th>\n",
       "      <th>Low</th>\n",
       "      <th>Close</th>\n",
       "      <th>Volume</th>\n",
       "      <th>Market Cap</th>\n",
       "    </tr>\n",
       "    <tr>\n",
       "      <th>Date</th>\n",
       "      <th></th>\n",
       "      <th></th>\n",
       "      <th></th>\n",
       "      <th></th>\n",
       "      <th></th>\n",
       "      <th></th>\n",
       "    </tr>\n",
       "  </thead>\n",
       "  <tbody>\n",
       "    <tr>\n",
       "      <td>Jul 13, 2020</td>\n",
       "      <td>242.18</td>\n",
       "      <td>244.31</td>\n",
       "      <td>238.23</td>\n",
       "      <td>239.60</td>\n",
       "      <td>7,787,751,468</td>\n",
       "      <td>26,775,071,858</td>\n",
       "    </tr>\n",
       "    <tr>\n",
       "      <td>Jul 12, 2020</td>\n",
       "      <td>239.46</td>\n",
       "      <td>243.31</td>\n",
       "      <td>237.77</td>\n",
       "      <td>242.13</td>\n",
       "      <td>6,596,394,718</td>\n",
       "      <td>27,054,158,346</td>\n",
       "    </tr>\n",
       "    <tr>\n",
       "      <td>Jul 11, 2020</td>\n",
       "      <td>241.04</td>\n",
       "      <td>241.53</td>\n",
       "      <td>238.33</td>\n",
       "      <td>239.46</td>\n",
       "      <td>5,643,067,316</td>\n",
       "      <td>26,752,161,985</td>\n",
       "    </tr>\n",
       "    <tr>\n",
       "      <td>Jul 10, 2020</td>\n",
       "      <td>242.87</td>\n",
       "      <td>242.88</td>\n",
       "      <td>236.73</td>\n",
       "      <td>240.98</td>\n",
       "      <td>7,281,370,522</td>\n",
       "      <td>26,919,422,187</td>\n",
       "    </tr>\n",
       "    <tr>\n",
       "      <td>Jul 09, 2020</td>\n",
       "      <td>246.75</td>\n",
       "      <td>247.29</td>\n",
       "      <td>239.90</td>\n",
       "      <td>243.02</td>\n",
       "      <td>8,429,099,199</td>\n",
       "      <td>27,143,016,879</td>\n",
       "    </tr>\n",
       "  </tbody>\n",
       "</table>\n",
       "</div>"
      ],
      "text/plain": [
       "                Open    High     Low   Close         Volume      Market Cap\n",
       "Date                                                                       \n",
       "Jul 13, 2020  242.18  244.31  238.23  239.60  7,787,751,468  26,775,071,858\n",
       "Jul 12, 2020  239.46  243.31  237.77  242.13  6,596,394,718  27,054,158,346\n",
       "Jul 11, 2020  241.04  241.53  238.33  239.46  5,643,067,316  26,752,161,985\n",
       "Jul 10, 2020  242.87  242.88  236.73  240.98  7,281,370,522  26,919,422,187\n",
       "Jul 09, 2020  246.75  247.29  239.90  243.02  8,429,099,199  27,143,016,879"
      ]
     },
     "execution_count": 11,
     "metadata": {},
     "output_type": "execute_result"
    }
   ],
   "source": [
    "def obj_to_int(x):\n",
    "    x = x.replace(',','')\n",
    "    return float(x)\n",
    "full_data['Close'] = full_data['Close'].apply(obj_to_int)\n",
    "full_data['Open'] = full_data['Open'].apply(obj_to_int)\n",
    "full_data.head()"
   ]
  },
  {
   "cell_type": "code",
   "execution_count": 13,
   "metadata": {},
   "outputs": [
    {
     "data": {
      "image/png": "[encoded data removed]",
      "text/plain": [
       "<Figure size 1080x720 with 1 Axes>"
      ]
     },
     "metadata": {
      "needs_background": "light"
     },
     "output_type": "display_data"
    }
   ],
   "source": [
    "_= full_data[['Open','Close']][::-1].plot(grid=True, figsize=(15, 10))"
   ]
  },
  {
   "cell_type": "code",
   "execution_count": null,
   "metadata": {},
   "outputs": [],
   "source": []
  }
 ],
 "metadata": {
  "kernelspec": {
   "display_name": "Python 3",
   "language": "python",
   "name": "python3"
  },
  "language_info": {
   "codemirror_mode": {
    "name": "ipython",
    "version": 3
   },
   "file_extension": ".py",
   "mimetype": "text/x-python",
   "name": "python",
   "nbconvert_exporter": "python",
   "pygments_lexer": "ipython3",
   "version": "3.7.4"
  }
 },
 "nbformat": 4,
 "nbformat_minor": 2
}
