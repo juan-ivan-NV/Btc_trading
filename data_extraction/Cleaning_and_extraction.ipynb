{
 "cells": [
  {
   "cell_type": "markdown",
   "metadata": {},
   "source": [
    "# Extraction"
   ]
  },
  {
   "cell_type": "markdown",
   "metadata": {},
   "source": [
    "## From https://coinmarketcap.com"
   ]
  },
  {
   "cell_type": "code",
   "execution_count": 1,
   "metadata": {},
   "outputs": [],
   "source": [
    "import urllib.request as urllib2\n",
    "from bs4 import BeautifulSoup\n",
    "import pandas as pd\n",
    "import datetime\n",
    "import csv"
   ]
  },
  {
   "cell_type": "code",
   "execution_count": 3,
   "metadata": {},
   "outputs": [],
   "source": [
    "# Data since 2013/04/28 to 2020/06/07\n",
    "today = datetime.date.today()\n",
    "mktcap_page = 'https://coinmarketcap.com/currencies/bitcoin/historical-data/?start=20130428&amp;end='+\"{:%Y%m%d}\".format(today)\n",
    "page = urllib2.urlopen(mktcap_page)\n",
    "soup = BeautifulSoup(page, 'html.parser')\n",
    "table = soup.find(\"table\")\n",
    "headings = [th.get_text().strip() for th in table.find(\"tr\").find_all(\"td\")]\n"
   ]
  },
  {
   "cell_type": "code",
   "execution_count": 25,
   "metadata": {},
   "outputs": [
    {
     "data": {
      "text/plain": [
       "['Date', 'Open', 'High', 'Low', 'Close', 'Volume', 'Market Cap']"
      ]
     },
     "execution_count": 25,
     "metadata": {},
     "output_type": "execute_result"
    }
   ],
   "source": [
    "headings = [x.replace('*','') for x in headings]\n",
    "headings"
   ]
  },
  {
   "cell_type": "code",
   "execution_count": 28,
   "metadata": {},
   "outputs": [
    {
     "data": {
      "text/plain": [
       "{'Date': 'Jun 07, 2020',\n",
       " 'Open': '9,653.00',\n",
       " 'High': '9,768.50',\n",
       " 'Low': '9,458.15',\n",
       " 'Close': '9,758.85',\n",
       " 'Volume': '25,015,250,846',\n",
       " 'Market Cap': '179,540,253,701'}"
      ]
     },
     "execution_count": 28,
     "metadata": {},
     "output_type": "execute_result"
    }
   ],
   "source": [
    "datasets = []\n",
    "\n",
    "for row in soup.find_all(\"tr\")[1:]:\n",
    "    dataset = dict(zip(headings, (tr.get_text() for tr in row.find_all(\"td\"))))\n",
    "    if len(dataset) > 1:\n",
    "        datasets.append(dataset)\n",
    "\n",
    "datasets[0]"
   ]
  },
  {
   "cell_type": "code",
   "execution_count": 27,
   "metadata": {},
   "outputs": [
    {
     "data": {
      "text/html": [
       "<div>\n",
       "<style scoped>\n",
       "    .dataframe tbody tr th:only-of-type {\n",
       "        vertical-align: middle;\n",
       "    }\n",
       "\n",
       "    .dataframe tbody tr th {\n",
       "        vertical-align: top;\n",
       "    }\n",
       "\n",
       "    .dataframe thead th {\n",
       "        text-align: right;\n",
       "    }\n",
       "</style>\n",
       "<table border=\"1\" class=\"dataframe\">\n",
       "  <thead>\n",
       "    <tr style=\"text-align: right;\">\n",
       "      <th></th>\n",
       "      <th>Date</th>\n",
       "      <th>Open</th>\n",
       "      <th>High</th>\n",
       "      <th>Low</th>\n",
       "      <th>Close</th>\n",
       "      <th>Volume</th>\n",
       "      <th>Market Cap</th>\n",
       "    </tr>\n",
       "  </thead>\n",
       "  <tbody>\n",
       "    <tr>\n",
       "      <td>0</td>\n",
       "      <td>Jun 07, 2020</td>\n",
       "      <td>9,653.00</td>\n",
       "      <td>9,768.50</td>\n",
       "      <td>9,458.15</td>\n",
       "      <td>9,758.85</td>\n",
       "      <td>25,015,250,846</td>\n",
       "      <td>179,540,253,701</td>\n",
       "    </tr>\n",
       "    <tr>\n",
       "      <td>1</td>\n",
       "      <td>Jun 06, 2020</td>\n",
       "      <td>9,664.90</td>\n",
       "      <td>9,773.43</td>\n",
       "      <td>9,591.02</td>\n",
       "      <td>9,653.68</td>\n",
       "      <td>20,438,419,222</td>\n",
       "      <td>177,595,657,884</td>\n",
       "    </tr>\n",
       "    <tr>\n",
       "      <td>2</td>\n",
       "      <td>Jun 05, 2020</td>\n",
       "      <td>9,800.22</td>\n",
       "      <td>9,869.24</td>\n",
       "      <td>9,663.22</td>\n",
       "      <td>9,665.53</td>\n",
       "      <td>23,509,628,646</td>\n",
       "      <td>177,801,825,145</td>\n",
       "    </tr>\n",
       "    <tr>\n",
       "      <td>3</td>\n",
       "      <td>Jun 04, 2020</td>\n",
       "      <td>9,655.85</td>\n",
       "      <td>9,887.61</td>\n",
       "      <td>9,525.25</td>\n",
       "      <td>9,800.64</td>\n",
       "      <td>25,921,805,072</td>\n",
       "      <td>180,276,153,545</td>\n",
       "    </tr>\n",
       "    <tr>\n",
       "      <td>4</td>\n",
       "      <td>Jun 03, 2020</td>\n",
       "      <td>9,533.76</td>\n",
       "      <td>9,682.86</td>\n",
       "      <td>9,471.85</td>\n",
       "      <td>9,656.72</td>\n",
       "      <td>25,007,459,262</td>\n",
       "      <td>177,619,631,126</td>\n",
       "    </tr>\n",
       "  </tbody>\n",
       "</table>\n",
       "</div>"
      ],
      "text/plain": [
       "           Date      Open      High       Low     Close          Volume  \\\n",
       "0  Jun 07, 2020  9,653.00  9,768.50  9,458.15  9,758.85  25,015,250,846   \n",
       "1  Jun 06, 2020  9,664.90  9,773.43  9,591.02  9,653.68  20,438,419,222   \n",
       "2  Jun 05, 2020  9,800.22  9,869.24  9,663.22  9,665.53  23,509,628,646   \n",
       "3  Jun 04, 2020  9,655.85  9,887.61  9,525.25  9,800.64  25,921,805,072   \n",
       "4  Jun 03, 2020  9,533.76  9,682.86  9,471.85  9,656.72  25,007,459,262   \n",
       "\n",
       "        Market Cap  \n",
       "0  179,540,253,701  \n",
       "1  177,595,657,884  \n",
       "2  177,801,825,145  \n",
       "3  180,276,153,545  \n",
       "4  177,619,631,126  "
      ]
     },
     "execution_count": 27,
     "metadata": {},
     "output_type": "execute_result"
    }
   ],
   "source": [
    "my_df = pd.DataFrame(datasets)\n",
    "my_df.head()"
   ]
  },
  {
   "cell_type": "code",
   "execution_count": 30,
   "metadata": {},
   "outputs": [],
   "source": [
    "full_data = my_df.set_index('Date')\n",
    "#full_data = df[['Open', 'High', 'Low', 'Close', 'Volume', 'Market Cap']]\n",
    "full_data.to_csv('full_data_btc.csv', index=True, header=True)"
   ]
  },
  {
   "cell_type": "code",
   "execution_count": 32,
   "metadata": {},
   "outputs": [
    {
     "data": {
      "text/html": [
       "<div>\n",
       "<style scoped>\n",
       "    .dataframe tbody tr th:only-of-type {\n",
       "        vertical-align: middle;\n",
       "    }\n",
       "\n",
       "    .dataframe tbody tr th {\n",
       "        vertical-align: top;\n",
       "    }\n",
       "\n",
       "    .dataframe thead th {\n",
       "        text-align: right;\n",
       "    }\n",
       "</style>\n",
       "<table border=\"1\" class=\"dataframe\">\n",
       "  <thead>\n",
       "    <tr style=\"text-align: right;\">\n",
       "      <th></th>\n",
       "      <th>Open</th>\n",
       "      <th>High</th>\n",
       "      <th>Low</th>\n",
       "      <th>Close</th>\n",
       "      <th>Volume</th>\n",
       "      <th>Market Cap</th>\n",
       "    </tr>\n",
       "    <tr>\n",
       "      <th>Date</th>\n",
       "      <th></th>\n",
       "      <th></th>\n",
       "      <th></th>\n",
       "      <th></th>\n",
       "      <th></th>\n",
       "      <th></th>\n",
       "    </tr>\n",
       "  </thead>\n",
       "  <tbody>\n",
       "    <tr>\n",
       "      <td>Jun 07, 2020</td>\n",
       "      <td>9,653.00</td>\n",
       "      <td>9,768.50</td>\n",
       "      <td>9,458.15</td>\n",
       "      <td>9,758.85</td>\n",
       "      <td>25,015,250,846</td>\n",
       "      <td>179,540,253,701</td>\n",
       "    </tr>\n",
       "    <tr>\n",
       "      <td>Jun 06, 2020</td>\n",
       "      <td>9,664.90</td>\n",
       "      <td>9,773.43</td>\n",
       "      <td>9,591.02</td>\n",
       "      <td>9,653.68</td>\n",
       "      <td>20,438,419,222</td>\n",
       "      <td>177,595,657,884</td>\n",
       "    </tr>\n",
       "    <tr>\n",
       "      <td>Jun 05, 2020</td>\n",
       "      <td>9,800.22</td>\n",
       "      <td>9,869.24</td>\n",
       "      <td>9,663.22</td>\n",
       "      <td>9,665.53</td>\n",
       "      <td>23,509,628,646</td>\n",
       "      <td>177,801,825,145</td>\n",
       "    </tr>\n",
       "    <tr>\n",
       "      <td>Jun 04, 2020</td>\n",
       "      <td>9,655.85</td>\n",
       "      <td>9,887.61</td>\n",
       "      <td>9,525.25</td>\n",
       "      <td>9,800.64</td>\n",
       "      <td>25,921,805,072</td>\n",
       "      <td>180,276,153,545</td>\n",
       "    </tr>\n",
       "    <tr>\n",
       "      <td>Jun 03, 2020</td>\n",
       "      <td>9,533.76</td>\n",
       "      <td>9,682.86</td>\n",
       "      <td>9,471.85</td>\n",
       "      <td>9,656.72</td>\n",
       "      <td>25,007,459,262</td>\n",
       "      <td>177,619,631,126</td>\n",
       "    </tr>\n",
       "    <tr>\n",
       "      <td>Jun 02, 2020</td>\n",
       "      <td>10,162.97</td>\n",
       "      <td>10,182.34</td>\n",
       "      <td>9,460.57</td>\n",
       "      <td>9,529.80</td>\n",
       "      <td>39,137,252,109</td>\n",
       "      <td>175,277,218,229</td>\n",
       "    </tr>\n",
       "    <tr>\n",
       "      <td>Jun 01, 2020</td>\n",
       "      <td>9,463.61</td>\n",
       "      <td>10,199.56</td>\n",
       "      <td>9,450.90</td>\n",
       "      <td>10,167.27</td>\n",
       "      <td>35,198,901,068</td>\n",
       "      <td>186,993,405,740</td>\n",
       "    </tr>\n",
       "    <tr>\n",
       "      <td>May 31, 2020</td>\n",
       "      <td>9,700.11</td>\n",
       "      <td>9,700.34</td>\n",
       "      <td>9,432.30</td>\n",
       "      <td>9,461.06</td>\n",
       "      <td>27,773,290,299</td>\n",
       "      <td>173,997,151,930</td>\n",
       "    </tr>\n",
       "    <tr>\n",
       "      <td>May 30, 2020</td>\n",
       "      <td>9,438.91</td>\n",
       "      <td>9,704.03</td>\n",
       "      <td>9,366.73</td>\n",
       "      <td>9,700.41</td>\n",
       "      <td>32,722,975,141</td>\n",
       "      <td>178,390,129,758</td>\n",
       "    </tr>\n",
       "    <tr>\n",
       "      <td>May 29, 2020</td>\n",
       "      <td>9,528.36</td>\n",
       "      <td>9,573.67</td>\n",
       "      <td>9,379.34</td>\n",
       "      <td>9,439.12</td>\n",
       "      <td>32,896,642,044</td>\n",
       "      <td>173,575,756,364</td>\n",
       "    </tr>\n",
       "  </tbody>\n",
       "</table>\n",
       "</div>"
      ],
      "text/plain": [
       "                   Open       High       Low      Close          Volume  \\\n",
       "Date                                                                      \n",
       "Jun 07, 2020   9,653.00   9,768.50  9,458.15   9,758.85  25,015,250,846   \n",
       "Jun 06, 2020   9,664.90   9,773.43  9,591.02   9,653.68  20,438,419,222   \n",
       "Jun 05, 2020   9,800.22   9,869.24  9,663.22   9,665.53  23,509,628,646   \n",
       "Jun 04, 2020   9,655.85   9,887.61  9,525.25   9,800.64  25,921,805,072   \n",
       "Jun 03, 2020   9,533.76   9,682.86  9,471.85   9,656.72  25,007,459,262   \n",
       "Jun 02, 2020  10,162.97  10,182.34  9,460.57   9,529.80  39,137,252,109   \n",
       "Jun 01, 2020   9,463.61  10,199.56  9,450.90  10,167.27  35,198,901,068   \n",
       "May 31, 2020   9,700.11   9,700.34  9,432.30   9,461.06  27,773,290,299   \n",
       "May 30, 2020   9,438.91   9,704.03  9,366.73   9,700.41  32,722,975,141   \n",
       "May 29, 2020   9,528.36   9,573.67  9,379.34   9,439.12  32,896,642,044   \n",
       "\n",
       "                   Market Cap  \n",
       "Date                           \n",
       "Jun 07, 2020  179,540,253,701  \n",
       "Jun 06, 2020  177,595,657,884  \n",
       "Jun 05, 2020  177,801,825,145  \n",
       "Jun 04, 2020  180,276,153,545  \n",
       "Jun 03, 2020  177,619,631,126  \n",
       "Jun 02, 2020  175,277,218,229  \n",
       "Jun 01, 2020  186,993,405,740  \n",
       "May 31, 2020  173,997,151,930  \n",
       "May 30, 2020  178,390,129,758  \n",
       "May 29, 2020  173,575,756,364  "
      ]
     },
     "execution_count": 32,
     "metadata": {},
     "output_type": "execute_result"
    }
   ],
   "source": [
    "full_data.head(10)"
   ]
  },
  {
   "cell_type": "code",
   "execution_count": 34,
   "metadata": {},
   "outputs": [
    {
     "data": {
      "text/plain": [
       "(2598, 6)"
      ]
     },
     "execution_count": 34,
     "metadata": {},
     "output_type": "execute_result"
    }
   ],
   "source": [
    "full_data.shape"
   ]
  },
  {
   "cell_type": "code",
   "execution_count": 53,
   "metadata": {},
   "outputs": [
    {
     "data": {
      "text/plain": [
       "Open          object\n",
       "High          object\n",
       "Low           object\n",
       "Close         object\n",
       "Volume        object\n",
       "Market Cap    object\n",
       "dtype: object"
      ]
     },
     "execution_count": 53,
     "metadata": {},
     "output_type": "execute_result"
    }
   ],
   "source": [
    "full_data.dtypes"
   ]
  },
  {
   "cell_type": "code",
   "execution_count": 67,
   "metadata": {},
   "outputs": [
    {
     "data": {
      "text/html": [
       "<div>\n",
       "<style scoped>\n",
       "    .dataframe tbody tr th:only-of-type {\n",
       "        vertical-align: middle;\n",
       "    }\n",
       "\n",
       "    .dataframe tbody tr th {\n",
       "        vertical-align: top;\n",
       "    }\n",
       "\n",
       "    .dataframe thead th {\n",
       "        text-align: right;\n",
       "    }\n",
       "</style>\n",
       "<table border=\"1\" class=\"dataframe\">\n",
       "  <thead>\n",
       "    <tr style=\"text-align: right;\">\n",
       "      <th></th>\n",
       "      <th>Open</th>\n",
       "      <th>High</th>\n",
       "      <th>Low</th>\n",
       "      <th>Close</th>\n",
       "      <th>Volume</th>\n",
       "      <th>Market Cap</th>\n",
       "    </tr>\n",
       "    <tr>\n",
       "      <th>Date</th>\n",
       "      <th></th>\n",
       "      <th></th>\n",
       "      <th></th>\n",
       "      <th></th>\n",
       "      <th></th>\n",
       "      <th></th>\n",
       "    </tr>\n",
       "  </thead>\n",
       "  <tbody>\n",
       "    <tr>\n",
       "      <td>Jun 07, 2020</td>\n",
       "      <td>9653.00</td>\n",
       "      <td>9,768.50</td>\n",
       "      <td>9,458.15</td>\n",
       "      <td>9758.85</td>\n",
       "      <td>25,015,250,846</td>\n",
       "      <td>179,540,253,701</td>\n",
       "    </tr>\n",
       "    <tr>\n",
       "      <td>Jun 06, 2020</td>\n",
       "      <td>9664.90</td>\n",
       "      <td>9,773.43</td>\n",
       "      <td>9,591.02</td>\n",
       "      <td>9653.68</td>\n",
       "      <td>20,438,419,222</td>\n",
       "      <td>177,595,657,884</td>\n",
       "    </tr>\n",
       "    <tr>\n",
       "      <td>Jun 05, 2020</td>\n",
       "      <td>9800.22</td>\n",
       "      <td>9,869.24</td>\n",
       "      <td>9,663.22</td>\n",
       "      <td>9665.53</td>\n",
       "      <td>23,509,628,646</td>\n",
       "      <td>177,801,825,145</td>\n",
       "    </tr>\n",
       "    <tr>\n",
       "      <td>Jun 04, 2020</td>\n",
       "      <td>9655.85</td>\n",
       "      <td>9,887.61</td>\n",
       "      <td>9,525.25</td>\n",
       "      <td>9800.64</td>\n",
       "      <td>25,921,805,072</td>\n",
       "      <td>180,276,153,545</td>\n",
       "    </tr>\n",
       "    <tr>\n",
       "      <td>Jun 03, 2020</td>\n",
       "      <td>9533.76</td>\n",
       "      <td>9,682.86</td>\n",
       "      <td>9,471.85</td>\n",
       "      <td>9656.72</td>\n",
       "      <td>25,007,459,262</td>\n",
       "      <td>177,619,631,126</td>\n",
       "    </tr>\n",
       "  </tbody>\n",
       "</table>\n",
       "</div>"
      ],
      "text/plain": [
       "                 Open      High       Low    Close          Volume  \\\n",
       "Date                                                                 \n",
       "Jun 07, 2020  9653.00  9,768.50  9,458.15  9758.85  25,015,250,846   \n",
       "Jun 06, 2020  9664.90  9,773.43  9,591.02  9653.68  20,438,419,222   \n",
       "Jun 05, 2020  9800.22  9,869.24  9,663.22  9665.53  23,509,628,646   \n",
       "Jun 04, 2020  9655.85  9,887.61  9,525.25  9800.64  25,921,805,072   \n",
       "Jun 03, 2020  9533.76  9,682.86  9,471.85  9656.72  25,007,459,262   \n",
       "\n",
       "                   Market Cap  \n",
       "Date                           \n",
       "Jun 07, 2020  179,540,253,701  \n",
       "Jun 06, 2020  177,595,657,884  \n",
       "Jun 05, 2020  177,801,825,145  \n",
       "Jun 04, 2020  180,276,153,545  \n",
       "Jun 03, 2020  177,619,631,126  "
      ]
     },
     "execution_count": 67,
     "metadata": {},
     "output_type": "execute_result"
    }
   ],
   "source": [
    "def obj_to_int(x):\n",
    "    x = x.replace(',','')\n",
    "    return float(x)\n",
    "full_data['Close'] = full_data['Close'].apply(obj_to_int)\n",
    "full_data['Open'] = full_data['Open'].apply(obj_to_int)\n",
    "full_data.head()"
   ]
  },
  {
   "cell_type": "code",
   "execution_count": 70,
   "metadata": {},
   "outputs": [
    {
     "data": {
      "text/plain": [
       "<matplotlib.axes._subplots.AxesSubplot at 0x201d9e700c8>"
      ]
     },
     "execution_count": 70,
     "metadata": {},
     "output_type": "execute_result"
    },
    {
     "data": {
      "image/png": "[encoded data removed]",
      "text/plain": [
       "<Figure size 1080x720 with 1 Axes>"
      ]
     },
     "metadata": {},
     "output_type": "display_data"
    }
   ],
   "source": [
    "full_data[['Open','Close']][::-1].plot(grid=True, figsize=(15, 10))"
   ]
  },
  {
   "cell_type": "code",
   "execution_count": null,
   "metadata": {},
   "outputs": [],
   "source": []
  }
 ],
 "metadata": {
  "kernelspec": {
   "display_name": "Python 3",
   "language": "python",
   "name": "python3"
  },
  "language_info": {
   "codemirror_mode": {
    "name": "ipython",
    "version": 3
   },
   "file_extension": ".py",
   "mimetype": "text/x-python",
   "name": "python",
   "nbconvert_exporter": "python",
   "pygments_lexer": "ipython3",
   "version": "3.7.4"
  }
 },
 "nbformat": 4,
 "nbformat_minor": 2
}
