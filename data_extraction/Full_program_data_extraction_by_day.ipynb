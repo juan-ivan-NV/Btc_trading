{
  "nbformat": 4,
  "nbformat_minor": 0,
  "metadata": {
    "colab": {
      "name": "Full_program_data_extraction_by_day.ipynb",
      "provenance": [],
      "collapsed_sections": [],
      "toc_visible": true
    },
    "kernelspec": {
      "name": "python3",
      "display_name": "Python 3"
    }
  },
  "cells": [
    {
      "cell_type": "markdown",
      "metadata": {
        "id": "xHJt9SUVyHog",
        "colab_type": "text"
      },
      "source": [
        "# Data extraction"
      ]
    },
    {
      "cell_type": "markdown",
      "metadata": {
        "id": "_lAnHXRE6DJx",
        "colab_type": "text"
      },
      "source": [
        "## Some sources to extract data"
      ]
    },
    {
      "cell_type": "markdown",
      "metadata": {
        "id": "IBubZXnM2DK4",
        "colab_type": "text"
      },
      "source": [
        "\n",
        "###  1.-  Dayli data from all coins available at: https://coinmarketcap.com/coins/ with the function below\n",
        "###  2.-  Hourly and daily data in csv format from some coins abailable at: https://www.cryptodatadownload.com/data/ "
      ]
    },
    {
      "cell_type": "code",
      "metadata": {
        "id": "mEmaCKwwGfL0",
        "colab_type": "code",
        "colab": {}
      },
      "source": [
        "import pandas as pd"
      ],
      "execution_count": 1,
      "outputs": []
    },
    {
      "cell_type": "code",
      "metadata": {
        "id": "bqUqeWQdGtA7",
        "colab_type": "code",
        "colab": {
          "base_uri": "https://localhost:8080/",
          "height": 194
        },
        "outputId": "154fa7c6-41b4-4a45-b0b9-6a5800bb97d7"
      },
      "source": [
        "# scrapping first 200 coins names available\n",
        "\n",
        "url = 'https://coinmarketcap.com/coins/views/all/'\n",
        "dfs = pd.read_html(url)\n",
        "df = dfs[2]\n",
        "df.head()"
      ],
      "execution_count": 22,
      "outputs": [
        {
          "output_type": "execute_result",
          "data": {
            "text/html": [
              "<div>\n",
              "<style scoped>\n",
              "    .dataframe tbody tr th:only-of-type {\n",
              "        vertical-align: middle;\n",
              "    }\n",
              "\n",
              "    .dataframe tbody tr th {\n",
              "        vertical-align: top;\n",
              "    }\n",
              "\n",
              "    .dataframe thead th {\n",
              "        text-align: right;\n",
              "    }\n",
              "</style>\n",
              "<table border=\"1\" class=\"dataframe\">\n",
              "  <thead>\n",
              "    <tr style=\"text-align: right;\">\n",
              "      <th></th>\n",
              "      <th>Rank</th>\n",
              "      <th>Name</th>\n",
              "      <th>Symbol</th>\n",
              "      <th>Market Cap</th>\n",
              "      <th>Price</th>\n",
              "      <th>Circulating Supply</th>\n",
              "      <th>Volume (24h)</th>\n",
              "      <th>% 1h</th>\n",
              "      <th>% 24h</th>\n",
              "      <th>% 7d</th>\n",
              "      <th>Unnamed: 10</th>\n",
              "    </tr>\n",
              "  </thead>\n",
              "  <tbody>\n",
              "    <tr>\n",
              "      <th>0</th>\n",
              "      <td>1</td>\n",
              "      <td>Bitcoin</td>\n",
              "      <td>BTC</td>\n",
              "      <td>$205,561,895,837</td>\n",
              "      <td>$11,141.68</td>\n",
              "      <td>18,449,812 BTC</td>\n",
              "      <td>$27,096,537,474</td>\n",
              "      <td>0.11%</td>\n",
              "      <td>-5.93%</td>\n",
              "      <td>10.81%</td>\n",
              "      <td>NaN</td>\n",
              "    </tr>\n",
              "    <tr>\n",
              "      <th>1</th>\n",
              "      <td>2</td>\n",
              "      <td>Ethereum</td>\n",
              "      <td>ETH</td>\n",
              "      <td>$42,647,593,778</td>\n",
              "      <td>$380.71</td>\n",
              "      <td>112,020,368 ETH</td>\n",
              "      <td>$18,935,636,725</td>\n",
              "      <td>-0.11%</td>\n",
              "      <td>-3.31%</td>\n",
              "      <td>19.54%</td>\n",
              "      <td>NaN</td>\n",
              "    </tr>\n",
              "    <tr>\n",
              "      <th>2</th>\n",
              "      <td>3</td>\n",
              "      <td>XRP</td>\n",
              "      <td>XRP</td>\n",
              "      <td>$13,234,045,630</td>\n",
              "      <td>$0.294990</td>\n",
              "      <td>44,862,646,997 XRP *</td>\n",
              "      <td>$4,918,859,452</td>\n",
              "      <td>-0.49%</td>\n",
              "      <td>-1.58%</td>\n",
              "      <td>36.08%</td>\n",
              "      <td>NaN</td>\n",
              "    </tr>\n",
              "    <tr>\n",
              "      <th>3</th>\n",
              "      <td>4</td>\n",
              "      <td>Bitcoin Cash</td>\n",
              "      <td>BCH</td>\n",
              "      <td>$5,328,532,447</td>\n",
              "      <td>$288.35</td>\n",
              "      <td>18,479,206 BCH</td>\n",
              "      <td>$3,318,026,091</td>\n",
              "      <td>-0.12%</td>\n",
              "      <td>-11.24%</td>\n",
              "      <td>15.51%</td>\n",
              "      <td>NaN</td>\n",
              "    </tr>\n",
              "    <tr>\n",
              "      <th>4</th>\n",
              "      <td>5</td>\n",
              "      <td>Bitcoin SV</td>\n",
              "      <td>BSV</td>\n",
              "      <td>$4,047,694,657</td>\n",
              "      <td>$219.06</td>\n",
              "      <td>18,477,777 BSV</td>\n",
              "      <td>$2,630,128,220</td>\n",
              "      <td>-0.37%</td>\n",
              "      <td>-11.23%</td>\n",
              "      <td>13.92%</td>\n",
              "      <td>NaN</td>\n",
              "    </tr>\n",
              "  </tbody>\n",
              "</table>\n",
              "</div>"
            ],
            "text/plain": [
              "   Rank          Name Symbol  ...    % 24h    % 7d Unnamed: 10\n",
              "0     1       Bitcoin    BTC  ...   -5.93%  10.81%         NaN\n",
              "1     2      Ethereum    ETH  ...   -3.31%  19.54%         NaN\n",
              "2     3           XRP    XRP  ...   -1.58%  36.08%         NaN\n",
              "3     4  Bitcoin Cash    BCH  ...  -11.24%  15.51%         NaN\n",
              "4     5    Bitcoin SV    BSV  ...  -11.23%  13.92%         NaN\n",
              "\n",
              "[5 rows x 11 columns]"
            ]
          },
          "metadata": {
            "tags": []
          },
          "execution_count": 22
        }
      ]
    },
    {
      "cell_type": "code",
      "metadata": {
        "id": "e71hBJBNIHQa",
        "colab_type": "code",
        "colab": {}
      },
      "source": [
        "df.Price = df['Price'].apply(lambda x: float(x.replace('$','').replace(',','')))\n",
        "df.sort_values(by=['Price'], inplace=True, ascending=False)"
      ],
      "execution_count": 23,
      "outputs": []
    },
    {
      "cell_type": "code",
      "metadata": {
        "id": "ZoSSNjjL5BFG",
        "colab_type": "code",
        "colab": {
          "base_uri": "https://localhost:8080/",
          "height": 542
        },
        "outputId": "e91fbbb9-b6f7-4cf6-abd6-b3bfdd0c847f"
      },
      "source": [
        "import plotly.express as px\n",
        "\n",
        "fig = px.bar(df, y='Price', x='Name', text='Name')\n",
        "fig.update_traces(texttemplate='%{text:.2s}', textposition='outside')\n",
        "#fig.update_layout(uniformtext_minsize=8, uniformtext_mode='hide')\n",
        "fig.show()"
      ],
      "execution_count": 25,
      "outputs": [
        {
          "output_type": "display_data",
          "data": {
            "text/html": [
              "<html>\n",
              "<head><meta charset=\"utf-8\" /></head>\n",
              "<body>\n",
              "    <div>\n",
              "            <script src=\"https://cdnjs.cloudflare.com/ajax/libs/mathjax/2.7.5/MathJax.js?config=TeX-AMS-MML_SVG\"></script><script type=\"text/javascript\">if (window.MathJax) {MathJax.Hub.Config({SVG: {font: \"STIX-Web\"}});}</script>\n",
              "                <script type=\"text/javascript\">window.PlotlyConfig = {MathJaxConfig: 'local'};</script>\n",
              "        <script src=\"https://cdn.plot.ly/plotly-latest.min.js\"></script>    \n",
              "            <div id=\"519aeff1-8e73-4daf-8b1d-1173402ee8df\" class=\"plotly-graph-div\" style=\"height:525px; width:100%;\"></div>\n",
              "            <script type=\"text/javascript\">\n",
              "                \n",
              "                    window.PLOTLYENV=window.PLOTLYENV || {};\n",
              "                    \n",
              "                if (document.getElementById(\"519aeff1-8e73-4daf-8b1d-1173402ee8df\")) {\n",
              "                    Plotly.newPlot(\n",
              "                        '519aeff1-8e73-4daf-8b1d-1173402ee8df',\n",
              "                        [{\"alignmentgroup\": \"True\", \"hoverlabel\": {\"namelength\": 0}, \"hovertemplate\": \"Name=%{text}<br>Price=%{y}\", \"legendgroup\": \"\", \"marker\": {\"color\": \"#636efa\"}, \"name\": \"\", \"offsetgroup\": \"\", \"orientation\": \"v\", \"showlegend\": false, \"text\": [\"Bitcoin\", \"Ethereum\", \"Bitcoin Cash\", \"Bitcoin SV\", \"BitcoinPoS\", \"Monero\", \"Dash\", \"Zcash\", \"Unobtanium\", \"Litecoin\", \"Bonorum\", \"Obyte\", \"Binance Coin\", \"Counos X\", \"SaluS\", \"MimbleWimbleCoin\", \"Decred\", \"Neo\", \"Bitcoin Gold\", \"Kusama\", \"Largo Coin\", \"NewYork Exchange\", \"Energy Web Token\", \"Horizen\", \"Ethereum Classic\", \"DDKoin\", \"Zcoin\", \"BitcoinHD\", \"PLATINCOIN\", \"Counos Coin\", \"Cosmos\", \"HEAT\", \"EOS\", \"Tezos\", \"GHOSTPRISM\", \"Qtum\", \"Elastos\", \"Zenon\", \"ChainX\", \"BTSE\", \"Vitae\", \"Energi\", \"MonaCoin\", \"Solana\", \"Cryptonex\", \"Celo\", \"Waves\", \"Factom\", \"Haven Protocol\", \"Lightning Bitcoin\", \"HyperCash\", \"Lisk\", \"Blocknet\", \"Dero\", \"Steem Dollars\", \"Nano\", \"TomoChain\", \"StakeCubeCoin\", \"Bitcoin Diamond\", \"Bitcoin 2\", \"Baer Chain\", \"BHPCoin\", \"Particl\", \"Ontology\", \"Zano\", \"Polis\", \"Komodo\", \"Insolar\", \"Fusion\", \"Skycoin\", \"DeviantCoin\", \"Loki\", \"Neblio\", \"Ark\", \"Stratis\", \"Ouroboros\", \"Aidos Kuneen\", \"GXChain\", \"Grin\", \"Aeon\", \"NULS\", \"PIVX\", \"Nebulas\", \"Beam\", \"Monero Classic\", \"Orient Walt\", \"XeniosCoin\", \"ICON\", \"Safe\", \"Terra\", \"TrueChain\", \"Algorand\", \"Hellenic Coin\", \"XRP\", \"IOTA\", \"THETA\", \"Vertcoin\", \"Peercoin\", \"Wanchain\", \"Stakenet\", \"Massnet\", \"Nexus\", \"WaykiChain\", \"Hive\", \"Steem\", \"Metaverse ETP\", \"Groestlcoin\", \"Blockstack\", \"Aeternity\", \"Super Zero Protocol\", \"WhiteCoin\", \"Cardano\", \"NavCoin\", \"ABBC Coin\", \"Quantum Resistant Ledger\", \"Syscoin\", \"High Performance Blockchain\", \"Cortex\", \"Aion\", \"Stellar\", \"Handshake\", \"MOAC\", \"Bytom\", \"ALQO\", \"IRISnet\", \"Hashshare\", \"Divi\", \"Ardor\", \"NEM\", \"Beldex\", \"Einsteinium\", \"WAX\", \"Insights Network\", \"Joule\", \"Capricoin+\", \"Velas\", \"Hedera Hashgraph\", \"COTI\", \"RChain\", \"LBRY Credits\", \"Quark\", \"BitShares\", \"v.systems\", \"TTC\", \"DigiByte\", \"ILCoin\", \"VITE\", \"NKN\", \"Ravencoin\", \"Project Pai\", \"TRON\", \"Zilliqa\", \"INT Chain\", \"VeChain\", \"Dune Network\", \"PRIZM\", \"CyberMiles\", \"Nxt\", \"GoChain\", \"FIBOS\", \"Achain\", \"Theta Fuel\", \"Metadium\", \"Harmony\", \"MIR COIN\", \"Minter Network\", \"Nimiq\", \"IoTeX\", \"XinFin Network\", \"Metaverse Dualchain Network Architecture\", \"Advanced Internet Blocks\", \"Verge\", \"Nervos Network\", \"IOST\", \"Thunder Token\", \"Burst\", \"Electroneum\", \"#MetaHash\", \"MediBloc\", \"Observer\", \"HYCON\", \"Safex Token\", \"Dogecoin\", \"Siacoin\", \"EDC Blockchain [old]\", \"DigitalNote\", \"GreenPower\", \"ReddCoin\", \"Apollo Currency\", \"TerraKRW\", \"CasinoCoin\", \"WebDollar\", \"Electra\", \"Bytecoin\", \"Mooncoin\", \"Compound Coin\", \"PeepCoin\", \"MicroBitcoin\", \"Nexty\", \"Kin\"], \"textposition\": \"outside\", \"texttemplate\": \"%{text:.2s}\", \"type\": \"bar\", \"x\": [\"Bitcoin\", \"Ethereum\", \"Bitcoin Cash\", \"Bitcoin SV\", \"BitcoinPoS\", \"Monero\", \"Dash\", \"Zcash\", \"Unobtanium\", \"Litecoin\", \"Bonorum\", \"Obyte\", \"Binance Coin\", \"Counos X\", \"SaluS\", \"MimbleWimbleCoin\", \"Decred\", \"Neo\", \"Bitcoin Gold\", \"Kusama\", \"Largo Coin\", \"NewYork Exchange\", \"Energy Web Token\", \"Horizen\", \"Ethereum Classic\", \"DDKoin\", \"Zcoin\", \"BitcoinHD\", \"PLATINCOIN\", \"Counos Coin\", \"Cosmos\", \"HEAT\", \"EOS\", \"Tezos\", \"GHOSTPRISM\", \"Qtum\", \"Elastos\", \"Zenon\", \"ChainX\", \"BTSE\", \"Vitae\", \"Energi\", \"MonaCoin\", \"Solana\", \"Cryptonex\", \"Celo\", \"Waves\", \"Factom\", \"Haven Protocol\", \"Lightning Bitcoin\", \"HyperCash\", \"Lisk\", \"Blocknet\", \"Dero\", \"Steem Dollars\", \"Nano\", \"TomoChain\", \"StakeCubeCoin\", \"Bitcoin Diamond\", \"Bitcoin 2\", \"Baer Chain\", \"BHPCoin\", \"Particl\", \"Ontology\", \"Zano\", \"Polis\", \"Komodo\", \"Insolar\", \"Fusion\", \"Skycoin\", \"DeviantCoin\", \"Loki\", \"Neblio\", \"Ark\", \"Stratis\", \"Ouroboros\", \"Aidos Kuneen\", \"GXChain\", \"Grin\", \"Aeon\", \"NULS\", \"PIVX\", \"Nebulas\", \"Beam\", \"Monero Classic\", \"Orient Walt\", \"XeniosCoin\", \"ICON\", \"Safe\", \"Terra\", \"TrueChain\", \"Algorand\", \"Hellenic Coin\", \"XRP\", \"IOTA\", \"THETA\", \"Vertcoin\", \"Peercoin\", \"Wanchain\", \"Stakenet\", \"Massnet\", \"Nexus\", \"WaykiChain\", \"Hive\", \"Steem\", \"Metaverse ETP\", \"Groestlcoin\", \"Blockstack\", \"Aeternity\", \"Super Zero Protocol\", \"WhiteCoin\", \"Cardano\", \"NavCoin\", \"ABBC Coin\", \"Quantum Resistant Ledger\", \"Syscoin\", \"High Performance Blockchain\", \"Cortex\", \"Aion\", \"Stellar\", \"Handshake\", \"MOAC\", \"Bytom\", \"ALQO\", \"IRISnet\", \"Hashshare\", \"Divi\", \"Ardor\", \"NEM\", \"Beldex\", \"Einsteinium\", \"WAX\", \"Insights Network\", \"Joule\", \"Capricoin+\", \"Velas\", \"Hedera Hashgraph\", \"COTI\", \"RChain\", \"LBRY Credits\", \"Quark\", \"BitShares\", \"v.systems\", \"TTC\", \"DigiByte\", \"ILCoin\", \"VITE\", \"NKN\", \"Ravencoin\", \"Project Pai\", \"TRON\", \"Zilliqa\", \"INT Chain\", \"VeChain\", \"Dune Network\", \"PRIZM\", \"CyberMiles\", \"Nxt\", \"GoChain\", \"FIBOS\", \"Achain\", \"Theta Fuel\", \"Metadium\", \"Harmony\", \"MIR COIN\", \"Minter Network\", \"Nimiq\", \"IoTeX\", \"XinFin Network\", \"Metaverse Dualchain Network Architecture\", \"Advanced Internet Blocks\", \"Verge\", \"Nervos Network\", \"IOST\", \"Thunder Token\", \"Burst\", \"Electroneum\", \"#MetaHash\", \"MediBloc\", \"Observer\", \"HYCON\", \"Safex Token\", \"Dogecoin\", \"Siacoin\", \"EDC Blockchain [old]\", \"DigitalNote\", \"GreenPower\", \"ReddCoin\", \"Apollo Currency\", \"TerraKRW\", \"CasinoCoin\", \"WebDollar\", \"Electra\", \"Bytecoin\", \"Mooncoin\", \"Compound Coin\", \"PeepCoin\", \"MicroBitcoin\", \"Nexty\", \"Kin\"], \"xaxis\": \"x\", \"y\": [11141.68, 380.71, 288.35, 219.06, 88.46, 85.78, 85.48, 84.41, 68.18, 57.26, 52.48, 28.27, 21.1, 20.37, 18.09, 16.03, 15.75, 12.37, 10.22, 10.13, 10.03, 9.92, 9.79, 8.45, 7.28, 6.9, 6.27, 5.78, 5.21, 4.91, 3.94, 3.41, 2.98, 2.91, 2.57, 2.45, 2.44, 2.31, 2.23, 2.19, 2.06, 2.05, 1.88, 1.79, 1.76, 1.75, 1.6, 1.52, 1.47, 1.46, 1.4, 1.26, 1.22, 1.18, 1.01, 0.989311, 0.879379, 0.871347, 0.851829, 0.715685, 0.710754, 0.707315, 0.703176, 0.695914, 0.674688, 0.64155, 0.630819, 0.606446, 0.591303, 0.591104, 0.584458, 0.575363, 0.551439, 0.545432, 0.542902, 0.510329, 0.509192, 0.502925, 0.497965, 0.464264, 0.455099, 0.441407, 0.436794, 0.398934, 0.392506, 0.373839, 0.373408, 0.37066, 0.348382, 0.336538, 0.31373, 0.307767, 0.30562, 0.29499, 0.293892, 0.29148, 0.291436, 0.27473, 0.270874, 0.246427, 0.244059, 0.231763, 0.21821, 0.217596, 0.206297, 0.205323, 0.194703, 0.174114, 0.166921, 0.16668, 0.145306, 0.134703, 0.134267, 0.133927, 0.13247, 0.109833, 0.108496, 0.106831, 0.104392, 0.104153, 0.099787, 0.092767, 0.091208, 0.088153, 0.06609, 0.066018, 0.063532, 0.055773, 0.054814, 0.054549, 0.050621, 0.049483, 0.049085, 0.04523, 0.044522, 0.044002, 0.04365, 0.042632, 0.041708, 0.032218, 0.029384, 0.025827, 0.025711, 0.025467, 0.025304, 0.024281, 0.02362, 0.022789, 0.020689, 0.019468, 0.019262, 0.01806, 0.017659, 0.016419, 0.015639, 0.013098, 0.012038, 0.011969, 0.011274, 0.009333, 0.00893, 0.008451, 0.00816, 0.008142, 0.00814, 0.00791, 0.007463, 0.00667, 0.006507, 0.006108, 0.005939, 0.00582, 0.005545, 0.005487, 0.005436, 0.005017, 0.004972, 0.004668, 0.004431, 0.003786, 0.003613, 0.003383, 0.003346, 0.003201, 0.002779, 0.001892, 0.001892, 0.001213, 0.000832, 0.00083, 0.000637, 0.000613, 0.000419, 0.000215, 0.00015, 0.000111, 0.000111, 7.2e-05, 3.7e-05, 8e-06], \"yaxis\": \"y\"}],\n",
              "                        {\"barmode\": \"relative\", \"legend\": {\"tracegroupgap\": 0}, \"margin\": {\"t\": 60}, \"template\": {\"data\": {\"bar\": [{\"error_x\": {\"color\": \"#2a3f5f\"}, \"error_y\": {\"color\": \"#2a3f5f\"}, \"marker\": {\"line\": {\"color\": \"#E5ECF6\", \"width\": 0.5}}, \"type\": \"bar\"}], \"barpolar\": [{\"marker\": {\"line\": {\"color\": \"#E5ECF6\", \"width\": 0.5}}, \"type\": \"barpolar\"}], \"carpet\": [{\"aaxis\": {\"endlinecolor\": \"#2a3f5f\", \"gridcolor\": \"white\", \"linecolor\": \"white\", \"minorgridcolor\": \"white\", \"startlinecolor\": \"#2a3f5f\"}, \"baxis\": {\"endlinecolor\": \"#2a3f5f\", \"gridcolor\": \"white\", \"linecolor\": \"white\", \"minorgridcolor\": \"white\", \"startlinecolor\": \"#2a3f5f\"}, \"type\": \"carpet\"}], \"choropleth\": [{\"colorbar\": {\"outlinewidth\": 0, \"ticks\": \"\"}, \"type\": \"choropleth\"}], \"contour\": [{\"colorbar\": {\"outlinewidth\": 0, \"ticks\": \"\"}, \"colorscale\": [[0.0, \"#0d0887\"], [0.1111111111111111, \"#46039f\"], [0.2222222222222222, \"#7201a8\"], [0.3333333333333333, \"#9c179e\"], [0.4444444444444444, \"#bd3786\"], [0.5555555555555556, \"#d8576b\"], [0.6666666666666666, \"#ed7953\"], [0.7777777777777778, \"#fb9f3a\"], [0.8888888888888888, \"#fdca26\"], [1.0, \"#f0f921\"]], \"type\": \"contour\"}], \"contourcarpet\": [{\"colorbar\": {\"outlinewidth\": 0, \"ticks\": \"\"}, \"type\": \"contourcarpet\"}], \"heatmap\": [{\"colorbar\": {\"outlinewidth\": 0, \"ticks\": \"\"}, \"colorscale\": [[0.0, \"#0d0887\"], [0.1111111111111111, \"#46039f\"], [0.2222222222222222, \"#7201a8\"], [0.3333333333333333, \"#9c179e\"], [0.4444444444444444, \"#bd3786\"], [0.5555555555555556, \"#d8576b\"], [0.6666666666666666, \"#ed7953\"], [0.7777777777777778, \"#fb9f3a\"], [0.8888888888888888, \"#fdca26\"], [1.0, \"#f0f921\"]], \"type\": \"heatmap\"}], \"heatmapgl\": [{\"colorbar\": {\"outlinewidth\": 0, \"ticks\": \"\"}, \"colorscale\": [[0.0, \"#0d0887\"], [0.1111111111111111, \"#46039f\"], [0.2222222222222222, \"#7201a8\"], [0.3333333333333333, \"#9c179e\"], [0.4444444444444444, \"#bd3786\"], [0.5555555555555556, \"#d8576b\"], [0.6666666666666666, \"#ed7953\"], [0.7777777777777778, \"#fb9f3a\"], [0.8888888888888888, \"#fdca26\"], [1.0, \"#f0f921\"]], \"type\": \"heatmapgl\"}], \"histogram\": [{\"marker\": {\"colorbar\": {\"outlinewidth\": 0, \"ticks\": \"\"}}, \"type\": \"histogram\"}], \"histogram2d\": [{\"colorbar\": {\"outlinewidth\": 0, \"ticks\": \"\"}, \"colorscale\": [[0.0, \"#0d0887\"], [0.1111111111111111, \"#46039f\"], [0.2222222222222222, \"#7201a8\"], [0.3333333333333333, \"#9c179e\"], [0.4444444444444444, \"#bd3786\"], [0.5555555555555556, \"#d8576b\"], [0.6666666666666666, \"#ed7953\"], [0.7777777777777778, \"#fb9f3a\"], [0.8888888888888888, \"#fdca26\"], [1.0, \"#f0f921\"]], \"type\": \"histogram2d\"}], \"histogram2dcontour\": [{\"colorbar\": {\"outlinewidth\": 0, \"ticks\": \"\"}, \"colorscale\": [[0.0, \"#0d0887\"], [0.1111111111111111, \"#46039f\"], [0.2222222222222222, \"#7201a8\"], [0.3333333333333333, \"#9c179e\"], [0.4444444444444444, \"#bd3786\"], [0.5555555555555556, \"#d8576b\"], [0.6666666666666666, \"#ed7953\"], [0.7777777777777778, \"#fb9f3a\"], [0.8888888888888888, \"#fdca26\"], [1.0, \"#f0f921\"]], \"type\": \"histogram2dcontour\"}], \"mesh3d\": [{\"colorbar\": {\"outlinewidth\": 0, \"ticks\": \"\"}, \"type\": \"mesh3d\"}], \"parcoords\": [{\"line\": {\"colorbar\": {\"outlinewidth\": 0, \"ticks\": \"\"}}, \"type\": \"parcoords\"}], \"pie\": [{\"automargin\": true, \"type\": \"pie\"}], \"scatter\": [{\"marker\": {\"colorbar\": {\"outlinewidth\": 0, \"ticks\": \"\"}}, \"type\": \"scatter\"}], \"scatter3d\": [{\"line\": {\"colorbar\": {\"outlinewidth\": 0, \"ticks\": \"\"}}, \"marker\": {\"colorbar\": {\"outlinewidth\": 0, \"ticks\": \"\"}}, \"type\": \"scatter3d\"}], \"scattercarpet\": [{\"marker\": {\"colorbar\": {\"outlinewidth\": 0, \"ticks\": \"\"}}, \"type\": \"scattercarpet\"}], \"scattergeo\": [{\"marker\": {\"colorbar\": {\"outlinewidth\": 0, \"ticks\": \"\"}}, \"type\": \"scattergeo\"}], \"scattergl\": [{\"marker\": {\"colorbar\": {\"outlinewidth\": 0, \"ticks\": \"\"}}, \"type\": \"scattergl\"}], \"scattermapbox\": [{\"marker\": {\"colorbar\": {\"outlinewidth\": 0, \"ticks\": \"\"}}, \"type\": \"scattermapbox\"}], \"scatterpolar\": [{\"marker\": {\"colorbar\": {\"outlinewidth\": 0, \"ticks\": \"\"}}, \"type\": \"scatterpolar\"}], \"scatterpolargl\": [{\"marker\": {\"colorbar\": {\"outlinewidth\": 0, \"ticks\": \"\"}}, \"type\": \"scatterpolargl\"}], \"scatterternary\": [{\"marker\": {\"colorbar\": {\"outlinewidth\": 0, \"ticks\": \"\"}}, \"type\": \"scatterternary\"}], \"surface\": [{\"colorbar\": {\"outlinewidth\": 0, \"ticks\": \"\"}, \"colorscale\": [[0.0, \"#0d0887\"], [0.1111111111111111, \"#46039f\"], [0.2222222222222222, \"#7201a8\"], [0.3333333333333333, \"#9c179e\"], [0.4444444444444444, \"#bd3786\"], [0.5555555555555556, \"#d8576b\"], [0.6666666666666666, \"#ed7953\"], [0.7777777777777778, \"#fb9f3a\"], [0.8888888888888888, \"#fdca26\"], [1.0, \"#f0f921\"]], \"type\": \"surface\"}], \"table\": [{\"cells\": {\"fill\": {\"color\": \"#EBF0F8\"}, \"line\": {\"color\": \"white\"}}, \"header\": {\"fill\": {\"color\": \"#C8D4E3\"}, \"line\": {\"color\": \"white\"}}, \"type\": \"table\"}]}, \"layout\": {\"annotationdefaults\": {\"arrowcolor\": \"#2a3f5f\", \"arrowhead\": 0, \"arrowwidth\": 1}, \"coloraxis\": {\"colorbar\": {\"outlinewidth\": 0, \"ticks\": \"\"}}, \"colorscale\": {\"diverging\": [[0, \"#8e0152\"], [0.1, \"#c51b7d\"], [0.2, \"#de77ae\"], [0.3, \"#f1b6da\"], [0.4, \"#fde0ef\"], [0.5, \"#f7f7f7\"], [0.6, \"#e6f5d0\"], [0.7, \"#b8e186\"], [0.8, \"#7fbc41\"], [0.9, \"#4d9221\"], [1, \"#276419\"]], \"sequential\": [[0.0, \"#0d0887\"], [0.1111111111111111, \"#46039f\"], [0.2222222222222222, \"#7201a8\"], [0.3333333333333333, \"#9c179e\"], [0.4444444444444444, \"#bd3786\"], [0.5555555555555556, \"#d8576b\"], [0.6666666666666666, \"#ed7953\"], [0.7777777777777778, \"#fb9f3a\"], [0.8888888888888888, \"#fdca26\"], [1.0, \"#f0f921\"]], \"sequentialminus\": [[0.0, \"#0d0887\"], [0.1111111111111111, \"#46039f\"], [0.2222222222222222, \"#7201a8\"], [0.3333333333333333, \"#9c179e\"], [0.4444444444444444, \"#bd3786\"], [0.5555555555555556, \"#d8576b\"], [0.6666666666666666, \"#ed7953\"], [0.7777777777777778, \"#fb9f3a\"], [0.8888888888888888, \"#fdca26\"], [1.0, \"#f0f921\"]]}, \"colorway\": [\"#636efa\", \"#EF553B\", \"#00cc96\", \"#ab63fa\", \"#FFA15A\", \"#19d3f3\", \"#FF6692\", \"#B6E880\", \"#FF97FF\", \"#FECB52\"], \"font\": {\"color\": \"#2a3f5f\"}, \"geo\": {\"bgcolor\": \"white\", \"lakecolor\": \"white\", \"landcolor\": \"#E5ECF6\", \"showlakes\": true, \"showland\": true, \"subunitcolor\": \"white\"}, \"hoverlabel\": {\"align\": \"left\"}, \"hovermode\": \"closest\", \"mapbox\": {\"style\": \"light\"}, \"paper_bgcolor\": \"white\", \"plot_bgcolor\": \"#E5ECF6\", \"polar\": {\"angularaxis\": {\"gridcolor\": \"white\", \"linecolor\": \"white\", \"ticks\": \"\"}, \"bgcolor\": \"#E5ECF6\", \"radialaxis\": {\"gridcolor\": \"white\", \"linecolor\": \"white\", \"ticks\": \"\"}}, \"scene\": {\"xaxis\": {\"backgroundcolor\": \"#E5ECF6\", \"gridcolor\": \"white\", \"gridwidth\": 2, \"linecolor\": \"white\", \"showbackground\": true, \"ticks\": \"\", \"zerolinecolor\": \"white\"}, \"yaxis\": {\"backgroundcolor\": \"#E5ECF6\", \"gridcolor\": \"white\", \"gridwidth\": 2, \"linecolor\": \"white\", \"showbackground\": true, \"ticks\": \"\", \"zerolinecolor\": \"white\"}, \"zaxis\": {\"backgroundcolor\": \"#E5ECF6\", \"gridcolor\": \"white\", \"gridwidth\": 2, \"linecolor\": \"white\", \"showbackground\": true, \"ticks\": \"\", \"zerolinecolor\": \"white\"}}, \"shapedefaults\": {\"line\": {\"color\": \"#2a3f5f\"}}, \"ternary\": {\"aaxis\": {\"gridcolor\": \"white\", \"linecolor\": \"white\", \"ticks\": \"\"}, \"baxis\": {\"gridcolor\": \"white\", \"linecolor\": \"white\", \"ticks\": \"\"}, \"bgcolor\": \"#E5ECF6\", \"caxis\": {\"gridcolor\": \"white\", \"linecolor\": \"white\", \"ticks\": \"\"}}, \"title\": {\"x\": 0.05}, \"xaxis\": {\"automargin\": true, \"gridcolor\": \"white\", \"linecolor\": \"white\", \"ticks\": \"\", \"title\": {\"standoff\": 15}, \"zerolinecolor\": \"white\", \"zerolinewidth\": 2}, \"yaxis\": {\"automargin\": true, \"gridcolor\": \"white\", \"linecolor\": \"white\", \"ticks\": \"\", \"title\": {\"standoff\": 15}, \"zerolinecolor\": \"white\", \"zerolinewidth\": 2}}}, \"xaxis\": {\"anchor\": \"y\", \"domain\": [0.0, 1.0], \"title\": {\"text\": \"Name\"}}, \"yaxis\": {\"anchor\": \"x\", \"domain\": [0.0, 1.0], \"title\": {\"text\": \"Price\"}}},\n",
              "                        {\"responsive\": true}\n",
              "                    ).then(function(){\n",
              "                            \n",
              "var gd = document.getElementById('519aeff1-8e73-4daf-8b1d-1173402ee8df');\n",
              "var x = new MutationObserver(function (mutations, observer) {{\n",
              "        var display = window.getComputedStyle(gd).display;\n",
              "        if (!display || display === 'none') {{\n",
              "            console.log([gd, 'removed!']);\n",
              "            Plotly.purge(gd);\n",
              "            observer.disconnect();\n",
              "        }}\n",
              "}});\n",
              "\n",
              "// Listen for the removal of the full notebook cells\n",
              "var notebookContainer = gd.closest('#notebook-container');\n",
              "if (notebookContainer) {{\n",
              "    x.observe(notebookContainer, {childList: true});\n",
              "}}\n",
              "\n",
              "// Listen for the clearing of the current output cell\n",
              "var outputEl = gd.closest('.output');\n",
              "if (outputEl) {{\n",
              "    x.observe(outputEl, {childList: true});\n",
              "}}\n",
              "\n",
              "                        })\n",
              "                };\n",
              "                \n",
              "            </script>\n",
              "        </div>\n",
              "</body>\n",
              "</html>"
            ]
          },
          "metadata": {
            "tags": []
          }
        }
      ]
    },
    {
      "cell_type": "code",
      "metadata": {
        "id": "xDqeo-YuHZC0",
        "colab_type": "code",
        "colab": {}
      },
      "source": [
        "coins_available = list(df.Name)"
      ],
      "execution_count": 26,
      "outputs": []
    },
    {
      "cell_type": "code",
      "metadata": {
        "id": "AJLc0azfINE9",
        "colab_type": "code",
        "colab": {
          "base_uri": "https://localhost:8080/",
          "height": 35
        },
        "outputId": "8d3ead83-98a2-4f07-af22-4a9cea100291"
      },
      "source": [
        "len(coins_available)"
      ],
      "execution_count": 27,
      "outputs": [
        {
          "output_type": "execute_result",
          "data": {
            "text/plain": [
              "200"
            ]
          },
          "metadata": {
            "tags": []
          },
          "execution_count": 27
        }
      ]
    },
    {
      "cell_type": "code",
      "metadata": {
        "id": "x8EFDkUEI3AE",
        "colab_type": "code",
        "colab": {}
      },
      "source": [
        "# Yes I know there are better ways to do that\n",
        "\n",
        "coins_available = [(coin.lower()).replace(' ','-').replace('.','-').replace('[','').replace(']','').replace('#','') for coin in coins_available]"
      ],
      "execution_count": 28,
      "outputs": []
    },
    {
      "cell_type": "code",
      "metadata": {
        "id": "JppR2NjZJj77",
        "colab_type": "code",
        "colab": {
          "base_uri": "https://localhost:8080/",
          "height": 55
        },
        "outputId": "903156a5-0486-47b8-840c-22b8c01c7706"
      },
      "source": [
        "print(coins_available)"
      ],
      "execution_count": 29,
      "outputs": [
        {
          "output_type": "stream",
          "text": [
            "['bitcoin', 'ethereum', 'bitcoin-cash', 'bitcoin-sv', 'bitcoinpos', 'monero', 'dash', 'zcash', 'unobtanium', 'litecoin', 'bonorum', 'obyte', 'binance-coin', 'counos-x', 'salus', 'mimblewimblecoin', 'decred', 'neo', 'bitcoin-gold', 'kusama', 'largo-coin', 'newyork-exchange', 'energy-web-token', 'horizen', 'ethereum-classic', 'ddkoin', 'zcoin', 'bitcoinhd', 'platincoin', 'counos-coin', 'cosmos', 'heat', 'eos', 'tezos', 'ghostprism', 'qtum', 'elastos', 'zenon', 'chainx', 'btse', 'vitae', 'energi', 'monacoin', 'solana', 'cryptonex', 'celo', 'waves', 'factom', 'haven-protocol', 'lightning-bitcoin', 'hypercash', 'lisk', 'blocknet', 'dero', 'steem-dollars', 'nano', 'tomochain', 'stakecubecoin', 'bitcoin-diamond', 'bitcoin-2', 'baer-chain', 'bhpcoin', 'particl', 'ontology', 'zano', 'polis', 'komodo', 'insolar', 'fusion', 'skycoin', 'deviantcoin', 'loki', 'neblio', 'ark', 'stratis', 'ouroboros', 'aidos-kuneen', 'gxchain', 'grin', 'aeon', 'nuls', 'pivx', 'nebulas', 'beam', 'monero-classic', 'orient-walt', 'xenioscoin', 'icon', 'safe', 'terra', 'truechain', 'algorand', 'hellenic-coin', 'xrp', 'iota', 'theta', 'vertcoin', 'peercoin', 'wanchain', 'stakenet', 'massnet', 'nexus', 'waykichain', 'hive', 'steem', 'metaverse-etp', 'groestlcoin', 'blockstack', 'aeternity', 'super-zero-protocol', 'whitecoin', 'cardano', 'navcoin', 'abbc-coin', 'quantum-resistant-ledger', 'syscoin', 'high-performance-blockchain', 'cortex', 'aion', 'stellar', 'handshake', 'moac', 'bytom', 'alqo', 'irisnet', 'hashshare', 'divi', 'ardor', 'nem', 'beldex', 'einsteinium', 'wax', 'insights-network', 'joule', 'capricoin+', 'velas', 'hedera-hashgraph', 'coti', 'rchain', 'lbry-credits', 'quark', 'bitshares', 'v-systems', 'ttc', 'digibyte', 'ilcoin', 'vite', 'nkn', 'ravencoin', 'project-pai', 'tron', 'zilliqa', 'int-chain', 'vechain', 'dune-network', 'prizm', 'cybermiles', 'nxt', 'gochain', 'fibos', 'achain', 'theta-fuel', 'metadium', 'harmony', 'mir-coin', 'minter-network', 'nimiq', 'iotex', 'xinfin-network', 'metaverse-dualchain-network-architecture', 'advanced-internet-blocks', 'verge', 'nervos-network', 'iost', 'thunder-token', 'burst', 'electroneum', 'metahash', 'medibloc', 'observer', 'hycon', 'safex-token', 'dogecoin', 'siacoin', 'edc-blockchain-old', 'digitalnote', 'greenpower', 'reddcoin', 'apollo-currency', 'terrakrw', 'casinocoin', 'webdollar', 'electra', 'bytecoin', 'mooncoin', 'compound-coin', 'peepcoin', 'microbitcoin', 'nexty', 'kin']\n"
          ],
          "name": "stdout"
        }
      ]
    },
    {
      "cell_type": "markdown",
      "metadata": {
        "id": "AOOoelZwyPTA",
        "colab_type": "text"
      },
      "source": [
        "## Function"
      ]
    },
    {
      "cell_type": "markdown",
      "metadata": {
        "id": "vb-0YLXe_lSI",
        "colab_type": "text"
      },
      "source": [
        "## Function to obtain some coins at: https://coinmarketcap.com/coins/\n",
        "\n"
      ]
    },
    {
      "cell_type": "code",
      "metadata": {
        "id": "jLa8jJZVx7f6",
        "colab_type": "code",
        "colab": {}
      },
      "source": [
        "# Libraries\n",
        "import urllib.request as urllib2\n",
        "from bs4 import BeautifulSoup\n",
        "import datetime \n",
        "import csv"
      ],
      "execution_count": null,
      "outputs": []
    },
    {
      "cell_type": "code",
      "metadata": {
        "id": "40Pl-m3R6dXl",
        "colab_type": "code",
        "colab": {
          "base_uri": "https://localhost:8080/",
          "height": 126
        },
        "outputId": "7b1a4319-bee3-4825-9ae0-44bcce688027"
      },
      "source": [
        "'''coins_available = ['bitcoin','ethereum','xrp','bitcoin-cash','bitcoin-sv','litecoin','cardano','binance-coin','eos','tezos','stellar','monero','tron','vechain',\n",
        "                   'neo','ethereum-classic','dash','zcash','iota','cosmos','nem','ontology','dogecoin','digibyte','theta','qtum','algorand','hedera-hashgraph',\n",
        "                   'icon','decred','zilliqa','bitcoin-gold','waves','bitcoin-diammond','lisk','ravencoin','siacoin','nano','monacoin','terra','bytom','nervos-network',\n",
        "                   'divi','verge','blockstack','horizen','iost','komodo','steem','abbc-coin','bitshares','zcoin','hive','energi','tomochain','hypercash','ark',\n",
        "                   'xinfin-network','syscoin','wax','velas','ardor','irisnet','aeternity','v-systems','stratis','elastos','harmony','electroneum','aion','super-zero-protocol',\n",
        "                   'nimiq','nuls','waykichain','bytecoin','reddcoin','wanchain','gxchain','theta-fuel','iotex','kusama','thunder-token','project-pai','solana','loki',\n",
        "                   'cortex','beam','fusion','truechain','pivx','grin','insolar','nebulas','coti','counos-x','bitcoinpos','celo','largo-coin','mimblewimblecoin',\n",
        "                   'advanced-internet-blocks']'''\n",
        "\n",
        "def get_data(coins_available):\n",
        "\n",
        "  print(coins_available)\n",
        "\n",
        "  coin_name = input('Type a valid coin name: ')\n",
        "\n",
        "  while True:\n",
        "\n",
        "    if coin_name not in coins_available:\n",
        "      print('Coin name should not contain spaces instead use \"-\" and type all in lowecase')\n",
        "      coin_name = input('Type again a valid coin name: ')\n",
        "    else:\n",
        "      break\n",
        "  \n",
        "  today = datetime.date.today()\n",
        "  mktcap_page = 'https://coinmarketcap.com/currencies/'+ coin_name +'/historical-data/?start=20130428&amp;end='+\"{:%Y%m%d}\".format(today)\n",
        "  page = urllib2.urlopen(mktcap_page)\n",
        "  soup = BeautifulSoup(page, 'html.parser')\n",
        "  table = soup.find(\"table\")\n",
        "  headings = [th.get_text().strip() for th in table.find(\"tr\").find_all(\"th\")]\n",
        "  headings = [x.replace('*','') for x in headings]\n",
        "\n",
        "  datasets = []\n",
        "\n",
        "  for row in soup.find_all(\"tr\")[1:]:\n",
        "      dataset = dict(zip(headings, (tr.get_text() for tr in row.find_all(\"td\"))))\n",
        "      if len(dataset) > 1:\n",
        "          datasets.append(dataset)\n",
        "\n",
        "  my_df = pd.DataFrame(datasets)\n",
        "  full_data = my_df.set_index('Date')\n",
        "\n",
        "\n",
        "  # This function replaces ',' for nothing and then changes data type object to float\n",
        "\n",
        "  def obj_to_num(df,cols):\n",
        "      \n",
        "      def obj_to_num(row):\n",
        "          if ',' in str(row):\n",
        "            row = row.replace(',','')\n",
        "            return float(row)\n",
        "          else:\n",
        "            return float(row)\n",
        "\n",
        "      for col in cols:     \n",
        "          df[col] = df[col].apply(obj_to_num) \n",
        "      return df\n",
        "\n",
        "  # This function changes data column (object) to timestamp[ns] and also can change all dataframe clumns to float \n",
        "\n",
        "  def prepare_data(file):\n",
        "\n",
        "    dateparse = lambda x: datetime.datetime.strptime(x, '%b %d, %Y').strftime('%Y-%m-%d')\n",
        "    data  = pd.read_csv(file, parse_dates=[0], date_parser=dateparse)\n",
        "    columns = ['Open','High','Low','Close','Volume','Market Cap']\n",
        "    num_data = obj_to_num(data,columns)\n",
        "    data['Date'] = data['Date'].dt.tz_localize(None)\n",
        "    data = data.groupby([pd.Grouper(key='Date', freq='d')]).first().reset_index()\n",
        "    data = data.set_index('Date')\n",
        "    data = data[['High','Low']]\n",
        "    data.dropna(subset=['High','Low'], inplace=True)\n",
        "\n",
        "    return data\n",
        "\n",
        "\n",
        "\n",
        "  return coin_name\n",
        "\n",
        "print(get_data(coins_available))\n"
      ],
      "execution_count": 30,
      "outputs": [
        {
          "output_type": "stream",
          "text": [
            "['bitcoin', 'ethereum', 'bitcoin-cash', 'bitcoin-sv', 'bitcoinpos', 'monero', 'dash', 'zcash', 'unobtanium', 'litecoin', 'bonorum', 'obyte', 'binance-coin', 'counos-x', 'salus', 'mimblewimblecoin', 'decred', 'neo', 'bitcoin-gold', 'kusama', 'largo-coin', 'newyork-exchange', 'energy-web-token', 'horizen', 'ethereum-classic', 'ddkoin', 'zcoin', 'bitcoinhd', 'platincoin', 'counos-coin', 'cosmos', 'heat', 'eos', 'tezos', 'ghostprism', 'qtum', 'elastos', 'zenon', 'chainx', 'btse', 'vitae', 'energi', 'monacoin', 'solana', 'cryptonex', 'celo', 'waves', 'factom', 'haven-protocol', 'lightning-bitcoin', 'hypercash', 'lisk', 'blocknet', 'dero', 'steem-dollars', 'nano', 'tomochain', 'stakecubecoin', 'bitcoin-diamond', 'bitcoin-2', 'baer-chain', 'bhpcoin', 'particl', 'ontology', 'zano', 'polis', 'komodo', 'insolar', 'fusion', 'skycoin', 'deviantcoin', 'loki', 'neblio', 'ark', 'stratis', 'ouroboros', 'aidos-kuneen', 'gxchain', 'grin', 'aeon', 'nuls', 'pivx', 'nebulas', 'beam', 'monero-classic', 'orient-walt', 'xenioscoin', 'icon', 'safe', 'terra', 'truechain', 'algorand', 'hellenic-coin', 'xrp', 'iota', 'theta', 'vertcoin', 'peercoin', 'wanchain', 'stakenet', 'massnet', 'nexus', 'waykichain', 'hive', 'steem', 'metaverse-etp', 'groestlcoin', 'blockstack', 'aeternity', 'super-zero-protocol', 'whitecoin', 'cardano', 'navcoin', 'abbc-coin', 'quantum-resistant-ledger', 'syscoin', 'high-performance-blockchain', 'cortex', 'aion', 'stellar', 'handshake', 'moac', 'bytom', 'alqo', 'irisnet', 'hashshare', 'divi', 'ardor', 'nem', 'beldex', 'einsteinium', 'wax', 'insights-network', 'joule', 'capricoin+', 'velas', 'hedera-hashgraph', 'coti', 'rchain', 'lbry-credits', 'quark', 'bitshares', 'v-systems', 'ttc', 'digibyte', 'ilcoin', 'vite', 'nkn', 'ravencoin', 'project-pai', 'tron', 'zilliqa', 'int-chain', 'vechain', 'dune-network', 'prizm', 'cybermiles', 'nxt', 'gochain', 'fibos', 'achain', 'theta-fuel', 'metadium', 'harmony', 'mir-coin', 'minter-network', 'nimiq', 'iotex', 'xinfin-network', 'metaverse-dualchain-network-architecture', 'advanced-internet-blocks', 'verge', 'nervos-network', 'iost', 'thunder-token', 'burst', 'electroneum', 'metahash', 'medibloc', 'observer', 'hycon', 'safex-token', 'dogecoin', 'siacoin', 'edc-blockchain-old', 'digitalnote', 'greenpower', 'reddcoin', 'apollo-currency', 'terrakrw', 'casinocoin', 'webdollar', 'electra', 'bytecoin', 'mooncoin', 'compound-coin', 'peepcoin', 'microbitcoin', 'nexty', 'kin']\n",
            "Type a valid coin name: ether\n",
            "Coin name should not contain spaces instead use \"-\" and type all in lowecase\n",
            "Type again a valid coin name: bitcoin\n",
            "bitcoin\n"
          ],
          "name": "stdout"
        }
      ]
    },
    {
      "cell_type": "code",
      "metadata": {
        "id": "YJgFd7cb6daf",
        "colab_type": "code",
        "colab": {}
      },
      "source": [
        ""
      ],
      "execution_count": null,
      "outputs": []
    },
    {
      "cell_type": "code",
      "metadata": {
        "id": "nzB6LGGB6dfo",
        "colab_type": "code",
        "colab": {}
      },
      "source": [
        ""
      ],
      "execution_count": null,
      "outputs": []
    },
    {
      "cell_type": "code",
      "metadata": {
        "id": "cnSVo6d26dkz",
        "colab_type": "code",
        "colab": {}
      },
      "source": [
        ""
      ],
      "execution_count": null,
      "outputs": []
    },
    {
      "cell_type": "code",
      "metadata": {
        "id": "8n1Zc8U56djE",
        "colab_type": "code",
        "colab": {}
      },
      "source": [
        ""
      ],
      "execution_count": null,
      "outputs": []
    },
    {
      "cell_type": "code",
      "metadata": {
        "id": "ZyMGMx7o6ddv",
        "colab_type": "code",
        "colab": {}
      },
      "source": [
        ""
      ],
      "execution_count": null,
      "outputs": []
    }
  ]
}