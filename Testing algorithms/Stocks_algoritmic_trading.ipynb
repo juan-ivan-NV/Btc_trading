{
  "nbformat": 4,
  "nbformat_minor": 0,
  "metadata": {
    "colab": {
      "name": "Stocks_algoritmic_trading.ipynb",
      "provenance": [],
      "collapsed_sections": []
    },
    "kernelspec": {
      "name": "python3",
      "display_name": "Python 3"
    }
  },
  "cells": [
    {
      "cell_type": "markdown",
      "metadata": {
        "id": "U1_o8s-RvEmU"
      },
      "source": [
        ""
      ]
    },
    {
      "cell_type": "code",
      "metadata": {
        "colab": {
          "base_uri": "https://localhost:8080/"
        },
        "id": "g7Gu-KwgMOI1",
        "outputId": "51c9fb45-516c-45e8-ea11-0b4917a1d117"
      },
      "source": [
        "# libraries \r\n",
        "import numpy as np\r\n",
        "import pandas as pd\r\n",
        "import requests\r\n",
        "! pip install XlsxWriter\r\n",
        "import xlsxwriter\r\n",
        "import math\r\n"
      ],
      "execution_count": 1,
      "outputs": [
        {
          "output_type": "stream",
          "text": [
            "Collecting XlsxWriter\n",
            "\u001b[?25l  Downloading https://files.pythonhosted.org/packages/6b/41/bf1aae04932d1eaffee1fc5f8b38ca47bbbf07d765129539bc4bcce1ce0c/XlsxWriter-1.3.7-py2.py3-none-any.whl (144kB)\n",
            "\r\u001b[K     |██▎                             | 10kB 15.5MB/s eta 0:00:01\r\u001b[K     |████▌                           | 20kB 20.5MB/s eta 0:00:01\r\u001b[K     |██████▉                         | 30kB 9.6MB/s eta 0:00:01\r\u001b[K     |█████████                       | 40kB 7.8MB/s eta 0:00:01\r\u001b[K     |███████████▎                    | 51kB 4.5MB/s eta 0:00:01\r\u001b[K     |█████████████▋                  | 61kB 5.0MB/s eta 0:00:01\r\u001b[K     |███████████████▉                | 71kB 5.0MB/s eta 0:00:01\r\u001b[K     |██████████████████▏             | 81kB 5.4MB/s eta 0:00:01\r\u001b[K     |████████████████████▍           | 92kB 5.3MB/s eta 0:00:01\r\u001b[K     |██████████████████████▋         | 102kB 5.6MB/s eta 0:00:01\r\u001b[K     |█████████████████████████       | 112kB 5.6MB/s eta 0:00:01\r\u001b[K     |███████████████████████████▏    | 122kB 5.6MB/s eta 0:00:01\r\u001b[K     |█████████████████████████████▌  | 133kB 5.6MB/s eta 0:00:01\r\u001b[K     |███████████████████████████████▊| 143kB 5.6MB/s eta 0:00:01\r\u001b[K     |████████████████████████████████| 153kB 5.6MB/s \n",
            "\u001b[?25hInstalling collected packages: XlsxWriter\n",
            "Successfully installed XlsxWriter-1.3.7\n"
          ],
          "name": "stdout"
        }
      ]
    },
    {
      "cell_type": "code",
      "metadata": {
        "colab": {
          "base_uri": "https://localhost:8080/",
          "height": 204
        },
        "id": "A6sNIS-gvlqK",
        "outputId": "2acc1d55-0d06-4562-b862-1c536c54bf58"
      },
      "source": [
        "stocks = pd.read_csv(\"/content/sp_500_stocks.csv\")\r\n",
        "stocks.tail()"
      ],
      "execution_count": 2,
      "outputs": [
        {
          "output_type": "execute_result",
          "data": {
            "text/html": [
              "<div>\n",
              "<style scoped>\n",
              "    .dataframe tbody tr th:only-of-type {\n",
              "        vertical-align: middle;\n",
              "    }\n",
              "\n",
              "    .dataframe tbody tr th {\n",
              "        vertical-align: top;\n",
              "    }\n",
              "\n",
              "    .dataframe thead th {\n",
              "        text-align: right;\n",
              "    }\n",
              "</style>\n",
              "<table border=\"1\" class=\"dataframe\">\n",
              "  <thead>\n",
              "    <tr style=\"text-align: right;\">\n",
              "      <th></th>\n",
              "      <th>Ticker</th>\n",
              "    </tr>\n",
              "  </thead>\n",
              "  <tbody>\n",
              "    <tr>\n",
              "      <th>500</th>\n",
              "      <td>YUM</td>\n",
              "    </tr>\n",
              "    <tr>\n",
              "      <th>501</th>\n",
              "      <td>ZBH</td>\n",
              "    </tr>\n",
              "    <tr>\n",
              "      <th>502</th>\n",
              "      <td>ZBRA</td>\n",
              "    </tr>\n",
              "    <tr>\n",
              "      <th>503</th>\n",
              "      <td>ZION</td>\n",
              "    </tr>\n",
              "    <tr>\n",
              "      <th>504</th>\n",
              "      <td>ZTS</td>\n",
              "    </tr>\n",
              "  </tbody>\n",
              "</table>\n",
              "</div>"
            ],
            "text/plain": [
              "    Ticker\n",
              "500    YUM\n",
              "501    ZBH\n",
              "502   ZBRA\n",
              "503   ZION\n",
              "504    ZTS"
            ]
          },
          "metadata": {
            "tags": []
          },
          "execution_count": 2
        }
      ]
    },
    {
      "cell_type": "code",
      "metadata": {
        "id": "3YqDN_zrxvQ6"
      },
      "source": [
        "IEX_CLOUD_API_TOKEN = 'Tpk_059b97af715d417d9f49f50b51b1c448'\r\n",
        "\r\n"
      ],
      "execution_count": 3,
      "outputs": []
    },
    {
      "cell_type": "code",
      "metadata": {
        "colab": {
          "base_uri": "https://localhost:8080/"
        },
        "id": "DbOgk73Y4Oho",
        "outputId": "5fac3f70-05aa-468d-98c1-64201d300f77"
      },
      "source": [
        "symbol = \"AAPL\"\r\n",
        "api_url = f\"https://sandbox.iexapis.com/stable/stock/{symbol}/quote/?token={IEX_CLOUD_API_TOKEN}\"\r\n",
        "data = requests.get(api_url).json()\r\n",
        "print(data)"
      ],
      "execution_count": 4,
      "outputs": [
        {
          "output_type": "stream",
          "text": [
            "{'symbol': 'AAPL', 'companyName': 'Apple Inc', 'primaryExchange': 'SNAETQ(RMAAL/LE SKTD NCO)GESLAG B', 'calculationPrice': 'close', 'open': 138.14, 'openTime': 1660702090578, 'openSource': 'faifoilc', 'close': 140.2, 'closeTime': 1627503752189, 'closeSource': 'cfioialf', 'high': 143.48, 'highTime': 1682226780556, 'highSource': 'te5 mceildruy 1nde iape', 'low': 137.05, 'lowTime': 1629857063897, 'lowSource': ' ere5y dimp ecdentiau1l', 'latestPrice': 138.74, 'latestSource': 'Close', 'latestTime': 'January 21, 2021', 'latestUpdate': 1647888417486, 'latestVolume': 123332775, 'iexRealtimePrice': 138.45, 'iexRealtimeSize': 103, 'iexLastUpdated': 1691295575950, 'delayedPrice': 143.14, 'delayedPriceTime': 1641583469180, 'oddLotDelayedPrice': 137, 'oddLotDelayedPriceTime': 1680816576864, 'extendedPrice': 139.18, 'extendedChange': -0.49, 'extendedChangePercent': -0.00362, 'extendedPriceTime': 1675716698859, 'previousClose': 136.53, 'previousVolume': 107696549, 'change': 5.04, 'changePercent': 0.03726, 'volume': 124241542, 'iexMarketPercent': 0.01728193571587106, 'iexVolume': 2069308, 'avgTotalVolume': 104948752, 'iexBidPrice': 0, 'iexBidSize': 0, 'iexAskPrice': 0, 'iexAskSize': 0, 'iexOpen': 138.14, 'iexOpenTime': 1690710341511, 'iexClose': 143.51, 'iexCloseTime': 1637610550431, 'marketCap': 2338020268208, 'peRatio': 42.86, 'week52High': 145.3, 'week52Low': 55.97, 'ytdChange': 0.03274508065340873, 'lastTradeTime': 1643885342891, 'isUSMarketOpen': False}\n"
          ],
          "name": "stdout"
        }
      ]
    },
    {
      "cell_type": "code",
      "metadata": {
        "id": "TspDPwiE4mLN"
      },
      "source": [
        "price = data[\"latestPrice\"]\r\n",
        "market_cap = data[\"marketCap\"]"
      ],
      "execution_count": 5,
      "outputs": []
    },
    {
      "cell_type": "code",
      "metadata": {
        "colab": {
          "base_uri": "https://localhost:8080/",
          "height": 49
        },
        "id": "SFDrFZAk7vdh",
        "outputId": "965b3c8d-a6a6-4806-ccb1-d3f6e0a597d2"
      },
      "source": [
        "my_columns = ['Ticker','Stock Price', 'Market Capitalization', 'Number of Shares to Buy']\r\n",
        "final_dataframe = pd.DataFrame(columns = my_columns)\r\n",
        "final_dataframe.head()"
      ],
      "execution_count": 6,
      "outputs": [
        {
          "output_type": "execute_result",
          "data": {
            "text/html": [
              "<div>\n",
              "<style scoped>\n",
              "    .dataframe tbody tr th:only-of-type {\n",
              "        vertical-align: middle;\n",
              "    }\n",
              "\n",
              "    .dataframe tbody tr th {\n",
              "        vertical-align: top;\n",
              "    }\n",
              "\n",
              "    .dataframe thead th {\n",
              "        text-align: right;\n",
              "    }\n",
              "</style>\n",
              "<table border=\"1\" class=\"dataframe\">\n",
              "  <thead>\n",
              "    <tr style=\"text-align: right;\">\n",
              "      <th></th>\n",
              "      <th>Ticker</th>\n",
              "      <th>Stock Price</th>\n",
              "      <th>Market Capitalization</th>\n",
              "      <th>Number of Shares to Buy</th>\n",
              "    </tr>\n",
              "  </thead>\n",
              "  <tbody>\n",
              "  </tbody>\n",
              "</table>\n",
              "</div>"
            ],
            "text/plain": [
              "Empty DataFrame\n",
              "Columns: [Ticker, Stock Price, Market Capitalization, Number of Shares to Buy]\n",
              "Index: []"
            ]
          },
          "metadata": {
            "tags": []
          },
          "execution_count": 6
        }
      ]
    },
    {
      "cell_type": "code",
      "metadata": {
        "colab": {
          "base_uri": "https://localhost:8080/",
          "height": 80
        },
        "id": "6HFOZApQ-k2u",
        "outputId": "317005bd-781d-4878-fdf8-1a2994ba52bd"
      },
      "source": [
        "final_dataframe.append(\r\n",
        "    pd.Series(\r\n",
        "        [\r\n",
        "          symbol,\r\n",
        "         price,\r\n",
        "         market_cap,\r\n",
        "         'N/A'\r\n",
        "        ], index = my_columns\r\n",
        "    ), ignore_index = True\r\n",
        ")"
      ],
      "execution_count": 7,
      "outputs": [
        {
          "output_type": "execute_result",
          "data": {
            "text/html": [
              "<div>\n",
              "<style scoped>\n",
              "    .dataframe tbody tr th:only-of-type {\n",
              "        vertical-align: middle;\n",
              "    }\n",
              "\n",
              "    .dataframe tbody tr th {\n",
              "        vertical-align: top;\n",
              "    }\n",
              "\n",
              "    .dataframe thead th {\n",
              "        text-align: right;\n",
              "    }\n",
              "</style>\n",
              "<table border=\"1\" class=\"dataframe\">\n",
              "  <thead>\n",
              "    <tr style=\"text-align: right;\">\n",
              "      <th></th>\n",
              "      <th>Ticker</th>\n",
              "      <th>Stock Price</th>\n",
              "      <th>Market Capitalization</th>\n",
              "      <th>Number of Shares to Buy</th>\n",
              "    </tr>\n",
              "  </thead>\n",
              "  <tbody>\n",
              "    <tr>\n",
              "      <th>0</th>\n",
              "      <td>AAPL</td>\n",
              "      <td>138.74</td>\n",
              "      <td>2338020268208</td>\n",
              "      <td>N/A</td>\n",
              "    </tr>\n",
              "  </tbody>\n",
              "</table>\n",
              "</div>"
            ],
            "text/plain": [
              "  Ticker  Stock Price Market Capitalization Number of Shares to Buy\n",
              "0   AAPL       138.74         2338020268208                     N/A"
            ]
          },
          "metadata": {
            "tags": []
          },
          "execution_count": 7
        }
      ]
    },
    {
      "cell_type": "code",
      "metadata": {
        "id": "VInFIx7aAPKb"
      },
      "source": [
        "# Looping through the tickers in our list of stocks\r\n",
        "final_dataframe = pd.DataFrame(columns = my_columns)\r\n",
        "for stock in stocks['Ticker']:\r\n",
        "  api_url = f\"https://sandbox.iexapis.com/stable/stock/{stock}/quote/?token={IEX_CLOUD_API_TOKEN}\"\r\n",
        "  data  = requests.get(api_url).json()\r\n",
        "  final_dataframe  = final_dataframe.append(\r\n",
        "      pd.Series(\r\n",
        "          [\r\n",
        "           stock,\r\n",
        "           data[\"latestPrice\"],\r\n",
        "           data[\"marketCap\"],\r\n",
        "           'N/A'\r\n",
        "          ], index = my_columns\r\n",
        "    ), ignore_index = True\r\n",
        ")"
      ],
      "execution_count": 8,
      "outputs": []
    },
    {
      "cell_type": "code",
      "metadata": {
        "colab": {
          "base_uri": "https://localhost:8080/",
          "height": 195
        },
        "id": "xqU8vctOFdmx",
        "outputId": "a89d5289-be88-4278-fe6e-18afce35f99c"
      },
      "source": [
        "final_dataframe.tail()"
      ],
      "execution_count": 9,
      "outputs": [
        {
          "output_type": "execute_result",
          "data": {
            "text/html": [
              "<div>\n",
              "<style scoped>\n",
              "    .dataframe tbody tr th:only-of-type {\n",
              "        vertical-align: middle;\n",
              "    }\n",
              "\n",
              "    .dataframe tbody tr th {\n",
              "        vertical-align: top;\n",
              "    }\n",
              "\n",
              "    .dataframe thead th {\n",
              "        text-align: right;\n",
              "    }\n",
              "</style>\n",
              "<table border=\"1\" class=\"dataframe\">\n",
              "  <thead>\n",
              "    <tr style=\"text-align: right;\">\n",
              "      <th></th>\n",
              "      <th>Ticker</th>\n",
              "      <th>Stock Price</th>\n",
              "      <th>Market Capitalization</th>\n",
              "      <th>Number of Shares to Buy</th>\n",
              "    </tr>\n",
              "  </thead>\n",
              "  <tbody>\n",
              "    <tr>\n",
              "      <th>500</th>\n",
              "      <td>YUM</td>\n",
              "      <td>111.03</td>\n",
              "      <td>33945338608</td>\n",
              "      <td>N/A</td>\n",
              "    </tr>\n",
              "    <tr>\n",
              "      <th>501</th>\n",
              "      <td>ZBH</td>\n",
              "      <td>165.3</td>\n",
              "      <td>35358358062</td>\n",
              "      <td>N/A</td>\n",
              "    </tr>\n",
              "    <tr>\n",
              "      <th>502</th>\n",
              "      <td>ZBRA</td>\n",
              "      <td>415.9</td>\n",
              "      <td>22703155838</td>\n",
              "      <td>N/A</td>\n",
              "    </tr>\n",
              "    <tr>\n",
              "      <th>503</th>\n",
              "      <td>ZION</td>\n",
              "      <td>49.49</td>\n",
              "      <td>8012105227</td>\n",
              "      <td>N/A</td>\n",
              "    </tr>\n",
              "    <tr>\n",
              "      <th>504</th>\n",
              "      <td>ZTS</td>\n",
              "      <td>170.55</td>\n",
              "      <td>78417497604</td>\n",
              "      <td>N/A</td>\n",
              "    </tr>\n",
              "  </tbody>\n",
              "</table>\n",
              "</div>"
            ],
            "text/plain": [
              "    Ticker Stock Price Market Capitalization Number of Shares to Buy\n",
              "500    YUM      111.03           33945338608                     N/A\n",
              "501    ZBH       165.3           35358358062                     N/A\n",
              "502   ZBRA       415.9           22703155838                     N/A\n",
              "503   ZION       49.49            8012105227                     N/A\n",
              "504    ZTS      170.55           78417497604                     N/A"
            ]
          },
          "metadata": {
            "tags": []
          },
          "execution_count": 9
        }
      ]
    },
    {
      "cell_type": "code",
      "metadata": {
        "id": "2ADk6Yb8HwH6"
      },
      "source": [
        "def chunks(lst, n):\r\n",
        "  for i in range(0, len(lst), n):\r\n",
        "    yield lst[i:i + n]"
      ],
      "execution_count": 10,
      "outputs": []
    },
    {
      "cell_type": "code",
      "metadata": {
        "id": "Y2U4kVMVID8w"
      },
      "source": [
        "symbol_groups = list(chunks(stocks['Ticker'], 100))\r\n",
        "symbol_strings = []\r\n",
        "for i in range(0, len(symbol_groups)):\r\n",
        "  symbol_strings.append(','.join(symbol_groups[i]))\r\n",
        "  #print(symbol_strings[i])\r\n",
        "\r\n",
        "final_dataframe = pd.DataFrame(columns = my_columns)\r\n",
        "\r\n",
        "for string in symbol_strings:\r\n",
        "  batch_api_call_url = f'https://sandbox.iexapis.com/stable/stock/market/batch?symbols={string}&types=quote,quote&token={IEX_CLOUD_API_TOKEN}'\r\n",
        "  data = requests.get(batch_api_call_url).json()\r\n",
        "  for symbol in string.split(','):\r\n",
        "    final_dataframe = final_dataframe.append(\r\n",
        "        pd.Series(\r\n",
        "            [\r\n",
        "             symbol,\r\n",
        "             data[symbol]['quote']['latestPrice'],\r\n",
        "             data[symbol]['quote']['marketCap'],\r\n",
        "             'N/A'\r\n",
        "            ], index = my_columns\r\n",
        "        ), ignore_index = True\r\n",
        "    )"
      ],
      "execution_count": 11,
      "outputs": []
    },
    {
      "cell_type": "code",
      "metadata": {
        "colab": {
          "base_uri": "https://localhost:8080/",
          "height": 195
        },
        "id": "99ea91mTlwkT",
        "outputId": "720c4f24-1738-4ec1-88cd-4fb983df8d5a"
      },
      "source": [
        "final_dataframe.tail()"
      ],
      "execution_count": 12,
      "outputs": [
        {
          "output_type": "execute_result",
          "data": {
            "text/html": [
              "<div>\n",
              "<style scoped>\n",
              "    .dataframe tbody tr th:only-of-type {\n",
              "        vertical-align: middle;\n",
              "    }\n",
              "\n",
              "    .dataframe tbody tr th {\n",
              "        vertical-align: top;\n",
              "    }\n",
              "\n",
              "    .dataframe thead th {\n",
              "        text-align: right;\n",
              "    }\n",
              "</style>\n",
              "<table border=\"1\" class=\"dataframe\">\n",
              "  <thead>\n",
              "    <tr style=\"text-align: right;\">\n",
              "      <th></th>\n",
              "      <th>Ticker</th>\n",
              "      <th>Stock Price</th>\n",
              "      <th>Market Capitalization</th>\n",
              "      <th>Number of Shares to Buy</th>\n",
              "    </tr>\n",
              "  </thead>\n",
              "  <tbody>\n",
              "    <tr>\n",
              "      <th>500</th>\n",
              "      <td>YUM</td>\n",
              "      <td>109.99</td>\n",
              "      <td>32601298963</td>\n",
              "      <td>N/A</td>\n",
              "    </tr>\n",
              "    <tr>\n",
              "      <th>501</th>\n",
              "      <td>ZBH</td>\n",
              "      <td>169.16</td>\n",
              "      <td>33883517715</td>\n",
              "      <td>N/A</td>\n",
              "    </tr>\n",
              "    <tr>\n",
              "      <th>502</th>\n",
              "      <td>ZBRA</td>\n",
              "      <td>409.7</td>\n",
              "      <td>22665242081</td>\n",
              "      <td>N/A</td>\n",
              "    </tr>\n",
              "    <tr>\n",
              "      <th>503</th>\n",
              "      <td>ZION</td>\n",
              "      <td>47.98</td>\n",
              "      <td>8114160017</td>\n",
              "      <td>N/A</td>\n",
              "    </tr>\n",
              "    <tr>\n",
              "      <th>504</th>\n",
              "      <td>ZTS</td>\n",
              "      <td>169.93</td>\n",
              "      <td>79223601667</td>\n",
              "      <td>N/A</td>\n",
              "    </tr>\n",
              "  </tbody>\n",
              "</table>\n",
              "</div>"
            ],
            "text/plain": [
              "    Ticker Stock Price Market Capitalization Number of Shares to Buy\n",
              "500    YUM      109.99           32601298963                     N/A\n",
              "501    ZBH      169.16           33883517715                     N/A\n",
              "502   ZBRA       409.7           22665242081                     N/A\n",
              "503   ZION       47.98            8114160017                     N/A\n",
              "504    ZTS      169.93           79223601667                     N/A"
            ]
          },
          "metadata": {
            "tags": []
          },
          "execution_count": 12
        }
      ]
    },
    {
      "cell_type": "code",
      "metadata": {
        "id": "RNgNVaFPss4x",
        "colab": {
          "base_uri": "https://localhost:8080/"
        },
        "outputId": "8ce0ef21-82e4-4d7c-c59b-d00a1f7a28c1"
      },
      "source": [
        "portfolio_size = input('Enter the value of your portfolio')\r\n",
        "\r\n",
        "val = float(portfolio_size)"
      ],
      "execution_count": 18,
      "outputs": [
        {
          "output_type": "stream",
          "text": [
            "Enter the value of your portfolio1000000\n"
          ],
          "name": "stdout"
        }
      ]
    },
    {
      "cell_type": "code",
      "metadata": {
        "id": "hkc3YysxRrRR"
      },
      "source": [
        "position_size = val/len(final_dataframe.index)\r\n",
        "for i in range(0, len(final_dataframe.index)):\r\n",
        "  final_dataframe.loc[i, 'Number of Shares to Buy'] = math.floor(position_size/final_dataframe.loc[i, 'Stock Price'])"
      ],
      "execution_count": 26,
      "outputs": []
    },
    {
      "cell_type": "code",
      "metadata": {
        "colab": {
          "base_uri": "https://localhost:8080/",
          "height": 402
        },
        "id": "yBi79xoXT2Tz",
        "outputId": "63218e6c-c3f2-453d-f064-60e0686ddf1e"
      },
      "source": [
        "final_dataframe"
      ],
      "execution_count": 27,
      "outputs": [
        {
          "output_type": "execute_result",
          "data": {
            "text/html": [
              "<div>\n",
              "<style scoped>\n",
              "    .dataframe tbody tr th:only-of-type {\n",
              "        vertical-align: middle;\n",
              "    }\n",
              "\n",
              "    .dataframe tbody tr th {\n",
              "        vertical-align: top;\n",
              "    }\n",
              "\n",
              "    .dataframe thead th {\n",
              "        text-align: right;\n",
              "    }\n",
              "</style>\n",
              "<table border=\"1\" class=\"dataframe\">\n",
              "  <thead>\n",
              "    <tr style=\"text-align: right;\">\n",
              "      <th></th>\n",
              "      <th>Ticker</th>\n",
              "      <th>Stock Price</th>\n",
              "      <th>Market Capitalization</th>\n",
              "      <th>Number of Shares to Buy</th>\n",
              "    </tr>\n",
              "  </thead>\n",
              "  <tbody>\n",
              "    <tr>\n",
              "      <th>0</th>\n",
              "      <td>A</td>\n",
              "      <td>132</td>\n",
              "      <td>39989792764</td>\n",
              "      <td>15</td>\n",
              "    </tr>\n",
              "    <tr>\n",
              "      <th>1</th>\n",
              "      <td>AAL</td>\n",
              "      <td>16.28</td>\n",
              "      <td>9964525629</td>\n",
              "      <td>121</td>\n",
              "    </tr>\n",
              "    <tr>\n",
              "      <th>2</th>\n",
              "      <td>AAP</td>\n",
              "      <td>169.53</td>\n",
              "      <td>11720653302</td>\n",
              "      <td>11</td>\n",
              "    </tr>\n",
              "    <tr>\n",
              "      <th>3</th>\n",
              "      <td>AAPL</td>\n",
              "      <td>141.12</td>\n",
              "      <td>2320437205944</td>\n",
              "      <td>14</td>\n",
              "    </tr>\n",
              "    <tr>\n",
              "      <th>4</th>\n",
              "      <td>ABBV</td>\n",
              "      <td>115.14</td>\n",
              "      <td>203840315771</td>\n",
              "      <td>17</td>\n",
              "    </tr>\n",
              "    <tr>\n",
              "      <th>...</th>\n",
              "      <td>...</td>\n",
              "      <td>...</td>\n",
              "      <td>...</td>\n",
              "      <td>...</td>\n",
              "    </tr>\n",
              "    <tr>\n",
              "      <th>500</th>\n",
              "      <td>YUM</td>\n",
              "      <td>109.99</td>\n",
              "      <td>32601298963</td>\n",
              "      <td>18</td>\n",
              "    </tr>\n",
              "    <tr>\n",
              "      <th>501</th>\n",
              "      <td>ZBH</td>\n",
              "      <td>169.16</td>\n",
              "      <td>33883517715</td>\n",
              "      <td>11</td>\n",
              "    </tr>\n",
              "    <tr>\n",
              "      <th>502</th>\n",
              "      <td>ZBRA</td>\n",
              "      <td>409.7</td>\n",
              "      <td>22665242081</td>\n",
              "      <td>4</td>\n",
              "    </tr>\n",
              "    <tr>\n",
              "      <th>503</th>\n",
              "      <td>ZION</td>\n",
              "      <td>47.98</td>\n",
              "      <td>8114160017</td>\n",
              "      <td>41</td>\n",
              "    </tr>\n",
              "    <tr>\n",
              "      <th>504</th>\n",
              "      <td>ZTS</td>\n",
              "      <td>169.93</td>\n",
              "      <td>79223601667</td>\n",
              "      <td>11</td>\n",
              "    </tr>\n",
              "  </tbody>\n",
              "</table>\n",
              "<p>505 rows × 4 columns</p>\n",
              "</div>"
            ],
            "text/plain": [
              "    Ticker Stock Price Market Capitalization Number of Shares to Buy\n",
              "0        A         132           39989792764                      15\n",
              "1      AAL       16.28            9964525629                     121\n",
              "2      AAP      169.53           11720653302                      11\n",
              "3     AAPL      141.12         2320437205944                      14\n",
              "4     ABBV      115.14          203840315771                      17\n",
              "..     ...         ...                   ...                     ...\n",
              "500    YUM      109.99           32601298963                      18\n",
              "501    ZBH      169.16           33883517715                      11\n",
              "502   ZBRA       409.7           22665242081                       4\n",
              "503   ZION       47.98            8114160017                      41\n",
              "504    ZTS      169.93           79223601667                      11\n",
              "\n",
              "[505 rows x 4 columns]"
            ]
          },
          "metadata": {
            "tags": []
          },
          "execution_count": 27
        }
      ]
    },
    {
      "cell_type": "code",
      "metadata": {
        "id": "yoM6WZrpU119"
      },
      "source": [
        "# Formating an excel output\r\n",
        "writer = pd.ExcelWriter('recommended trades.xlsx', engine = 'xlsxwriter')\r\n",
        "final_dataframe.to_excel(writer, 'Recommended Trades', index = False)"
      ],
      "execution_count": 28,
      "outputs": []
    },
    {
      "cell_type": "code",
      "metadata": {
        "id": "8iuxN9UpXO9V"
      },
      "source": [
        "background_color = '#0a0a23'\r\n",
        "font_color = '#ffffff'\r\n",
        "\r\n",
        "string_format = writer.book.add_format(\r\n",
        "    {\r\n",
        "        'font_color': font_color,\r\n",
        "        'bg_color': background_color,\r\n",
        "        'border': 1\r\n",
        "    }\r\n",
        ")\r\n",
        "\r\n",
        "dollar_format = writer.book.add_format(\r\n",
        "    {   \r\n",
        "        'num_format': '$0.00',\r\n",
        "        'font_color': font_color,\r\n",
        "        'bg_color': background_color,\r\n",
        "        'border': 1\r\n",
        "    }\r\n",
        ")\r\n",
        "\r\n",
        "integer_format = writer.book.add_format(\r\n",
        "    {\r\n",
        "        'num_format': '0',\r\n",
        "        'font_color': font_color,\r\n",
        "        'bg_color': background_color,\r\n",
        "        'border': 1\r\n",
        "    }\r\n",
        ")"
      ],
      "execution_count": 29,
      "outputs": []
    },
    {
      "cell_type": "code",
      "metadata": {
        "id": "ei2VNrLeYcel"
      },
      "source": [
        "#writer.sheets['Recommended Trades'].set_column('A:A',18,string_format)\r\n",
        "#writer.sheets['Recommended Trades'].set_column('B:B',18,string_format)\r\n",
        "#writer.sheets['Recommended Trades'].set_column('C:C',18,string_format)\r\n",
        "#writer.sheets['Recommended Trades'].set_column('D:D',18,string_format)\r\n",
        "#writer.save()"
      ],
      "execution_count": 25,
      "outputs": []
    },
    {
      "cell_type": "code",
      "metadata": {
        "id": "UcIztYQnZPYC"
      },
      "source": [
        "column_formats = {\r\n",
        "    'A': ['Ticker', string_format],\r\n",
        "    'B': ['Stock Price', dollar_format],\r\n",
        "    'C': ['Market Capitalization', dollar_format],\r\n",
        "    'D': ['Number of Shares to Buy', integer_format],\r\n",
        "}\r\n",
        "for column in column_formats.keys():\r\n",
        "  writer.sheets['Recommended Trades'].set_column(f'{column}:{column}',18,column_formats[column][1])\r\n",
        "\r\n",
        "writer.save()"
      ],
      "execution_count": 30,
      "outputs": []
    }
  ]
}