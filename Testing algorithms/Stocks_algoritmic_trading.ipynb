{
  "nbformat": 4,
  "nbformat_minor": 0,
  "metadata": {
    "colab": {
      "name": "Stocks_algoritmic_trading.ipynb",
      "provenance": [],
      "collapsed_sections": []
    },
    "kernelspec": {
      "name": "python3",
      "display_name": "Python 3"
    }
  },
  "cells": [
    {
      "cell_type": "markdown",
      "metadata": {
        "id": "U1_o8s-RvEmU"
      },
      "source": [
        ""
      ]
    },
    {
      "cell_type": "code",
      "metadata": {
        "colab": {
          "base_uri": "https://localhost:8080/"
        },
        "id": "g7Gu-KwgMOI1",
        "outputId": "a46f7015-a1a0-4eb5-d163-83065508d70e"
      },
      "source": [
        "# libraries \r\n",
        "import numpy as np\r\n",
        "import pandas as pd\r\n",
        "import requests\r\n",
        "! pip install XlsxWriter\r\n",
        "import xlsxwriter\r\n",
        "import math\r\n"
      ],
      "execution_count": null,
      "outputs": [
        {
          "output_type": "stream",
          "text": [
            "Collecting XlsxWriter\n",
            "\u001b[?25l  Downloading https://files.pythonhosted.org/packages/6b/41/bf1aae04932d1eaffee1fc5f8b38ca47bbbf07d765129539bc4bcce1ce0c/XlsxWriter-1.3.7-py2.py3-none-any.whl (144kB)\n",
            "\r\u001b[K     |██▎                             | 10kB 16.6MB/s eta 0:00:01\r\u001b[K     |████▌                           | 20kB 17.9MB/s eta 0:00:01\r\u001b[K     |██████▉                         | 30kB 19.5MB/s eta 0:00:01\r\u001b[K     |█████████                       | 40kB 11.8MB/s eta 0:00:01\r\u001b[K     |███████████▎                    | 51kB 8.4MB/s eta 0:00:01\r\u001b[K     |█████████████▋                  | 61kB 8.9MB/s eta 0:00:01\r\u001b[K     |███████████████▉                | 71kB 7.9MB/s eta 0:00:01\r\u001b[K     |██████████████████▏             | 81kB 8.6MB/s eta 0:00:01\r\u001b[K     |████████████████████▍           | 92kB 8.9MB/s eta 0:00:01\r\u001b[K     |██████████████████████▋         | 102kB 9.1MB/s eta 0:00:01\r\u001b[K     |█████████████████████████       | 112kB 9.1MB/s eta 0:00:01\r\u001b[K     |███████████████████████████▏    | 122kB 9.1MB/s eta 0:00:01\r\u001b[K     |█████████████████████████████▌  | 133kB 9.1MB/s eta 0:00:01\r\u001b[K     |███████████████████████████████▊| 143kB 9.1MB/s eta 0:00:01\r\u001b[K     |████████████████████████████████| 153kB 9.1MB/s \n",
            "\u001b[?25hInstalling collected packages: XlsxWriter\n",
            "Successfully installed XlsxWriter-1.3.7\n"
          ],
          "name": "stdout"
        }
      ]
    },
    {
      "cell_type": "code",
      "metadata": {
        "colab": {
          "base_uri": "https://localhost:8080/",
          "height": 195
        },
        "id": "A6sNIS-gvlqK",
        "outputId": "3be9e635-bc11-43c2-fd13-7956fe628efa"
      },
      "source": [
        "stocks = pd.read_csv(\"/content/sp_500_stocks.csv\")\r\n",
        "stocks.tail()"
      ],
      "execution_count": null,
      "outputs": [
        {
          "output_type": "execute_result",
          "data": {
            "text/html": [
              "<div>\n",
              "<style scoped>\n",
              "    .dataframe tbody tr th:only-of-type {\n",
              "        vertical-align: middle;\n",
              "    }\n",
              "\n",
              "    .dataframe tbody tr th {\n",
              "        vertical-align: top;\n",
              "    }\n",
              "\n",
              "    .dataframe thead th {\n",
              "        text-align: right;\n",
              "    }\n",
              "</style>\n",
              "<table border=\"1\" class=\"dataframe\">\n",
              "  <thead>\n",
              "    <tr style=\"text-align: right;\">\n",
              "      <th></th>\n",
              "      <th>Ticker</th>\n",
              "    </tr>\n",
              "  </thead>\n",
              "  <tbody>\n",
              "    <tr>\n",
              "      <th>500</th>\n",
              "      <td>YUM</td>\n",
              "    </tr>\n",
              "    <tr>\n",
              "      <th>501</th>\n",
              "      <td>ZBH</td>\n",
              "    </tr>\n",
              "    <tr>\n",
              "      <th>502</th>\n",
              "      <td>ZBRA</td>\n",
              "    </tr>\n",
              "    <tr>\n",
              "      <th>503</th>\n",
              "      <td>ZION</td>\n",
              "    </tr>\n",
              "    <tr>\n",
              "      <th>504</th>\n",
              "      <td>ZTS</td>\n",
              "    </tr>\n",
              "  </tbody>\n",
              "</table>\n",
              "</div>"
            ],
            "text/plain": [
              "    Ticker\n",
              "500    YUM\n",
              "501    ZBH\n",
              "502   ZBRA\n",
              "503   ZION\n",
              "504    ZTS"
            ]
          },
          "metadata": {
            "tags": []
          },
          "execution_count": 13
        }
      ]
    },
    {
      "cell_type": "code",
      "metadata": {
        "id": "3YqDN_zrxvQ6"
      },
      "source": [
        "IEX_CLOUD_API_TOKEN = 'Tpk_059b97af715d417d9f49f50b51b1c448'\r\n",
        "\r\n"
      ],
      "execution_count": null,
      "outputs": []
    },
    {
      "cell_type": "code",
      "metadata": {
        "colab": {
          "base_uri": "https://localhost:8080/"
        },
        "id": "DbOgk73Y4Oho",
        "outputId": "f1374ec5-32c4-411d-bc37-3de8f0f8e313"
      },
      "source": [
        "symbol = \"AAPL\"\r\n",
        "api_url = f\"https://sandbox.iexapis.com/stable/stock/{symbol}/quote/?token={IEX_CLOUD_API_TOKEN}\"\r\n",
        "data = requests.get(api_url).json()\r\n",
        "print(data)"
      ],
      "execution_count": null,
      "outputs": [
        {
          "output_type": "stream",
          "text": [
            "{'symbol': 'AAPL', 'companyName': 'Apple Inc', 'primaryExchange': 'SQNMA)ET  AEAL T/CLDLNEGSB(AOKGRS', 'calculationPrice': 'iexlasttrade', 'open': None, 'openTime': None, 'openSource': 'ifiolcaf', 'close': None, 'closeTime': None, 'closeSource': 'liofafic', 'high': None, 'highTime': None, 'highSource': None, 'low': None, 'lowTime': None, 'lowSource': None, 'latestPrice': 129.88, 'latestSource': 'IEX Last Trade', 'latestTime': 'January 19, 2021', 'latestUpdate': 1672905832734, 'latestVolume': None, 'iexRealtimePrice': 127.82, 'iexRealtimeSize': 3, 'iexLastUpdated': 1675772382098, 'delayedPrice': None, 'delayedPriceTime': None, 'oddLotDelayedPrice': None, 'oddLotDelayedPriceTime': None, 'extendedPrice': None, 'extendedChange': None, 'extendedChangePercent': None, 'extendedPriceTime': None, 'previousClose': 130.61, 'previousVolume': 112873823, 'change': 0.67, 'changePercent': 0.00521, 'volume': None, 'iexMarketPercent': 0.01172735463119475, 'iexVolume': 1056696, 'avgTotalVolume': 110718585, 'iexBidPrice': 0, 'iexBidSize': 0, 'iexAskPrice': 0, 'iexAskSize': 0, 'iexOpen': 132.51, 'iexOpenTime': 1624150503297, 'iexClose': 131.28, 'iexCloseTime': 1689083652159, 'marketCap': 2244761960302, 'peRatio': 40.07, 'week52High': 140.04, 'week52Low': 57.23, 'ytdChange': -0.03821299975544181, 'lastTradeTime': 1636987064769, 'isUSMarketOpen': False}\n"
          ],
          "name": "stdout"
        }
      ]
    },
    {
      "cell_type": "code",
      "metadata": {
        "id": "TspDPwiE4mLN"
      },
      "source": [
        "price = data[\"latestPrice\"]\r\n",
        "market_cap = data[\"marketCap\"]"
      ],
      "execution_count": null,
      "outputs": []
    },
    {
      "cell_type": "code",
      "metadata": {
        "colab": {
          "base_uri": "https://localhost:8080/",
          "height": 47
        },
        "id": "SFDrFZAk7vdh",
        "outputId": "9a60e464-e491-42b0-c954-da1d6bbabe97"
      },
      "source": [
        "my_columns = ['Ticker','Stock Price', 'Market Capitalization', 'Number of Shares to Buy']\r\n",
        "final_dataframe = pd.DataFrame(columns = my_columns)\r\n",
        "final_dataframe.head()"
      ],
      "execution_count": null,
      "outputs": [
        {
          "output_type": "execute_result",
          "data": {
            "text/html": [
              "<div>\n",
              "<style scoped>\n",
              "    .dataframe tbody tr th:only-of-type {\n",
              "        vertical-align: middle;\n",
              "    }\n",
              "\n",
              "    .dataframe tbody tr th {\n",
              "        vertical-align: top;\n",
              "    }\n",
              "\n",
              "    .dataframe thead th {\n",
              "        text-align: right;\n",
              "    }\n",
              "</style>\n",
              "<table border=\"1\" class=\"dataframe\">\n",
              "  <thead>\n",
              "    <tr style=\"text-align: right;\">\n",
              "      <th></th>\n",
              "      <th>Ticker</th>\n",
              "      <th>Stock Price</th>\n",
              "      <th>Market Capitalization</th>\n",
              "      <th>Number of Shares to Buy</th>\n",
              "    </tr>\n",
              "  </thead>\n",
              "  <tbody>\n",
              "  </tbody>\n",
              "</table>\n",
              "</div>"
            ],
            "text/plain": [
              "Empty DataFrame\n",
              "Columns: [Ticker, Stock Price, Market Capitalization, Number of Shares to Buy]\n",
              "Index: []"
            ]
          },
          "metadata": {
            "tags": []
          },
          "execution_count": 17
        }
      ]
    },
    {
      "cell_type": "code",
      "metadata": {
        "colab": {
          "base_uri": "https://localhost:8080/",
          "height": 77
        },
        "id": "6HFOZApQ-k2u",
        "outputId": "e2b66481-49d8-4fe0-cab5-e786091b744e"
      },
      "source": [
        "final_dataframe.append(\r\n",
        "    pd.Series(\r\n",
        "        [\r\n",
        "          symbol,\r\n",
        "         price,\r\n",
        "         market_cap,\r\n",
        "         'N/A'\r\n",
        "        ], index = my_columns\r\n",
        "    ), ignore_index = True\r\n",
        ")"
      ],
      "execution_count": null,
      "outputs": [
        {
          "output_type": "execute_result",
          "data": {
            "text/html": [
              "<div>\n",
              "<style scoped>\n",
              "    .dataframe tbody tr th:only-of-type {\n",
              "        vertical-align: middle;\n",
              "    }\n",
              "\n",
              "    .dataframe tbody tr th {\n",
              "        vertical-align: top;\n",
              "    }\n",
              "\n",
              "    .dataframe thead th {\n",
              "        text-align: right;\n",
              "    }\n",
              "</style>\n",
              "<table border=\"1\" class=\"dataframe\">\n",
              "  <thead>\n",
              "    <tr style=\"text-align: right;\">\n",
              "      <th></th>\n",
              "      <th>Ticker</th>\n",
              "      <th>Stock Price</th>\n",
              "      <th>Market Capitalization</th>\n",
              "      <th>Number of Shares to Buy</th>\n",
              "    </tr>\n",
              "  </thead>\n",
              "  <tbody>\n",
              "    <tr>\n",
              "      <th>0</th>\n",
              "      <td>AAPL</td>\n",
              "      <td>129.88</td>\n",
              "      <td>2244761960302</td>\n",
              "      <td>N/A</td>\n",
              "    </tr>\n",
              "  </tbody>\n",
              "</table>\n",
              "</div>"
            ],
            "text/plain": [
              "  Ticker  Stock Price Market Capitalization Number of Shares to Buy\n",
              "0   AAPL       129.88         2244761960302                     N/A"
            ]
          },
          "metadata": {
            "tags": []
          },
          "execution_count": 18
        }
      ]
    },
    {
      "cell_type": "code",
      "metadata": {
        "id": "VInFIx7aAPKb"
      },
      "source": [
        "# Looping through the tickers in our list of stocks\r\n",
        "final_dataframe = pd.DataFrame(columns = my_columns)\r\n",
        "for stock in stocks['Ticker']:\r\n",
        "  api_url = f\"https://sandbox.iexapis.com/stable/stock/{stock}/quote/?token={IEX_CLOUD_API_TOKEN}\"\r\n",
        "  data  = requests.get(api_url).json()\r\n",
        "  final_dataframe  = final_dataframe.append(\r\n",
        "      pd.Series(\r\n",
        "          [\r\n",
        "           stock,\r\n",
        "           data[\"latestPrice\"],\r\n",
        "           data[\"marketCap\"],\r\n",
        "           'N/A'\r\n",
        "          ], index = my_columns\r\n",
        "    ), ignore_index = True\r\n",
        ")"
      ],
      "execution_count": null,
      "outputs": []
    },
    {
      "cell_type": "code",
      "metadata": {
        "colab": {
          "base_uri": "https://localhost:8080/",
          "height": 195
        },
        "id": "xqU8vctOFdmx",
        "outputId": "fed34e9b-7055-44f3-9524-16607afeaabb"
      },
      "source": [
        "final_dataframe.tail()"
      ],
      "execution_count": null,
      "outputs": [
        {
          "output_type": "execute_result",
          "data": {
            "text/html": [
              "<div>\n",
              "<style scoped>\n",
              "    .dataframe tbody tr th:only-of-type {\n",
              "        vertical-align: middle;\n",
              "    }\n",
              "\n",
              "    .dataframe tbody tr th {\n",
              "        vertical-align: top;\n",
              "    }\n",
              "\n",
              "    .dataframe thead th {\n",
              "        text-align: right;\n",
              "    }\n",
              "</style>\n",
              "<table border=\"1\" class=\"dataframe\">\n",
              "  <thead>\n",
              "    <tr style=\"text-align: right;\">\n",
              "      <th></th>\n",
              "      <th>Ticker</th>\n",
              "      <th>Stock Price</th>\n",
              "      <th>Market Capitalization</th>\n",
              "      <th>Number of Shares to Buy</th>\n",
              "    </tr>\n",
              "  </thead>\n",
              "  <tbody>\n",
              "    <tr>\n",
              "      <th>500</th>\n",
              "      <td>YUM</td>\n",
              "      <td>109.24</td>\n",
              "      <td>33717247904</td>\n",
              "      <td>N/A</td>\n",
              "    </tr>\n",
              "    <tr>\n",
              "      <th>501</th>\n",
              "      <td>ZBH</td>\n",
              "      <td>165.89</td>\n",
              "      <td>33853697058</td>\n",
              "      <td>N/A</td>\n",
              "    </tr>\n",
              "    <tr>\n",
              "      <th>502</th>\n",
              "      <td>ZBRA</td>\n",
              "      <td>411.33</td>\n",
              "      <td>22229414059</td>\n",
              "      <td>N/A</td>\n",
              "    </tr>\n",
              "    <tr>\n",
              "      <th>503</th>\n",
              "      <td>ZION</td>\n",
              "      <td>51.52</td>\n",
              "      <td>8390029231</td>\n",
              "      <td>N/A</td>\n",
              "    </tr>\n",
              "    <tr>\n",
              "      <th>504</th>\n",
              "      <td>ZTS</td>\n",
              "      <td>169.40</td>\n",
              "      <td>77502784583</td>\n",
              "      <td>N/A</td>\n",
              "    </tr>\n",
              "  </tbody>\n",
              "</table>\n",
              "</div>"
            ],
            "text/plain": [
              "    Ticker  Stock Price Market Capitalization Number of Shares to Buy\n",
              "500    YUM       109.24           33717247904                     N/A\n",
              "501    ZBH       165.89           33853697058                     N/A\n",
              "502   ZBRA       411.33           22229414059                     N/A\n",
              "503   ZION        51.52            8390029231                     N/A\n",
              "504    ZTS       169.40           77502784583                     N/A"
            ]
          },
          "metadata": {
            "tags": []
          },
          "execution_count": 9
        }
      ]
    },
    {
      "cell_type": "code",
      "metadata": {
        "id": "2ADk6Yb8HwH6"
      },
      "source": [
        "def chunks(lst, n):\r\n",
        "  for i in range(0, len(lst), n):\r\n",
        "    yield lst[i:i + n]"
      ],
      "execution_count": null,
      "outputs": []
    },
    {
      "cell_type": "code",
      "metadata": {
        "id": "Y2U4kVMVID8w"
      },
      "source": [
        "symbol_groups = list(chunks(stocks['Ticker'], 100))\r\n",
        "symbol_strings = []\r\n",
        "for i in range(0, len(symbol_groups)):\r\n",
        "  symbol_strings.append(','.join(symbol_groups[i]))\r\n",
        "  #print(symbol_strings[i])\r\n",
        "\r\n",
        "final_dataframe = pd.DataFrame(columns = my_columns)\r\n",
        "\r\n",
        "for string in symbol_strings:\r\n",
        "  batch_api_call_url = f'https://sandbox.iexapis.com/stable/stock/market/batch?symbols={string}&types=quote,quote&token={IEX_CLOUD_API_TOKEN}'\r\n",
        "  data = requests.get(batch_api_call_url).json()\r\n",
        "  for symbol in string.split(','):\r\n",
        "    final_dataframe = final_dataframe.append(\r\n",
        "        pd.Series(\r\n",
        "            [\r\n",
        "             symbol,\r\n",
        "             data[symbol]['quote']['latestPrice'],\r\n",
        "             data[symbol]['quote']['marketCap'],\r\n",
        "             'N/A'\r\n",
        "            ], index = my_columns\r\n",
        "        ), ignore_index = True\r\n",
        "    )"
      ],
      "execution_count": null,
      "outputs": []
    },
    {
      "cell_type": "code",
      "metadata": {
        "colab": {
          "base_uri": "https://localhost:8080/",
          "height": 195
        },
        "id": "99ea91mTlwkT",
        "outputId": "bdf44d27-b229-4e6e-c358-702277b43cef"
      },
      "source": [
        "final_dataframe.tail()"
      ],
      "execution_count": null,
      "outputs": [
        {
          "output_type": "execute_result",
          "data": {
            "text/html": [
              "<div>\n",
              "<style scoped>\n",
              "    .dataframe tbody tr th:only-of-type {\n",
              "        vertical-align: middle;\n",
              "    }\n",
              "\n",
              "    .dataframe tbody tr th {\n",
              "        vertical-align: top;\n",
              "    }\n",
              "\n",
              "    .dataframe thead th {\n",
              "        text-align: right;\n",
              "    }\n",
              "</style>\n",
              "<table border=\"1\" class=\"dataframe\">\n",
              "  <thead>\n",
              "    <tr style=\"text-align: right;\">\n",
              "      <th></th>\n",
              "      <th>Ticker</th>\n",
              "      <th>Stock Price</th>\n",
              "      <th>Market Capitalization</th>\n",
              "      <th>Number of Shares to Buy</th>\n",
              "    </tr>\n",
              "  </thead>\n",
              "  <tbody>\n",
              "    <tr>\n",
              "      <th>500</th>\n",
              "      <td>YUM</td>\n",
              "      <td>110.06</td>\n",
              "      <td>33740465848</td>\n",
              "      <td>N/A</td>\n",
              "    </tr>\n",
              "    <tr>\n",
              "      <th>501</th>\n",
              "      <td>ZBH</td>\n",
              "      <td>163.82</td>\n",
              "      <td>34287495681</td>\n",
              "      <td>N/A</td>\n",
              "    </tr>\n",
              "    <tr>\n",
              "      <th>502</th>\n",
              "      <td>ZBRA</td>\n",
              "      <td>413.28</td>\n",
              "      <td>22563798336</td>\n",
              "      <td>N/A</td>\n",
              "    </tr>\n",
              "    <tr>\n",
              "      <th>503</th>\n",
              "      <td>ZION</td>\n",
              "      <td>49.57</td>\n",
              "      <td>8364248064</td>\n",
              "      <td>N/A</td>\n",
              "    </tr>\n",
              "    <tr>\n",
              "      <th>504</th>\n",
              "      <td>ZTS</td>\n",
              "      <td>169.26</td>\n",
              "      <td>80641857164</td>\n",
              "      <td>N/A</td>\n",
              "    </tr>\n",
              "  </tbody>\n",
              "</table>\n",
              "</div>"
            ],
            "text/plain": [
              "    Ticker  Stock Price Market Capitalization Number of Shares to Buy\n",
              "500    YUM       110.06           33740465848                     N/A\n",
              "501    ZBH       163.82           34287495681                     N/A\n",
              "502   ZBRA       413.28           22563798336                     N/A\n",
              "503   ZION        49.57            8364248064                     N/A\n",
              "504    ZTS       169.26           80641857164                     N/A"
            ]
          },
          "metadata": {
            "tags": []
          },
          "execution_count": 23
        }
      ]
    },
    {
      "cell_type": "code",
      "metadata": {
        "id": "RNgNVaFPss4x"
      },
      "source": [
        "portfolio_size = input('Enter the value of your portfolio')\r\n",
        "\r\n",
        "try: "
      ],
      "execution_count": null,
      "outputs": []
    }
  ]
}