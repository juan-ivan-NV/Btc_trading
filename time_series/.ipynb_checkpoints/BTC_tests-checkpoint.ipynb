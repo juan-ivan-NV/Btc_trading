{
 "cells": [
  {
   "cell_type": "markdown",
   "metadata": {
    "colab_type": "text",
    "id": "AXMYIrQYuBcV"
   },
   "source": [
    "## Based on the Kaggle notebook: https://www.kaggle.com/someadityamandal/bitcoin-time-series-forecasting"
   ]
  },
  {
   "cell_type": "markdown",
   "metadata": {
    "colab_type": "text",
    "id": "e4M6Vxz9Rvcn"
   },
   "source": [
    "## Some lybraries"
   ]
  },
  {
   "cell_type": "code",
   "execution_count": 1,
   "metadata": {
    "colab": {},
    "colab_type": "code",
    "id": "n1ryIC2PGtlJ"
   },
   "outputs": [],
   "source": [
    "import pandas as pd\n",
    "import numpy as np\n",
    "import datetime\n",
    "import csv\n"
   ]
  },
  {
   "cell_type": "code",
   "execution_count": 3,
   "metadata": {
    "colab": {
     "base_uri": "https://localhost:8080/",
     "height": 177
    },
    "colab_type": "code",
    "id": "sHKWx1dpHHZt",
    "outputId": "d6ef0877-3a62-43f5-f647-0349c2e23d74"
   },
   "outputs": [
    {
     "name": "stdout",
     "output_type": "stream",
     "text": [
      "Collecting chart_studio\n",
      "  Using cached https://files.pythonhosted.org/packages/ca/ce/330794a6b6ca4b9182c38fc69dd2a9cbff60fd49421cb8648ee5fee352dc/chart_studio-1.1.0-py3-none-any.whl\n",
      "Requirement already satisfied: six in c:\\users\\ivan\\anaconda3\\lib\\site-packages (from chart_studio) (1.12.0)\n",
      "Requirement already satisfied: plotly in c:\\users\\ivan\\anaconda3\\lib\\site-packages (from chart_studio) (4.6.0)\n",
      "Requirement already satisfied: retrying>=1.3.3 in c:\\users\\ivan\\anaconda3\\lib\\site-packages (from chart_studio) (1.3.3)\n",
      "Requirement already satisfied: requests in c:\\users\\ivan\\anaconda3\\lib\\site-packages (from chart_studio) (2.22.0)\n",
      "Requirement already satisfied: chardet<3.1.0,>=3.0.2 in c:\\users\\ivan\\anaconda3\\lib\\site-packages (from requests->chart_studio) (3.0.4)\n",
      "Requirement already satisfied: idna<2.9,>=2.5 in c:\\users\\ivan\\anaconda3\\lib\\site-packages (from requests->chart_studio) (2.8)\n",
      "Requirement already satisfied: certifi>=2017.4.17 in c:\\users\\ivan\\anaconda3\\lib\\site-packages (from requests->chart_studio) (2019.9.11)\n",
      "Requirement already satisfied: urllib3!=1.25.0,!=1.25.1,<1.26,>=1.21.1 in c:\\users\\ivan\\anaconda3\\lib\\site-packages (from requests->chart_studio) (1.24.2)\n",
      "Installing collected packages: chart-studio\n",
      "Successfully installed chart-studio-1.1.0\n"
     ]
    }
   ],
   "source": [
    "!pip install chart_studio"
   ]
  },
  {
   "cell_type": "code",
   "execution_count": 4,
   "metadata": {
    "colab": {
     "base_uri": "https://localhost:8080/",
     "height": 17
    },
    "colab_type": "code",
    "id": "ZuepHJHfG1__",
    "outputId": "70847d37-9466-47c3-c936-9ab4aecb7777"
   },
   "outputs": [
    {
     "data": {
      "text/html": [
       "        <script type=\"text/javascript\">\n",
       "        window.PlotlyConfig = {MathJaxConfig: 'local'};\n",
       "        if (window.MathJax) {MathJax.Hub.Config({SVG: {font: \"STIX-Web\"}});}\n",
       "        if (typeof require !== 'undefined') {\n",
       "        require.undef(\"plotly\");\n",
       "        requirejs.config({\n",
       "            paths: {\n",
       "                'plotly': ['https://cdn.plot.ly/plotly-latest.min']\n",
       "            }\n",
       "        });\n",
       "        require(['plotly'], function(Plotly) {\n",
       "            window._Plotly = Plotly;\n",
       "        });\n",
       "        }\n",
       "        </script>\n",
       "        "
      ]
     },
     "metadata": {},
     "output_type": "display_data"
    }
   ],
   "source": [
    "import matplotlib.pyplot as plt\n",
    "\n",
    "from plotly import tools\n",
    "import chart_studio.plotly as py\n",
    "from plotly.offline import init_notebook_mode, iplot\n",
    "init_notebook_mode(connected=True)\n",
    "import plotly.graph_objs as go\n",
    "import gc\n",
    "\n",
    "import matplotlib.pyplot as plt\n",
    "import seaborn as sns\n"
   ]
  },
  {
   "cell_type": "markdown",
   "metadata": {
    "colab_type": "text",
    "id": "V3yfYgWIR4Gk"
   },
   "source": [
    "## Importing data"
   ]
  },
  {
   "cell_type": "code",
   "execution_count": 12,
   "metadata": {
    "colab": {
     "base_uri": "https://localhost:8080/",
     "height": 194
    },
    "colab_type": "code",
    "id": "Hxa_3_0_G2Cn",
    "outputId": "3f78b086-927e-4aba-fbe1-07f4be36d784"
   },
   "outputs": [
    {
     "data": {
      "text/html": [
       "<div>\n",
       "<style scoped>\n",
       "    .dataframe tbody tr th:only-of-type {\n",
       "        vertical-align: middle;\n",
       "    }\n",
       "\n",
       "    .dataframe tbody tr th {\n",
       "        vertical-align: top;\n",
       "    }\n",
       "\n",
       "    .dataframe thead th {\n",
       "        text-align: right;\n",
       "    }\n",
       "</style>\n",
       "<table border=\"1\" class=\"dataframe\">\n",
       "  <thead>\n",
       "    <tr style=\"text-align: right;\">\n",
       "      <th></th>\n",
       "      <th>Date</th>\n",
       "      <th>Open</th>\n",
       "      <th>High</th>\n",
       "      <th>Low</th>\n",
       "      <th>Close</th>\n",
       "      <th>Volume</th>\n",
       "      <th>Market Cap</th>\n",
       "    </tr>\n",
       "  </thead>\n",
       "  <tbody>\n",
       "    <tr>\n",
       "      <td>0</td>\n",
       "      <td>Jul 08, 2020</td>\n",
       "      <td>9,253.02</td>\n",
       "      <td>9,450.34</td>\n",
       "      <td>9,249.50</td>\n",
       "      <td>9,428.33</td>\n",
       "      <td>19,702,359,883</td>\n",
       "      <td>173,738,543,115</td>\n",
       "    </tr>\n",
       "    <tr>\n",
       "      <td>1</td>\n",
       "      <td>Jul 07, 2020</td>\n",
       "      <td>9,349.16</td>\n",
       "      <td>9,360.62</td>\n",
       "      <td>9,201.82</td>\n",
       "      <td>9,252.28</td>\n",
       "      <td>13,839,652,595</td>\n",
       "      <td>170,485,472,276</td>\n",
       "    </tr>\n",
       "    <tr>\n",
       "      <td>2</td>\n",
       "      <td>Jul 06, 2020</td>\n",
       "      <td>9,072.85</td>\n",
       "      <td>9,375.47</td>\n",
       "      <td>9,058.66</td>\n",
       "      <td>9,375.47</td>\n",
       "      <td>17,889,263,252</td>\n",
       "      <td>172,746,103,840</td>\n",
       "    </tr>\n",
       "    <tr>\n",
       "      <td>3</td>\n",
       "      <td>Jul 05, 2020</td>\n",
       "      <td>9,126.09</td>\n",
       "      <td>9,162.18</td>\n",
       "      <td>8,977.02</td>\n",
       "      <td>9,073.94</td>\n",
       "      <td>12,903,406,143</td>\n",
       "      <td>167,181,726,154</td>\n",
       "    </tr>\n",
       "    <tr>\n",
       "      <td>4</td>\n",
       "      <td>Jul 04, 2020</td>\n",
       "      <td>9,084.23</td>\n",
       "      <td>9,183.30</td>\n",
       "      <td>9,053.63</td>\n",
       "      <td>9,132.49</td>\n",
       "      <td>12,290,528,515</td>\n",
       "      <td>168,251,076,678</td>\n",
       "    </tr>\n",
       "  </tbody>\n",
       "</table>\n",
       "</div>"
      ],
      "text/plain": [
       "           Date      Open      High       Low     Close          Volume  \\\n",
       "0  Jul 08, 2020  9,253.02  9,450.34  9,249.50  9,428.33  19,702,359,883   \n",
       "1  Jul 07, 2020  9,349.16  9,360.62  9,201.82  9,252.28  13,839,652,595   \n",
       "2  Jul 06, 2020  9,072.85  9,375.47  9,058.66  9,375.47  17,889,263,252   \n",
       "3  Jul 05, 2020  9,126.09  9,162.18  8,977.02  9,073.94  12,903,406,143   \n",
       "4  Jul 04, 2020  9,084.23  9,183.30  9,053.63  9,132.49  12,290,528,515   \n",
       "\n",
       "        Market Cap  \n",
       "0  173,738,543,115  \n",
       "1  170,485,472,276  \n",
       "2  172,746,103,840  \n",
       "3  167,181,726,154  \n",
       "4  168,251,076,678  "
      ]
     },
     "execution_count": 12,
     "metadata": {},
     "output_type": "execute_result"
    }
   ],
   "source": [
    "data = pd.read_csv('../data_extraction/full_data_btc_08072020.csv')\n",
    "data.head()"
   ]
  },
  {
   "cell_type": "code",
   "execution_count": 13,
   "metadata": {
    "colab": {
     "base_uri": "https://localhost:8080/",
     "height": 159
    },
    "colab_type": "code",
    "id": "O3BH3MwzG2FP",
    "outputId": "5884ae53-66c8-4053-e259-019275aa852a"
   },
   "outputs": [
    {
     "data": {
      "text/plain": [
       "Date          object\n",
       "Open          object\n",
       "High          object\n",
       "Low           object\n",
       "Close         object\n",
       "Volume        object\n",
       "Market Cap    object\n",
       "dtype: object"
      ]
     },
     "execution_count": 13,
     "metadata": {},
     "output_type": "execute_result"
    }
   ],
   "source": [
    "data.dtypes"
   ]
  },
  {
   "cell_type": "markdown",
   "metadata": {
    "colab_type": "text",
    "id": "nbJkg1mhSB9p"
   },
   "source": [
    "## Function to change object to numerical data"
   ]
  },
  {
   "cell_type": "code",
   "execution_count": 14,
   "metadata": {
    "colab": {},
    "colab_type": "code",
    "id": "vEvo1TJAOrIQ"
   },
   "outputs": [],
   "source": [
    "def obj_to_num(df,cols):\n",
    "    def obj_to_num(row):\n",
    "        row = row.replace(',','')\n",
    "        return float(row)\n",
    "\n",
    "    for col in cols: \n",
    "        df[col] = df[col].apply(obj_to_num) \n",
    "    return df"
   ]
  },
  {
   "cell_type": "code",
   "execution_count": 15,
   "metadata": {
    "colab": {
     "base_uri": "https://localhost:8080/",
     "height": 194
    },
    "colab_type": "code",
    "id": "9AIuPlKePyZH",
    "outputId": "e0bdcbad-86d6-41a7-9d91-a454c78202ab"
   },
   "outputs": [
    {
     "data": {
      "text/html": [
       "<div>\n",
       "<style scoped>\n",
       "    .dataframe tbody tr th:only-of-type {\n",
       "        vertical-align: middle;\n",
       "    }\n",
       "\n",
       "    .dataframe tbody tr th {\n",
       "        vertical-align: top;\n",
       "    }\n",
       "\n",
       "    .dataframe thead th {\n",
       "        text-align: right;\n",
       "    }\n",
       "</style>\n",
       "<table border=\"1\" class=\"dataframe\">\n",
       "  <thead>\n",
       "    <tr style=\"text-align: right;\">\n",
       "      <th></th>\n",
       "      <th>Date</th>\n",
       "      <th>Open</th>\n",
       "      <th>High</th>\n",
       "      <th>Low</th>\n",
       "      <th>Close</th>\n",
       "      <th>Volume</th>\n",
       "      <th>Market Cap</th>\n",
       "    </tr>\n",
       "  </thead>\n",
       "  <tbody>\n",
       "    <tr>\n",
       "      <td>0</td>\n",
       "      <td>Jul 08, 2020</td>\n",
       "      <td>9253.02</td>\n",
       "      <td>9450.34</td>\n",
       "      <td>9249.50</td>\n",
       "      <td>9428.33</td>\n",
       "      <td>1.970236e+10</td>\n",
       "      <td>1.737385e+11</td>\n",
       "    </tr>\n",
       "    <tr>\n",
       "      <td>1</td>\n",
       "      <td>Jul 07, 2020</td>\n",
       "      <td>9349.16</td>\n",
       "      <td>9360.62</td>\n",
       "      <td>9201.82</td>\n",
       "      <td>9252.28</td>\n",
       "      <td>1.383965e+10</td>\n",
       "      <td>1.704855e+11</td>\n",
       "    </tr>\n",
       "    <tr>\n",
       "      <td>2</td>\n",
       "      <td>Jul 06, 2020</td>\n",
       "      <td>9072.85</td>\n",
       "      <td>9375.47</td>\n",
       "      <td>9058.66</td>\n",
       "      <td>9375.47</td>\n",
       "      <td>1.788926e+10</td>\n",
       "      <td>1.727461e+11</td>\n",
       "    </tr>\n",
       "    <tr>\n",
       "      <td>3</td>\n",
       "      <td>Jul 05, 2020</td>\n",
       "      <td>9126.09</td>\n",
       "      <td>9162.18</td>\n",
       "      <td>8977.02</td>\n",
       "      <td>9073.94</td>\n",
       "      <td>1.290341e+10</td>\n",
       "      <td>1.671817e+11</td>\n",
       "    </tr>\n",
       "    <tr>\n",
       "      <td>4</td>\n",
       "      <td>Jul 04, 2020</td>\n",
       "      <td>9084.23</td>\n",
       "      <td>9183.30</td>\n",
       "      <td>9053.63</td>\n",
       "      <td>9132.49</td>\n",
       "      <td>1.229053e+10</td>\n",
       "      <td>1.682511e+11</td>\n",
       "    </tr>\n",
       "  </tbody>\n",
       "</table>\n",
       "</div>"
      ],
      "text/plain": [
       "           Date     Open     High      Low    Close        Volume  \\\n",
       "0  Jul 08, 2020  9253.02  9450.34  9249.50  9428.33  1.970236e+10   \n",
       "1  Jul 07, 2020  9349.16  9360.62  9201.82  9252.28  1.383965e+10   \n",
       "2  Jul 06, 2020  9072.85  9375.47  9058.66  9375.47  1.788926e+10   \n",
       "3  Jul 05, 2020  9126.09  9162.18  8977.02  9073.94  1.290341e+10   \n",
       "4  Jul 04, 2020  9084.23  9183.30  9053.63  9132.49  1.229053e+10   \n",
       "\n",
       "     Market Cap  \n",
       "0  1.737385e+11  \n",
       "1  1.704855e+11  \n",
       "2  1.727461e+11  \n",
       "3  1.671817e+11  \n",
       "4  1.682511e+11  "
      ]
     },
     "execution_count": 15,
     "metadata": {},
     "output_type": "execute_result"
    }
   ],
   "source": [
    "columns = ['Open','High','Low','Close','Volume','Market Cap']\n",
    "num_data = obj_to_num(data,columns)\n",
    "num_data.head()"
   ]
  },
  {
   "cell_type": "code",
   "execution_count": 16,
   "metadata": {
    "colab": {
     "base_uri": "https://localhost:8080/",
     "height": 194
    },
    "colab_type": "code",
    "id": "21zTCWd1YCsD",
    "outputId": "2d3fa4c2-4cc1-4e30-eb1c-70167aee15ba"
   },
   "outputs": [
    {
     "data": {
      "text/html": [
       "<div>\n",
       "<style scoped>\n",
       "    .dataframe tbody tr th:only-of-type {\n",
       "        vertical-align: middle;\n",
       "    }\n",
       "\n",
       "    .dataframe tbody tr th {\n",
       "        vertical-align: top;\n",
       "    }\n",
       "\n",
       "    .dataframe thead th {\n",
       "        text-align: right;\n",
       "    }\n",
       "</style>\n",
       "<table border=\"1\" class=\"dataframe\">\n",
       "  <thead>\n",
       "    <tr style=\"text-align: right;\">\n",
       "      <th></th>\n",
       "      <th>Date</th>\n",
       "      <th>Open</th>\n",
       "      <th>High</th>\n",
       "      <th>Low</th>\n",
       "      <th>Close</th>\n",
       "      <th>Volume</th>\n",
       "      <th>Market Cap</th>\n",
       "    </tr>\n",
       "  </thead>\n",
       "  <tbody>\n",
       "    <tr>\n",
       "      <td>0</td>\n",
       "      <td>2020-07-08 00:00:00+00:00</td>\n",
       "      <td>9253.02</td>\n",
       "      <td>9450.34</td>\n",
       "      <td>9249.50</td>\n",
       "      <td>9428.33</td>\n",
       "      <td>1.970236e+10</td>\n",
       "      <td>1.737385e+11</td>\n",
       "    </tr>\n",
       "    <tr>\n",
       "      <td>1</td>\n",
       "      <td>2020-07-07 00:00:00+00:00</td>\n",
       "      <td>9349.16</td>\n",
       "      <td>9360.62</td>\n",
       "      <td>9201.82</td>\n",
       "      <td>9252.28</td>\n",
       "      <td>1.383965e+10</td>\n",
       "      <td>1.704855e+11</td>\n",
       "    </tr>\n",
       "    <tr>\n",
       "      <td>2</td>\n",
       "      <td>2020-07-06 00:00:00+00:00</td>\n",
       "      <td>9072.85</td>\n",
       "      <td>9375.47</td>\n",
       "      <td>9058.66</td>\n",
       "      <td>9375.47</td>\n",
       "      <td>1.788926e+10</td>\n",
       "      <td>1.727461e+11</td>\n",
       "    </tr>\n",
       "    <tr>\n",
       "      <td>3</td>\n",
       "      <td>2020-07-05 00:00:00+00:00</td>\n",
       "      <td>9126.09</td>\n",
       "      <td>9162.18</td>\n",
       "      <td>8977.02</td>\n",
       "      <td>9073.94</td>\n",
       "      <td>1.290341e+10</td>\n",
       "      <td>1.671817e+11</td>\n",
       "    </tr>\n",
       "    <tr>\n",
       "      <td>4</td>\n",
       "      <td>2020-07-04 00:00:00+00:00</td>\n",
       "      <td>9084.23</td>\n",
       "      <td>9183.30</td>\n",
       "      <td>9053.63</td>\n",
       "      <td>9132.49</td>\n",
       "      <td>1.229053e+10</td>\n",
       "      <td>1.682511e+11</td>\n",
       "    </tr>\n",
       "  </tbody>\n",
       "</table>\n",
       "</div>"
      ],
      "text/plain": [
       "                       Date     Open     High      Low    Close        Volume  \\\n",
       "0 2020-07-08 00:00:00+00:00  9253.02  9450.34  9249.50  9428.33  1.970236e+10   \n",
       "1 2020-07-07 00:00:00+00:00  9349.16  9360.62  9201.82  9252.28  1.383965e+10   \n",
       "2 2020-07-06 00:00:00+00:00  9072.85  9375.47  9058.66  9375.47  1.788926e+10   \n",
       "3 2020-07-05 00:00:00+00:00  9126.09  9162.18  8977.02  9073.94  1.290341e+10   \n",
       "4 2020-07-04 00:00:00+00:00  9084.23  9183.30  9053.63  9132.49  1.229053e+10   \n",
       "\n",
       "     Market Cap  \n",
       "0  1.737385e+11  \n",
       "1  1.704855e+11  \n",
       "2  1.727461e+11  \n",
       "3  1.671817e+11  \n",
       "4  1.682511e+11  "
      ]
     },
     "execution_count": 16,
     "metadata": {},
     "output_type": "execute_result"
    }
   ],
   "source": [
    "from datetime import datetime\n",
    "num_data['Date'] = num_data['Date'].apply(lambda x: datetime.strptime(x, '%b %d, %Y').strftime('%Y-%m-%d'))\n",
    "num_data['Date'] = pd.to_datetime(num_data['Date'], utc=True)\n",
    "num_data.head()"
   ]
  },
  {
   "cell_type": "code",
   "execution_count": 17,
   "metadata": {
    "colab": {
     "base_uri": "https://localhost:8080/",
     "height": 159
    },
    "colab_type": "code",
    "id": "jCd0C9AUfQl9",
    "outputId": "0e97ee7e-bd36-4d55-f18e-c4b18b6e0bff"
   },
   "outputs": [
    {
     "data": {
      "text/plain": [
       "Date          datetime64[ns, UTC]\n",
       "Open                      float64\n",
       "High                      float64\n",
       "Low                       float64\n",
       "Close                     float64\n",
       "Volume                    float64\n",
       "Market Cap                float64\n",
       "dtype: object"
      ]
     },
     "execution_count": 17,
     "metadata": {},
     "output_type": "execute_result"
    }
   ],
   "source": [
    "num_data.dtypes"
   ]
  },
  {
   "cell_type": "markdown",
   "metadata": {
    "colab_type": "text",
    "id": "cvzivr1vYftM"
   },
   "source": [
    "## Making data plot"
   ]
  },
  {
   "cell_type": "code",
   "execution_count": 18,
   "metadata": {
    "colab": {
     "base_uri": "https://localhost:8080/",
     "height": 35
    },
    "colab_type": "code",
    "id": "zpO77JBZVmFM",
    "outputId": "63226ecd-1f10-4bb8-df27-a573fb21cecb"
   },
   "outputs": [
    {
     "name": "stdout",
     "output_type": "stream",
     "text": [
      "Requirement already satisfied: pytz in c:\\users\\ivan\\anaconda3\\lib\\site-packages (2019.3)\n"
     ]
    }
   ],
   "source": [
    "!pip install pytz"
   ]
  },
  {
   "cell_type": "code",
   "execution_count": 19,
   "metadata": {
    "colab": {
     "base_uri": "https://localhost:8080/",
     "height": 194
    },
    "colab_type": "code",
    "id": "xubsDlwIV0t3",
    "outputId": "e30b1b9b-c532-4053-88b1-23a9793d1889"
   },
   "outputs": [
    {
     "data": {
      "text/html": [
       "<div>\n",
       "<style scoped>\n",
       "    .dataframe tbody tr th:only-of-type {\n",
       "        vertical-align: middle;\n",
       "    }\n",
       "\n",
       "    .dataframe tbody tr th {\n",
       "        vertical-align: top;\n",
       "    }\n",
       "\n",
       "    .dataframe thead th {\n",
       "        text-align: right;\n",
       "    }\n",
       "</style>\n",
       "<table border=\"1\" class=\"dataframe\">\n",
       "  <thead>\n",
       "    <tr style=\"text-align: right;\">\n",
       "      <th></th>\n",
       "      <th>Date</th>\n",
       "      <th>Open</th>\n",
       "      <th>High</th>\n",
       "      <th>Low</th>\n",
       "      <th>Close</th>\n",
       "      <th>Volume</th>\n",
       "      <th>Market Cap</th>\n",
       "    </tr>\n",
       "  </thead>\n",
       "  <tbody>\n",
       "    <tr>\n",
       "      <td>0</td>\n",
       "      <td>2013-04-29 00:00:00+00:00</td>\n",
       "      <td>134.44</td>\n",
       "      <td>147.49</td>\n",
       "      <td>134.00</td>\n",
       "      <td>144.54</td>\n",
       "      <td>0.0</td>\n",
       "      <td>1.603769e+09</td>\n",
       "    </tr>\n",
       "    <tr>\n",
       "      <td>1</td>\n",
       "      <td>2013-05-06 00:00:00+00:00</td>\n",
       "      <td>115.98</td>\n",
       "      <td>124.66</td>\n",
       "      <td>106.64</td>\n",
       "      <td>112.30</td>\n",
       "      <td>0.0</td>\n",
       "      <td>1.249023e+09</td>\n",
       "    </tr>\n",
       "    <tr>\n",
       "      <td>2</td>\n",
       "      <td>2013-05-13 00:00:00+00:00</td>\n",
       "      <td>114.82</td>\n",
       "      <td>118.70</td>\n",
       "      <td>114.50</td>\n",
       "      <td>117.98</td>\n",
       "      <td>0.0</td>\n",
       "      <td>1.315710e+09</td>\n",
       "    </tr>\n",
       "    <tr>\n",
       "      <td>3</td>\n",
       "      <td>2013-05-20 00:00:00+00:00</td>\n",
       "      <td>122.50</td>\n",
       "      <td>123.62</td>\n",
       "      <td>120.12</td>\n",
       "      <td>122.00</td>\n",
       "      <td>0.0</td>\n",
       "      <td>1.363710e+09</td>\n",
       "    </tr>\n",
       "    <tr>\n",
       "      <td>4</td>\n",
       "      <td>2013-05-27 00:00:00+00:00</td>\n",
       "      <td>133.50</td>\n",
       "      <td>135.46</td>\n",
       "      <td>124.70</td>\n",
       "      <td>129.74</td>\n",
       "      <td>0.0</td>\n",
       "      <td>1.454030e+09</td>\n",
       "    </tr>\n",
       "  </tbody>\n",
       "</table>\n",
       "</div>"
      ],
      "text/plain": [
       "                       Date    Open    High     Low   Close  Volume  \\\n",
       "0 2013-04-29 00:00:00+00:00  134.44  147.49  134.00  144.54     0.0   \n",
       "1 2013-05-06 00:00:00+00:00  115.98  124.66  106.64  112.30     0.0   \n",
       "2 2013-05-13 00:00:00+00:00  114.82  118.70  114.50  117.98     0.0   \n",
       "3 2013-05-20 00:00:00+00:00  122.50  123.62  120.12  122.00     0.0   \n",
       "4 2013-05-27 00:00:00+00:00  133.50  135.46  124.70  129.74     0.0   \n",
       "\n",
       "     Market Cap  \n",
       "0  1.603769e+09  \n",
       "1  1.249023e+09  \n",
       "2  1.315710e+09  \n",
       "3  1.363710e+09  \n",
       "4  1.454030e+09  "
      ]
     },
     "execution_count": 19,
     "metadata": {},
     "output_type": "execute_result"
    }
   ],
   "source": [
    "# create valid date range\n",
    "import pytz\n",
    "start = datetime(2013, 3, 5, 0, 0, 0, 0, pytz.UTC)\n",
    "end = datetime(2020, 6, 7, 0, 0, 0, 0, pytz.UTC)\n",
    "\n",
    "# find rows between start and end time and find the first row (00:00 monday morning)\n",
    "weekly_rows = num_data[(num_data['Date'] >= start) & (num_data['Date'] <= end)].groupby([pd.Grouper(key='Date', freq='W-MON')]).first().reset_index()\n",
    "weekly_rows.head()"
   ]
  },
  {
   "cell_type": "code",
   "execution_count": 20,
   "metadata": {
    "colab": {},
    "colab_type": "code",
    "id": "jhH9KRD6H1FW"
   },
   "outputs": [],
   "source": [
    "#import chart_studio.plotly as py\n",
    "import plotly.graph_objects as go\n",
    "import chart_studio as py"
   ]
  },
  {
   "cell_type": "code",
   "execution_count": 21,
   "metadata": {
    "colab": {},
    "colab_type": "code",
    "id": "Sr3iTFYJV7kl"
   },
   "outputs": [],
   "source": [
    "py.tools.set_credentials_file(username='ji_nb', api_key='eGoxXwU4vG6jV7WJVzpw')"
   ]
  },
  {
   "cell_type": "code",
   "execution_count": 22,
   "metadata": {
    "colab": {
     "base_uri": "https://localhost:8080/",
     "height": 546
    },
    "colab_type": "code",
    "id": "HB0_WpRjRn0p",
    "outputId": "8187c878-c26c-46c3-fd43-22c4e16df942"
   },
   "outputs": [
    {
     "data": {
      "text/html": [
       "\n",
       "        <iframe\n",
       "            width=\"100%\"\n",
       "            height=\"525px\"\n",
       "            src=\"https://plotly.com/~ji_nb/1.embed\"\n",
       "            frameborder=\"0\"\n",
       "            allowfullscreen\n",
       "        ></iframe>\n",
       "        "
      ],
      "text/plain": [
       "<IPython.lib.display.IFrame at 0x268cb1bf908>"
      ]
     },
     "execution_count": 22,
     "metadata": {},
     "output_type": "execute_result"
    }
   ],
   "source": [
    "trace1 = go.Scatter(\n",
    "    x = weekly_rows['Date'],\n",
    "    y = weekly_rows['Open'].astype(float),\n",
    "    mode = 'lines',\n",
    "    name = 'Open'\n",
    ")\n",
    "\n",
    "trace2 = go.Scatter(\n",
    "    x = weekly_rows['Date'],\n",
    "    y = weekly_rows['Close'].astype(float),\n",
    "    mode = 'lines',\n",
    "    name = 'Close'\n",
    ")\n",
    "trace3 = go.Scatter(\n",
    "    x = weekly_rows['Date'],\n",
    "    y = weekly_rows['High'].astype(float),\n",
    "    mode = 'lines',\n",
    "    name = 'High'\n",
    ")\n",
    "\n",
    "layout = dict(\n",
    "    title='Historical Bitcoin Prices (2013-2020) with the Slider ',\n",
    "    xaxis=dict(\n",
    "        rangeselector=dict(\n",
    "            buttons=list([\n",
    "                #change the count to desired amount of months.\n",
    "                dict(count=1,\n",
    "                     label='1m',\n",
    "                     step='month',\n",
    "                     stepmode='backward'),\n",
    "                dict(count=6,\n",
    "                     label='6m',\n",
    "                     step='month',\n",
    "                     stepmode='backward'),\n",
    "                dict(count=12,\n",
    "                     label='1y',\n",
    "                     step='month',\n",
    "                     stepmode='backward'),\n",
    "                dict(count=36,\n",
    "                     label='3y',\n",
    "                     step='month',\n",
    "                     stepmode='backward'),\n",
    "                dict(step='all')\n",
    "            ])\n",
    "        ),\n",
    "        rangeslider=dict(\n",
    "            visible = True\n",
    "        ),\n",
    "        type='date'\n",
    "    )\n",
    ")\n",
    "\n",
    "data = [trace1, trace2, trace3]\n",
    "fig = dict(data=data, layout=layout)\n",
    "py.plotly.iplot(fig, filename = \"Time_Series_with_Rangeslider\")"
   ]
  },
  {
   "cell_type": "markdown",
   "metadata": {},
   "source": [
    "### https://plotly.com/~ji_nb/1/\n",
    "![title](newplot.png)"
   ]
  },
  {
   "cell_type": "code",
   "execution_count": 23,
   "metadata": {
    "colab": {
     "base_uri": "https://localhost:8080/",
     "height": 546
    },
    "colab_type": "code",
    "id": "tBfGHd11-Kef",
    "outputId": "c265399c-3a16-4874-c05a-d5ba5cc8bffc"
   },
   "outputs": [
    {
     "data": {
      "text/html": [
       "\n",
       "        <iframe\n",
       "            width=\"100%\"\n",
       "            height=\"525px\"\n",
       "            src=\"https://plotly.com/~ji_nb/3.embed\"\n",
       "            frameborder=\"0\"\n",
       "            allowfullscreen\n",
       "        ></iframe>\n",
       "        "
      ],
      "text/plain": [
       "<IPython.lib.display.IFrame at 0x268cb862248>"
      ]
     },
     "execution_count": 23,
     "metadata": {},
     "output_type": "execute_result"
    }
   ],
   "source": [
    "trace1 = go.Scatter(\n",
    "    x = weekly_rows['Date'],\n",
    "    y = weekly_rows['Volume'].astype(float),\n",
    "    mode = 'lines',\n",
    "    name = 'Bitcoin Price (Open)'\n",
    ")\n",
    "\n",
    "layout = dict(\n",
    "    title='Historical Bitcoin Volume (USD) (2013-2020)',\n",
    "    xaxis=dict(\n",
    "        rangeselector=dict(\n",
    "            buttons=list([\n",
    "                dict(count=1,\n",
    "                     label='1m',\n",
    "                     step='month',\n",
    "                     stepmode='backward'),\n",
    "                dict(count=6,\n",
    "                     label='6m',\n",
    "                     step='month',\n",
    "                     stepmode='backward'),\n",
    "                dict(count=12,\n",
    "                     label='1y',\n",
    "                     step='month',\n",
    "                     stepmode='backward'),\n",
    "                dict(count=36,\n",
    "                     label='3y',\n",
    "                     step='month',\n",
    "                     stepmode='backward'),\n",
    "                dict(step='all')\n",
    "            ])\n",
    "        ),\n",
    "        rangeslider=dict(\n",
    "            visible = True\n",
    "        ),\n",
    "        type='date'\n",
    "    )\n",
    ")\n",
    "\n",
    "data = [trace1]\n",
    "fig = dict(data=data, layout=layout)\n",
    "py.plotly.iplot(fig, filename = \"Time Series with Rangeslider\")"
   ]
  },
  {
   "cell_type": "markdown",
   "metadata": {},
   "source": [
    "### https://plotly.com/~ji_nb/3/\n",
    "![title](newplot_volume.png)"
   ]
  },
  {
   "cell_type": "markdown",
   "metadata": {
    "colab_type": "text",
    "id": "pDT743oYfe41"
   },
   "source": [
    "## Time series with XGBoost"
   ]
  },
  {
   "cell_type": "code",
   "execution_count": 26,
   "metadata": {
    "colab": {
     "base_uri": "https://localhost:8080/",
     "height": 195
    },
    "colab_type": "code",
    "id": "mAiPQogonDQ6",
    "outputId": "3a357073-4b74-4ffd-ac43-08527376acf7"
   },
   "outputs": [
    {
     "name": "stdout",
     "output_type": "stream",
     "text": [
      "Collecting dateparser\n",
      "  Downloading https://files.pythonhosted.org/packages/c1/d5/5a2e51bc0058f66b54669735f739d27afc3eb453ab00520623c7ab168e22/dateparser-0.7.6-py2.py3-none-any.whl (362kB)\n",
      "Requirement already satisfied: python-dateutil in c:\\users\\ivan\\anaconda3\\lib\\site-packages (from dateparser) (2.8.0)\n",
      "Collecting tzlocal (from dateparser)\n",
      "  Downloading https://files.pythonhosted.org/packages/5d/94/d47b0fd5988e6b7059de05720a646a2930920fff247a826f61674d436ba4/tzlocal-2.1-py2.py3-none-any.whl\n",
      "Requirement already satisfied: pytz in c:\\users\\ivan\\anaconda3\\lib\\site-packages (from dateparser) (2019.3)\n",
      "Collecting regex!=2019.02.19 (from dateparser)\n",
      "  Downloading https://files.pythonhosted.org/packages/19/30/2eefc3bd0a3cc020c7b990fde624c65ece6b3380a8e8112c167082e621f4/regex-2020.6.8-cp37-cp37m-win_amd64.whl (268kB)\n",
      "Requirement already satisfied: six>=1.5 in c:\\users\\ivan\\anaconda3\\lib\\site-packages (from python-dateutil->dateparser) (1.12.0)\n",
      "Installing collected packages: tzlocal, regex, dateparser\n",
      "Successfully installed dateparser-0.7.6 regex-2020.6.8 tzlocal-2.1\n"
     ]
    }
   ],
   "source": [
    "!pip install dateparser"
   ]
  },
  {
   "cell_type": "code",
   "execution_count": 27,
   "metadata": {
    "colab": {},
    "colab_type": "code",
    "id": "v_24I2e-dwME"
   },
   "outputs": [],
   "source": [
    "#from fbprophet import Prophet\n",
    "from sklearn.metrics import mean_squared_error, mean_absolute_error\n",
    "import dateparser\n",
    "plt.style.use('fivethirtyeight')"
   ]
  },
  {
   "cell_type": "markdown",
   "metadata": {
    "colab_type": "text",
    "id": "HoS3ZJoFs2lP"
   },
   "source": []
  },
  {
   "cell_type": "code",
   "execution_count": 29,
   "metadata": {
    "colab": {
     "base_uri": "https://localhost:8080/",
     "height": 294
    },
    "colab_type": "code",
    "id": "ZwALG-rHdwGK",
    "outputId": "8ab00bda-1788-4ccd-ccc5-d3f4a459c846"
   },
   "outputs": [
    {
     "data": {
      "text/html": [
       "<div>\n",
       "<style scoped>\n",
       "    .dataframe tbody tr th:only-of-type {\n",
       "        vertical-align: middle;\n",
       "    }\n",
       "\n",
       "    .dataframe tbody tr th {\n",
       "        vertical-align: top;\n",
       "    }\n",
       "\n",
       "    .dataframe thead th {\n",
       "        text-align: right;\n",
       "    }\n",
       "</style>\n",
       "<table border=\"1\" class=\"dataframe\">\n",
       "  <thead>\n",
       "    <tr style=\"text-align: right;\">\n",
       "      <th></th>\n",
       "      <th>Close</th>\n",
       "    </tr>\n",
       "    <tr>\n",
       "      <th>Date</th>\n",
       "      <th></th>\n",
       "    </tr>\n",
       "  </thead>\n",
       "  <tbody>\n",
       "    <tr>\n",
       "      <td>2013-04-28</td>\n",
       "      <td>134.21</td>\n",
       "    </tr>\n",
       "    <tr>\n",
       "      <td>2013-04-29</td>\n",
       "      <td>144.54</td>\n",
       "    </tr>\n",
       "    <tr>\n",
       "      <td>2013-04-30</td>\n",
       "      <td>139.00</td>\n",
       "    </tr>\n",
       "    <tr>\n",
       "      <td>2013-05-01</td>\n",
       "      <td>116.99</td>\n",
       "    </tr>\n",
       "    <tr>\n",
       "      <td>2013-05-02</td>\n",
       "      <td>105.21</td>\n",
       "    </tr>\n",
       "  </tbody>\n",
       "</table>\n",
       "</div>"
      ],
      "text/plain": [
       "             Close\n",
       "Date              \n",
       "2013-04-28  134.21\n",
       "2013-04-29  144.54\n",
       "2013-04-30  139.00\n",
       "2013-05-01  116.99\n",
       "2013-05-02  105.21"
      ]
     },
     "execution_count": 29,
     "metadata": {},
     "output_type": "execute_result"
    }
   ],
   "source": [
    "dateparse = lambda x: pd.datetime.strptime(x, '%b %d, %Y').strftime('%Y-%m-%d')\n",
    "datat  = pd.read_csv('../data_extraction/full_data_btc_08072020.csv', parse_dates=[0], date_parser=dateparse)\n",
    "datat['Date'] = datat['Date'].dt.tz_localize(None)\n",
    "datat = datat.groupby([pd.Grouper(key='Date', freq='H')]).first().reset_index()\n",
    "datat = datat.set_index('Date')\n",
    "datat = datat[['Close']]\n",
    "datat.dropna(subset=['Close'], inplace=True)\n",
    "datat.head()"
   ]
  },
  {
   "cell_type": "code",
   "execution_count": 30,
   "metadata": {
    "colab": {},
    "colab_type": "code",
    "id": "47Za9q-0tJX8"
   },
   "outputs": [],
   "source": [
    "columns = ['Close']\n",
    "datat = obj_to_num(datat,columns)   # Function to change object to numerical data"
   ]
  },
  {
   "cell_type": "code",
   "execution_count": 31,
   "metadata": {
    "colab": {
     "base_uri": "https://localhost:8080/",
     "height": 52
    },
    "colab_type": "code",
    "id": "t6WykG-XsgSn",
    "outputId": "2dee0a52-37f4-4508-ba5c-d208335fe8f6"
   },
   "outputs": [
    {
     "data": {
      "text/plain": [
       "Close    float64\n",
       "dtype: object"
      ]
     },
     "execution_count": 31,
     "metadata": {},
     "output_type": "execute_result"
    }
   ],
   "source": [
    "datat.dtypes"
   ]
  },
  {
   "cell_type": "code",
   "execution_count": 32,
   "metadata": {
    "colab": {
     "base_uri": "https://localhost:8080/",
     "height": 383
    },
    "colab_type": "code",
    "id": "E-_9cCrmdv_x",
    "outputId": "cddb431c-28c2-4719-df16-2cbd68954ff0"
   },
   "outputs": [
    {
     "data": {
      "image/png": "[encoded data removed]",
      "text/plain": [
       "<Figure size 1080x360 with 1 Axes>"
      ]
     },
     "metadata": {},
     "output_type": "display_data"
    }
   ],
   "source": [
    "_ = datat.plot(style='', figsize=(15,5), color=\"#F8766D\", title='BTC Close_Price by Days')"
   ]
  },
  {
   "cell_type": "code",
   "execution_count": 33,
   "metadata": {
    "colab": {},
    "colab_type": "code",
    "id": "FDdU0jCgdv5t"
   },
   "outputs": [],
   "source": [
    "split_date = '2020-04-01'\n",
    "data_train = datat.loc[datat.index <= split_date].copy()\n",
    "data_test = datat.loc[datat.index > split_date].copy()"
   ]
  },
  {
   "cell_type": "code",
   "execution_count": 34,
   "metadata": {
    "colab": {
     "base_uri": "https://localhost:8080/",
     "height": 383
    },
    "colab_type": "code",
    "id": "Yei5xL0zdvx4",
    "outputId": "e805bbf2-838e-4e55-e15e-ae78230d8f77"
   },
   "outputs": [
    {
     "data": {
      "image/png": "[encoded data removed]",
      "text/plain": [
       "<Figure size 1080x360 with 1 Axes>"
      ]
     },
     "metadata": {},
     "output_type": "display_data"
    }
   ],
   "source": [
    "_ = data_test \\\n",
    "    .rename(columns={'Close': 'Test Set'}) \\\n",
    "    .join(data_train.rename(columns={'Close': 'Training Set'}), how='outer') \\\n",
    "    .plot(figsize=(15,5), title='BTC Close Price by Days', style='')"
   ]
  },
  {
   "cell_type": "code",
   "execution_count": 35,
   "metadata": {
    "colab": {},
    "colab_type": "code",
    "id": "h7P5xtffdvn5"
   },
   "outputs": [],
   "source": [
    "def create_features(df, label=None):\n",
    "    \"\"\"\n",
    "    Creates time series features from datetime index\n",
    "    \"\"\"\n",
    "    df['date'] = df.index\n",
    "    df['hour'] = df['date'].dt.hour\n",
    "    df['dayofweek'] = df['date'].dt.dayofweek\n",
    "    df['quarter'] = df['date'].dt.quarter\n",
    "    df['month'] = df['date'].dt.month\n",
    "    df['year'] = df['date'].dt.year\n",
    "    df['dayofyear'] = df['date'].dt.dayofyear\n",
    "    df['dayofmonth'] = df['date'].dt.day\n",
    "    df['weekofyear'] = df['date'].dt.weekofyear\n",
    "    \n",
    "    X = df[['hour','dayofweek','quarter','month','year',\n",
    "           'dayofyear','dayofmonth','weekofyear']]\n",
    "    if label:\n",
    "        y = df[label]\n",
    "        return X, y\n",
    "    return X"
   ]
  },
  {
   "cell_type": "code",
   "execution_count": 36,
   "metadata": {
    "colab": {},
    "colab_type": "code",
    "id": "Rxhcg63RzmFX"
   },
   "outputs": [],
   "source": [
    "X_train, y_train = create_features(data_train, label='Close')\n",
    "X_test, y_test = create_features(data_test, label='Close')"
   ]
  },
  {
   "cell_type": "code",
   "execution_count": 37,
   "metadata": {
    "colab": {
     "base_uri": "https://localhost:8080/",
     "height": 159
    },
    "colab_type": "code",
    "id": "BUYOEtifzmCM",
    "outputId": "76f800a0-78ef-40db-ffa8-ecb6b531b8ed"
   },
   "outputs": [
    {
     "name": "stdout",
     "output_type": "stream",
     "text": [
      "[22:42:55] WARNING: C:/Users/Administrator/workspace/xgboost-win64_release_1.0.0/src/objective/regression_obj.cu:167: reg:linear is now deprecated in favor of reg:squarederror.\n"
     ]
    },
    {
     "data": {
      "text/plain": [
       "XGBRegressor(alpha=10, base_score=0.5, booster='gbtree', colsample_bylevel=1,\n",
       "             colsample_bynode=1, colsample_bytree=0.3, gamma=0, gpu_id=-1,\n",
       "             importance_type='gain', interaction_constraints=None,\n",
       "             learning_rate=0.1, max_delta_step=0, max_depth=5,\n",
       "             min_child_weight=10, missing=nan, monotone_constraints=None,\n",
       "             n_estimators=100, n_jobs=0, num_parallel_tree=1,\n",
       "             objective='reg:linear', random_state=0, reg_alpha=10, reg_lambda=1,\n",
       "             scale_pos_weight=1, subsample=1, tree_method=None,\n",
       "             validate_parameters=False, verbosity=None)"
      ]
     },
     "execution_count": 37,
     "metadata": {},
     "output_type": "execute_result"
    }
   ],
   "source": [
    "import xgboost as xgb\n",
    "from xgboost import plot_importance, plot_tree\n",
    "model =  xgb.XGBRegressor(objective ='reg:linear',min_child_weight=10, booster='gbtree', colsample_bytree = 0.3, learning_rate = 0.1,\n",
    "                max_depth = 5, alpha = 10, n_estimators = 100)\n",
    "model.fit(X_train, y_train,\n",
    "        eval_set=[(X_train, y_train), (X_test, y_test)],\n",
    "        early_stopping_rounds=50,\n",
    "       verbose=False)"
   ]
  },
  {
   "cell_type": "code",
   "execution_count": 38,
   "metadata": {
    "colab": {},
    "colab_type": "code",
    "id": "8SG71Ka9zl_L"
   },
   "outputs": [],
   "source": [
    "data_test['Close_Prediction'] = model.predict(X_test)\n",
    "data_all = pd.concat([data_test, data_train], sort=False)"
   ]
  },
  {
   "cell_type": "code",
   "execution_count": 39,
   "metadata": {
    "colab": {},
    "colab_type": "code",
    "id": "SOrXVMmK1cW3"
   },
   "outputs": [],
   "source": [
    "final_data = datat.copy()\n",
    "final_data = pd.merge(final_data, data_all, sort=False)\n",
    "final_data = final_data.rename(columns={'Close_Prediction': 'xgboost'})\n",
    "final_data = final_data[['Close','xgboost']]"
   ]
  },
  {
   "cell_type": "code",
   "execution_count": 40,
   "metadata": {
    "colab": {
     "base_uri": "https://localhost:8080/",
     "height": 331
    },
    "colab_type": "code",
    "id": "TQucTyfRzl8c",
    "outputId": "5d7c8a86-5a91-493f-86b0-89bdb643f95a"
   },
   "outputs": [
    {
     "data": {
      "image/png": "[encoded data removed]",
      "text/plain": [
       "<Figure size 1080x360 with 1 Axes>"
      ]
     },
     "metadata": {},
     "output_type": "display_data"
    }
   ],
   "source": [
    "_ = data_all[['Close','Close_Prediction']].plot(figsize=(15, 5))"
   ]
  },
  {
   "cell_type": "code",
   "execution_count": 41,
   "metadata": {
    "colab": {
     "base_uri": "https://localhost:8080/",
     "height": 390
    },
    "colab_type": "code",
    "id": "SKwgG9kb1bf6",
    "outputId": "5c634521-aff8-4584-a175-99cd20122c51"
   },
   "outputs": [
    {
     "data": {
      "image/png": "[encoded data removed]",
      "text/plain": [
       "<Figure size 1080x360 with 1 Axes>"
      ]
     },
     "metadata": {},
     "output_type": "display_data"
    }
   ],
   "source": [
    "f, ax = plt.subplots(1)\n",
    "f.set_figheight(5)\n",
    "f.set_figwidth(15)\n",
    "_ = data_all[['Close_Prediction','Close']].plot(ax=ax,\n",
    "                                              style=['-','.'])\n",
    "ax.set_xbound(lower='2020-04-01', upper='2020-07-08')\n",
    "ax.set_ylim(0, 10000)\n",
    "plot = plt.suptitle('March - July 2020 Forecast vs Actuals')"
   ]
  },
  {
   "cell_type": "code",
   "execution_count": 42,
   "metadata": {
    "colab": {
     "base_uri": "https://localhost:8080/",
     "height": 35
    },
    "colab_type": "code",
    "id": "S2gvgGZV2hZq",
    "outputId": "f456ae5f-6c3a-4d2f-946c-aca65e8c7caa"
   },
   "outputs": [
    {
     "data": {
      "text/plain": [
       "1240849.1302650054"
      ]
     },
     "execution_count": 42,
     "metadata": {},
     "output_type": "execute_result"
    }
   ],
   "source": [
    "mean_squared_error(y_true=data_test['Close'],\n",
    "                   y_pred=data_test['Close_Prediction'])"
   ]
  },
  {
   "cell_type": "code",
   "execution_count": 43,
   "metadata": {
    "colab": {
     "base_uri": "https://localhost:8080/",
     "height": 35
    },
    "colab_type": "code",
    "id": "186TYkYN2hWy",
    "outputId": "96f99669-cd11-4039-b617-5bdcd6f3e136"
   },
   "outputs": [
    {
     "data": {
      "text/plain": [
       "997.9152553013394"
      ]
     },
     "execution_count": 43,
     "metadata": {},
     "output_type": "execute_result"
    }
   ],
   "source": [
    "mean_absolute_error(y_true=data_test['Close'],\n",
    "                   y_pred=data_test['Close_Prediction'])"
   ]
  },
  {
   "cell_type": "markdown",
   "metadata": {
    "colab": {},
    "colab_type": "code",
    "id": "H9aF7L4C2hTG"
   },
   "source": [
    "## Prophet model"
   ]
  },
  {
   "cell_type": "code",
   "execution_count": 44,
   "metadata": {
    "colab": {},
    "colab_type": "code",
    "id": "Hl6Zv_lK2hOn"
   },
   "outputs": [
    {
     "ename": "AttributeError",
     "evalue": "'list' object has no attribute 'loc'",
     "output_type": "error",
     "traceback": [
      "\u001b[1;31m---------------------------------------------------------------------------\u001b[0m",
      "\u001b[1;31mAttributeError\u001b[0m                            Traceback (most recent call last)",
      "\u001b[1;32m<ipython-input-44-026bc4b3c7f3>\u001b[0m in \u001b[0;36m<module>\u001b[1;34m\u001b[0m\n\u001b[0;32m      1\u001b[0m \u001b[0msplit_date2\u001b[0m \u001b[1;33m=\u001b[0m \u001b[1;34m'2020-03-01'\u001b[0m\u001b[1;33m\u001b[0m\u001b[1;33m\u001b[0m\u001b[0m\n\u001b[1;32m----> 2\u001b[1;33m \u001b[0mdata_train\u001b[0m \u001b[1;33m=\u001b[0m \u001b[0mdata\u001b[0m\u001b[1;33m.\u001b[0m\u001b[0mloc\u001b[0m\u001b[1;33m[\u001b[0m\u001b[0mdata\u001b[0m\u001b[1;33m.\u001b[0m\u001b[0mindex\u001b[0m \u001b[1;33m<=\u001b[0m \u001b[0msplit_date2\u001b[0m\u001b[1;33m]\u001b[0m\u001b[1;33m.\u001b[0m\u001b[0mcopy\u001b[0m\u001b[1;33m(\u001b[0m\u001b[1;33m)\u001b[0m\u001b[1;33m\u001b[0m\u001b[1;33m\u001b[0m\u001b[0m\n\u001b[0m\u001b[0;32m      3\u001b[0m \u001b[0mdata_test\u001b[0m \u001b[1;33m=\u001b[0m \u001b[0mdata\u001b[0m\u001b[1;33m.\u001b[0m\u001b[0mloc\u001b[0m\u001b[1;33m[\u001b[0m\u001b[0mdata\u001b[0m\u001b[1;33m.\u001b[0m\u001b[0mindex\u001b[0m \u001b[1;33m>\u001b[0m \u001b[0msplit_date2\u001b[0m\u001b[1;33m]\u001b[0m\u001b[1;33m.\u001b[0m\u001b[0mcopy\u001b[0m\u001b[1;33m(\u001b[0m\u001b[1;33m)\u001b[0m\u001b[1;33m\u001b[0m\u001b[1;33m\u001b[0m\u001b[0m\n",
      "\u001b[1;31mAttributeError\u001b[0m: 'list' object has no attribute 'loc'"
     ]
    }
   ],
   "source": [
    "split_date2 = '2020-03-01'\n",
    "data_train = data.loc[data.index <= split_date2].copy()\n",
    "data_test = data.loc[data.index > split_date2].copy()"
   ]
  },
  {
   "cell_type": "code",
   "execution_count": null,
   "metadata": {},
   "outputs": [],
   "source": []
  },
  {
   "cell_type": "code",
   "execution_count": null,
   "metadata": {},
   "outputs": [],
   "source": []
  },
  {
   "cell_type": "code",
   "execution_count": null,
   "metadata": {},
   "outputs": [],
   "source": []
  },
  {
   "cell_type": "code",
   "execution_count": null,
   "metadata": {},
   "outputs": [],
   "source": []
  },
  {
   "cell_type": "code",
   "execution_count": null,
   "metadata": {
    "colab": {},
    "colab_type": "code",
    "id": "DQDzhobN-KbZ"
   },
   "outputs": [],
   "source": []
  },
  {
   "cell_type": "code",
   "execution_count": null,
   "metadata": {
    "colab": {},
    "colab_type": "code",
    "id": "3C5lY5HIW5OV"
   },
   "outputs": [],
   "source": [
    "# kata \n",
    "def rthn_between(a, b):\n",
    "    lst = []\n",
    "\n",
    "    if a == 0:\n",
    "        a = 10\n",
    "\n",
    "    for x in range(a,b+1):\n",
    "      l = 1\n",
    "      v = True\n",
    "      while v:\n",
    "        new_num = str(x)[:l] \n",
    "        s = sum([int(digit) for digit in new_num])\n",
    "        if int(new_num)%s != 0:\n",
    "          v = False\n",
    "        elif int(new_num)%s == 0 and len(new_num) == len(str(x)):\n",
    "          lst.append(x)\n",
    "          v = False\n",
    "        else:\n",
    "          l += 1\n",
    "    return lst\n"
   ]
  },
  {
   "cell_type": "code",
   "execution_count": null,
   "metadata": {
    "colab": {},
    "colab_type": "code",
    "id": "XeeuuGHZgSrV"
   },
   "outputs": [],
   "source": [
    "# rthn_between(0, 999999)  #[9000004000000, 9000004000008]"
   ]
  },
  {
   "cell_type": "code",
   "execution_count": null,
   "metadata": {
    "colab": {
     "base_uri": "https://localhost:8080/",
     "height": 35
    },
    "colab_type": "code",
    "id": "pcZ3KEgfg1AE",
    "outputId": "bd9a734a-8fbe-46ee-8ad0-517290e287f8"
   },
   "outputs": [
    {
     "data": {
      "text/plain": [
       "0"
      ]
     },
     "execution_count": 5,
     "metadata": {
      "tags": []
     },
     "output_type": "execute_result"
    }
   ],
   "source": [
    "0**1"
   ]
  }
 ],
 "metadata": {
  "colab": {
   "collapsed_sections": [],
   "name": "BTC_tests.ipynb",
   "provenance": []
  },
  "kernelspec": {
   "display_name": "Python 3",
   "language": "python",
   "name": "python3"
  },
  "language_info": {
   "codemirror_mode": {
    "name": "ipython",
    "version": 3
   },
   "file_extension": ".py",
   "mimetype": "text/x-python",
   "name": "python",
   "nbconvert_exporter": "python",
   "pygments_lexer": "ipython3",
   "version": "3.7.4"
  }
 },
 "nbformat": 4,
 "nbformat_minor": 1
}
