{
 "cells": [
  {
   "cell_type": "markdown",
   "metadata": {
    "colab_type": "text",
    "id": "AXMYIrQYuBcV"
   },
   "source": [
    "## Based on the Kaggle notebook: https://www.kaggle.com/someadityamandal/bitcoin-time-series-forecasting"
   ]
  },
  {
   "cell_type": "markdown",
   "metadata": {
    "colab_type": "text",
    "id": "e4M6Vxz9Rvcn"
   },
   "source": [
    "## Some lybraries"
   ]
  },
  {
   "cell_type": "code",
   "execution_count": 21,
   "metadata": {
    "colab": {},
    "colab_type": "code",
    "id": "n1ryIC2PGtlJ"
   },
   "outputs": [],
   "source": [
    "import pandas as pd\n",
    "import numpy as np\n",
    "import datetime\n",
    "import csv\n"
   ]
  },
  {
   "cell_type": "code",
   "execution_count": 22,
   "metadata": {
    "colab": {
     "base_uri": "https://localhost:8080/",
     "height": 177
    },
    "colab_type": "code",
    "id": "sHKWx1dpHHZt",
    "outputId": "d6ef0877-3a62-43f5-f647-0349c2e23d74"
   },
   "outputs": [
    {
     "name": "stdout",
     "output_type": "stream",
     "text": [
      "Requirement already satisfied: chart_studio in /usr/local/lib/python3.6/dist-packages (1.1.0)\n",
      "Requirement already satisfied: plotly in /usr/local/lib/python3.6/dist-packages (from chart_studio) (4.4.1)\n",
      "Requirement already satisfied: retrying>=1.3.3 in /usr/local/lib/python3.6/dist-packages (from chart_studio) (1.3.3)\n",
      "Requirement already satisfied: requests in /usr/local/lib/python3.6/dist-packages (from chart_studio) (2.23.0)\n",
      "Requirement already satisfied: six in /usr/local/lib/python3.6/dist-packages (from chart_studio) (1.12.0)\n",
      "Requirement already satisfied: certifi>=2017.4.17 in /usr/local/lib/python3.6/dist-packages (from requests->chart_studio) (2020.4.5.2)\n",
      "Requirement already satisfied: idna<3,>=2.5 in /usr/local/lib/python3.6/dist-packages (from requests->chart_studio) (2.9)\n",
      "Requirement already satisfied: chardet<4,>=3.0.2 in /usr/local/lib/python3.6/dist-packages (from requests->chart_studio) (3.0.4)\n",
      "Requirement already satisfied: urllib3!=1.25.0,!=1.25.1,<1.26,>=1.21.1 in /usr/local/lib/python3.6/dist-packages (from requests->chart_studio) (1.24.3)\n"
     ]
    }
   ],
   "source": [
    "!pip install chart_studio"
   ]
  },
  {
   "cell_type": "code",
   "execution_count": 23,
   "metadata": {
    "colab": {
     "base_uri": "https://localhost:8080/",
     "height": 17
    },
    "colab_type": "code",
    "id": "ZuepHJHfG1__",
    "outputId": "70847d37-9466-47c3-c936-9ab4aecb7777"
   },
   "outputs": [
    {
     "data": {
      "text/html": [
       "        <script type=\"text/javascript\">\n",
       "        window.PlotlyConfig = {MathJaxConfig: 'local'};\n",
       "        if (window.MathJax) {MathJax.Hub.Config({SVG: {font: \"STIX-Web\"}});}\n",
       "        if (typeof require !== 'undefined') {\n",
       "        require.undef(\"plotly\");\n",
       "        requirejs.config({\n",
       "            paths: {\n",
       "                'plotly': ['https://cdn.plot.ly/plotly-latest.min']\n",
       "            }\n",
       "        });\n",
       "        require(['plotly'], function(Plotly) {\n",
       "            window._Plotly = Plotly;\n",
       "        });\n",
       "        }\n",
       "        </script>\n",
       "        "
      ]
     },
     "metadata": {
      "tags": []
     },
     "output_type": "display_data"
    }
   ],
   "source": [
    "import matplotlib.pyplot as plt\n",
    "\n",
    "from plotly import tools\n",
    "import chart_studio.plotly as py\n",
    "from plotly.offline import init_notebook_mode, iplot\n",
    "init_notebook_mode(connected=True)\n",
    "import plotly.graph_objs as go\n",
    "import gc\n",
    "\n",
    "import matplotlib.pyplot as plt\n",
    "import seaborn as sns\n"
   ]
  },
  {
   "cell_type": "markdown",
   "metadata": {
    "colab_type": "text",
    "id": "V3yfYgWIR4Gk"
   },
   "source": [
    "## Importing data"
   ]
  },
  {
   "cell_type": "code",
   "execution_count": 24,
   "metadata": {
    "colab": {
     "base_uri": "https://localhost:8080/",
     "height": 194
    },
    "colab_type": "code",
    "id": "Hxa_3_0_G2Cn",
    "outputId": "3f78b086-927e-4aba-fbe1-07f4be36d784"
   },
   "outputs": [
    {
     "data": {
      "text/html": [
       "<div>\n",
       "<style scoped>\n",
       "    .dataframe tbody tr th:only-of-type {\n",
       "        vertical-align: middle;\n",
       "    }\n",
       "\n",
       "    .dataframe tbody tr th {\n",
       "        vertical-align: top;\n",
       "    }\n",
       "\n",
       "    .dataframe thead th {\n",
       "        text-align: right;\n",
       "    }\n",
       "</style>\n",
       "<table border=\"1\" class=\"dataframe\">\n",
       "  <thead>\n",
       "    <tr style=\"text-align: right;\">\n",
       "      <th></th>\n",
       "      <th>Date</th>\n",
       "      <th>Open</th>\n",
       "      <th>High</th>\n",
       "      <th>Low</th>\n",
       "      <th>Close</th>\n",
       "      <th>Volume</th>\n",
       "      <th>Market Cap</th>\n",
       "    </tr>\n",
       "  </thead>\n",
       "  <tbody>\n",
       "    <tr>\n",
       "      <th>0</th>\n",
       "      <td>Jun 07, 2020</td>\n",
       "      <td>9,653.00</td>\n",
       "      <td>9,768.50</td>\n",
       "      <td>9,458.15</td>\n",
       "      <td>9,758.85</td>\n",
       "      <td>25,015,250,846</td>\n",
       "      <td>179,540,253,701</td>\n",
       "    </tr>\n",
       "    <tr>\n",
       "      <th>1</th>\n",
       "      <td>Jun 06, 2020</td>\n",
       "      <td>9,664.90</td>\n",
       "      <td>9,773.43</td>\n",
       "      <td>9,591.02</td>\n",
       "      <td>9,653.68</td>\n",
       "      <td>20,438,419,222</td>\n",
       "      <td>177,595,657,884</td>\n",
       "    </tr>\n",
       "    <tr>\n",
       "      <th>2</th>\n",
       "      <td>Jun 05, 2020</td>\n",
       "      <td>9,800.22</td>\n",
       "      <td>9,869.24</td>\n",
       "      <td>9,663.22</td>\n",
       "      <td>9,665.53</td>\n",
       "      <td>23,509,628,646</td>\n",
       "      <td>177,801,825,145</td>\n",
       "    </tr>\n",
       "    <tr>\n",
       "      <th>3</th>\n",
       "      <td>Jun 04, 2020</td>\n",
       "      <td>9,655.85</td>\n",
       "      <td>9,887.61</td>\n",
       "      <td>9,525.25</td>\n",
       "      <td>9,800.64</td>\n",
       "      <td>25,921,805,072</td>\n",
       "      <td>180,276,153,545</td>\n",
       "    </tr>\n",
       "    <tr>\n",
       "      <th>4</th>\n",
       "      <td>Jun 03, 2020</td>\n",
       "      <td>9,533.76</td>\n",
       "      <td>9,682.86</td>\n",
       "      <td>9,471.85</td>\n",
       "      <td>9,656.72</td>\n",
       "      <td>25,007,459,262</td>\n",
       "      <td>177,619,631,126</td>\n",
       "    </tr>\n",
       "  </tbody>\n",
       "</table>\n",
       "</div>"
      ],
      "text/plain": [
       "           Date      Open      High  ...     Close          Volume       Market Cap\n",
       "0  Jun 07, 2020  9,653.00  9,768.50  ...  9,758.85  25,015,250,846  179,540,253,701\n",
       "1  Jun 06, 2020  9,664.90  9,773.43  ...  9,653.68  20,438,419,222  177,595,657,884\n",
       "2  Jun 05, 2020  9,800.22  9,869.24  ...  9,665.53  23,509,628,646  177,801,825,145\n",
       "3  Jun 04, 2020  9,655.85  9,887.61  ...  9,800.64  25,921,805,072  180,276,153,545\n",
       "4  Jun 03, 2020  9,533.76  9,682.86  ...  9,656.72  25,007,459,262  177,619,631,126\n",
       "\n",
       "[5 rows x 7 columns]"
      ]
     },
     "execution_count": 24,
     "metadata": {
      "tags": []
     },
     "output_type": "execute_result"
    }
   ],
   "source": [
    "data = pd.read_csv('full_data_btc.csv')\n",
    "data.head()"
   ]
  },
  {
   "cell_type": "code",
   "execution_count": 25,
   "metadata": {
    "colab": {
     "base_uri": "https://localhost:8080/",
     "height": 159
    },
    "colab_type": "code",
    "id": "O3BH3MwzG2FP",
    "outputId": "5884ae53-66c8-4053-e259-019275aa852a"
   },
   "outputs": [
    {
     "data": {
      "text/plain": [
       "Date          object\n",
       "Open          object\n",
       "High          object\n",
       "Low           object\n",
       "Close         object\n",
       "Volume        object\n",
       "Market Cap    object\n",
       "dtype: object"
      ]
     },
     "execution_count": 25,
     "metadata": {
      "tags": []
     },
     "output_type": "execute_result"
    }
   ],
   "source": [
    "data.dtypes"
   ]
  },
  {
   "cell_type": "markdown",
   "metadata": {
    "colab_type": "text",
    "id": "nbJkg1mhSB9p"
   },
   "source": [
    "## Function to change object to numerical data"
   ]
  },
  {
   "cell_type": "code",
   "execution_count": 63,
   "metadata": {
    "colab": {},
    "colab_type": "code",
    "id": "vEvo1TJAOrIQ"
   },
   "outputs": [],
   "source": [
    "def obj_to_num(df,cols):\n",
    "    def obj_to_num(row):\n",
    "        row = row.replace(',','')\n",
    "        return float(row)\n",
    "\n",
    "    for col in cols: \n",
    "      df[col] = df[col].apply(obj_to_num) \n",
    "    return df"
   ]
  },
  {
   "cell_type": "code",
   "execution_count": 27,
   "metadata": {
    "colab": {
     "base_uri": "https://localhost:8080/",
     "height": 194
    },
    "colab_type": "code",
    "id": "9AIuPlKePyZH",
    "outputId": "e0bdcbad-86d6-41a7-9d91-a454c78202ab"
   },
   "outputs": [
    {
     "data": {
      "text/html": [
       "<div>\n",
       "<style scoped>\n",
       "    .dataframe tbody tr th:only-of-type {\n",
       "        vertical-align: middle;\n",
       "    }\n",
       "\n",
       "    .dataframe tbody tr th {\n",
       "        vertical-align: top;\n",
       "    }\n",
       "\n",
       "    .dataframe thead th {\n",
       "        text-align: right;\n",
       "    }\n",
       "</style>\n",
       "<table border=\"1\" class=\"dataframe\">\n",
       "  <thead>\n",
       "    <tr style=\"text-align: right;\">\n",
       "      <th></th>\n",
       "      <th>Date</th>\n",
       "      <th>Open</th>\n",
       "      <th>High</th>\n",
       "      <th>Low</th>\n",
       "      <th>Close</th>\n",
       "      <th>Volume</th>\n",
       "      <th>Market Cap</th>\n",
       "    </tr>\n",
       "  </thead>\n",
       "  <tbody>\n",
       "    <tr>\n",
       "      <th>0</th>\n",
       "      <td>Jun 07, 2020</td>\n",
       "      <td>9653.00</td>\n",
       "      <td>9768.50</td>\n",
       "      <td>9458.15</td>\n",
       "      <td>9758.85</td>\n",
       "      <td>2.501525e+10</td>\n",
       "      <td>1.795403e+11</td>\n",
       "    </tr>\n",
       "    <tr>\n",
       "      <th>1</th>\n",
       "      <td>Jun 06, 2020</td>\n",
       "      <td>9664.90</td>\n",
       "      <td>9773.43</td>\n",
       "      <td>9591.02</td>\n",
       "      <td>9653.68</td>\n",
       "      <td>2.043842e+10</td>\n",
       "      <td>1.775957e+11</td>\n",
       "    </tr>\n",
       "    <tr>\n",
       "      <th>2</th>\n",
       "      <td>Jun 05, 2020</td>\n",
       "      <td>9800.22</td>\n",
       "      <td>9869.24</td>\n",
       "      <td>9663.22</td>\n",
       "      <td>9665.53</td>\n",
       "      <td>2.350963e+10</td>\n",
       "      <td>1.778018e+11</td>\n",
       "    </tr>\n",
       "    <tr>\n",
       "      <th>3</th>\n",
       "      <td>Jun 04, 2020</td>\n",
       "      <td>9655.85</td>\n",
       "      <td>9887.61</td>\n",
       "      <td>9525.25</td>\n",
       "      <td>9800.64</td>\n",
       "      <td>2.592181e+10</td>\n",
       "      <td>1.802762e+11</td>\n",
       "    </tr>\n",
       "    <tr>\n",
       "      <th>4</th>\n",
       "      <td>Jun 03, 2020</td>\n",
       "      <td>9533.76</td>\n",
       "      <td>9682.86</td>\n",
       "      <td>9471.85</td>\n",
       "      <td>9656.72</td>\n",
       "      <td>2.500746e+10</td>\n",
       "      <td>1.776196e+11</td>\n",
       "    </tr>\n",
       "  </tbody>\n",
       "</table>\n",
       "</div>"
      ],
      "text/plain": [
       "           Date     Open     High      Low    Close        Volume    Market Cap\n",
       "0  Jun 07, 2020  9653.00  9768.50  9458.15  9758.85  2.501525e+10  1.795403e+11\n",
       "1  Jun 06, 2020  9664.90  9773.43  9591.02  9653.68  2.043842e+10  1.775957e+11\n",
       "2  Jun 05, 2020  9800.22  9869.24  9663.22  9665.53  2.350963e+10  1.778018e+11\n",
       "3  Jun 04, 2020  9655.85  9887.61  9525.25  9800.64  2.592181e+10  1.802762e+11\n",
       "4  Jun 03, 2020  9533.76  9682.86  9471.85  9656.72  2.500746e+10  1.776196e+11"
      ]
     },
     "execution_count": 27,
     "metadata": {
      "tags": []
     },
     "output_type": "execute_result"
    }
   ],
   "source": [
    "columns = ['Open','High','Low','Close','Volume','Market Cap']\n",
    "num_data = obj_to_num(data,columns)\n",
    "num_data.head()"
   ]
  },
  {
   "cell_type": "code",
   "execution_count": 28,
   "metadata": {
    "colab": {
     "base_uri": "https://localhost:8080/",
     "height": 194
    },
    "colab_type": "code",
    "id": "21zTCWd1YCsD",
    "outputId": "2d3fa4c2-4cc1-4e30-eb1c-70167aee15ba"
   },
   "outputs": [
    {
     "data": {
      "text/html": [
       "<div>\n",
       "<style scoped>\n",
       "    .dataframe tbody tr th:only-of-type {\n",
       "        vertical-align: middle;\n",
       "    }\n",
       "\n",
       "    .dataframe tbody tr th {\n",
       "        vertical-align: top;\n",
       "    }\n",
       "\n",
       "    .dataframe thead th {\n",
       "        text-align: right;\n",
       "    }\n",
       "</style>\n",
       "<table border=\"1\" class=\"dataframe\">\n",
       "  <thead>\n",
       "    <tr style=\"text-align: right;\">\n",
       "      <th></th>\n",
       "      <th>Date</th>\n",
       "      <th>Open</th>\n",
       "      <th>High</th>\n",
       "      <th>Low</th>\n",
       "      <th>Close</th>\n",
       "      <th>Volume</th>\n",
       "      <th>Market Cap</th>\n",
       "    </tr>\n",
       "  </thead>\n",
       "  <tbody>\n",
       "    <tr>\n",
       "      <th>0</th>\n",
       "      <td>2020-06-07 00:00:00+00:00</td>\n",
       "      <td>9653.00</td>\n",
       "      <td>9768.50</td>\n",
       "      <td>9458.15</td>\n",
       "      <td>9758.85</td>\n",
       "      <td>2.501525e+10</td>\n",
       "      <td>1.795403e+11</td>\n",
       "    </tr>\n",
       "    <tr>\n",
       "      <th>1</th>\n",
       "      <td>2020-06-06 00:00:00+00:00</td>\n",
       "      <td>9664.90</td>\n",
       "      <td>9773.43</td>\n",
       "      <td>9591.02</td>\n",
       "      <td>9653.68</td>\n",
       "      <td>2.043842e+10</td>\n",
       "      <td>1.775957e+11</td>\n",
       "    </tr>\n",
       "    <tr>\n",
       "      <th>2</th>\n",
       "      <td>2020-06-05 00:00:00+00:00</td>\n",
       "      <td>9800.22</td>\n",
       "      <td>9869.24</td>\n",
       "      <td>9663.22</td>\n",
       "      <td>9665.53</td>\n",
       "      <td>2.350963e+10</td>\n",
       "      <td>1.778018e+11</td>\n",
       "    </tr>\n",
       "    <tr>\n",
       "      <th>3</th>\n",
       "      <td>2020-06-04 00:00:00+00:00</td>\n",
       "      <td>9655.85</td>\n",
       "      <td>9887.61</td>\n",
       "      <td>9525.25</td>\n",
       "      <td>9800.64</td>\n",
       "      <td>2.592181e+10</td>\n",
       "      <td>1.802762e+11</td>\n",
       "    </tr>\n",
       "    <tr>\n",
       "      <th>4</th>\n",
       "      <td>2020-06-03 00:00:00+00:00</td>\n",
       "      <td>9533.76</td>\n",
       "      <td>9682.86</td>\n",
       "      <td>9471.85</td>\n",
       "      <td>9656.72</td>\n",
       "      <td>2.500746e+10</td>\n",
       "      <td>1.776196e+11</td>\n",
       "    </tr>\n",
       "  </tbody>\n",
       "</table>\n",
       "</div>"
      ],
      "text/plain": [
       "                       Date     Open  ...        Volume    Market Cap\n",
       "0 2020-06-07 00:00:00+00:00  9653.00  ...  2.501525e+10  1.795403e+11\n",
       "1 2020-06-06 00:00:00+00:00  9664.90  ...  2.043842e+10  1.775957e+11\n",
       "2 2020-06-05 00:00:00+00:00  9800.22  ...  2.350963e+10  1.778018e+11\n",
       "3 2020-06-04 00:00:00+00:00  9655.85  ...  2.592181e+10  1.802762e+11\n",
       "4 2020-06-03 00:00:00+00:00  9533.76  ...  2.500746e+10  1.776196e+11\n",
       "\n",
       "[5 rows x 7 columns]"
      ]
     },
     "execution_count": 28,
     "metadata": {
      "tags": []
     },
     "output_type": "execute_result"
    }
   ],
   "source": [
    "from datetime import datetime\n",
    "num_data['Date'] = num_data['Date'].apply(lambda x: datetime.strptime(x, '%b %d, %Y').strftime('%Y-%m-%d'))\n",
    "num_data['Date'] = pd.to_datetime(num_data['Date'], utc=True)\n",
    "num_data.head()"
   ]
  },
  {
   "cell_type": "code",
   "execution_count": 29,
   "metadata": {
    "colab": {
     "base_uri": "https://localhost:8080/",
     "height": 159
    },
    "colab_type": "code",
    "id": "jCd0C9AUfQl9",
    "outputId": "0e97ee7e-bd36-4d55-f18e-c4b18b6e0bff"
   },
   "outputs": [
    {
     "data": {
      "text/plain": [
       "Date          datetime64[ns, UTC]\n",
       "Open                      float64\n",
       "High                      float64\n",
       "Low                       float64\n",
       "Close                     float64\n",
       "Volume                    float64\n",
       "Market Cap                float64\n",
       "dtype: object"
      ]
     },
     "execution_count": 29,
     "metadata": {
      "tags": []
     },
     "output_type": "execute_result"
    }
   ],
   "source": [
    "num_data.dtypes"
   ]
  },
  {
   "cell_type": "markdown",
   "metadata": {
    "colab_type": "text",
    "id": "cvzivr1vYftM"
   },
   "source": [
    "## Making data plot"
   ]
  },
  {
   "cell_type": "code",
   "execution_count": 30,
   "metadata": {
    "colab": {
     "base_uri": "https://localhost:8080/",
     "height": 35
    },
    "colab_type": "code",
    "id": "zpO77JBZVmFM",
    "outputId": "63226ecd-1f10-4bb8-df27-a573fb21cecb"
   },
   "outputs": [
    {
     "name": "stdout",
     "output_type": "stream",
     "text": [
      "Requirement already satisfied: pytz in /usr/local/lib/python3.6/dist-packages (2018.9)\n"
     ]
    }
   ],
   "source": [
    "!pip install pytz"
   ]
  },
  {
   "cell_type": "code",
   "execution_count": 31,
   "metadata": {
    "colab": {
     "base_uri": "https://localhost:8080/",
     "height": 194
    },
    "colab_type": "code",
    "id": "xubsDlwIV0t3",
    "outputId": "e30b1b9b-c532-4053-88b1-23a9793d1889"
   },
   "outputs": [
    {
     "data": {
      "text/html": [
       "<div>\n",
       "<style scoped>\n",
       "    .dataframe tbody tr th:only-of-type {\n",
       "        vertical-align: middle;\n",
       "    }\n",
       "\n",
       "    .dataframe tbody tr th {\n",
       "        vertical-align: top;\n",
       "    }\n",
       "\n",
       "    .dataframe thead th {\n",
       "        text-align: right;\n",
       "    }\n",
       "</style>\n",
       "<table border=\"1\" class=\"dataframe\">\n",
       "  <thead>\n",
       "    <tr style=\"text-align: right;\">\n",
       "      <th></th>\n",
       "      <th>Date</th>\n",
       "      <th>Open</th>\n",
       "      <th>High</th>\n",
       "      <th>Low</th>\n",
       "      <th>Close</th>\n",
       "      <th>Volume</th>\n",
       "      <th>Market Cap</th>\n",
       "    </tr>\n",
       "  </thead>\n",
       "  <tbody>\n",
       "    <tr>\n",
       "      <th>0</th>\n",
       "      <td>2013-04-29 00:00:00+00:00</td>\n",
       "      <td>134.44</td>\n",
       "      <td>147.49</td>\n",
       "      <td>134.00</td>\n",
       "      <td>144.54</td>\n",
       "      <td>0.0</td>\n",
       "      <td>1.603769e+09</td>\n",
       "    </tr>\n",
       "    <tr>\n",
       "      <th>1</th>\n",
       "      <td>2013-05-06 00:00:00+00:00</td>\n",
       "      <td>115.98</td>\n",
       "      <td>124.66</td>\n",
       "      <td>106.64</td>\n",
       "      <td>112.30</td>\n",
       "      <td>0.0</td>\n",
       "      <td>1.249023e+09</td>\n",
       "    </tr>\n",
       "    <tr>\n",
       "      <th>2</th>\n",
       "      <td>2013-05-13 00:00:00+00:00</td>\n",
       "      <td>114.82</td>\n",
       "      <td>118.70</td>\n",
       "      <td>114.50</td>\n",
       "      <td>117.98</td>\n",
       "      <td>0.0</td>\n",
       "      <td>1.315710e+09</td>\n",
       "    </tr>\n",
       "    <tr>\n",
       "      <th>3</th>\n",
       "      <td>2013-05-20 00:00:00+00:00</td>\n",
       "      <td>122.50</td>\n",
       "      <td>123.62</td>\n",
       "      <td>120.12</td>\n",
       "      <td>122.00</td>\n",
       "      <td>0.0</td>\n",
       "      <td>1.363710e+09</td>\n",
       "    </tr>\n",
       "    <tr>\n",
       "      <th>4</th>\n",
       "      <td>2013-05-27 00:00:00+00:00</td>\n",
       "      <td>133.50</td>\n",
       "      <td>135.46</td>\n",
       "      <td>124.70</td>\n",
       "      <td>129.74</td>\n",
       "      <td>0.0</td>\n",
       "      <td>1.454030e+09</td>\n",
       "    </tr>\n",
       "  </tbody>\n",
       "</table>\n",
       "</div>"
      ],
      "text/plain": [
       "                       Date    Open    High  ...   Close  Volume    Market Cap\n",
       "0 2013-04-29 00:00:00+00:00  134.44  147.49  ...  144.54     0.0  1.603769e+09\n",
       "1 2013-05-06 00:00:00+00:00  115.98  124.66  ...  112.30     0.0  1.249023e+09\n",
       "2 2013-05-13 00:00:00+00:00  114.82  118.70  ...  117.98     0.0  1.315710e+09\n",
       "3 2013-05-20 00:00:00+00:00  122.50  123.62  ...  122.00     0.0  1.363710e+09\n",
       "4 2013-05-27 00:00:00+00:00  133.50  135.46  ...  129.74     0.0  1.454030e+09\n",
       "\n",
       "[5 rows x 7 columns]"
      ]
     },
     "execution_count": 31,
     "metadata": {
      "tags": []
     },
     "output_type": "execute_result"
    }
   ],
   "source": [
    "# create valid date range\n",
    "import pytz\n",
    "start = datetime(2013, 3, 5, 0, 0, 0, 0, pytz.UTC)\n",
    "end = datetime(2020, 6, 7, 0, 0, 0, 0, pytz.UTC)\n",
    "\n",
    "# find rows between start and end time and find the first row (00:00 monday morning)\n",
    "weekly_rows = num_data[(num_data['Date'] >= start) & (num_data['Date'] <= end)].groupby([pd.Grouper(key='Date', freq='W-MON')]).first().reset_index()\n",
    "weekly_rows.head()"
   ]
  },
  {
   "cell_type": "code",
   "execution_count": 36,
   "metadata": {
    "colab": {},
    "colab_type": "code",
    "id": "jhH9KRD6H1FW"
   },
   "outputs": [],
   "source": [
    "#import chart_studio.plotly as py\n",
    "import plotly.graph_objects as go\n",
    "import chart_studio as py"
   ]
  },
  {
   "cell_type": "code",
   "execution_count": 42,
   "metadata": {
    "colab": {},
    "colab_type": "code",
    "id": "Sr3iTFYJV7kl"
   },
   "outputs": [],
   "source": [
    "py.tools.set_credentials_file(username='ji_nb', api_key='eGoxXwU4vG6jV7WJVzpw')"
   ]
  },
  {
   "cell_type": "code",
   "execution_count": 43,
   "metadata": {
    "colab": {
     "base_uri": "https://localhost:8080/",
     "height": 546
    },
    "colab_type": "code",
    "id": "HB0_WpRjRn0p",
    "outputId": "8187c878-c26c-46c3-fd43-22c4e16df942"
   },
   "outputs": [
    {
     "data": {
      "text/html": [
       "\n",
       "        <iframe\n",
       "            width=\"100%\"\n",
       "            height=\"525px\"\n",
       "            src=\"https://plotly.com/~ji_nb/1.embed\"\n",
       "            frameborder=\"0\"\n",
       "            allowfullscreen\n",
       "        ></iframe>\n",
       "        "
      ],
      "text/plain": [
       "<IPython.lib.display.IFrame at 0x7fca0a9fcd68>"
      ]
     },
     "execution_count": 43,
     "metadata": {
      "tags": []
     },
     "output_type": "execute_result"
    }
   ],
   "source": [
    "trace1 = go.Scatter(\n",
    "    x = weekly_rows['Date'],\n",
    "    y = weekly_rows['Open'].astype(float),\n",
    "    mode = 'lines',\n",
    "    name = 'Open'\n",
    ")\n",
    "\n",
    "trace2 = go.Scatter(\n",
    "    x = weekly_rows['Date'],\n",
    "    y = weekly_rows['Close'].astype(float),\n",
    "    mode = 'lines',\n",
    "    name = 'Close'\n",
    ")\n",
    "trace3 = go.Scatter(\n",
    "    x = weekly_rows['Date'],\n",
    "    y = weekly_rows['High'].astype(float),\n",
    "    mode = 'lines',\n",
    "    name = 'High'\n",
    ")\n",
    "\n",
    "layout = dict(\n",
    "    title='Historical Bitcoin Prices (2013-2020) with the Slider ',\n",
    "    xaxis=dict(\n",
    "        rangeselector=dict(\n",
    "            buttons=list([\n",
    "                #change the count to desired amount of months.\n",
    "                dict(count=1,\n",
    "                     label='1m',\n",
    "                     step='month',\n",
    "                     stepmode='backward'),\n",
    "                dict(count=6,\n",
    "                     label='6m',\n",
    "                     step='month',\n",
    "                     stepmode='backward'),\n",
    "                dict(count=12,\n",
    "                     label='1y',\n",
    "                     step='month',\n",
    "                     stepmode='backward'),\n",
    "                dict(count=36,\n",
    "                     label='3y',\n",
    "                     step='month',\n",
    "                     stepmode='backward'),\n",
    "                dict(step='all')\n",
    "            ])\n",
    "        ),\n",
    "        rangeslider=dict(\n",
    "            visible = True\n",
    "        ),\n",
    "        type='date'\n",
    "    )\n",
    ")\n",
    "\n",
    "data = [trace1, trace2, trace3]\n",
    "fig = dict(data=data, layout=layout)\n",
    "py.plotly.iplot(fig, filename = \"Time_Series_with_Rangeslider\")"
   ]
  },
  {
   "cell_type": "markdown",
   "metadata": {},
   "source": [
    "### https://plotly.com/~ji_nb/1/\n",
    "![title](newplot.png)"
   ]
  },
  {
   "cell_type": "code",
   "execution_count": 44,
   "metadata": {
    "colab": {
     "base_uri": "https://localhost:8080/",
     "height": 546
    },
    "colab_type": "code",
    "id": "tBfGHd11-Kef",
    "outputId": "c265399c-3a16-4874-c05a-d5ba5cc8bffc"
   },
   "outputs": [
    {
     "data": {
      "text/html": [
       "\n",
       "        <iframe\n",
       "            width=\"100%\"\n",
       "            height=\"525px\"\n",
       "            src=\"https://plotly.com/~ji_nb/3.embed\"\n",
       "            frameborder=\"0\"\n",
       "            allowfullscreen\n",
       "        ></iframe>\n",
       "        "
      ],
      "text/plain": [
       "<IPython.lib.display.IFrame at 0x7fca0ce8a550>"
      ]
     },
     "execution_count": 44,
     "metadata": {
      "tags": []
     },
     "output_type": "execute_result"
    }
   ],
   "source": [
    "trace1 = go.Scatter(\n",
    "    x = weekly_rows['Date'],\n",
    "    y = weekly_rows['Volume'].astype(float),\n",
    "    mode = 'lines',\n",
    "    name = 'Bitcoin Price (Open)'\n",
    ")\n",
    "\n",
    "layout = dict(\n",
    "    title='Historical Bitcoin Volume (USD) (2013-2020)',\n",
    "    xaxis=dict(\n",
    "        rangeselector=dict(\n",
    "            buttons=list([\n",
    "                dict(count=1,\n",
    "                     label='1m',\n",
    "                     step='month',\n",
    "                     stepmode='backward'),\n",
    "                dict(count=6,\n",
    "                     label='6m',\n",
    "                     step='month',\n",
    "                     stepmode='backward'),\n",
    "                dict(count=12,\n",
    "                     label='1y',\n",
    "                     step='month',\n",
    "                     stepmode='backward'),\n",
    "                dict(count=36,\n",
    "                     label='3y',\n",
    "                     step='month',\n",
    "                     stepmode='backward'),\n",
    "                dict(step='all')\n",
    "            ])\n",
    "        ),\n",
    "        rangeslider=dict(\n",
    "            visible = True\n",
    "        ),\n",
    "        type='date'\n",
    "    )\n",
    ")\n",
    "\n",
    "data = [trace1]\n",
    "fig = dict(data=data, layout=layout)\n",
    "py.plotly.iplot(fig, filename = \"Time Series with Rangeslider\")"
   ]
  },
  {
   "cell_type": "markdown",
   "metadata": {},
   "source": [
    "### https://plotly.com/~ji_nb/3/\n",
    "![title](newplot_volume.png)"
   ]
  },
  {
   "cell_type": "markdown",
   "metadata": {
    "colab_type": "text",
    "id": "pDT743oYfe41"
   },
   "source": [
    "## Time series with XGBoost"
   ]
  },
  {
   "cell_type": "code",
   "execution_count": 48,
   "metadata": {
    "colab": {
     "base_uri": "https://localhost:8080/",
     "height": 195
    },
    "colab_type": "code",
    "id": "mAiPQogonDQ6",
    "outputId": "3a357073-4b74-4ffd-ac43-08527376acf7"
   },
   "outputs": [
    {
     "name": "stdout",
     "output_type": "stream",
     "text": [
      "Collecting dateparser\n",
      "\u001b[?25l  Downloading https://files.pythonhosted.org/packages/c1/d5/5a2e51bc0058f66b54669735f739d27afc3eb453ab00520623c7ab168e22/dateparser-0.7.6-py2.py3-none-any.whl (362kB)\n",
      "\u001b[K     |████████████████████████████████| 368kB 2.8MB/s \n",
      "\u001b[?25hRequirement already satisfied: tzlocal in /usr/local/lib/python3.6/dist-packages (from dateparser) (1.5.1)\n",
      "Requirement already satisfied: regex!=2019.02.19 in /usr/local/lib/python3.6/dist-packages (from dateparser) (2019.12.20)\n",
      "Requirement already satisfied: python-dateutil in /usr/local/lib/python3.6/dist-packages (from dateparser) (2.8.1)\n",
      "Requirement already satisfied: pytz in /usr/local/lib/python3.6/dist-packages (from dateparser) (2018.9)\n",
      "Requirement already satisfied: six>=1.5 in /usr/local/lib/python3.6/dist-packages (from python-dateutil->dateparser) (1.12.0)\n",
      "Installing collected packages: dateparser\n",
      "Successfully installed dateparser-0.7.6\n"
     ]
    }
   ],
   "source": [
    "!pip install dateparser"
   ]
  },
  {
   "cell_type": "code",
   "execution_count": 68,
   "metadata": {
    "colab": {},
    "colab_type": "code",
    "id": "v_24I2e-dwME"
   },
   "outputs": [],
   "source": [
    "from fbprophet import Prophet\n",
    "from sklearn.metrics import mean_squared_error, mean_absolute_error\n",
    "import dateparser\n",
    "plt.style.use('fivethirtyeight')"
   ]
  },
  {
   "cell_type": "markdown",
   "metadata": {
    "colab_type": "text",
    "id": "HoS3ZJoFs2lP"
   },
   "source": []
  },
  {
   "cell_type": "code",
   "execution_count": 69,
   "metadata": {
    "colab": {
     "base_uri": "https://localhost:8080/",
     "height": 294
    },
    "colab_type": "code",
    "id": "ZwALG-rHdwGK",
    "outputId": "8ab00bda-1788-4ccd-ccc5-d3f4a459c846"
   },
   "outputs": [
    {
     "name": "stderr",
     "output_type": "stream",
     "text": [
      "/usr/local/lib/python3.6/dist-packages/ipykernel_launcher.py:1: FutureWarning:\n",
      "\n",
      "The pandas.datetime class is deprecated and will be removed from pandas in a future version. Import from datetime instead.\n",
      "\n"
     ]
    },
    {
     "data": {
      "text/html": [
       "<div>\n",
       "<style scoped>\n",
       "    .dataframe tbody tr th:only-of-type {\n",
       "        vertical-align: middle;\n",
       "    }\n",
       "\n",
       "    .dataframe tbody tr th {\n",
       "        vertical-align: top;\n",
       "    }\n",
       "\n",
       "    .dataframe thead th {\n",
       "        text-align: right;\n",
       "    }\n",
       "</style>\n",
       "<table border=\"1\" class=\"dataframe\">\n",
       "  <thead>\n",
       "    <tr style=\"text-align: right;\">\n",
       "      <th></th>\n",
       "      <th>Close</th>\n",
       "    </tr>\n",
       "    <tr>\n",
       "      <th>Date</th>\n",
       "      <th></th>\n",
       "    </tr>\n",
       "  </thead>\n",
       "  <tbody>\n",
       "    <tr>\n",
       "      <th>2013-04-28</th>\n",
       "      <td>134.21</td>\n",
       "    </tr>\n",
       "    <tr>\n",
       "      <th>2013-04-29</th>\n",
       "      <td>144.54</td>\n",
       "    </tr>\n",
       "    <tr>\n",
       "      <th>2013-04-30</th>\n",
       "      <td>139.00</td>\n",
       "    </tr>\n",
       "    <tr>\n",
       "      <th>2013-05-01</th>\n",
       "      <td>116.99</td>\n",
       "    </tr>\n",
       "    <tr>\n",
       "      <th>2013-05-02</th>\n",
       "      <td>105.21</td>\n",
       "    </tr>\n",
       "  </tbody>\n",
       "</table>\n",
       "</div>"
      ],
      "text/plain": [
       "             Close\n",
       "Date              \n",
       "2013-04-28  134.21\n",
       "2013-04-29  144.54\n",
       "2013-04-30  139.00\n",
       "2013-05-01  116.99\n",
       "2013-05-02  105.21"
      ]
     },
     "execution_count": 69,
     "metadata": {
      "tags": []
     },
     "output_type": "execute_result"
    }
   ],
   "source": [
    "dateparse = lambda x: pd.datetime.strptime(x, '%b %d, %Y').strftime('%Y-%m-%d')\n",
    "datat  = pd.read_csv('full_data_btc.csv', parse_dates=[0], date_parser=dateparse)\n",
    "datat['Date'] = datat['Date'].dt.tz_localize(None)\n",
    "datat = datat.groupby([pd.Grouper(key='Date', freq='H')]).first().reset_index()\n",
    "datat = datat.set_index('Date')\n",
    "datat = datat[['Close']]\n",
    "datat.dropna(subset=['Close'], inplace=True)\n",
    "datat.head()"
   ]
  },
  {
   "cell_type": "code",
   "execution_count": 70,
   "metadata": {
    "colab": {},
    "colab_type": "code",
    "id": "47Za9q-0tJX8"
   },
   "outputs": [],
   "source": [
    "columns = ['Close']\n",
    "datat = obj_to_num(datat,columns)   # Function to change object to numerical data"
   ]
  },
  {
   "cell_type": "code",
   "execution_count": 71,
   "metadata": {
    "colab": {
     "base_uri": "https://localhost:8080/",
     "height": 52
    },
    "colab_type": "code",
    "id": "t6WykG-XsgSn",
    "outputId": "2dee0a52-37f4-4508-ba5c-d208335fe8f6"
   },
   "outputs": [
    {
     "data": {
      "text/plain": [
       "Close    float64\n",
       "dtype: object"
      ]
     },
     "execution_count": 71,
     "metadata": {
      "tags": []
     },
     "output_type": "execute_result"
    }
   ],
   "source": [
    "datat.dtypes"
   ]
  },
  {
   "cell_type": "code",
   "execution_count": 72,
   "metadata": {
    "colab": {
     "base_uri": "https://localhost:8080/",
     "height": 383
    },
    "colab_type": "code",
    "id": "E-_9cCrmdv_x",
    "outputId": "cddb431c-28c2-4719-df16-2cbd68954ff0"
   },
   "outputs": [
    {
     "data": {
      "image/png": "[encoded data removed]",
      "text/plain": [
       "<Figure size 1080x360 with 1 Axes>"
      ]
     },
     "metadata": {
      "tags": []
     },
     "output_type": "display_data"
    }
   ],
   "source": [
    "_ = datat.plot(style='', figsize=(15,5), color=\"#F8766D\", title='BTC Close_Price by Days')"
   ]
  },
  {
   "cell_type": "code",
   "execution_count": 74,
   "metadata": {
    "colab": {},
    "colab_type": "code",
    "id": "FDdU0jCgdv5t"
   },
   "outputs": [],
   "source": [
    "split_date = '2020-03-01'\n",
    "data_train = datat.loc[datat.index <= split_date].copy()\n",
    "data_test = datat.loc[datat.index > split_date].copy()"
   ]
  },
  {
   "cell_type": "code",
   "execution_count": 76,
   "metadata": {
    "colab": {
     "base_uri": "https://localhost:8080/",
     "height": 383
    },
    "colab_type": "code",
    "id": "Yei5xL0zdvx4",
    "outputId": "e805bbf2-838e-4e55-e15e-ae78230d8f77"
   },
   "outputs": [
    {
     "data": {
      "image/png": "[encoded data removed]",
      "text/plain": [
       "<Figure size 1080x360 with 1 Axes>"
      ]
     },
     "metadata": {
      "tags": []
     },
     "output_type": "display_data"
    }
   ],
   "source": [
    "_ = data_test \\\n",
    "    .rename(columns={'Close': 'Test Set'}) \\\n",
    "    .join(data_train.rename(columns={'Close': 'Training Set'}), how='outer') \\\n",
    "    .plot(figsize=(15,5), title='BTC Close Price by Days', style='')"
   ]
  },
  {
   "cell_type": "code",
   "execution_count": 77,
   "metadata": {
    "colab": {},
    "colab_type": "code",
    "id": "h7P5xtffdvn5"
   },
   "outputs": [],
   "source": [
    "def create_features(df, label=None):\n",
    "    \"\"\"\n",
    "    Creates time series features from datetime index\n",
    "    \"\"\"\n",
    "    df['date'] = df.index\n",
    "    df['hour'] = df['date'].dt.hour\n",
    "    df['dayofweek'] = df['date'].dt.dayofweek\n",
    "    df['quarter'] = df['date'].dt.quarter\n",
    "    df['month'] = df['date'].dt.month\n",
    "    df['year'] = df['date'].dt.year\n",
    "    df['dayofyear'] = df['date'].dt.dayofyear\n",
    "    df['dayofmonth'] = df['date'].dt.day\n",
    "    df['weekofyear'] = df['date'].dt.weekofyear\n",
    "    \n",
    "    X = df[['hour','dayofweek','quarter','month','year',\n",
    "           'dayofyear','dayofmonth','weekofyear']]\n",
    "    if label:\n",
    "        y = df[label]\n",
    "        return X, y\n",
    "    return X"
   ]
  },
  {
   "cell_type": "code",
   "execution_count": 79,
   "metadata": {
    "colab": {},
    "colab_type": "code",
    "id": "Rxhcg63RzmFX"
   },
   "outputs": [],
   "source": [
    "X_train, y_train = create_features(data_train, label='Close')\n",
    "X_test, y_test = create_features(data_test, label='Close')"
   ]
  },
  {
   "cell_type": "code",
   "execution_count": 80,
   "metadata": {
    "colab": {
     "base_uri": "https://localhost:8080/",
     "height": 159
    },
    "colab_type": "code",
    "id": "BUYOEtifzmCM",
    "outputId": "76f800a0-78ef-40db-ffa8-ecb6b531b8ed"
   },
   "outputs": [
    {
     "name": "stdout",
     "output_type": "stream",
     "text": [
      "[20:12:50] WARNING: /workspace/src/objective/regression_obj.cu:152: reg:linear is now deprecated in favor of reg:squarederror.\n"
     ]
    },
    {
     "data": {
      "text/plain": [
       "XGBRegressor(alpha=10, base_score=0.5, booster='gbtree', colsample_bylevel=1,\n",
       "             colsample_bynode=1, colsample_bytree=0.3, gamma=0,\n",
       "             importance_type='gain', learning_rate=0.1, max_delta_step=0,\n",
       "             max_depth=5, min_child_weight=10, missing=None, n_estimators=100,\n",
       "             n_jobs=1, nthread=None, objective='reg:linear', random_state=0,\n",
       "             reg_alpha=0, reg_lambda=1, scale_pos_weight=1, seed=None,\n",
       "             silent=None, subsample=1, verbosity=1)"
      ]
     },
     "execution_count": 80,
     "metadata": {
      "tags": []
     },
     "output_type": "execute_result"
    }
   ],
   "source": [
    "import xgboost as xgb\n",
    "from xgboost import plot_importance, plot_tree\n",
    "model =  xgb.XGBRegressor(objective ='reg:linear',min_child_weight=10, booster='gbtree', colsample_bytree = 0.3, learning_rate = 0.1,\n",
    "                max_depth = 5, alpha = 10, n_estimators = 100)\n",
    "model.fit(X_train, y_train,\n",
    "        eval_set=[(X_train, y_train), (X_test, y_test)],\n",
    "        early_stopping_rounds=50,\n",
    "       verbose=False)"
   ]
  },
  {
   "cell_type": "code",
   "execution_count": 81,
   "metadata": {
    "colab": {},
    "colab_type": "code",
    "id": "8SG71Ka9zl_L"
   },
   "outputs": [],
   "source": [
    "data_test['Close_Prediction'] = model.predict(X_test)\n",
    "data_all = pd.concat([data_test, data_train], sort=False)"
   ]
  },
  {
   "cell_type": "code",
   "execution_count": 85,
   "metadata": {
    "colab": {},
    "colab_type": "code",
    "id": "SOrXVMmK1cW3"
   },
   "outputs": [],
   "source": [
    "final_data = datat.copy()\n",
    "final_data = pd.merge(final_data, data_all, sort=False)\n",
    "final_data = final_data.rename(columns={'Close_Prediction': 'xgboost'})\n",
    "final_data = final_data[['Close','xgboost']]"
   ]
  },
  {
   "cell_type": "code",
   "execution_count": 82,
   "metadata": {
    "colab": {
     "base_uri": "https://localhost:8080/",
     "height": 331
    },
    "colab_type": "code",
    "id": "TQucTyfRzl8c",
    "outputId": "5d7c8a86-5a91-493f-86b0-89bdb643f95a"
   },
   "outputs": [
    {
     "data": {
      "image/png": "[encoded data removed]",
      "text/plain": [
       "<Figure size 1080x360 with 1 Axes>"
      ]
     },
     "metadata": {
      "tags": []
     },
     "output_type": "display_data"
    }
   ],
   "source": [
    "_ = data_all[['Close','Close_Prediction']].plot(figsize=(15, 5))"
   ]
  },
  {
   "cell_type": "code",
   "execution_count": 86,
   "metadata": {
    "colab": {
     "base_uri": "https://localhost:8080/",
     "height": 390
    },
    "colab_type": "code",
    "id": "SKwgG9kb1bf6",
    "outputId": "5c634521-aff8-4584-a175-99cd20122c51"
   },
   "outputs": [
    {
     "data": {
      "image/png": "[encoded data removed]",
      "text/plain": [
       "<Figure size 1080x360 with 1 Axes>"
      ]
     },
     "metadata": {
      "tags": []
     },
     "output_type": "display_data"
    }
   ],
   "source": [
    "f, ax = plt.subplots(1)\n",
    "f.set_figheight(5)\n",
    "f.set_figwidth(15)\n",
    "_ = data_all[['Close_Prediction','Close']].plot(ax=ax,\n",
    "                                              style=['-','.'])\n",
    "ax.set_xbound(lower='2020-03-01', upper='2020-06-07')\n",
    "ax.set_ylim(0, 10000)\n",
    "plot = plt.suptitle('March - July 2020 Forecast vs Actuals')"
   ]
  },
  {
   "cell_type": "code",
   "execution_count": 87,
   "metadata": {
    "colab": {
     "base_uri": "https://localhost:8080/",
     "height": 35
    },
    "colab_type": "code",
    "id": "S2gvgGZV2hZq",
    "outputId": "f456ae5f-6c3a-4d2f-946c-aca65e8c7caa"
   },
   "outputs": [
    {
     "data": {
      "text/plain": [
       "835795.936160902"
      ]
     },
     "execution_count": 87,
     "metadata": {
      "tags": []
     },
     "output_type": "execute_result"
    }
   ],
   "source": [
    "mean_squared_error(y_true=data_test['Close'],\n",
    "                   y_pred=data_test['Close_Prediction'])"
   ]
  },
  {
   "cell_type": "code",
   "execution_count": 88,
   "metadata": {
    "colab": {
     "base_uri": "https://localhost:8080/",
     "height": 35
    },
    "colab_type": "code",
    "id": "186TYkYN2hWy",
    "outputId": "96f99669-cd11-4039-b617-5bdcd6f3e136"
   },
   "outputs": [
    {
     "data": {
      "text/plain": [
       "778.3177646683675"
      ]
     },
     "execution_count": 88,
     "metadata": {
      "tags": []
     },
     "output_type": "execute_result"
    }
   ],
   "source": [
    "mean_absolute_error(y_true=data_test['Close'],\n",
    "                   y_pred=data_test['Close_Prediction'])"
   ]
  },
  {
   "cell_type": "code",
   "execution_count": null,
   "metadata": {
    "colab": {},
    "colab_type": "code",
    "id": "H9aF7L4C2hTG"
   },
   "outputs": [],
   "source": []
  },
  {
   "cell_type": "code",
   "execution_count": null,
   "metadata": {
    "colab": {},
    "colab_type": "code",
    "id": "Hl6Zv_lK2hOn"
   },
   "outputs": [],
   "source": []
  },
  {
   "cell_type": "code",
   "execution_count": null,
   "metadata": {
    "colab": {},
    "colab_type": "code",
    "id": "DQDzhobN-KbZ"
   },
   "outputs": [],
   "source": []
  },
  {
   "cell_type": "code",
   "execution_count": null,
   "metadata": {
    "colab": {},
    "colab_type": "code",
    "id": "3C5lY5HIW5OV"
   },
   "outputs": [],
   "source": [
    "# kata \n",
    "def rthn_between(a, b):\n",
    "    lst = []\n",
    "\n",
    "    if a == 0:\n",
    "        a = 10\n",
    "\n",
    "    for x in range(a,b+1):\n",
    "      l = 1\n",
    "      v = True\n",
    "      while v:\n",
    "        new_num = str(x)[:l] \n",
    "        s = sum([int(digit) for digit in new_num])\n",
    "        if int(new_num)%s != 0:\n",
    "          v = False\n",
    "        elif int(new_num)%s == 0 and len(new_num) == len(str(x)):\n",
    "          lst.append(x)\n",
    "          v = False\n",
    "        else:\n",
    "          l += 1\n",
    "    return lst\n"
   ]
  },
  {
   "cell_type": "code",
   "execution_count": null,
   "metadata": {
    "colab": {},
    "colab_type": "code",
    "id": "XeeuuGHZgSrV"
   },
   "outputs": [],
   "source": [
    "# rthn_between(0, 999999)  #[9000004000000, 9000004000008]"
   ]
  },
  {
   "cell_type": "code",
   "execution_count": null,
   "metadata": {
    "colab": {
     "base_uri": "https://localhost:8080/",
     "height": 35
    },
    "colab_type": "code",
    "id": "pcZ3KEgfg1AE",
    "outputId": "bd9a734a-8fbe-46ee-8ad0-517290e287f8"
   },
   "outputs": [
    {
     "data": {
      "text/plain": [
       "0"
      ]
     },
     "execution_count": 5,
     "metadata": {
      "tags": []
     },
     "output_type": "execute_result"
    }
   ],
   "source": [
    "0**1"
   ]
  }
 ],
 "metadata": {
  "colab": {
   "collapsed_sections": [],
   "name": "BTC_tests.ipynb",
   "provenance": []
  },
  "kernelspec": {
   "display_name": "Python 3",
   "language": "python",
   "name": "python3"
  },
  "language_info": {
   "codemirror_mode": {
    "name": "ipython",
    "version": 3
   },
   "file_extension": ".py",
   "mimetype": "text/x-python",
   "name": "python",
   "nbconvert_exporter": "python",
   "pygments_lexer": "ipython3",
   "version": "3.7.4"
  }
 },
 "nbformat": 4,
 "nbformat_minor": 1
}
