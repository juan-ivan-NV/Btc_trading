{
 "cells": [
  {
   "cell_type": "markdown",
   "metadata": {
    "colab_type": "text",
    "id": "AXMYIrQYuBcV"
   },
   "source": [
    "## Based on the Kaggle notebook: https://www.kaggle.com/someadityamandal/bitcoin-time-series-forecasting"
   ]
  },
  {
   "cell_type": "markdown",
   "metadata": {
    "colab_type": "text",
    "id": "e4M6Vxz9Rvcn"
   },
   "source": [
    "## Some lybraries"
   ]
  },
  {
   "cell_type": "code",
   "execution_count": 1,
   "metadata": {
    "colab": {},
    "colab_type": "code",
    "id": "n1ryIC2PGtlJ"
   },
   "outputs": [],
   "source": [
    "import pandas as pd\n",
    "import numpy as np\n",
    "import datetime\n",
    "import csv\n"
   ]
  },
  {
   "cell_type": "code",
   "execution_count": 2,
   "metadata": {
    "colab": {
     "base_uri": "https://localhost:8080/",
     "height": 177
    },
    "colab_type": "code",
    "id": "sHKWx1dpHHZt",
    "outputId": "d6ef0877-3a62-43f5-f647-0349c2e23d74"
   },
   "outputs": [
    {
     "name": "stdout",
     "output_type": "stream",
     "text": [
      "Requirement already satisfied: chart_studio in c:\\users\\ivan\\anaconda3\\lib\\site-packages (1.1.0)\n",
      "Requirement already satisfied: retrying>=1.3.3 in c:\\users\\ivan\\anaconda3\\lib\\site-packages (from chart_studio) (1.3.3)\n",
      "Requirement already satisfied: plotly in c:\\users\\ivan\\anaconda3\\lib\\site-packages (from chart_studio) (4.6.0)\n",
      "Requirement already satisfied: requests in c:\\users\\ivan\\anaconda3\\lib\\site-packages (from chart_studio) (2.22.0)\n",
      "Requirement already satisfied: six in c:\\users\\ivan\\anaconda3\\lib\\site-packages (from chart_studio) (1.12.0)\n",
      "Requirement already satisfied: certifi>=2017.4.17 in c:\\users\\ivan\\anaconda3\\lib\\site-packages (from requests->chart_studio) (2019.9.11)\n",
      "Requirement already satisfied: chardet<3.1.0,>=3.0.2 in c:\\users\\ivan\\anaconda3\\lib\\site-packages (from requests->chart_studio) (3.0.4)\n",
      "Requirement already satisfied: idna<2.9,>=2.5 in c:\\users\\ivan\\anaconda3\\lib\\site-packages (from requests->chart_studio) (2.8)\n",
      "Requirement already satisfied: urllib3!=1.25.0,!=1.25.1,<1.26,>=1.21.1 in c:\\users\\ivan\\anaconda3\\lib\\site-packages (from requests->chart_studio) (1.24.2)\n"
     ]
    }
   ],
   "source": [
    "!pip install chart_studio"
   ]
  },
  {
   "cell_type": "code",
   "execution_count": 3,
   "metadata": {
    "colab": {
     "base_uri": "https://localhost:8080/",
     "height": 17
    },
    "colab_type": "code",
    "id": "ZuepHJHfG1__",
    "outputId": "70847d37-9466-47c3-c936-9ab4aecb7777"
   },
   "outputs": [
    {
     "data": {
      "text/html": [
       "        <script type=\"text/javascript\">\n",
       "        window.PlotlyConfig = {MathJaxConfig: 'local'};\n",
       "        if (window.MathJax) {MathJax.Hub.Config({SVG: {font: \"STIX-Web\"}});}\n",
       "        if (typeof require !== 'undefined') {\n",
       "        require.undef(\"plotly\");\n",
       "        requirejs.config({\n",
       "            paths: {\n",
       "                'plotly': ['https://cdn.plot.ly/plotly-latest.min']\n",
       "            }\n",
       "        });\n",
       "        require(['plotly'], function(Plotly) {\n",
       "            window._Plotly = Plotly;\n",
       "        });\n",
       "        }\n",
       "        </script>\n",
       "        "
      ]
     },
     "metadata": {},
     "output_type": "display_data"
    }
   ],
   "source": [
    "import matplotlib.pyplot as plt\n",
    "\n",
    "from plotly import tools\n",
    "import chart_studio.plotly as py\n",
    "from plotly.offline import init_notebook_mode, iplot\n",
    "init_notebook_mode(connected=True)\n",
    "import plotly.graph_objs as go\n",
    "import gc\n",
    "\n",
    "import matplotlib.pyplot as plt\n",
    "import seaborn as sns\n"
   ]
  },
  {
   "cell_type": "markdown",
   "metadata": {
    "colab_type": "text",
    "id": "V3yfYgWIR4Gk"
   },
   "source": [
    "## Importing data"
   ]
  },
  {
   "cell_type": "code",
   "execution_count": 4,
   "metadata": {
    "colab": {
     "base_uri": "https://localhost:8080/",
     "height": 194
    },
    "colab_type": "code",
    "id": "Hxa_3_0_G2Cn",
    "outputId": "3f78b086-927e-4aba-fbe1-07f4be36d784"
   },
   "outputs": [
    {
     "data": {
      "text/html": [
       "<div>\n",
       "<style scoped>\n",
       "    .dataframe tbody tr th:only-of-type {\n",
       "        vertical-align: middle;\n",
       "    }\n",
       "\n",
       "    .dataframe tbody tr th {\n",
       "        vertical-align: top;\n",
       "    }\n",
       "\n",
       "    .dataframe thead th {\n",
       "        text-align: right;\n",
       "    }\n",
       "</style>\n",
       "<table border=\"1\" class=\"dataframe\">\n",
       "  <thead>\n",
       "    <tr style=\"text-align: right;\">\n",
       "      <th></th>\n",
       "      <th>Date</th>\n",
       "      <th>Open</th>\n",
       "      <th>High</th>\n",
       "      <th>Low</th>\n",
       "      <th>Close</th>\n",
       "      <th>Volume</th>\n",
       "      <th>Market Cap</th>\n",
       "    </tr>\n",
       "  </thead>\n",
       "  <tbody>\n",
       "    <tr>\n",
       "      <td>0</td>\n",
       "      <td>Jul 13, 2020</td>\n",
       "      <td>242.18</td>\n",
       "      <td>244.31</td>\n",
       "      <td>238.23</td>\n",
       "      <td>239.60</td>\n",
       "      <td>7,787,751,468</td>\n",
       "      <td>26,775,071,858</td>\n",
       "    </tr>\n",
       "    <tr>\n",
       "      <td>1</td>\n",
       "      <td>Jul 12, 2020</td>\n",
       "      <td>239.46</td>\n",
       "      <td>243.31</td>\n",
       "      <td>237.77</td>\n",
       "      <td>242.13</td>\n",
       "      <td>6,596,394,718</td>\n",
       "      <td>27,054,158,346</td>\n",
       "    </tr>\n",
       "    <tr>\n",
       "      <td>2</td>\n",
       "      <td>Jul 11, 2020</td>\n",
       "      <td>241.04</td>\n",
       "      <td>241.53</td>\n",
       "      <td>238.33</td>\n",
       "      <td>239.46</td>\n",
       "      <td>5,643,067,316</td>\n",
       "      <td>26,752,161,985</td>\n",
       "    </tr>\n",
       "    <tr>\n",
       "      <td>3</td>\n",
       "      <td>Jul 10, 2020</td>\n",
       "      <td>242.87</td>\n",
       "      <td>242.88</td>\n",
       "      <td>236.73</td>\n",
       "      <td>240.98</td>\n",
       "      <td>7,281,370,522</td>\n",
       "      <td>26,919,422,187</td>\n",
       "    </tr>\n",
       "    <tr>\n",
       "      <td>4</td>\n",
       "      <td>Jul 09, 2020</td>\n",
       "      <td>246.75</td>\n",
       "      <td>247.29</td>\n",
       "      <td>239.90</td>\n",
       "      <td>243.02</td>\n",
       "      <td>8,429,099,199</td>\n",
       "      <td>27,143,016,879</td>\n",
       "    </tr>\n",
       "  </tbody>\n",
       "</table>\n",
       "</div>"
      ],
      "text/plain": [
       "           Date    Open    High     Low   Close         Volume      Market Cap\n",
       "0  Jul 13, 2020  242.18  244.31  238.23  239.60  7,787,751,468  26,775,071,858\n",
       "1  Jul 12, 2020  239.46  243.31  237.77  242.13  6,596,394,718  27,054,158,346\n",
       "2  Jul 11, 2020  241.04  241.53  238.33  239.46  5,643,067,316  26,752,161,985\n",
       "3  Jul 10, 2020  242.87  242.88  236.73  240.98  7,281,370,522  26,919,422,187\n",
       "4  Jul 09, 2020  246.75  247.29  239.90  243.02  8,429,099,199  27,143,016,879"
      ]
     },
     "execution_count": 4,
     "metadata": {},
     "output_type": "execute_result"
    }
   ],
   "source": [
    "data = pd.read_csv('../data_extraction/full_data_eth_13072020.csv')\n",
    "data.head()"
   ]
  },
  {
   "cell_type": "code",
   "execution_count": 5,
   "metadata": {
    "colab": {
     "base_uri": "https://localhost:8080/",
     "height": 159
    },
    "colab_type": "code",
    "id": "O3BH3MwzG2FP",
    "outputId": "5884ae53-66c8-4053-e259-019275aa852a"
   },
   "outputs": [
    {
     "data": {
      "text/plain": [
       "Date          object\n",
       "Open          object\n",
       "High          object\n",
       "Low           object\n",
       "Close         object\n",
       "Volume        object\n",
       "Market Cap    object\n",
       "dtype: object"
      ]
     },
     "execution_count": 5,
     "metadata": {},
     "output_type": "execute_result"
    }
   ],
   "source": [
    "data.dtypes"
   ]
  },
  {
   "cell_type": "markdown",
   "metadata": {
    "colab_type": "text",
    "id": "nbJkg1mhSB9p"
   },
   "source": [
    "## Function to change object to numerical data"
   ]
  },
  {
   "cell_type": "code",
   "execution_count": 6,
   "metadata": {
    "colab": {},
    "colab_type": "code",
    "id": "vEvo1TJAOrIQ"
   },
   "outputs": [],
   "source": [
    "def obj_to_num(df,cols):\n",
    "    def obj_to_num(row):\n",
    "        row = row.replace(',','')\n",
    "        return float(row)\n",
    "\n",
    "    for col in cols: \n",
    "        df[col] = df[col].apply(obj_to_num) \n",
    "    return df"
   ]
  },
  {
   "cell_type": "code",
   "execution_count": 7,
   "metadata": {
    "colab": {
     "base_uri": "https://localhost:8080/",
     "height": 194
    },
    "colab_type": "code",
    "id": "9AIuPlKePyZH",
    "outputId": "e0bdcbad-86d6-41a7-9d91-a454c78202ab"
   },
   "outputs": [
    {
     "data": {
      "text/html": [
       "<div>\n",
       "<style scoped>\n",
       "    .dataframe tbody tr th:only-of-type {\n",
       "        vertical-align: middle;\n",
       "    }\n",
       "\n",
       "    .dataframe tbody tr th {\n",
       "        vertical-align: top;\n",
       "    }\n",
       "\n",
       "    .dataframe thead th {\n",
       "        text-align: right;\n",
       "    }\n",
       "</style>\n",
       "<table border=\"1\" class=\"dataframe\">\n",
       "  <thead>\n",
       "    <tr style=\"text-align: right;\">\n",
       "      <th></th>\n",
       "      <th>Date</th>\n",
       "      <th>Open</th>\n",
       "      <th>High</th>\n",
       "      <th>Low</th>\n",
       "      <th>Close</th>\n",
       "      <th>Volume</th>\n",
       "      <th>Market Cap</th>\n",
       "    </tr>\n",
       "  </thead>\n",
       "  <tbody>\n",
       "    <tr>\n",
       "      <td>0</td>\n",
       "      <td>Jul 13, 2020</td>\n",
       "      <td>242.18</td>\n",
       "      <td>244.31</td>\n",
       "      <td>238.23</td>\n",
       "      <td>239.60</td>\n",
       "      <td>7.787751e+09</td>\n",
       "      <td>2.677507e+10</td>\n",
       "    </tr>\n",
       "    <tr>\n",
       "      <td>1</td>\n",
       "      <td>Jul 12, 2020</td>\n",
       "      <td>239.46</td>\n",
       "      <td>243.31</td>\n",
       "      <td>237.77</td>\n",
       "      <td>242.13</td>\n",
       "      <td>6.596395e+09</td>\n",
       "      <td>2.705416e+10</td>\n",
       "    </tr>\n",
       "    <tr>\n",
       "      <td>2</td>\n",
       "      <td>Jul 11, 2020</td>\n",
       "      <td>241.04</td>\n",
       "      <td>241.53</td>\n",
       "      <td>238.33</td>\n",
       "      <td>239.46</td>\n",
       "      <td>5.643067e+09</td>\n",
       "      <td>2.675216e+10</td>\n",
       "    </tr>\n",
       "    <tr>\n",
       "      <td>3</td>\n",
       "      <td>Jul 10, 2020</td>\n",
       "      <td>242.87</td>\n",
       "      <td>242.88</td>\n",
       "      <td>236.73</td>\n",
       "      <td>240.98</td>\n",
       "      <td>7.281371e+09</td>\n",
       "      <td>2.691942e+10</td>\n",
       "    </tr>\n",
       "    <tr>\n",
       "      <td>4</td>\n",
       "      <td>Jul 09, 2020</td>\n",
       "      <td>246.75</td>\n",
       "      <td>247.29</td>\n",
       "      <td>239.90</td>\n",
       "      <td>243.02</td>\n",
       "      <td>8.429099e+09</td>\n",
       "      <td>2.714302e+10</td>\n",
       "    </tr>\n",
       "  </tbody>\n",
       "</table>\n",
       "</div>"
      ],
      "text/plain": [
       "           Date    Open    High     Low   Close        Volume    Market Cap\n",
       "0  Jul 13, 2020  242.18  244.31  238.23  239.60  7.787751e+09  2.677507e+10\n",
       "1  Jul 12, 2020  239.46  243.31  237.77  242.13  6.596395e+09  2.705416e+10\n",
       "2  Jul 11, 2020  241.04  241.53  238.33  239.46  5.643067e+09  2.675216e+10\n",
       "3  Jul 10, 2020  242.87  242.88  236.73  240.98  7.281371e+09  2.691942e+10\n",
       "4  Jul 09, 2020  246.75  247.29  239.90  243.02  8.429099e+09  2.714302e+10"
      ]
     },
     "execution_count": 7,
     "metadata": {},
     "output_type": "execute_result"
    }
   ],
   "source": [
    "columns = ['Open','High','Low','Close','Volume','Market Cap']\n",
    "num_data = obj_to_num(data,columns)\n",
    "num_data.head()"
   ]
  },
  {
   "cell_type": "code",
   "execution_count": 8,
   "metadata": {
    "colab": {
     "base_uri": "https://localhost:8080/",
     "height": 194
    },
    "colab_type": "code",
    "id": "21zTCWd1YCsD",
    "outputId": "2d3fa4c2-4cc1-4e30-eb1c-70167aee15ba"
   },
   "outputs": [
    {
     "data": {
      "text/html": [
       "<div>\n",
       "<style scoped>\n",
       "    .dataframe tbody tr th:only-of-type {\n",
       "        vertical-align: middle;\n",
       "    }\n",
       "\n",
       "    .dataframe tbody tr th {\n",
       "        vertical-align: top;\n",
       "    }\n",
       "\n",
       "    .dataframe thead th {\n",
       "        text-align: right;\n",
       "    }\n",
       "</style>\n",
       "<table border=\"1\" class=\"dataframe\">\n",
       "  <thead>\n",
       "    <tr style=\"text-align: right;\">\n",
       "      <th></th>\n",
       "      <th>Date</th>\n",
       "      <th>Open</th>\n",
       "      <th>High</th>\n",
       "      <th>Low</th>\n",
       "      <th>Close</th>\n",
       "      <th>Volume</th>\n",
       "      <th>Market Cap</th>\n",
       "    </tr>\n",
       "  </thead>\n",
       "  <tbody>\n",
       "    <tr>\n",
       "      <td>0</td>\n",
       "      <td>2020-07-13 00:00:00+00:00</td>\n",
       "      <td>242.18</td>\n",
       "      <td>244.31</td>\n",
       "      <td>238.23</td>\n",
       "      <td>239.60</td>\n",
       "      <td>7.787751e+09</td>\n",
       "      <td>2.677507e+10</td>\n",
       "    </tr>\n",
       "    <tr>\n",
       "      <td>1</td>\n",
       "      <td>2020-07-12 00:00:00+00:00</td>\n",
       "      <td>239.46</td>\n",
       "      <td>243.31</td>\n",
       "      <td>237.77</td>\n",
       "      <td>242.13</td>\n",
       "      <td>6.596395e+09</td>\n",
       "      <td>2.705416e+10</td>\n",
       "    </tr>\n",
       "    <tr>\n",
       "      <td>2</td>\n",
       "      <td>2020-07-11 00:00:00+00:00</td>\n",
       "      <td>241.04</td>\n",
       "      <td>241.53</td>\n",
       "      <td>238.33</td>\n",
       "      <td>239.46</td>\n",
       "      <td>5.643067e+09</td>\n",
       "      <td>2.675216e+10</td>\n",
       "    </tr>\n",
       "    <tr>\n",
       "      <td>3</td>\n",
       "      <td>2020-07-10 00:00:00+00:00</td>\n",
       "      <td>242.87</td>\n",
       "      <td>242.88</td>\n",
       "      <td>236.73</td>\n",
       "      <td>240.98</td>\n",
       "      <td>7.281371e+09</td>\n",
       "      <td>2.691942e+10</td>\n",
       "    </tr>\n",
       "    <tr>\n",
       "      <td>4</td>\n",
       "      <td>2020-07-09 00:00:00+00:00</td>\n",
       "      <td>246.75</td>\n",
       "      <td>247.29</td>\n",
       "      <td>239.90</td>\n",
       "      <td>243.02</td>\n",
       "      <td>8.429099e+09</td>\n",
       "      <td>2.714302e+10</td>\n",
       "    </tr>\n",
       "  </tbody>\n",
       "</table>\n",
       "</div>"
      ],
      "text/plain": [
       "                       Date    Open    High     Low   Close        Volume  \\\n",
       "0 2020-07-13 00:00:00+00:00  242.18  244.31  238.23  239.60  7.787751e+09   \n",
       "1 2020-07-12 00:00:00+00:00  239.46  243.31  237.77  242.13  6.596395e+09   \n",
       "2 2020-07-11 00:00:00+00:00  241.04  241.53  238.33  239.46  5.643067e+09   \n",
       "3 2020-07-10 00:00:00+00:00  242.87  242.88  236.73  240.98  7.281371e+09   \n",
       "4 2020-07-09 00:00:00+00:00  246.75  247.29  239.90  243.02  8.429099e+09   \n",
       "\n",
       "     Market Cap  \n",
       "0  2.677507e+10  \n",
       "1  2.705416e+10  \n",
       "2  2.675216e+10  \n",
       "3  2.691942e+10  \n",
       "4  2.714302e+10  "
      ]
     },
     "execution_count": 8,
     "metadata": {},
     "output_type": "execute_result"
    }
   ],
   "source": [
    "from datetime import datetime\n",
    "num_data['Date'] = num_data['Date'].apply(lambda x: datetime.strptime(x, '%b %d, %Y').strftime('%Y-%m-%d'))\n",
    "num_data['Date'] = pd.to_datetime(num_data['Date'], utc=True)\n",
    "num_data.head()"
   ]
  },
  {
   "cell_type": "code",
   "execution_count": 9,
   "metadata": {
    "colab": {
     "base_uri": "https://localhost:8080/",
     "height": 159
    },
    "colab_type": "code",
    "id": "jCd0C9AUfQl9",
    "outputId": "0e97ee7e-bd36-4d55-f18e-c4b18b6e0bff"
   },
   "outputs": [
    {
     "data": {
      "text/plain": [
       "Date          datetime64[ns, UTC]\n",
       "Open                      float64\n",
       "High                      float64\n",
       "Low                       float64\n",
       "Close                     float64\n",
       "Volume                    float64\n",
       "Market Cap                float64\n",
       "dtype: object"
      ]
     },
     "execution_count": 9,
     "metadata": {},
     "output_type": "execute_result"
    }
   ],
   "source": [
    "num_data.dtypes"
   ]
  },
  {
   "cell_type": "markdown",
   "metadata": {
    "colab_type": "text",
    "id": "cvzivr1vYftM"
   },
   "source": [
    "## Making data plot"
   ]
  },
  {
   "cell_type": "code",
   "execution_count": 10,
   "metadata": {
    "colab": {
     "base_uri": "https://localhost:8080/",
     "height": 35
    },
    "colab_type": "code",
    "id": "zpO77JBZVmFM",
    "outputId": "63226ecd-1f10-4bb8-df27-a573fb21cecb"
   },
   "outputs": [
    {
     "name": "stdout",
     "output_type": "stream",
     "text": [
      "Requirement already satisfied: pytz in c:\\users\\ivan\\anaconda3\\lib\\site-packages (2019.3)\n"
     ]
    }
   ],
   "source": [
    "!pip install pytz"
   ]
  },
  {
   "cell_type": "code",
   "execution_count": 11,
   "metadata": {
    "colab": {
     "base_uri": "https://localhost:8080/",
     "height": 194
    },
    "colab_type": "code",
    "id": "xubsDlwIV0t3",
    "outputId": "e30b1b9b-c532-4053-88b1-23a9793d1889"
   },
   "outputs": [
    {
     "data": {
      "text/html": [
       "<div>\n",
       "<style scoped>\n",
       "    .dataframe tbody tr th:only-of-type {\n",
       "        vertical-align: middle;\n",
       "    }\n",
       "\n",
       "    .dataframe tbody tr th {\n",
       "        vertical-align: top;\n",
       "    }\n",
       "\n",
       "    .dataframe thead th {\n",
       "        text-align: right;\n",
       "    }\n",
       "</style>\n",
       "<table border=\"1\" class=\"dataframe\">\n",
       "  <thead>\n",
       "    <tr style=\"text-align: right;\">\n",
       "      <th></th>\n",
       "      <th>Date</th>\n",
       "      <th>Open</th>\n",
       "      <th>High</th>\n",
       "      <th>Low</th>\n",
       "      <th>Close</th>\n",
       "      <th>Volume</th>\n",
       "      <th>Market Cap</th>\n",
       "    </tr>\n",
       "  </thead>\n",
       "  <tbody>\n",
       "    <tr>\n",
       "      <td>0</td>\n",
       "      <td>2015-08-10 00:00:00+00:00</td>\n",
       "      <td>0.713989</td>\n",
       "      <td>0.729854</td>\n",
       "      <td>0.636546</td>\n",
       "      <td>0.708448</td>\n",
       "      <td>405283.0</td>\n",
       "      <td>42818364.0</td>\n",
       "    </tr>\n",
       "    <tr>\n",
       "      <td>1</td>\n",
       "      <td>2015-08-17 00:00:00+00:00</td>\n",
       "      <td>1.580000</td>\n",
       "      <td>1.580000</td>\n",
       "      <td>1.190000</td>\n",
       "      <td>1.200000</td>\n",
       "      <td>1942830.0</td>\n",
       "      <td>87295367.0</td>\n",
       "    </tr>\n",
       "    <tr>\n",
       "      <td>2</td>\n",
       "      <td>2015-08-24 00:00:00+00:00</td>\n",
       "      <td>1.350000</td>\n",
       "      <td>1.360000</td>\n",
       "      <td>1.230000</td>\n",
       "      <td>1.230000</td>\n",
       "      <td>924920.0</td>\n",
       "      <td>89515257.0</td>\n",
       "    </tr>\n",
       "    <tr>\n",
       "      <td>3</td>\n",
       "      <td>2015-08-31 00:00:00+00:00</td>\n",
       "      <td>1.320000</td>\n",
       "      <td>1.400000</td>\n",
       "      <td>1.200000</td>\n",
       "      <td>1.360000</td>\n",
       "      <td>1447180.0</td>\n",
       "      <td>98963975.0</td>\n",
       "    </tr>\n",
       "    <tr>\n",
       "      <td>4</td>\n",
       "      <td>2015-09-07 00:00:00+00:00</td>\n",
       "      <td>1.300000</td>\n",
       "      <td>1.310000</td>\n",
       "      <td>1.240000</td>\n",
       "      <td>1.250000</td>\n",
       "      <td>489014.0</td>\n",
       "      <td>91020735.0</td>\n",
       "    </tr>\n",
       "  </tbody>\n",
       "</table>\n",
       "</div>"
      ],
      "text/plain": [
       "                       Date      Open      High       Low     Close  \\\n",
       "0 2015-08-10 00:00:00+00:00  0.713989  0.729854  0.636546  0.708448   \n",
       "1 2015-08-17 00:00:00+00:00  1.580000  1.580000  1.190000  1.200000   \n",
       "2 2015-08-24 00:00:00+00:00  1.350000  1.360000  1.230000  1.230000   \n",
       "3 2015-08-31 00:00:00+00:00  1.320000  1.400000  1.200000  1.360000   \n",
       "4 2015-09-07 00:00:00+00:00  1.300000  1.310000  1.240000  1.250000   \n",
       "\n",
       "      Volume  Market Cap  \n",
       "0   405283.0  42818364.0  \n",
       "1  1942830.0  87295367.0  \n",
       "2   924920.0  89515257.0  \n",
       "3  1447180.0  98963975.0  \n",
       "4   489014.0  91020735.0  "
      ]
     },
     "execution_count": 11,
     "metadata": {},
     "output_type": "execute_result"
    }
   ],
   "source": [
    "# create valid date range\n",
    "import pytz\n",
    "start = datetime(2013, 3, 5, 0, 0, 0, 0, pytz.UTC)\n",
    "end = datetime(2020, 6, 7, 0, 0, 0, 0, pytz.UTC)\n",
    "\n",
    "# find rows between start and end time and find the first row (00:00 monday morning)\n",
    "weekly_rows = num_data[(num_data['Date'] >= start) & (num_data['Date'] <= end)].groupby([pd.Grouper(key='Date', freq='W-MON')]).first().reset_index()\n",
    "weekly_rows.head()"
   ]
  },
  {
   "cell_type": "code",
   "execution_count": 12,
   "metadata": {
    "colab": {},
    "colab_type": "code",
    "id": "jhH9KRD6H1FW"
   },
   "outputs": [],
   "source": [
    "#import chart_studio.plotly as py\n",
    "import plotly.graph_objects as go\n",
    "import chart_studio as py"
   ]
  },
  {
   "cell_type": "code",
   "execution_count": 13,
   "metadata": {
    "colab": {},
    "colab_type": "code",
    "id": "Sr3iTFYJV7kl"
   },
   "outputs": [],
   "source": [
    "py.tools.set_credentials_file(username='ji_nb', api_key='eGoxXwU4vG6jV7WJVzpw')"
   ]
  },
  {
   "cell_type": "code",
   "execution_count": 14,
   "metadata": {
    "colab": {
     "base_uri": "https://localhost:8080/",
     "height": 546
    },
    "colab_type": "code",
    "id": "HB0_WpRjRn0p",
    "outputId": "8187c878-c26c-46c3-fd43-22c4e16df942"
   },
   "outputs": [
    {
     "data": {
      "text/html": [
       "\n",
       "        <iframe\n",
       "            width=\"100%\"\n",
       "            height=\"525px\"\n",
       "            src=\"https://plotly.com/~ji_nb/1.embed\"\n",
       "            frameborder=\"0\"\n",
       "            allowfullscreen\n",
       "        ></iframe>\n",
       "        "
      ],
      "text/plain": [
       "<IPython.lib.display.IFrame at 0x24df6dec188>"
      ]
     },
     "execution_count": 14,
     "metadata": {},
     "output_type": "execute_result"
    }
   ],
   "source": [
    "trace1 = go.Scatter(\n",
    "    x = weekly_rows['Date'],\n",
    "    y = weekly_rows['Open'].astype(float),\n",
    "    mode = 'lines',\n",
    "    name = 'Open'\n",
    ")\n",
    "\n",
    "trace2 = go.Scatter(\n",
    "    x = weekly_rows['Date'],\n",
    "    y = weekly_rows['Close'].astype(float),\n",
    "    mode = 'lines',\n",
    "    name = 'Close'\n",
    ")\n",
    "trace3 = go.Scatter(\n",
    "    x = weekly_rows['Date'],\n",
    "    y = weekly_rows['High'].astype(float),\n",
    "    mode = 'lines',\n",
    "    name = 'High'\n",
    ")\n",
    "\n",
    "layout = dict(\n",
    "    title='Historical ETH Prices (...-2020) with the Slider ',\n",
    "    xaxis=dict(\n",
    "        rangeselector=dict(\n",
    "            buttons=list([\n",
    "                #change the count to desired amount of months.\n",
    "                dict(count=1,\n",
    "                     label='1m',\n",
    "                     step='month',\n",
    "                     stepmode='backward'),\n",
    "                dict(count=6,\n",
    "                     label='6m',\n",
    "                     step='month',\n",
    "                     stepmode='backward'),\n",
    "                dict(count=12,\n",
    "                     label='1y',\n",
    "                     step='month',\n",
    "                     stepmode='backward'),\n",
    "                dict(count=36,\n",
    "                     label='3y',\n",
    "                     step='month',\n",
    "                     stepmode='backward'),\n",
    "                dict(step='all')\n",
    "            ])\n",
    "        ),\n",
    "        rangeslider=dict(\n",
    "            visible = True\n",
    "        ),\n",
    "        type='date'\n",
    "    )\n",
    ")\n",
    "\n",
    "data = [trace1, trace2, trace3]\n",
    "fig = dict(data=data, layout=layout)\n",
    "py.plotly.iplot(fig, filename = \"Time_Series_with_Rangeslider\")"
   ]
  },
  {
   "cell_type": "code",
   "execution_count": 18,
   "metadata": {
    "colab": {
     "base_uri": "https://localhost:8080/",
     "height": 546
    },
    "colab_type": "code",
    "id": "tBfGHd11-Kef",
    "outputId": "c265399c-3a16-4874-c05a-d5ba5cc8bffc"
   },
   "outputs": [
    {
     "data": {
      "text/html": [
       "\n",
       "        <iframe\n",
       "            width=\"100%\"\n",
       "            height=\"525px\"\n",
       "            src=\"https://plotly.com/~ji_nb/3.embed\"\n",
       "            frameborder=\"0\"\n",
       "            allowfullscreen\n",
       "        ></iframe>\n",
       "        "
      ],
      "text/plain": [
       "<IPython.lib.display.IFrame at 0x24df6b60fc8>"
      ]
     },
     "execution_count": 18,
     "metadata": {},
     "output_type": "execute_result"
    }
   ],
   "source": [
    "trace1 = go.Scatter(\n",
    "    x = weekly_rows['Date'],\n",
    "    y = weekly_rows['Volume'].astype(float),\n",
    "    mode = 'lines',\n",
    "    name = 'ETH Price (Open)'\n",
    ")\n",
    "\n",
    "layout = dict(\n",
    "    title='Historical ETH Volume (USD) (...-2020)',\n",
    "    xaxis=dict(\n",
    "        rangeselector=dict(\n",
    "            buttons=list([\n",
    "                dict(count=1,\n",
    "                     label='1m',\n",
    "                     step='month',\n",
    "                     stepmode='backward'),\n",
    "                dict(count=6,\n",
    "                     label='6m',\n",
    "                     step='month',\n",
    "                     stepmode='backward'),\n",
    "                dict(count=12,\n",
    "                     label='1y',\n",
    "                     step='month',\n",
    "                     stepmode='backward'),\n",
    "                dict(count=36,\n",
    "                     label='3y',\n",
    "                     step='month',\n",
    "                     stepmode='backward'),\n",
    "                dict(step='all')\n",
    "            ])\n",
    "        ),\n",
    "        rangeslider=dict(\n",
    "            visible = True\n",
    "        ),\n",
    "        type='date'\n",
    "    )\n",
    ")\n",
    "\n",
    "data = [trace1]\n",
    "fig = dict(data=data, layout=layout)\n",
    "py.plotly.iplot(fig, filename = \"Time Series with Rangeslider\")"
   ]
  },
  {
   "cell_type": "markdown",
   "metadata": {
    "colab_type": "text",
    "id": "pDT743oYfe41"
   },
   "source": [
    "## Time series with XGBoost"
   ]
  },
  {
   "cell_type": "code",
   "execution_count": 16,
   "metadata": {
    "colab": {
     "base_uri": "https://localhost:8080/",
     "height": 195
    },
    "colab_type": "code",
    "id": "mAiPQogonDQ6",
    "outputId": "3a357073-4b74-4ffd-ac43-08527376acf7"
   },
   "outputs": [
    {
     "name": "stdout",
     "output_type": "stream",
     "text": [
      "Requirement already satisfied: dateparser in c:\\users\\ivan\\anaconda3\\lib\\site-packages (0.7.6)\n",
      "Requirement already satisfied: python-dateutil in c:\\users\\ivan\\anaconda3\\lib\\site-packages (from dateparser) (2.8.0)\n",
      "Requirement already satisfied: regex!=2019.02.19 in c:\\users\\ivan\\anaconda3\\lib\\site-packages (from dateparser) (2020.6.8)\n",
      "Requirement already satisfied: tzlocal in c:\\users\\ivan\\anaconda3\\lib\\site-packages (from dateparser) (2.1)\n",
      "Requirement already satisfied: pytz in c:\\users\\ivan\\anaconda3\\lib\\site-packages (from dateparser) (2019.3)\n",
      "Requirement already satisfied: six>=1.5 in c:\\users\\ivan\\anaconda3\\lib\\site-packages (from python-dateutil->dateparser) (1.12.0)\n"
     ]
    }
   ],
   "source": [
    "!pip install dateparser"
   ]
  },
  {
   "cell_type": "code",
   "execution_count": 17,
   "metadata": {
    "colab": {},
    "colab_type": "code",
    "id": "v_24I2e-dwME"
   },
   "outputs": [],
   "source": [
    "#from fbprophet import Prophet\n",
    "from sklearn.metrics import mean_squared_error, mean_absolute_error\n",
    "import dateparser\n",
    "plt.style.use('fivethirtyeight')"
   ]
  },
  {
   "cell_type": "markdown",
   "metadata": {
    "colab_type": "text",
    "id": "HoS3ZJoFs2lP"
   },
   "source": []
  },
  {
   "cell_type": "code",
   "execution_count": 20,
   "metadata": {
    "colab": {
     "base_uri": "https://localhost:8080/",
     "height": 294
    },
    "colab_type": "code",
    "id": "ZwALG-rHdwGK",
    "outputId": "8ab00bda-1788-4ccd-ccc5-d3f4a459c846"
   },
   "outputs": [
    {
     "data": {
      "text/html": [
       "<div>\n",
       "<style scoped>\n",
       "    .dataframe tbody tr th:only-of-type {\n",
       "        vertical-align: middle;\n",
       "    }\n",
       "\n",
       "    .dataframe tbody tr th {\n",
       "        vertical-align: top;\n",
       "    }\n",
       "\n",
       "    .dataframe thead th {\n",
       "        text-align: right;\n",
       "    }\n",
       "</style>\n",
       "<table border=\"1\" class=\"dataframe\">\n",
       "  <thead>\n",
       "    <tr style=\"text-align: right;\">\n",
       "      <th></th>\n",
       "      <th>Close</th>\n",
       "    </tr>\n",
       "    <tr>\n",
       "      <th>Date</th>\n",
       "      <th></th>\n",
       "    </tr>\n",
       "  </thead>\n",
       "  <tbody>\n",
       "    <tr>\n",
       "      <td>2015-08-07</td>\n",
       "      <td>2.77</td>\n",
       "    </tr>\n",
       "    <tr>\n",
       "      <td>2015-08-08</td>\n",
       "      <td>0.753325</td>\n",
       "    </tr>\n",
       "    <tr>\n",
       "      <td>2015-08-09</td>\n",
       "      <td>0.701897</td>\n",
       "    </tr>\n",
       "    <tr>\n",
       "      <td>2015-08-10</td>\n",
       "      <td>0.708448</td>\n",
       "    </tr>\n",
       "    <tr>\n",
       "      <td>2015-08-11</td>\n",
       "      <td>1.07</td>\n",
       "    </tr>\n",
       "  </tbody>\n",
       "</table>\n",
       "</div>"
      ],
      "text/plain": [
       "               Close\n",
       "Date                \n",
       "2015-08-07      2.77\n",
       "2015-08-08  0.753325\n",
       "2015-08-09  0.701897\n",
       "2015-08-10  0.708448\n",
       "2015-08-11      1.07"
      ]
     },
     "execution_count": 20,
     "metadata": {},
     "output_type": "execute_result"
    }
   ],
   "source": [
    "dateparse = lambda x: pd.datetime.strptime(x, '%b %d, %Y').strftime('%Y-%m-%d')\n",
    "datat  = pd.read_csv('../data_extraction/full_data_eth_13072020.csv', parse_dates=[0], date_parser=dateparse)\n",
    "datat['Date'] = datat['Date'].dt.tz_localize(None)\n",
    "datat = datat.groupby([pd.Grouper(key='Date', freq='H')]).first().reset_index()\n",
    "datat = datat.set_index('Date')\n",
    "datat = datat[['Close']]\n",
    "datat.dropna(subset=['Close'], inplace=True)\n",
    "datat.head()"
   ]
  },
  {
   "cell_type": "code",
   "execution_count": 21,
   "metadata": {
    "colab": {},
    "colab_type": "code",
    "id": "47Za9q-0tJX8"
   },
   "outputs": [],
   "source": [
    "columns = ['Close']\n",
    "datat = obj_to_num(datat,columns)   # Function to change object to numerical data"
   ]
  },
  {
   "cell_type": "code",
   "execution_count": 22,
   "metadata": {
    "colab": {
     "base_uri": "https://localhost:8080/",
     "height": 52
    },
    "colab_type": "code",
    "id": "t6WykG-XsgSn",
    "outputId": "2dee0a52-37f4-4508-ba5c-d208335fe8f6"
   },
   "outputs": [
    {
     "data": {
      "text/plain": [
       "Close    float64\n",
       "dtype: object"
      ]
     },
     "execution_count": 22,
     "metadata": {},
     "output_type": "execute_result"
    }
   ],
   "source": [
    "datat.dtypes"
   ]
  },
  {
   "cell_type": "code",
   "execution_count": 23,
   "metadata": {
    "colab": {
     "base_uri": "https://localhost:8080/",
     "height": 383
    },
    "colab_type": "code",
    "id": "E-_9cCrmdv_x",
    "outputId": "cddb431c-28c2-4719-df16-2cbd68954ff0"
   },
   "outputs": [
    {
     "data": {
      "image/png": "[encoded data removed]",
      "text/plain": [
       "<Figure size 1080x360 with 1 Axes>"
      ]
     },
     "metadata": {},
     "output_type": "display_data"
    }
   ],
   "source": [
    "_ = datat.plot(style='', figsize=(15,5), color=\"#F8766D\", title='ETH Close_Price by Days')"
   ]
  },
  {
   "cell_type": "code",
   "execution_count": 24,
   "metadata": {
    "colab": {},
    "colab_type": "code",
    "id": "FDdU0jCgdv5t"
   },
   "outputs": [],
   "source": [
    "split_date = '2020-05-01'\n",
    "data_train = datat.loc[datat.index <= split_date].copy()\n",
    "data_test = datat.loc[datat.index > split_date].copy()"
   ]
  },
  {
   "cell_type": "code",
   "execution_count": 25,
   "metadata": {
    "colab": {
     "base_uri": "https://localhost:8080/",
     "height": 383
    },
    "colab_type": "code",
    "id": "Yei5xL0zdvx4",
    "outputId": "e805bbf2-838e-4e55-e15e-ae78230d8f77"
   },
   "outputs": [
    {
     "data": {
      "image/png": "[encoded data removed]",
      "text/plain": [
       "<Figure size 1080x360 with 1 Axes>"
      ]
     },
     "metadata": {},
     "output_type": "display_data"
    }
   ],
   "source": [
    "_ = data_test \\\n",
    "    .rename(columns={'Close': 'Test Set'}) \\\n",
    "    .join(data_train.rename(columns={'Close': 'Training Set'}), how='outer') \\\n",
    "    .plot(figsize=(15,5), title='ETH Close Price by Days', style='')"
   ]
  },
  {
   "cell_type": "code",
   "execution_count": 26,
   "metadata": {
    "colab": {},
    "colab_type": "code",
    "id": "h7P5xtffdvn5"
   },
   "outputs": [],
   "source": [
    "def create_features(df, label=None):\n",
    "    \"\"\"\n",
    "    Creates time series features from datetime index\n",
    "    \"\"\"\n",
    "    df['date'] = df.index\n",
    "    df['hour'] = df['date'].dt.hour\n",
    "    df['dayofweek'] = df['date'].dt.dayofweek\n",
    "    df['quarter'] = df['date'].dt.quarter\n",
    "    df['month'] = df['date'].dt.month\n",
    "    df['year'] = df['date'].dt.year\n",
    "    df['dayofyear'] = df['date'].dt.dayofyear\n",
    "    df['dayofmonth'] = df['date'].dt.day\n",
    "    df['weekofyear'] = df['date'].dt.weekofyear\n",
    "    \n",
    "    X = df[['hour','dayofweek','quarter','month','year',\n",
    "           'dayofyear','dayofmonth','weekofyear']]\n",
    "    if label:\n",
    "        y = df[label]\n",
    "        return X, y\n",
    "    return X"
   ]
  },
  {
   "cell_type": "code",
   "execution_count": 27,
   "metadata": {
    "colab": {},
    "colab_type": "code",
    "id": "Rxhcg63RzmFX"
   },
   "outputs": [],
   "source": [
    "X_train, y_train = create_features(data_train, label='Close')\n",
    "X_test, y_test = create_features(data_test, label='Close')"
   ]
  },
  {
   "cell_type": "code",
   "execution_count": 28,
   "metadata": {
    "colab": {
     "base_uri": "https://localhost:8080/",
     "height": 159
    },
    "colab_type": "code",
    "id": "BUYOEtifzmCM",
    "outputId": "76f800a0-78ef-40db-ffa8-ecb6b531b8ed"
   },
   "outputs": [
    {
     "name": "stdout",
     "output_type": "stream",
     "text": [
      "[23:54:00] WARNING: C:/Users/Administrator/workspace/xgboost-win64_release_1.0.0/src/objective/regression_obj.cu:167: reg:linear is now deprecated in favor of reg:squarederror.\n"
     ]
    },
    {
     "data": {
      "text/plain": [
       "XGBRegressor(alpha=10, base_score=0.5, booster='gbtree', colsample_bylevel=1,\n",
       "             colsample_bynode=1, colsample_bytree=0.3, gamma=0, gpu_id=-1,\n",
       "             importance_type='gain', interaction_constraints=None,\n",
       "             learning_rate=0.1, max_delta_step=0, max_depth=5,\n",
       "             min_child_weight=10, missing=nan, monotone_constraints=None,\n",
       "             n_estimators=100, n_jobs=0, num_parallel_tree=1,\n",
       "             objective='reg:linear', random_state=0, reg_alpha=10, reg_lambda=1,\n",
       "             scale_pos_weight=1, subsample=1, tree_method=None,\n",
       "             validate_parameters=False, verbosity=None)"
      ]
     },
     "execution_count": 28,
     "metadata": {},
     "output_type": "execute_result"
    }
   ],
   "source": [
    "import xgboost as xgb\n",
    "from xgboost import plot_importance, plot_tree\n",
    "model =  xgb.XGBRegressor(objective ='reg:linear',min_child_weight=10, booster='gbtree', colsample_bytree = 0.3, learning_rate = 0.1,\n",
    "                max_depth = 5, alpha = 10, n_estimators = 100)\n",
    "model.fit(X_train, y_train,\n",
    "        eval_set=[(X_train, y_train), (X_test, y_test)],\n",
    "        early_stopping_rounds=50,\n",
    "       verbose=False)"
   ]
  },
  {
   "cell_type": "code",
   "execution_count": 29,
   "metadata": {
    "colab": {},
    "colab_type": "code",
    "id": "8SG71Ka9zl_L"
   },
   "outputs": [],
   "source": [
    "data_test['Close_Prediction'] = model.predict(X_test)\n",
    "data_all = pd.concat([data_test, data_train], sort=False)"
   ]
  },
  {
   "cell_type": "code",
   "execution_count": 30,
   "metadata": {
    "colab": {},
    "colab_type": "code",
    "id": "SOrXVMmK1cW3"
   },
   "outputs": [],
   "source": [
    "final_data = datat.copy()\n",
    "final_data = pd.merge(final_data, data_all, sort=False)\n",
    "final_data = final_data.rename(columns={'Close_Prediction': 'xgboost'})\n",
    "final_data = final_data[['Close','xgboost']]"
   ]
  },
  {
   "cell_type": "code",
   "execution_count": 31,
   "metadata": {
    "colab": {
     "base_uri": "https://localhost:8080/",
     "height": 331
    },
    "colab_type": "code",
    "id": "TQucTyfRzl8c",
    "outputId": "5d7c8a86-5a91-493f-86b0-89bdb643f95a"
   },
   "outputs": [
    {
     "data": {
      "image/png": "[encoded data removed]",
      "text/plain": [
       "<Figure size 1080x360 with 1 Axes>"
      ]
     },
     "metadata": {},
     "output_type": "display_data"
    }
   ],
   "source": [
    "_ = data_all[['Close','Close_Prediction']].plot(figsize=(15, 5))"
   ]
  },
  {
   "cell_type": "code",
   "execution_count": 32,
   "metadata": {
    "colab": {
     "base_uri": "https://localhost:8080/",
     "height": 390
    },
    "colab_type": "code",
    "id": "SKwgG9kb1bf6",
    "outputId": "5c634521-aff8-4584-a175-99cd20122c51"
   },
   "outputs": [
    {
     "data": {
      "image/png": "[encoded data removed]",
      "text/plain": [
       "<Figure size 1080x360 with 1 Axes>"
      ]
     },
     "metadata": {},
     "output_type": "display_data"
    }
   ],
   "source": [
    "f, ax = plt.subplots(1)\n",
    "f.set_figheight(5)\n",
    "f.set_figwidth(15)\n",
    "_ = data_all[['Close_Prediction','Close']].plot(ax=ax,\n",
    "                                              style=['-','.'])\n",
    "ax.set_xbound(lower='2020-05-01', upper='2020-07-13')\n",
    "ax.set_ylim(0, 10000)\n",
    "plot = plt.suptitle('May - July 2020 Forecast vs Actuals')"
   ]
  },
  {
   "cell_type": "code",
   "execution_count": 33,
   "metadata": {
    "colab": {
     "base_uri": "https://localhost:8080/",
     "height": 35
    },
    "colab_type": "code",
    "id": "S2gvgGZV2hZq",
    "outputId": "f456ae5f-6c3a-4d2f-946c-aca65e8c7caa"
   },
   "outputs": [
    {
     "data": {
      "text/plain": [
       "345.72365371583584"
      ]
     },
     "execution_count": 33,
     "metadata": {},
     "output_type": "execute_result"
    }
   ],
   "source": [
    "mean_squared_error(y_true=data_test['Close'],\n",
    "                   y_pred=data_test['Close_Prediction'])"
   ]
  },
  {
   "cell_type": "code",
   "execution_count": 34,
   "metadata": {
    "colab": {
     "base_uri": "https://localhost:8080/",
     "height": 35
    },
    "colab_type": "code",
    "id": "186TYkYN2hWy",
    "outputId": "96f99669-cd11-4039-b617-5bdcd6f3e136"
   },
   "outputs": [
    {
     "data": {
      "text/plain": [
       "14.433350629414596"
      ]
     },
     "execution_count": 34,
     "metadata": {},
     "output_type": "execute_result"
    }
   ],
   "source": [
    "mean_absolute_error(y_true=data_test['Close'],\n",
    "                   y_pred=data_test['Close_Prediction'])"
   ]
  },
  {
   "cell_type": "markdown",
   "metadata": {
    "colab": {},
    "colab_type": "code",
    "id": "H9aF7L4C2hTG"
   },
   "source": [
    "## Prophet model"
   ]
  },
  {
   "cell_type": "code",
   "execution_count": null,
   "metadata": {
    "colab": {},
    "colab_type": "code",
    "id": "Hl6Zv_lK2hOn"
   },
   "outputs": [],
   "source": [
    "split_date2 = '2020-03-01'\n",
    "data_train = data.loc[data.index <= split_date2].copy()\n",
    "data_test = data.loc[data.index > split_date2].copy()"
   ]
  },
  {
   "cell_type": "code",
   "execution_count": null,
   "metadata": {},
   "outputs": [],
   "source": []
  },
  {
   "cell_type": "code",
   "execution_count": null,
   "metadata": {},
   "outputs": [],
   "source": []
  },
  {
   "cell_type": "code",
   "execution_count": null,
   "metadata": {},
   "outputs": [],
   "source": []
  },
  {
   "cell_type": "code",
   "execution_count": null,
   "metadata": {},
   "outputs": [],
   "source": []
  },
  {
   "cell_type": "code",
   "execution_count": null,
   "metadata": {
    "colab": {},
    "colab_type": "code",
    "id": "DQDzhobN-KbZ"
   },
   "outputs": [],
   "source": []
  },
  {
   "cell_type": "code",
   "execution_count": null,
   "metadata": {
    "colab": {},
    "colab_type": "code",
    "id": "3C5lY5HIW5OV"
   },
   "outputs": [],
   "source": [
    "# kata \n",
    "def rthn_between(a, b):\n",
    "    lst = []\n",
    "\n",
    "    if a == 0:\n",
    "        a = 10\n",
    "\n",
    "    for x in range(a,b+1):\n",
    "      l = 1\n",
    "      v = True\n",
    "      while v:\n",
    "        new_num = str(x)[:l] \n",
    "        s = sum([int(digit) for digit in new_num])\n",
    "        if int(new_num)%s != 0:\n",
    "          v = False\n",
    "        elif int(new_num)%s == 0 and len(new_num) == len(str(x)):\n",
    "          lst.append(x)\n",
    "          v = False\n",
    "        else:\n",
    "          l += 1\n",
    "    return lst\n"
   ]
  },
  {
   "cell_type": "code",
   "execution_count": null,
   "metadata": {
    "colab": {},
    "colab_type": "code",
    "id": "XeeuuGHZgSrV"
   },
   "outputs": [],
   "source": [
    "# rthn_between(0, 999999)  #[9000004000000, 9000004000008]"
   ]
  },
  {
   "cell_type": "code",
   "execution_count": null,
   "metadata": {
    "colab": {
     "base_uri": "https://localhost:8080/",
     "height": 35
    },
    "colab_type": "code",
    "id": "pcZ3KEgfg1AE",
    "outputId": "bd9a734a-8fbe-46ee-8ad0-517290e287f8"
   },
   "outputs": [
    {
     "data": {
      "text/plain": [
       "0"
      ]
     },
     "execution_count": 5,
     "metadata": {
      "tags": []
     },
     "output_type": "execute_result"
    }
   ],
   "source": [
    "0**1"
   ]
  }
 ],
 "metadata": {
  "colab": {
   "collapsed_sections": [],
   "name": "BTC_tests.ipynb",
   "provenance": []
  },
  "kernelspec": {
   "display_name": "Python 3",
   "language": "python",
   "name": "python3"
  },
  "language_info": {
   "codemirror_mode": {
    "name": "ipython",
    "version": 3
   },
   "file_extension": ".py",
   "mimetype": "text/x-python",
   "name": "python",
   "nbconvert_exporter": "python",
   "pygments_lexer": "ipython3",
   "version": "3.7.4"
  }
 },
 "nbformat": 4,
 "nbformat_minor": 1
}
