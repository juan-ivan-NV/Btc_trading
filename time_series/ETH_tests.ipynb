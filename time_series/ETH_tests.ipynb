{
  "nbformat": 4,
  "nbformat_minor": 0,
  "metadata": {
    "colab": {
      "name": "ETH_tests.ipynb",
      "provenance": [],
      "collapsed_sections": [],
      "toc_visible": true
    },
    "kernelspec": {
      "display_name": "Python 3",
      "language": "python",
      "name": "python3"
    },
    "language_info": {
      "codemirror_mode": {
        "name": "ipython",
        "version": 3
      },
      "file_extension": ".py",
      "mimetype": "text/x-python",
      "name": "python",
      "nbconvert_exporter": "python",
      "pygments_lexer": "ipython3",
      "version": "3.7.4"
    }
  },
  "cells": [
    {
      "cell_type": "markdown",
      "metadata": {
        "colab_type": "text",
        "id": "AXMYIrQYuBcV"
      },
      "source": [
        "## Based on the Kaggle notebook: https://www.kaggle.com/someadityamandal/bitcoin-time-series-forecasting"
      ]
    },
    {
      "cell_type": "markdown",
      "metadata": {
        "colab_type": "text",
        "id": "e4M6Vxz9Rvcn"
      },
      "source": [
        "## Some libraries"
      ]
    },
    {
      "cell_type": "code",
      "metadata": {
        "colab_type": "code",
        "id": "n1ryIC2PGtlJ",
        "colab": {}
      },
      "source": [
        "import pandas as pd\n",
        "import numpy as np\n",
        "import datetime\n",
        "import csv\n"
      ],
      "execution_count": 1,
      "outputs": []
    },
    {
      "cell_type": "code",
      "metadata": {
        "colab_type": "code",
        "id": "sHKWx1dpHHZt",
        "colab": {
          "base_uri": "https://localhost:8080/",
          "height": 248
        },
        "outputId": "20003fe5-6d97-4905-9a04-dfcc4740f7fd"
      },
      "source": [
        "!pip install chart_studio"
      ],
      "execution_count": 2,
      "outputs": [
        {
          "output_type": "stream",
          "text": [
            "Collecting chart_studio\n",
            "\u001b[?25l  Downloading https://files.pythonhosted.org/packages/ca/ce/330794a6b6ca4b9182c38fc69dd2a9cbff60fd49421cb8648ee5fee352dc/chart_studio-1.1.0-py3-none-any.whl (64kB)\n",
            "\r\u001b[K     |█████                           | 10kB 15.7MB/s eta 0:00:01\r\u001b[K     |██████████▏                     | 20kB 2.6MB/s eta 0:00:01\r\u001b[K     |███████████████▎                | 30kB 2.8MB/s eta 0:00:01\r\u001b[K     |████████████████████▍           | 40kB 3.3MB/s eta 0:00:01\r\u001b[K     |█████████████████████████▍      | 51kB 3.3MB/s eta 0:00:01\r\u001b[K     |██████████████████████████████▌ | 61kB 3.7MB/s eta 0:00:01\r\u001b[K     |████████████████████████████████| 71kB 3.0MB/s \n",
            "\u001b[?25hRequirement already satisfied: retrying>=1.3.3 in /usr/local/lib/python3.6/dist-packages (from chart_studio) (1.3.3)\n",
            "Requirement already satisfied: plotly in /usr/local/lib/python3.6/dist-packages (from chart_studio) (4.4.1)\n",
            "Requirement already satisfied: requests in /usr/local/lib/python3.6/dist-packages (from chart_studio) (2.23.0)\n",
            "Requirement already satisfied: six in /usr/local/lib/python3.6/dist-packages (from chart_studio) (1.12.0)\n",
            "Requirement already satisfied: urllib3!=1.25.0,!=1.25.1,<1.26,>=1.21.1 in /usr/local/lib/python3.6/dist-packages (from requests->chart_studio) (1.24.3)\n",
            "Requirement already satisfied: chardet<4,>=3.0.2 in /usr/local/lib/python3.6/dist-packages (from requests->chart_studio) (3.0.4)\n",
            "Requirement already satisfied: idna<3,>=2.5 in /usr/local/lib/python3.6/dist-packages (from requests->chart_studio) (2.10)\n",
            "Requirement already satisfied: certifi>=2017.4.17 in /usr/local/lib/python3.6/dist-packages (from requests->chart_studio) (2020.6.20)\n",
            "Installing collected packages: chart-studio\n",
            "Successfully installed chart-studio-1.1.0\n"
          ],
          "name": "stdout"
        }
      ]
    },
    {
      "cell_type": "code",
      "metadata": {
        "colab_type": "code",
        "id": "ZuepHJHfG1__",
        "colab": {
          "base_uri": "https://localhost:8080/",
          "height": 88
        },
        "outputId": "e4ca8c3a-22b5-4684-bb16-c35057321db3"
      },
      "source": [
        "import matplotlib.pyplot as plt\n",
        "\n",
        "from plotly import tools\n",
        "import chart_studio.plotly as py\n",
        "from plotly.offline import init_notebook_mode, iplot\n",
        "init_notebook_mode(connected=True)\n",
        "import plotly.graph_objs as go\n",
        "import gc\n",
        "\n",
        "import matplotlib.pyplot as plt\n",
        "import seaborn as sns\n"
      ],
      "execution_count": 3,
      "outputs": [
        {
          "output_type": "display_data",
          "data": {
            "text/html": [
              "        <script type=\"text/javascript\">\n",
              "        window.PlotlyConfig = {MathJaxConfig: 'local'};\n",
              "        if (window.MathJax) {MathJax.Hub.Config({SVG: {font: \"STIX-Web\"}});}\n",
              "        if (typeof require !== 'undefined') {\n",
              "        require.undef(\"plotly\");\n",
              "        requirejs.config({\n",
              "            paths: {\n",
              "                'plotly': ['https://cdn.plot.ly/plotly-latest.min']\n",
              "            }\n",
              "        });\n",
              "        require(['plotly'], function(Plotly) {\n",
              "            window._Plotly = Plotly;\n",
              "        });\n",
              "        }\n",
              "        </script>\n",
              "        "
            ]
          },
          "metadata": {
            "tags": []
          }
        },
        {
          "output_type": "stream",
          "text": [
            "/usr/local/lib/python3.6/dist-packages/statsmodels/tools/_testing.py:19: FutureWarning:\n",
            "\n",
            "pandas.util.testing is deprecated. Use the functions in the public API at pandas.testing instead.\n",
            "\n"
          ],
          "name": "stderr"
        }
      ]
    },
    {
      "cell_type": "markdown",
      "metadata": {
        "colab_type": "text",
        "id": "V3yfYgWIR4Gk"
      },
      "source": [
        "## Importing data"
      ]
    },
    {
      "cell_type": "code",
      "metadata": {
        "colab_type": "code",
        "id": "Hxa_3_0_G2Cn",
        "colab": {
          "base_uri": "https://localhost:8080/",
          "height": 194
        },
        "outputId": "cc5c2479-1160-4e09-ccfc-551c55cfcd74"
      },
      "source": [
        "#data = pd.read_csv('../data_extraction/full_data_eth_20072020.csv')\n",
        "data = pd.read_csv('full_data_eth_20072020.csv')\n",
        "data.head()"
      ],
      "execution_count": 79,
      "outputs": [
        {
          "output_type": "execute_result",
          "data": {
            "text/html": [
              "<div>\n",
              "<style scoped>\n",
              "    .dataframe tbody tr th:only-of-type {\n",
              "        vertical-align: middle;\n",
              "    }\n",
              "\n",
              "    .dataframe tbody tr th {\n",
              "        vertical-align: top;\n",
              "    }\n",
              "\n",
              "    .dataframe thead th {\n",
              "        text-align: right;\n",
              "    }\n",
              "</style>\n",
              "<table border=\"1\" class=\"dataframe\">\n",
              "  <thead>\n",
              "    <tr style=\"text-align: right;\">\n",
              "      <th></th>\n",
              "      <th>Date</th>\n",
              "      <th>Open</th>\n",
              "      <th>High</th>\n",
              "      <th>Low</th>\n",
              "      <th>Close</th>\n",
              "      <th>Volume</th>\n",
              "      <th>Market Cap</th>\n",
              "    </tr>\n",
              "  </thead>\n",
              "  <tbody>\n",
              "    <tr>\n",
              "      <th>0</th>\n",
              "      <td>Jul 20, 2020</td>\n",
              "      <td>238.49</td>\n",
              "      <td>239.58</td>\n",
              "      <td>234.85</td>\n",
              "      <td>236.15</td>\n",
              "      <td>5,600,686,192</td>\n",
              "      <td>26,411,853,756</td>\n",
              "    </tr>\n",
              "    <tr>\n",
              "      <th>1</th>\n",
              "      <td>Jul 19, 2020</td>\n",
              "      <td>235.46</td>\n",
              "      <td>239.16</td>\n",
              "      <td>233.28</td>\n",
              "      <td>238.49</td>\n",
              "      <td>6,251,377,305</td>\n",
              "      <td>26,669,691,075</td>\n",
              "    </tr>\n",
              "    <tr>\n",
              "      <th>2</th>\n",
              "      <td>Jul 18, 2020</td>\n",
              "      <td>232.86</td>\n",
              "      <td>236.54</td>\n",
              "      <td>232.32</td>\n",
              "      <td>235.48</td>\n",
              "      <td>5,397,402,117</td>\n",
              "      <td>26,330,601,164</td>\n",
              "    </tr>\n",
              "    <tr>\n",
              "      <th>3</th>\n",
              "      <td>Jul 17, 2020</td>\n",
              "      <td>233.69</td>\n",
              "      <td>234.42</td>\n",
              "      <td>232.11</td>\n",
              "      <td>232.77</td>\n",
              "      <td>5,859,850,529</td>\n",
              "      <td>26,024,301,468</td>\n",
              "    </tr>\n",
              "    <tr>\n",
              "      <th>4</th>\n",
              "      <td>Jul 16, 2020</td>\n",
              "      <td>238.45</td>\n",
              "      <td>239.01</td>\n",
              "      <td>231.62</td>\n",
              "      <td>233.64</td>\n",
              "      <td>5,832,057,567</td>\n",
              "      <td>26,118,155,895</td>\n",
              "    </tr>\n",
              "  </tbody>\n",
              "</table>\n",
              "</div>"
            ],
            "text/plain": [
              "           Date    Open    High     Low   Close         Volume      Market Cap\n",
              "0  Jul 20, 2020  238.49  239.58  234.85  236.15  5,600,686,192  26,411,853,756\n",
              "1  Jul 19, 2020  235.46  239.16  233.28  238.49  6,251,377,305  26,669,691,075\n",
              "2  Jul 18, 2020  232.86  236.54  232.32  235.48  5,397,402,117  26,330,601,164\n",
              "3  Jul 17, 2020  233.69  234.42  232.11  232.77  5,859,850,529  26,024,301,468\n",
              "4  Jul 16, 2020  238.45  239.01  231.62  233.64  5,832,057,567  26,118,155,895"
            ]
          },
          "metadata": {
            "tags": []
          },
          "execution_count": 79
        }
      ]
    },
    {
      "cell_type": "code",
      "metadata": {
        "colab_type": "code",
        "id": "O3BH3MwzG2FP",
        "colab": {
          "base_uri": "https://localhost:8080/",
          "height": 159
        },
        "outputId": "5cfa1840-2478-4f3d-ea9c-5129c1a2c1e0"
      },
      "source": [
        "data.dtypes"
      ],
      "execution_count": 80,
      "outputs": [
        {
          "output_type": "execute_result",
          "data": {
            "text/plain": [
              "Date          object\n",
              "Open          object\n",
              "High          object\n",
              "Low           object\n",
              "Close         object\n",
              "Volume        object\n",
              "Market Cap    object\n",
              "dtype: object"
            ]
          },
          "metadata": {
            "tags": []
          },
          "execution_count": 80
        }
      ]
    },
    {
      "cell_type": "markdown",
      "metadata": {
        "colab_type": "text",
        "id": "nbJkg1mhSB9p"
      },
      "source": [
        "## Function to change object to numerical data"
      ]
    },
    {
      "cell_type": "code",
      "metadata": {
        "colab_type": "code",
        "id": "vEvo1TJAOrIQ",
        "colab": {}
      },
      "source": [
        "def obj_to_num(df,cols):\n",
        "    def obj_to_num(row):\n",
        "        row = row.replace(',','')\n",
        "        return float(row)\n",
        "\n",
        "    for col in cols: \n",
        "        df[col] = df[col].apply(obj_to_num) \n",
        "    return df"
      ],
      "execution_count": 81,
      "outputs": []
    },
    {
      "cell_type": "code",
      "metadata": {
        "colab_type": "code",
        "id": "9AIuPlKePyZH",
        "colab": {
          "base_uri": "https://localhost:8080/",
          "height": 194
        },
        "outputId": "19fdf33a-45fe-4e06-8689-cde84144ee34"
      },
      "source": [
        "columns = ['Open','High','Low','Close','Volume','Market Cap']\n",
        "num_data = obj_to_num(data,columns)\n",
        "num_data.head()"
      ],
      "execution_count": 82,
      "outputs": [
        {
          "output_type": "execute_result",
          "data": {
            "text/html": [
              "<div>\n",
              "<style scoped>\n",
              "    .dataframe tbody tr th:only-of-type {\n",
              "        vertical-align: middle;\n",
              "    }\n",
              "\n",
              "    .dataframe tbody tr th {\n",
              "        vertical-align: top;\n",
              "    }\n",
              "\n",
              "    .dataframe thead th {\n",
              "        text-align: right;\n",
              "    }\n",
              "</style>\n",
              "<table border=\"1\" class=\"dataframe\">\n",
              "  <thead>\n",
              "    <tr style=\"text-align: right;\">\n",
              "      <th></th>\n",
              "      <th>Date</th>\n",
              "      <th>Open</th>\n",
              "      <th>High</th>\n",
              "      <th>Low</th>\n",
              "      <th>Close</th>\n",
              "      <th>Volume</th>\n",
              "      <th>Market Cap</th>\n",
              "    </tr>\n",
              "  </thead>\n",
              "  <tbody>\n",
              "    <tr>\n",
              "      <th>0</th>\n",
              "      <td>Jul 20, 2020</td>\n",
              "      <td>238.49</td>\n",
              "      <td>239.58</td>\n",
              "      <td>234.85</td>\n",
              "      <td>236.15</td>\n",
              "      <td>5.600686e+09</td>\n",
              "      <td>2.641185e+10</td>\n",
              "    </tr>\n",
              "    <tr>\n",
              "      <th>1</th>\n",
              "      <td>Jul 19, 2020</td>\n",
              "      <td>235.46</td>\n",
              "      <td>239.16</td>\n",
              "      <td>233.28</td>\n",
              "      <td>238.49</td>\n",
              "      <td>6.251377e+09</td>\n",
              "      <td>2.666969e+10</td>\n",
              "    </tr>\n",
              "    <tr>\n",
              "      <th>2</th>\n",
              "      <td>Jul 18, 2020</td>\n",
              "      <td>232.86</td>\n",
              "      <td>236.54</td>\n",
              "      <td>232.32</td>\n",
              "      <td>235.48</td>\n",
              "      <td>5.397402e+09</td>\n",
              "      <td>2.633060e+10</td>\n",
              "    </tr>\n",
              "    <tr>\n",
              "      <th>3</th>\n",
              "      <td>Jul 17, 2020</td>\n",
              "      <td>233.69</td>\n",
              "      <td>234.42</td>\n",
              "      <td>232.11</td>\n",
              "      <td>232.77</td>\n",
              "      <td>5.859851e+09</td>\n",
              "      <td>2.602430e+10</td>\n",
              "    </tr>\n",
              "    <tr>\n",
              "      <th>4</th>\n",
              "      <td>Jul 16, 2020</td>\n",
              "      <td>238.45</td>\n",
              "      <td>239.01</td>\n",
              "      <td>231.62</td>\n",
              "      <td>233.64</td>\n",
              "      <td>5.832058e+09</td>\n",
              "      <td>2.611816e+10</td>\n",
              "    </tr>\n",
              "  </tbody>\n",
              "</table>\n",
              "</div>"
            ],
            "text/plain": [
              "           Date    Open    High     Low   Close        Volume    Market Cap\n",
              "0  Jul 20, 2020  238.49  239.58  234.85  236.15  5.600686e+09  2.641185e+10\n",
              "1  Jul 19, 2020  235.46  239.16  233.28  238.49  6.251377e+09  2.666969e+10\n",
              "2  Jul 18, 2020  232.86  236.54  232.32  235.48  5.397402e+09  2.633060e+10\n",
              "3  Jul 17, 2020  233.69  234.42  232.11  232.77  5.859851e+09  2.602430e+10\n",
              "4  Jul 16, 2020  238.45  239.01  231.62  233.64  5.832058e+09  2.611816e+10"
            ]
          },
          "metadata": {
            "tags": []
          },
          "execution_count": 82
        }
      ]
    },
    {
      "cell_type": "code",
      "metadata": {
        "colab_type": "code",
        "id": "21zTCWd1YCsD",
        "colab": {
          "base_uri": "https://localhost:8080/",
          "height": 194
        },
        "outputId": "c874312c-e251-4ff6-f34c-9d4ba5090c98"
      },
      "source": [
        "from datetime import datetime\n",
        "num_data['Date'] = num_data['Date'].apply(lambda x: datetime.strptime(x, '%b %d, %Y').strftime('%Y-%m-%d'))\n",
        "num_data['Date'] = pd.to_datetime(num_data['Date'], utc=True)\n",
        "num_data.head()"
      ],
      "execution_count": 83,
      "outputs": [
        {
          "output_type": "execute_result",
          "data": {
            "text/html": [
              "<div>\n",
              "<style scoped>\n",
              "    .dataframe tbody tr th:only-of-type {\n",
              "        vertical-align: middle;\n",
              "    }\n",
              "\n",
              "    .dataframe tbody tr th {\n",
              "        vertical-align: top;\n",
              "    }\n",
              "\n",
              "    .dataframe thead th {\n",
              "        text-align: right;\n",
              "    }\n",
              "</style>\n",
              "<table border=\"1\" class=\"dataframe\">\n",
              "  <thead>\n",
              "    <tr style=\"text-align: right;\">\n",
              "      <th></th>\n",
              "      <th>Date</th>\n",
              "      <th>Open</th>\n",
              "      <th>High</th>\n",
              "      <th>Low</th>\n",
              "      <th>Close</th>\n",
              "      <th>Volume</th>\n",
              "      <th>Market Cap</th>\n",
              "    </tr>\n",
              "  </thead>\n",
              "  <tbody>\n",
              "    <tr>\n",
              "      <th>0</th>\n",
              "      <td>2020-07-20 00:00:00+00:00</td>\n",
              "      <td>238.49</td>\n",
              "      <td>239.58</td>\n",
              "      <td>234.85</td>\n",
              "      <td>236.15</td>\n",
              "      <td>5.600686e+09</td>\n",
              "      <td>2.641185e+10</td>\n",
              "    </tr>\n",
              "    <tr>\n",
              "      <th>1</th>\n",
              "      <td>2020-07-19 00:00:00+00:00</td>\n",
              "      <td>235.46</td>\n",
              "      <td>239.16</td>\n",
              "      <td>233.28</td>\n",
              "      <td>238.49</td>\n",
              "      <td>6.251377e+09</td>\n",
              "      <td>2.666969e+10</td>\n",
              "    </tr>\n",
              "    <tr>\n",
              "      <th>2</th>\n",
              "      <td>2020-07-18 00:00:00+00:00</td>\n",
              "      <td>232.86</td>\n",
              "      <td>236.54</td>\n",
              "      <td>232.32</td>\n",
              "      <td>235.48</td>\n",
              "      <td>5.397402e+09</td>\n",
              "      <td>2.633060e+10</td>\n",
              "    </tr>\n",
              "    <tr>\n",
              "      <th>3</th>\n",
              "      <td>2020-07-17 00:00:00+00:00</td>\n",
              "      <td>233.69</td>\n",
              "      <td>234.42</td>\n",
              "      <td>232.11</td>\n",
              "      <td>232.77</td>\n",
              "      <td>5.859851e+09</td>\n",
              "      <td>2.602430e+10</td>\n",
              "    </tr>\n",
              "    <tr>\n",
              "      <th>4</th>\n",
              "      <td>2020-07-16 00:00:00+00:00</td>\n",
              "      <td>238.45</td>\n",
              "      <td>239.01</td>\n",
              "      <td>231.62</td>\n",
              "      <td>233.64</td>\n",
              "      <td>5.832058e+09</td>\n",
              "      <td>2.611816e+10</td>\n",
              "    </tr>\n",
              "  </tbody>\n",
              "</table>\n",
              "</div>"
            ],
            "text/plain": [
              "                       Date    Open    High  ...   Close        Volume    Market Cap\n",
              "0 2020-07-20 00:00:00+00:00  238.49  239.58  ...  236.15  5.600686e+09  2.641185e+10\n",
              "1 2020-07-19 00:00:00+00:00  235.46  239.16  ...  238.49  6.251377e+09  2.666969e+10\n",
              "2 2020-07-18 00:00:00+00:00  232.86  236.54  ...  235.48  5.397402e+09  2.633060e+10\n",
              "3 2020-07-17 00:00:00+00:00  233.69  234.42  ...  232.77  5.859851e+09  2.602430e+10\n",
              "4 2020-07-16 00:00:00+00:00  238.45  239.01  ...  233.64  5.832058e+09  2.611816e+10\n",
              "\n",
              "[5 rows x 7 columns]"
            ]
          },
          "metadata": {
            "tags": []
          },
          "execution_count": 83
        }
      ]
    },
    {
      "cell_type": "code",
      "metadata": {
        "colab_type": "code",
        "id": "jCd0C9AUfQl9",
        "colab": {
          "base_uri": "https://localhost:8080/",
          "height": 159
        },
        "outputId": "81f6f81d-33d5-4df1-c588-ef4fde40a4ec"
      },
      "source": [
        "num_data.dtypes"
      ],
      "execution_count": 84,
      "outputs": [
        {
          "output_type": "execute_result",
          "data": {
            "text/plain": [
              "Date          datetime64[ns, UTC]\n",
              "Open                      float64\n",
              "High                      float64\n",
              "Low                       float64\n",
              "Close                     float64\n",
              "Volume                    float64\n",
              "Market Cap                float64\n",
              "dtype: object"
            ]
          },
          "metadata": {
            "tags": []
          },
          "execution_count": 84
        }
      ]
    },
    {
      "cell_type": "markdown",
      "metadata": {
        "colab_type": "text",
        "id": "cvzivr1vYftM"
      },
      "source": [
        "## Making data plots"
      ]
    },
    {
      "cell_type": "code",
      "metadata": {
        "colab_type": "code",
        "id": "zpO77JBZVmFM",
        "colab": {
          "base_uri": "https://localhost:8080/",
          "height": 35
        },
        "outputId": "6dca533f-849d-4598-a514-91957d649c66"
      },
      "source": [
        "!pip install pytz"
      ],
      "execution_count": 24,
      "outputs": [
        {
          "output_type": "stream",
          "text": [
            "Requirement already satisfied: pytz in /usr/local/lib/python3.6/dist-packages (2018.9)\n"
          ],
          "name": "stdout"
        }
      ]
    },
    {
      "cell_type": "code",
      "metadata": {
        "colab_type": "code",
        "id": "xubsDlwIV0t3",
        "colab": {
          "base_uri": "https://localhost:8080/",
          "height": 194
        },
        "outputId": "054b9a3e-bcdf-4cf4-fec2-7d2fab148a8c"
      },
      "source": [
        "# create valid date range\n",
        "import pytz\n",
        "start = datetime(2013, 3, 5, 0, 0, 0, 0, pytz.UTC)\n",
        "end = datetime(2020, 7, 20, 0, 0, 0, 0, pytz.UTC)\n",
        "\n",
        "# find rows between start and end time and find the first row (00:00 monday morning)\n",
        "weekly_rows = num_data[(num_data['Date'] >= start) & (num_data['Date'] <= end)].groupby([pd.Grouper(key='Date', freq='W-MON')]).first().reset_index()\n",
        "weekly_rows.head()"
      ],
      "execution_count": 61,
      "outputs": [
        {
          "output_type": "execute_result",
          "data": {
            "text/html": [
              "<div>\n",
              "<style scoped>\n",
              "    .dataframe tbody tr th:only-of-type {\n",
              "        vertical-align: middle;\n",
              "    }\n",
              "\n",
              "    .dataframe tbody tr th {\n",
              "        vertical-align: top;\n",
              "    }\n",
              "\n",
              "    .dataframe thead th {\n",
              "        text-align: right;\n",
              "    }\n",
              "</style>\n",
              "<table border=\"1\" class=\"dataframe\">\n",
              "  <thead>\n",
              "    <tr style=\"text-align: right;\">\n",
              "      <th></th>\n",
              "      <th>Date</th>\n",
              "      <th>Open</th>\n",
              "      <th>High</th>\n",
              "      <th>Low</th>\n",
              "      <th>Close</th>\n",
              "      <th>Volume</th>\n",
              "      <th>Market Cap</th>\n",
              "    </tr>\n",
              "  </thead>\n",
              "  <tbody>\n",
              "    <tr>\n",
              "      <th>0</th>\n",
              "      <td>2015-08-10 00:00:00+00:00</td>\n",
              "      <td>0.713989</td>\n",
              "      <td>0.729854</td>\n",
              "      <td>0.636546</td>\n",
              "      <td>0.708448</td>\n",
              "      <td>405283.0</td>\n",
              "      <td>42818364.0</td>\n",
              "    </tr>\n",
              "    <tr>\n",
              "      <th>1</th>\n",
              "      <td>2015-08-17 00:00:00+00:00</td>\n",
              "      <td>1.580000</td>\n",
              "      <td>1.580000</td>\n",
              "      <td>1.190000</td>\n",
              "      <td>1.200000</td>\n",
              "      <td>1942830.0</td>\n",
              "      <td>87295367.0</td>\n",
              "    </tr>\n",
              "    <tr>\n",
              "      <th>2</th>\n",
              "      <td>2015-08-24 00:00:00+00:00</td>\n",
              "      <td>1.350000</td>\n",
              "      <td>1.360000</td>\n",
              "      <td>1.230000</td>\n",
              "      <td>1.230000</td>\n",
              "      <td>924920.0</td>\n",
              "      <td>89515257.0</td>\n",
              "    </tr>\n",
              "    <tr>\n",
              "      <th>3</th>\n",
              "      <td>2015-08-31 00:00:00+00:00</td>\n",
              "      <td>1.320000</td>\n",
              "      <td>1.400000</td>\n",
              "      <td>1.200000</td>\n",
              "      <td>1.360000</td>\n",
              "      <td>1447180.0</td>\n",
              "      <td>98963975.0</td>\n",
              "    </tr>\n",
              "    <tr>\n",
              "      <th>4</th>\n",
              "      <td>2015-09-07 00:00:00+00:00</td>\n",
              "      <td>1.300000</td>\n",
              "      <td>1.310000</td>\n",
              "      <td>1.240000</td>\n",
              "      <td>1.250000</td>\n",
              "      <td>489014.0</td>\n",
              "      <td>91020735.0</td>\n",
              "    </tr>\n",
              "  </tbody>\n",
              "</table>\n",
              "</div>"
            ],
            "text/plain": [
              "                       Date      Open  ...     Volume  Market Cap\n",
              "0 2015-08-10 00:00:00+00:00  0.713989  ...   405283.0  42818364.0\n",
              "1 2015-08-17 00:00:00+00:00  1.580000  ...  1942830.0  87295367.0\n",
              "2 2015-08-24 00:00:00+00:00  1.350000  ...   924920.0  89515257.0\n",
              "3 2015-08-31 00:00:00+00:00  1.320000  ...  1447180.0  98963975.0\n",
              "4 2015-09-07 00:00:00+00:00  1.300000  ...   489014.0  91020735.0\n",
              "\n",
              "[5 rows x 7 columns]"
            ]
          },
          "metadata": {
            "tags": []
          },
          "execution_count": 61
        }
      ]
    },
    {
      "cell_type": "code",
      "metadata": {
        "colab_type": "code",
        "id": "jhH9KRD6H1FW",
        "colab": {}
      },
      "source": [
        "#import chart_studio.plotly as py\n",
        "import plotly.graph_objects as go\n",
        "import chart_studio as py"
      ],
      "execution_count": 27,
      "outputs": []
    },
    {
      "cell_type": "code",
      "metadata": {
        "colab_type": "code",
        "id": "Sr3iTFYJV7kl",
        "colab": {}
      },
      "source": [
        "#user = input('type username:')\n",
        "#key = input('type key:')\n",
        "py.tools.set_credentials_file(username='ji_nb', api_key='eGoxXwU4vG6jV7WJVzpw')\n",
        "#py.tools.set_credentials_file(username=user, api_key=key)"
      ],
      "execution_count": 28,
      "outputs": []
    },
    {
      "cell_type": "code",
      "metadata": {
        "colab_type": "code",
        "id": "HB0_WpRjRn0p",
        "colab": {
          "base_uri": "https://localhost:8080/",
          "height": 0
        },
        "outputId": "f93bef6b-d117-4451-c84f-e10e2e87b1b6"
      },
      "source": [
        "trace1 = go.Scatter(\n",
        "    x = weekly_rows['Date'],\n",
        "    y = weekly_rows['Open'].astype(float),\n",
        "    mode = 'lines',\n",
        "    name = 'Open'\n",
        ")\n",
        "\n",
        "trace2 = go.Scatter(\n",
        "    x = weekly_rows['Date'],\n",
        "    y = weekly_rows['Close'].astype(float),\n",
        "    mode = 'lines',\n",
        "    name = 'Close'\n",
        ")\n",
        "trace3 = go.Scatter(\n",
        "    x = weekly_rows['Date'],\n",
        "    y = weekly_rows['High'].astype(float),\n",
        "    mode = 'lines',\n",
        "    name = 'High'\n",
        ")\n",
        "trace4 = go.Scatter(\n",
        "    x = weekly_rows['Date'],\n",
        "    y = weekly_rows['Low'].astype(float),\n",
        "    mode = 'lines',\n",
        "    name = 'Low'\n",
        ")\n",
        "\n",
        "layout = dict(\n",
        "    title='Historical ETH Prices (...-2020) with the Slider ',\n",
        "    xaxis=dict(\n",
        "        rangeselector=dict(\n",
        "            buttons=list([\n",
        "                #change the count to desired amount of months.\n",
        "                dict(count=1,\n",
        "                     label='1day',\n",
        "                     step='day',\n",
        "                     stepmode='backward'),\n",
        "                dict(count=1,\n",
        "                     label='1m',\n",
        "                     step='month',\n",
        "                     stepmode='backward'),\n",
        "                dict(count=6,\n",
        "                     label='6m',\n",
        "                     step='month',\n",
        "                     stepmode='backward'),\n",
        "                dict(count=12,\n",
        "                     label='1y',\n",
        "                     step='month',\n",
        "                     stepmode='backward'),\n",
        "                dict(count=36,\n",
        "                     label='3y',\n",
        "                     step='month',\n",
        "                     stepmode='backward'),\n",
        "                dict(step='all')\n",
        "            ])\n",
        "        ),\n",
        "        rangeslider=dict(\n",
        "            visible = True\n",
        "        ),\n",
        "        type='date'\n",
        "    )\n",
        ")\n",
        "\n",
        "data = [trace1, trace2, trace3, trace4]\n",
        "fig = dict(data=data.copy(), layout=layout)\n",
        "py.plotly.iplot(fig, filename = \"Time_Series_with_Rangeslider\")"
      ],
      "execution_count": 31,
      "outputs": [
        {
          "output_type": "execute_result",
          "data": {
            "text/html": [
              "\n",
              "        <iframe\n",
              "            width=\"100%\"\n",
              "            height=\"525px\"\n",
              "            src=\"https://plotly.com/~ji_nb/1.embed\"\n",
              "            frameborder=\"0\"\n",
              "            allowfullscreen\n",
              "        ></iframe>\n",
              "        "
            ],
            "text/plain": [
              "<IPython.lib.display.IFrame at 0x7ff9c824b080>"
            ]
          },
          "metadata": {
            "tags": []
          },
          "execution_count": 31
        }
      ]
    },
    {
      "cell_type": "code",
      "metadata": {
        "colab_type": "code",
        "id": "tBfGHd11-Kef",
        "colab": {
          "base_uri": "https://localhost:8080/",
          "height": 0
        },
        "outputId": "ad00c72f-f71b-4efb-ee3a-d83a97664867"
      },
      "source": [
        "trace1 = go.Scatter(\n",
        "    x = weekly_rows['Date'],\n",
        "    y = weekly_rows['Volume'].astype(float),\n",
        "    mode = 'lines',\n",
        "    name = 'ETH Price (Open)'\n",
        ")\n",
        "\n",
        "layout = dict(\n",
        "    title='Historical ETH Volume (USD) (...-2020)',\n",
        "    xaxis=dict(\n",
        "        rangeselector=dict(\n",
        "            buttons=list([\n",
        "                dict(count=1,\n",
        "                     label='1m',\n",
        "                     step='month',\n",
        "                     stepmode='backward'),\n",
        "                dict(count=6,\n",
        "                     label='6m',\n",
        "                     step='month',\n",
        "                     stepmode='backward'),\n",
        "                dict(count=12,\n",
        "                     label='1y',\n",
        "                     step='month',\n",
        "                     stepmode='backward'),\n",
        "                dict(count=36,\n",
        "                     label='3y',\n",
        "                     step='month',\n",
        "                     stepmode='backward'),\n",
        "                dict(step='all')\n",
        "            ])\n",
        "        ),\n",
        "        rangeslider=dict(\n",
        "            visible = True\n",
        "        ),\n",
        "        type='date'\n",
        "    )\n",
        ")\n",
        "\n",
        "data = [trace1]\n",
        "fig = dict(data=data.copy(), layout=layout)\n",
        "py.plotly.iplot(fig, filename = \"Time Series with Rangeslider\")"
      ],
      "execution_count": 32,
      "outputs": [
        {
          "output_type": "execute_result",
          "data": {
            "text/html": [
              "\n",
              "        <iframe\n",
              "            width=\"100%\"\n",
              "            height=\"525px\"\n",
              "            src=\"https://plotly.com/~ji_nb/3.embed\"\n",
              "            frameborder=\"0\"\n",
              "            allowfullscreen\n",
              "        ></iframe>\n",
              "        "
            ],
            "text/plain": [
              "<IPython.lib.display.IFrame at 0x7ff9c6f66be0>"
            ]
          },
          "metadata": {
            "tags": []
          },
          "execution_count": 32
        }
      ]
    },
    {
      "cell_type": "markdown",
      "metadata": {
        "id": "23lLBoklSHR_",
        "colab_type": "text"
      },
      "source": [
        "## First time series LSTM"
      ]
    },
    {
      "cell_type": "markdown",
      "metadata": {
        "id": "hdqw0z3SSVxh",
        "colab_type": "text"
      },
      "source": [
        "### Firs of all we don't have enough data so I think this LSTM model is going to be overfitted"
      ]
    },
    {
      "cell_type": "code",
      "metadata": {
        "id": "9-EhNEG5WEMK",
        "colab_type": "code",
        "colab": {
          "base_uri": "https://localhost:8080/",
          "height": 223
        },
        "outputId": "af89fa7d-b456-4e93-92a3-1c7e753206f1"
      },
      "source": [
        "dateparse = lambda x: pd.datetime.strptime(x, '%b %d, %Y').strftime('%Y-%m-%d')\n",
        "#data  = pd.read_csv('full_data_eth_20072020.csv', parse_dates=[0], date_parser=dateparse)\n",
        "#data['Date'] = data['Date'].dt.tz_localize(None)\n",
        "#data = data.groupby([pd.Grouper(key='Date', freq='H')]).first().reset_index()\n",
        "data = data.set_index('Date')\n",
        "data = data[['Close']]\n",
        "data.dropna(subset=['Close'], inplace=True)\n",
        "data.head()"
      ],
      "execution_count": 85,
      "outputs": [
        {
          "output_type": "execute_result",
          "data": {
            "text/html": [
              "<div>\n",
              "<style scoped>\n",
              "    .dataframe tbody tr th:only-of-type {\n",
              "        vertical-align: middle;\n",
              "    }\n",
              "\n",
              "    .dataframe tbody tr th {\n",
              "        vertical-align: top;\n",
              "    }\n",
              "\n",
              "    .dataframe thead th {\n",
              "        text-align: right;\n",
              "    }\n",
              "</style>\n",
              "<table border=\"1\" class=\"dataframe\">\n",
              "  <thead>\n",
              "    <tr style=\"text-align: right;\">\n",
              "      <th></th>\n",
              "      <th>Close</th>\n",
              "    </tr>\n",
              "    <tr>\n",
              "      <th>Date</th>\n",
              "      <th></th>\n",
              "    </tr>\n",
              "  </thead>\n",
              "  <tbody>\n",
              "    <tr>\n",
              "      <th>2020-07-20 00:00:00+00:00</th>\n",
              "      <td>236.15</td>\n",
              "    </tr>\n",
              "    <tr>\n",
              "      <th>2020-07-19 00:00:00+00:00</th>\n",
              "      <td>238.49</td>\n",
              "    </tr>\n",
              "    <tr>\n",
              "      <th>2020-07-18 00:00:00+00:00</th>\n",
              "      <td>235.48</td>\n",
              "    </tr>\n",
              "    <tr>\n",
              "      <th>2020-07-17 00:00:00+00:00</th>\n",
              "      <td>232.77</td>\n",
              "    </tr>\n",
              "    <tr>\n",
              "      <th>2020-07-16 00:00:00+00:00</th>\n",
              "      <td>233.64</td>\n",
              "    </tr>\n",
              "  </tbody>\n",
              "</table>\n",
              "</div>"
            ],
            "text/plain": [
              "                            Close\n",
              "Date                             \n",
              "2020-07-20 00:00:00+00:00  236.15\n",
              "2020-07-19 00:00:00+00:00  238.49\n",
              "2020-07-18 00:00:00+00:00  235.48\n",
              "2020-07-17 00:00:00+00:00  232.77\n",
              "2020-07-16 00:00:00+00:00  233.64"
            ]
          },
          "metadata": {
            "tags": []
          },
          "execution_count": 85
        }
      ]
    },
    {
      "cell_type": "code",
      "metadata": {
        "id": "x40dddKES0Ib",
        "colab_type": "code",
        "colab": {}
      },
      "source": [
        "split_date = '01-Jul-2020'\n",
        "data_train = data.loc[data.index <= split_date].copy()\n",
        "data_test = data.loc[data.index > split_date].copy()"
      ],
      "execution_count": 86,
      "outputs": []
    },
    {
      "cell_type": "code",
      "metadata": {
        "id": "50DyPBEHUewE",
        "colab_type": "code",
        "colab": {}
      },
      "source": [
        "training_set = data_train.values\n",
        "training_set = np.reshape(training_set, (len(training_set), 1))\n",
        "from sklearn.preprocessing import MinMaxScaler\n",
        "sc = MinMaxScaler()\n",
        "training_set = sc.fit_transform(training_set)\n",
        "X_train = training_set[0:len(training_set)-1]\n",
        "y_train = training_set[1:len(training_set)]\n",
        "X_train = np.reshape(X_train, (len(X_train), 1, 1))\n"
      ],
      "execution_count": 87,
      "outputs": []
    },
    {
      "cell_type": "code",
      "metadata": {
        "id": "EOViz2o4v-ta",
        "colab_type": "code",
        "colab": {
          "base_uri": "https://localhost:8080/",
          "height": 350
        },
        "outputId": "a585c6d4-d112-422e-ce4f-acf75b506ab2"
      },
      "source": [
        "_ = data.plot(style='', figsize=(15,5), color=\"#F8766D\", title='ETH Close Price (USD) by days')"
      ],
      "execution_count": 88,
      "outputs": [
        {
          "output_type": "display_data",
          "data": {
            "image/png": "[encoded data removed]",
            "text/plain": [
              "<Figure size 1080x360 with 1 Axes>"
            ]
          },
          "metadata": {
            "tags": [],
            "needs_background": "light"
          }
        }
      ]
    },
    {
      "cell_type": "code",
      "metadata": {
        "id": "BISxlOGZwROE",
        "colab_type": "code",
        "colab": {
          "base_uri": "https://localhost:8080/",
          "height": 350
        },
        "outputId": "b91d876f-3527-41b9-f632-68a1a983c6a8"
      },
      "source": [
        "_ = data_test \\\n",
        "    .rename(columns={'Close': 'Test Set'}) \\\n",
        "    .join(data_train.rename(columns={'Close': 'Training Set'}), how='outer') \\\n",
        "    .plot(figsize=(15,5), title='ETH Close Price (USD) by Days', style='')"
      ],
      "execution_count": 89,
      "outputs": [
        {
          "output_type": "display_data",
          "data": {
            "image/png": "[encoded data removed]",
            "text/plain": [
              "<Figure size 1080x360 with 1 Axes>"
            ]
          },
          "metadata": {
            "tags": [],
            "needs_background": "light"
          }
        }
      ]
    },
    {
      "cell_type": "code",
      "metadata": {
        "id": "buGQ3E-ypifN",
        "colab_type": "code",
        "colab": {
          "base_uri": "https://localhost:8080/",
          "height": 35
        },
        "outputId": "b2bb11e0-0759-4afe-daa0-ec9da3bdd6df"
      },
      "source": [
        "from keras.models import Sequential\n",
        "from keras.layers import Dense\n",
        "from keras.layers import LSTM\n",
        "from keras.layers import Dropout\n",
        "from keras.layers import Activation\n",
        "\n",
        "\n",
        "model = Sequential()\n",
        "model.add(LSTM(128,activation=\"sigmoid\",input_shape=(1,1)))\n",
        "model.add(Dropout(0.2))\n",
        "model.add(Dense(1))\n",
        "model.compile(loss='mean_squared_error', optimizer='adam')\n",
        "model.fit(X_train, y_train, epochs=100, batch_size=50, verbose=False)"
      ],
      "execution_count": 90,
      "outputs": [
        {
          "output_type": "execute_result",
          "data": {
            "text/plain": [
              "<keras.callbacks.callbacks.History at 0x7ff97c45c940>"
            ]
          },
          "metadata": {
            "tags": []
          },
          "execution_count": 90
        }
      ]
    },
    {
      "cell_type": "code",
      "metadata": {
        "id": "uull6jwzpimn",
        "colab_type": "code",
        "colab": {
          "base_uri": "https://localhost:8080/",
          "height": 266
        },
        "outputId": "15ee9802-9afb-45ed-8c01-9b0a9c360bda"
      },
      "source": [
        "model.summary()"
      ],
      "execution_count": 91,
      "outputs": [
        {
          "output_type": "stream",
          "text": [
            "Model: \"sequential_3\"\n",
            "_________________________________________________________________\n",
            "Layer (type)                 Output Shape              Param #   \n",
            "=================================================================\n",
            "lstm_3 (LSTM)                (None, 128)               66560     \n",
            "_________________________________________________________________\n",
            "dropout_3 (Dropout)          (None, 128)               0         \n",
            "_________________________________________________________________\n",
            "dense_3 (Dense)              (None, 1)                 129       \n",
            "=================================================================\n",
            "Total params: 66,689\n",
            "Trainable params: 66,689\n",
            "Non-trainable params: 0\n",
            "_________________________________________________________________\n"
          ],
          "name": "stdout"
        }
      ]
    },
    {
      "cell_type": "code",
      "metadata": {
        "id": "GcF5OziWw4gn",
        "colab_type": "code",
        "colab": {}
      },
      "source": [
        "# Making the predictions\n",
        "test_set = data_test.values\n",
        "inputs = np.reshape(test_set, (len(test_set), 1))\n",
        "inputs = sc.transform(inputs)\n",
        "inputs = np.reshape(inputs, (len(inputs), 1, 1))\n",
        "predicted_ETH_price = model.predict(inputs)\n",
        "predicted_ETH_price = sc.inverse_transform(predicted_ETH_price)"
      ],
      "execution_count": 92,
      "outputs": []
    },
    {
      "cell_type": "code",
      "metadata": {
        "id": "QVQR8hJbpW-y",
        "colab_type": "code",
        "colab": {}
      },
      "source": [
        "data_test['Close_prediction'] = predicted_ETH_price\n",
        "data_all = pd.concat([data_test, data_train], sort=False)"
      ],
      "execution_count": 93,
      "outputs": []
    },
    {
      "cell_type": "code",
      "metadata": {
        "id": "Nhq6kUr3xEU7",
        "colab_type": "code",
        "colab": {
          "base_uri": "https://localhost:8080/",
          "height": 194
        },
        "outputId": "fab8082b-c518-4477-db9f-4218ab066722"
      },
      "source": [
        "final_data = data_all\n",
        "final_data = final_data.reset_index()\n",
        "final_data = final_data.rename(columns={'Close_prediction': 'lstm'})  #Rename Close_pred as lstm\n",
        "final_data = final_data[['Date','Close','lstm']]\n",
        "final_data.head()"
      ],
      "execution_count": 94,
      "outputs": [
        {
          "output_type": "execute_result",
          "data": {
            "text/html": [
              "<div>\n",
              "<style scoped>\n",
              "    .dataframe tbody tr th:only-of-type {\n",
              "        vertical-align: middle;\n",
              "    }\n",
              "\n",
              "    .dataframe tbody tr th {\n",
              "        vertical-align: top;\n",
              "    }\n",
              "\n",
              "    .dataframe thead th {\n",
              "        text-align: right;\n",
              "    }\n",
              "</style>\n",
              "<table border=\"1\" class=\"dataframe\">\n",
              "  <thead>\n",
              "    <tr style=\"text-align: right;\">\n",
              "      <th></th>\n",
              "      <th>Date</th>\n",
              "      <th>Close</th>\n",
              "      <th>lstm</th>\n",
              "    </tr>\n",
              "  </thead>\n",
              "  <tbody>\n",
              "    <tr>\n",
              "      <th>0</th>\n",
              "      <td>2020-07-20 00:00:00+00:00</td>\n",
              "      <td>236.15</td>\n",
              "      <td>229.767014</td>\n",
              "    </tr>\n",
              "    <tr>\n",
              "      <th>1</th>\n",
              "      <td>2020-07-19 00:00:00+00:00</td>\n",
              "      <td>238.49</td>\n",
              "      <td>231.941025</td>\n",
              "    </tr>\n",
              "    <tr>\n",
              "      <th>2</th>\n",
              "      <td>2020-07-18 00:00:00+00:00</td>\n",
              "      <td>235.48</td>\n",
              "      <td>229.144501</td>\n",
              "    </tr>\n",
              "    <tr>\n",
              "      <th>3</th>\n",
              "      <td>2020-07-17 00:00:00+00:00</td>\n",
              "      <td>232.77</td>\n",
              "      <td>226.626785</td>\n",
              "    </tr>\n",
              "    <tr>\n",
              "      <th>4</th>\n",
              "      <td>2020-07-16 00:00:00+00:00</td>\n",
              "      <td>233.64</td>\n",
              "      <td>227.435089</td>\n",
              "    </tr>\n",
              "  </tbody>\n",
              "</table>\n",
              "</div>"
            ],
            "text/plain": [
              "                       Date   Close        lstm\n",
              "0 2020-07-20 00:00:00+00:00  236.15  229.767014\n",
              "1 2020-07-19 00:00:00+00:00  238.49  231.941025\n",
              "2 2020-07-18 00:00:00+00:00  235.48  229.144501\n",
              "3 2020-07-17 00:00:00+00:00  232.77  226.626785\n",
              "4 2020-07-16 00:00:00+00:00  233.64  227.435089"
            ]
          },
          "metadata": {
            "tags": []
          },
          "execution_count": 94
        }
      ]
    },
    {
      "cell_type": "code",
      "metadata": {
        "id": "VOEZbazD5QLQ",
        "colab_type": "code",
        "colab": {
          "base_uri": "https://localhost:8080/",
          "height": 497
        },
        "outputId": "bcd3f71e-c8f2-4d0a-c215-3683b41a9029"
      },
      "source": [
        "_ = data_all[['Close','Close_prediction']].plot(figsize=(22, 8))"
      ],
      "execution_count": 100,
      "outputs": [
        {
          "output_type": "display_data",
          "data": {
            "image/png": "[encoded data removed]",
            "text/plain": [
              "<Figure size 1584x576 with 1 Axes>"
            ]
          },
          "metadata": {
            "tags": [],
            "needs_background": "light"
          }
        }
      ]
    },
    {
      "cell_type": "code",
      "metadata": {
        "id": "BDOUsD6r5ybX",
        "colab_type": "code",
        "colab": {
          "base_uri": "https://localhost:8080/",
          "height": 393
        },
        "outputId": "29103a6c-4fdc-4634-9aa8-17d6e2484bda"
      },
      "source": [
        "f, ax = plt.subplots(1)\n",
        "f.set_figheight(5)\n",
        "f.set_figwidth(15)\n",
        "_ = data_all[['Close_prediction','Close']].plot(ax=ax,\n",
        "                                              style=['-','.'])\n",
        "ax.set_xbound(lower='07-01-2020', upper='07-20-2020')\n",
        "ax.set_ylim(0, 10000)\n",
        "plot = plt.suptitle('Last 20 days forecast vs actuals')"
      ],
      "execution_count": 102,
      "outputs": [
        {
          "output_type": "display_data",
          "data": {
            "image/png": "[encoded data removed]",
            "text/plain": [
              "<Figure size 1080x360 with 1 Axes>"
            ]
          },
          "metadata": {
            "tags": [],
            "needs_background": "light"
          }
        }
      ]
    },
    {
      "cell_type": "code",
      "metadata": {
        "id": "MVGL_DqD7I33",
        "colab_type": "code",
        "colab": {
          "base_uri": "https://localhost:8080/",
          "height": 35
        },
        "outputId": "3c41592c-f653-48d7-9e6a-76847d3cb7ca"
      },
      "source": [
        "from sklearn.metrics import mean_squared_error as mse, mean_absolute_error as mae\n",
        "mse(y_true=data_test['Close'],\n",
        "                   y_pred=data_test['Close_prediction'])"
      ],
      "execution_count": 104,
      "outputs": [
        {
          "output_type": "execute_result",
          "data": {
            "text/plain": [
              "41.48583031869292"
            ]
          },
          "metadata": {
            "tags": []
          },
          "execution_count": 104
        }
      ]
    },
    {
      "cell_type": "code",
      "metadata": {
        "id": "L-6dq7j57ZS7",
        "colab_type": "code",
        "colab": {
          "base_uri": "https://localhost:8080/",
          "height": 35
        },
        "outputId": "fe016af4-582e-4de0-abe6-98a4fc8c0f01"
      },
      "source": [
        "mae(y_true=data_test['Close'],\n",
        "                   y_pred=data_test['Close_prediction'])"
      ],
      "execution_count": 105,
      "outputs": [
        {
          "output_type": "execute_result",
          "data": {
            "text/plain": [
              "6.4286373098273"
            ]
          },
          "metadata": {
            "tags": []
          },
          "execution_count": 105
        }
      ]
    },
    {
      "cell_type": "markdown",
      "metadata": {
        "colab_type": "text",
        "id": "pDT743oYfe41"
      },
      "source": [
        "## Time series with XGBoost"
      ]
    },
    {
      "cell_type": "code",
      "metadata": {
        "colab_type": "code",
        "id": "mAiPQogonDQ6",
        "colab": {
          "base_uri": "https://localhost:8080/",
          "height": 195
        },
        "outputId": "52efa522-9dea-4a7d-d34d-57228ef89fa7"
      },
      "source": [
        "!pip install dateparser"
      ],
      "execution_count": 108,
      "outputs": [
        {
          "output_type": "stream",
          "text": [
            "Collecting dateparser\n",
            "\u001b[?25l  Downloading https://files.pythonhosted.org/packages/c1/d5/5a2e51bc0058f66b54669735f739d27afc3eb453ab00520623c7ab168e22/dateparser-0.7.6-py2.py3-none-any.whl (362kB)\n",
            "\r\u001b[K     |█                               | 10kB 17.1MB/s eta 0:00:01\r\u001b[K     |█▉                              | 20kB 2.7MB/s eta 0:00:01\r\u001b[K     |██▊                             | 30kB 3.7MB/s eta 0:00:01\r\u001b[K     |███▋                            | 40kB 4.1MB/s eta 0:00:01\r\u001b[K     |████▌                           | 51kB 3.2MB/s eta 0:00:01\r\u001b[K     |█████▍                          | 61kB 3.6MB/s eta 0:00:01\r\u001b[K     |██████▍                         | 71kB 3.9MB/s eta 0:00:01\r\u001b[K     |███████▎                        | 81kB 4.2MB/s eta 0:00:01\r\u001b[K     |████████▏                       | 92kB 4.5MB/s eta 0:00:01\r\u001b[K     |█████████                       | 102kB 4.4MB/s eta 0:00:01\r\u001b[K     |██████████                      | 112kB 4.4MB/s eta 0:00:01\r\u001b[K     |██████████▉                     | 122kB 4.4MB/s eta 0:00:01\r\u001b[K     |███████████▊                    | 133kB 4.4MB/s eta 0:00:01\r\u001b[K     |████████████▊                   | 143kB 4.4MB/s eta 0:00:01\r\u001b[K     |█████████████▋                  | 153kB 4.4MB/s eta 0:00:01\r\u001b[K     |██████████████▌                 | 163kB 4.4MB/s eta 0:00:01\r\u001b[K     |███████████████▍                | 174kB 4.4MB/s eta 0:00:01\r\u001b[K     |████████████████▎               | 184kB 4.4MB/s eta 0:00:01\r\u001b[K     |█████████████████▏              | 194kB 4.4MB/s eta 0:00:01\r\u001b[K     |██████████████████              | 204kB 4.4MB/s eta 0:00:01\r\u001b[K     |███████████████████             | 215kB 4.4MB/s eta 0:00:01\r\u001b[K     |████████████████████            | 225kB 4.4MB/s eta 0:00:01\r\u001b[K     |████████████████████▉           | 235kB 4.4MB/s eta 0:00:01\r\u001b[K     |█████████████████████▊          | 245kB 4.4MB/s eta 0:00:01\r\u001b[K     |██████████████████████▋         | 256kB 4.4MB/s eta 0:00:01\r\u001b[K     |███████████████████████▌        | 266kB 4.4MB/s eta 0:00:01\r\u001b[K     |████████████████████████▍       | 276kB 4.4MB/s eta 0:00:01\r\u001b[K     |█████████████████████████▍      | 286kB 4.4MB/s eta 0:00:01\r\u001b[K     |██████████████████████████▎     | 296kB 4.4MB/s eta 0:00:01\r\u001b[K     |███████████████████████████▏    | 307kB 4.4MB/s eta 0:00:01\r\u001b[K     |████████████████████████████    | 317kB 4.4MB/s eta 0:00:01\r\u001b[K     |█████████████████████████████   | 327kB 4.4MB/s eta 0:00:01\r\u001b[K     |█████████████████████████████▉  | 337kB 4.4MB/s eta 0:00:01\r\u001b[K     |██████████████████████████████▊ | 348kB 4.4MB/s eta 0:00:01\r\u001b[K     |███████████████████████████████▊| 358kB 4.4MB/s eta 0:00:01\r\u001b[K     |████████████████████████████████| 368kB 4.4MB/s \n",
            "\u001b[?25hRequirement already satisfied: tzlocal in /usr/local/lib/python3.6/dist-packages (from dateparser) (1.5.1)\n",
            "Requirement already satisfied: regex!=2019.02.19 in /usr/local/lib/python3.6/dist-packages (from dateparser) (2019.12.20)\n",
            "Requirement already satisfied: python-dateutil in /usr/local/lib/python3.6/dist-packages (from dateparser) (2.8.1)\n",
            "Requirement already satisfied: pytz in /usr/local/lib/python3.6/dist-packages (from dateparser) (2018.9)\n",
            "Requirement already satisfied: six>=1.5 in /usr/local/lib/python3.6/dist-packages (from python-dateutil->dateparser) (1.12.0)\n",
            "Installing collected packages: dateparser\n",
            "Successfully installed dateparser-0.7.6\n"
          ],
          "name": "stdout"
        }
      ]
    },
    {
      "cell_type": "code",
      "metadata": {
        "colab_type": "code",
        "id": "v_24I2e-dwME",
        "colab": {}
      },
      "source": [
        "#from fbprophet import Prophet\n",
        "from sklearn.metrics import mean_squared_error as mse, mean_absolute_error as mae\n",
        "import dateparser\n",
        "plt.style.use('fivethirtyeight')"
      ],
      "execution_count": 109,
      "outputs": []
    },
    {
      "cell_type": "markdown",
      "metadata": {
        "colab_type": "text",
        "id": "HoS3ZJoFs2lP"
      },
      "source": [
        ""
      ]
    },
    {
      "cell_type": "code",
      "metadata": {
        "colab_type": "code",
        "id": "ZwALG-rHdwGK",
        "colab": {
          "base_uri": "https://localhost:8080/",
          "height": 294
        },
        "outputId": "963a85fa-6965-461a-9985-12aaf7f5a2da"
      },
      "source": [
        "dateparse = lambda x: pd.datetime.strptime(x, '%b %d, %Y').strftime('%Y-%m-%d')\n",
        "datat  = pd.read_csv('full_data_eth_20072020.csv', parse_dates=[0], date_parser=dateparse)\n",
        "datat['Date'] = datat['Date'].dt.tz_localize(None)\n",
        "datat = datat.groupby([pd.Grouper(key='Date', freq='D')]).first().reset_index()\n",
        "datat = datat.set_index('Date')\n",
        "datat = datat[['Close']]\n",
        "datat.dropna(subset=['Close'], inplace=True)\n",
        "datat[-5:]"
      ],
      "execution_count": 123,
      "outputs": [
        {
          "output_type": "stream",
          "text": [
            "/usr/local/lib/python3.6/dist-packages/ipykernel_launcher.py:1: FutureWarning:\n",
            "\n",
            "The pandas.datetime class is deprecated and will be removed from pandas in a future version. Import from datetime instead.\n",
            "\n"
          ],
          "name": "stderr"
        },
        {
          "output_type": "execute_result",
          "data": {
            "text/html": [
              "<div>\n",
              "<style scoped>\n",
              "    .dataframe tbody tr th:only-of-type {\n",
              "        vertical-align: middle;\n",
              "    }\n",
              "\n",
              "    .dataframe tbody tr th {\n",
              "        vertical-align: top;\n",
              "    }\n",
              "\n",
              "    .dataframe thead th {\n",
              "        text-align: right;\n",
              "    }\n",
              "</style>\n",
              "<table border=\"1\" class=\"dataframe\">\n",
              "  <thead>\n",
              "    <tr style=\"text-align: right;\">\n",
              "      <th></th>\n",
              "      <th>Close</th>\n",
              "    </tr>\n",
              "    <tr>\n",
              "      <th>Date</th>\n",
              "      <th></th>\n",
              "    </tr>\n",
              "  </thead>\n",
              "  <tbody>\n",
              "    <tr>\n",
              "      <th>2020-07-16</th>\n",
              "      <td>233.64</td>\n",
              "    </tr>\n",
              "    <tr>\n",
              "      <th>2020-07-17</th>\n",
              "      <td>232.77</td>\n",
              "    </tr>\n",
              "    <tr>\n",
              "      <th>2020-07-18</th>\n",
              "      <td>235.48</td>\n",
              "    </tr>\n",
              "    <tr>\n",
              "      <th>2020-07-19</th>\n",
              "      <td>238.49</td>\n",
              "    </tr>\n",
              "    <tr>\n",
              "      <th>2020-07-20</th>\n",
              "      <td>236.15</td>\n",
              "    </tr>\n",
              "  </tbody>\n",
              "</table>\n",
              "</div>"
            ],
            "text/plain": [
              "             Close\n",
              "Date              \n",
              "2020-07-16  233.64\n",
              "2020-07-17  232.77\n",
              "2020-07-18  235.48\n",
              "2020-07-19  238.49\n",
              "2020-07-20  236.15"
            ]
          },
          "metadata": {
            "tags": []
          },
          "execution_count": 123
        }
      ]
    },
    {
      "cell_type": "code",
      "metadata": {
        "colab_type": "code",
        "id": "47Za9q-0tJX8",
        "colab": {}
      },
      "source": [
        "columns = ['Close']\n",
        "datat = obj_to_num(datat,columns)   # Function to change object to numerical data"
      ],
      "execution_count": 124,
      "outputs": []
    },
    {
      "cell_type": "code",
      "metadata": {
        "colab_type": "code",
        "id": "t6WykG-XsgSn",
        "colab": {
          "base_uri": "https://localhost:8080/",
          "height": 52
        },
        "outputId": "f736df57-ca66-43d3-a221-5986f55c33e5"
      },
      "source": [
        "datat.dtypes"
      ],
      "execution_count": 125,
      "outputs": [
        {
          "output_type": "execute_result",
          "data": {
            "text/plain": [
              "Close    float64\n",
              "dtype: object"
            ]
          },
          "metadata": {
            "tags": []
          },
          "execution_count": 125
        }
      ]
    },
    {
      "cell_type": "code",
      "metadata": {
        "colab_type": "code",
        "id": "E-_9cCrmdv_x",
        "colab": {
          "base_uri": "https://localhost:8080/",
          "height": 383
        },
        "outputId": "dc2c2824-8a86-4890-c8f4-1a3a0f5c7be6"
      },
      "source": [
        "_ = datat.plot(style='', figsize=(18,5), color=\"#F8766D\", title='ETH Close_Price by Days')"
      ],
      "execution_count": 128,
      "outputs": [
        {
          "output_type": "display_data",
          "data": {
            "image/png": "[encoded data removed]",
            "text/plain": [
              "<Figure size 1296x360 with 1 Axes>"
            ]
          },
          "metadata": {
            "tags": []
          }
        }
      ]
    },
    {
      "cell_type": "code",
      "metadata": {
        "colab_type": "code",
        "id": "FDdU0jCgdv5t",
        "colab": {}
      },
      "source": [
        "split_date = '2020-07-01'\n",
        "data_train = datat.loc[datat.index <= split_date].copy()\n",
        "data_test = datat.loc[datat.index > split_date].copy()"
      ],
      "execution_count": 129,
      "outputs": []
    },
    {
      "cell_type": "code",
      "metadata": {
        "colab_type": "code",
        "id": "Yei5xL0zdvx4",
        "colab": {
          "base_uri": "https://localhost:8080/",
          "height": 383
        },
        "outputId": "e4d8a5fd-4add-4910-9c3a-22b65bdba0e2"
      },
      "source": [
        "_ = data_test \\\n",
        "    .rename(columns={'Close': 'Test Set'}) \\\n",
        "    .join(data_train.rename(columns={'Close': 'Training Set'}), how='outer') \\\n",
        "    .plot(figsize=(15,5), title='ETH Close Price by Days', style='')"
      ],
      "execution_count": 130,
      "outputs": [
        {
          "output_type": "display_data",
          "data": {
            "image/png": "[encoded data removed]",
            "text/plain": [
              "<Figure size 1080x360 with 1 Axes>"
            ]
          },
          "metadata": {
            "tags": []
          }
        }
      ]
    },
    {
      "cell_type": "code",
      "metadata": {
        "colab_type": "code",
        "id": "h7P5xtffdvn5",
        "colab": {}
      },
      "source": [
        "def create_features(df, label=None):\n",
        "    \"\"\"\n",
        "    Creates time series features from datetime index\n",
        "    \"\"\"\n",
        "    df['date'] = df.index\n",
        "    df['hour'] = df['date'].dt.hour\n",
        "    df['dayofweek'] = df['date'].dt.dayofweek\n",
        "    df['quarter'] = df['date'].dt.quarter\n",
        "    df['month'] = df['date'].dt.month\n",
        "    df['year'] = df['date'].dt.year\n",
        "    df['dayofyear'] = df['date'].dt.dayofyear\n",
        "    df['dayofmonth'] = df['date'].dt.day\n",
        "    df['weekofyear'] = df['date'].dt.weekofyear\n",
        "    \n",
        "    X = df[['hour','dayofweek','quarter','month','year',\n",
        "           'dayofyear','dayofmonth','weekofyear']]\n",
        "    if label:\n",
        "        y = df[label]\n",
        "        return X, y\n",
        "    return X"
      ],
      "execution_count": 131,
      "outputs": []
    },
    {
      "cell_type": "code",
      "metadata": {
        "colab_type": "code",
        "id": "Rxhcg63RzmFX",
        "colab": {}
      },
      "source": [
        "X_train, y_train = create_features(data_train, label='Close')\n",
        "X_test, y_test = create_features(data_test, label='Close')"
      ],
      "execution_count": 132,
      "outputs": []
    },
    {
      "cell_type": "code",
      "metadata": {
        "id": "YRTrPSeeA0n9",
        "colab_type": "code",
        "colab": {
          "base_uri": "https://localhost:8080/",
          "height": 390
        },
        "outputId": "bc176815-df78-4738-b5bd-7bee371c0bfb"
      },
      "source": [
        "y_test"
      ],
      "execution_count": 134,
      "outputs": [
        {
          "output_type": "execute_result",
          "data": {
            "text/plain": [
              "Date\n",
              "2020-07-02    229.39\n",
              "2020-07-03    225.39\n",
              "2020-07-04    229.07\n",
              "2020-07-05    227.66\n",
              "2020-07-06    241.51\n",
              "2020-07-07    239.08\n",
              "2020-07-08    246.67\n",
              "2020-07-09    243.02\n",
              "2020-07-10    240.98\n",
              "2020-07-11    239.46\n",
              "2020-07-12    242.13\n",
              "2020-07-13    239.60\n",
              "2020-07-14    240.21\n",
              "2020-07-15    238.42\n",
              "2020-07-16    233.64\n",
              "2020-07-17    232.77\n",
              "2020-07-18    235.48\n",
              "2020-07-19    238.49\n",
              "2020-07-20    236.15\n",
              "Name: Close, dtype: float64"
            ]
          },
          "metadata": {
            "tags": []
          },
          "execution_count": 134
        }
      ]
    },
    {
      "cell_type": "code",
      "metadata": {
        "colab_type": "code",
        "id": "BUYOEtifzmCM",
        "colab": {
          "base_uri": "https://localhost:8080/",
          "height": 159
        },
        "outputId": "1eab830b-7640-4673-9afd-5d2d9559bcd1"
      },
      "source": [
        "import xgboost as xgb\n",
        "from xgboost import plot_importance, plot_tree\n",
        "model =  xgb.XGBRegressor(objective ='reg:linear',min_child_weight=10, booster='gbtree', colsample_bytree = 0.3, learning_rate = 0.1,\n",
        "                max_depth = 5, alpha = 10, n_estimators = 100)\n",
        "model.fit(X_train, y_train,\n",
        "        eval_set=[(X_train, y_train), (X_test, y_test)],\n",
        "        early_stopping_rounds=50,\n",
        "       verbose=False)"
      ],
      "execution_count": 135,
      "outputs": [
        {
          "output_type": "stream",
          "text": [
            "[06:19:01] WARNING: /workspace/src/objective/regression_obj.cu:152: reg:linear is now deprecated in favor of reg:squarederror.\n"
          ],
          "name": "stdout"
        },
        {
          "output_type": "execute_result",
          "data": {
            "text/plain": [
              "XGBRegressor(alpha=10, base_score=0.5, booster='gbtree', colsample_bylevel=1,\n",
              "             colsample_bynode=1, colsample_bytree=0.3, gamma=0,\n",
              "             importance_type='gain', learning_rate=0.1, max_delta_step=0,\n",
              "             max_depth=5, min_child_weight=10, missing=None, n_estimators=100,\n",
              "             n_jobs=1, nthread=None, objective='reg:linear', random_state=0,\n",
              "             reg_alpha=0, reg_lambda=1, scale_pos_weight=1, seed=None,\n",
              "             silent=None, subsample=1, verbosity=1)"
            ]
          },
          "metadata": {
            "tags": []
          },
          "execution_count": 135
        }
      ]
    },
    {
      "cell_type": "code",
      "metadata": {
        "colab_type": "code",
        "id": "8SG71Ka9zl_L",
        "colab": {}
      },
      "source": [
        "data_test['Close_prediction'] = model.predict(X_test)\n",
        "data_all = pd.concat([data_test, data_train], sort=False)"
      ],
      "execution_count": 137,
      "outputs": []
    },
    {
      "cell_type": "markdown",
      "metadata": {
        "id": "wUQZomuoJ11a",
        "colab_type": "text"
      },
      "source": [
        "# Detalle"
      ]
    },
    {
      "cell_type": "code",
      "metadata": {
        "colab_type": "code",
        "id": "SOrXVMmK1cW3",
        "colab": {}
      },
      "source": [
        "#final_data = datat.copy()\n",
        "final_data = pd.merge(final_data, data_all, sort=False)\n",
        "final_data = final_data.rename(columns={'Close_prediction': 'xgboost'})\n",
        "final_data = final_data[['Date','Close','lstm','xgboost']]"
      ],
      "execution_count": 138,
      "outputs": []
    },
    {
      "cell_type": "code",
      "metadata": {
        "colab_type": "code",
        "id": "TQucTyfRzl8c",
        "colab": {
          "base_uri": "https://localhost:8080/",
          "height": 331
        },
        "outputId": "44f126db-6982-4969-ba1d-b4ca85ea05b9"
      },
      "source": [
        "_ = data_all[['Close','Close_prediction']].plot(figsize=(15, 5))"
      ],
      "execution_count": 140,
      "outputs": [
        {
          "output_type": "display_data",
          "data": {
            "image/png": "[encoded data removed]",
            "text/plain": [
              "<Figure size 1080x360 with 1 Axes>"
            ]
          },
          "metadata": {
            "tags": []
          }
        }
      ]
    },
    {
      "cell_type": "code",
      "metadata": {
        "colab_type": "code",
        "id": "SKwgG9kb1bf6",
        "colab": {
          "base_uri": "https://localhost:8080/",
          "height": 390
        },
        "outputId": "1971f974-8bfe-4c6a-eccd-1164a594cf42"
      },
      "source": [
        "f, ax = plt.subplots(1)\n",
        "f.set_figheight(5)\n",
        "f.set_figwidth(15)\n",
        "_ = data_all[['Close_prediction','Close']].plot(ax=ax,\n",
        "                                              style=['-','.'])\n",
        "ax.set_xbound(lower='2020-07-01', upper='2020-07-20')\n",
        "ax.set_ylim(0, 10000)\n",
        "plot = plt.suptitle('Predicted Forecast vs Actuals')"
      ],
      "execution_count": 142,
      "outputs": [
        {
          "output_type": "display_data",
          "data": {
            "image/png": "[encoded data removed]",
            "text/plain": [
              "<Figure size 1080x360 with 1 Axes>"
            ]
          },
          "metadata": {
            "tags": []
          }
        }
      ]
    },
    {
      "cell_type": "code",
      "metadata": {
        "colab_type": "code",
        "id": "S2gvgGZV2hZq",
        "colab": {
          "base_uri": "https://localhost:8080/",
          "height": 35
        },
        "outputId": "b6a4ac96-19b6-40e7-c65b-055ca54eff17"
      },
      "source": [
        "mean_squared_error(y_true=data_test['Close'],\n",
        "                   y_pred=data_test['Close_prediction'])"
      ],
      "execution_count": 143,
      "outputs": [
        {
          "output_type": "execute_result",
          "data": {
            "text/plain": [
              "493.66923161389747"
            ]
          },
          "metadata": {
            "tags": []
          },
          "execution_count": 143
        }
      ]
    },
    {
      "cell_type": "code",
      "metadata": {
        "colab_type": "code",
        "id": "186TYkYN2hWy",
        "colab": {
          "base_uri": "https://localhost:8080/",
          "height": 35
        },
        "outputId": "982fe7b1-586c-4b8b-b20c-b5a2a307d99c"
      },
      "source": [
        "mean_absolute_error(y_true=data_test['Close'],\n",
        "                   y_pred=data_test['Close_prediction'])"
      ],
      "execution_count": 144,
      "outputs": [
        {
          "output_type": "execute_result",
          "data": {
            "text/plain": [
              "20.191743228310035"
            ]
          },
          "metadata": {
            "tags": []
          },
          "execution_count": 144
        }
      ]
    },
    {
      "cell_type": "markdown",
      "metadata": {
        "id": "fiJgP6_BEVFE",
        "colab_type": "text"
      },
      "source": [
        "### This model seems to have a better performance but just for the close prediction of 20 days"
      ]
    },
    {
      "cell_type": "markdown",
      "metadata": {
        "id": "PP5tC1-REX4I",
        "colab_type": "text"
      },
      "source": [
        "## Prophet model"
      ]
    },
    {
      "cell_type": "code",
      "metadata": {
        "id": "0HC_vX6vFiSa",
        "colab_type": "code",
        "colab": {
          "base_uri": "https://localhost:8080/",
          "height": 294
        },
        "outputId": "2765bf25-c0e7-47b2-d804-00ebca7a2169"
      },
      "source": [
        "dateparse = lambda x: pd.datetime.strptime(x, '%b %d, %Y').strftime('%Y-%m-%d')\n",
        "datat  = pd.read_csv('full_data_eth_20072020.csv', parse_dates=[0], date_parser=dateparse)\n",
        "datat['Date'] = datat['Date'].dt.tz_localize(None)\n",
        "datat = datat.groupby([pd.Grouper(key='Date', freq='D')]).first().reset_index()\n",
        "datat = datat.set_index('Date')\n",
        "datat = datat[['Close']]\n",
        "#datat.dropna(subset=['Close'], inplace=True)\n",
        "datat[-5:]"
      ],
      "execution_count": 145,
      "outputs": [
        {
          "output_type": "stream",
          "text": [
            "/usr/local/lib/python3.6/dist-packages/ipykernel_launcher.py:1: FutureWarning:\n",
            "\n",
            "The pandas.datetime class is deprecated and will be removed from pandas in a future version. Import from datetime instead.\n",
            "\n"
          ],
          "name": "stderr"
        },
        {
          "output_type": "execute_result",
          "data": {
            "text/html": [
              "<div>\n",
              "<style scoped>\n",
              "    .dataframe tbody tr th:only-of-type {\n",
              "        vertical-align: middle;\n",
              "    }\n",
              "\n",
              "    .dataframe tbody tr th {\n",
              "        vertical-align: top;\n",
              "    }\n",
              "\n",
              "    .dataframe thead th {\n",
              "        text-align: right;\n",
              "    }\n",
              "</style>\n",
              "<table border=\"1\" class=\"dataframe\">\n",
              "  <thead>\n",
              "    <tr style=\"text-align: right;\">\n",
              "      <th></th>\n",
              "      <th>Close</th>\n",
              "    </tr>\n",
              "    <tr>\n",
              "      <th>Date</th>\n",
              "      <th></th>\n",
              "    </tr>\n",
              "  </thead>\n",
              "  <tbody>\n",
              "    <tr>\n",
              "      <th>2020-07-16</th>\n",
              "      <td>233.64</td>\n",
              "    </tr>\n",
              "    <tr>\n",
              "      <th>2020-07-17</th>\n",
              "      <td>232.77</td>\n",
              "    </tr>\n",
              "    <tr>\n",
              "      <th>2020-07-18</th>\n",
              "      <td>235.48</td>\n",
              "    </tr>\n",
              "    <tr>\n",
              "      <th>2020-07-19</th>\n",
              "      <td>238.49</td>\n",
              "    </tr>\n",
              "    <tr>\n",
              "      <th>2020-07-20</th>\n",
              "      <td>236.15</td>\n",
              "    </tr>\n",
              "  </tbody>\n",
              "</table>\n",
              "</div>"
            ],
            "text/plain": [
              "             Close\n",
              "Date              \n",
              "2020-07-16  233.64\n",
              "2020-07-17  232.77\n",
              "2020-07-18  235.48\n",
              "2020-07-19  238.49\n",
              "2020-07-20  236.15"
            ]
          },
          "metadata": {
            "tags": []
          },
          "execution_count": 145
        }
      ]
    },
    {
      "cell_type": "code",
      "metadata": {
        "colab_type": "code",
        "id": "Hl6Zv_lK2hOn",
        "colab": {}
      },
      "source": [
        "split_date = '2020-07-01'\n",
        "data_train = data.loc[data.index <= split_date].copy()\n",
        "data_test = data.loc[data.index > split_date].copy()"
      ],
      "execution_count": 151,
      "outputs": []
    },
    {
      "cell_type": "code",
      "metadata": {
        "id": "a_BqV7AcJzjx",
        "colab_type": "code",
        "colab": {}
      },
      "source": [
        "data_train = data_train.reset_index().rename(columns={'Date':'ds', 'Close':'y'})"
      ],
      "execution_count": 152,
      "outputs": []
    },
    {
      "cell_type": "code",
      "metadata": {
        "id": "Tae_aFIgJzj0",
        "colab_type": "code",
        "colab": {
          "base_uri": "https://localhost:8080/",
          "height": 186
        },
        "outputId": "7e807dc8-e1f6-40bf-9bb6-fb7405ae3cf8"
      },
      "source": [
        "model = Prophet()\n",
        "model.fit(data_train)"
      ],
      "execution_count": 153,
      "outputs": [
        {
          "output_type": "error",
          "ename": "NameError",
          "evalue": "ignored",
          "traceback": [
            "\u001b[0;31m---------------------------------------------------------------------------\u001b[0m",
            "\u001b[0;31mNameError\u001b[0m                                 Traceback (most recent call last)",
            "\u001b[0;32m<ipython-input-153-cd96013402cb>\u001b[0m in \u001b[0;36m<module>\u001b[0;34m()\u001b[0m\n\u001b[0;32m----> 1\u001b[0;31m \u001b[0mmodel\u001b[0m \u001b[0;34m=\u001b[0m \u001b[0mProphet\u001b[0m\u001b[0;34m(\u001b[0m\u001b[0;34m)\u001b[0m\u001b[0;34m\u001b[0m\u001b[0;34m\u001b[0m\u001b[0m\n\u001b[0m\u001b[1;32m      2\u001b[0m \u001b[0mmodel\u001b[0m\u001b[0;34m.\u001b[0m\u001b[0mfit\u001b[0m\u001b[0;34m(\u001b[0m\u001b[0mdata_train\u001b[0m\u001b[0;34m)\u001b[0m\u001b[0;34m\u001b[0m\u001b[0;34m\u001b[0m\u001b[0m\n",
            "\u001b[0;31mNameError\u001b[0m: name 'Prophet' is not defined"
          ]
        }
      ]
    },
    {
      "cell_type": "code",
      "metadata": {
        "id": "vG13ct-5Jzj3",
        "colab_type": "code",
        "colab": {}
      },
      "source": [
        ""
      ],
      "execution_count": null,
      "outputs": []
    },
    {
      "cell_type": "code",
      "metadata": {
        "colab_type": "code",
        "id": "DQDzhobN-KbZ",
        "colab": {}
      },
      "source": [
        ""
      ],
      "execution_count": null,
      "outputs": []
    },
    {
      "cell_type": "code",
      "metadata": {
        "id": "Qfv7LTsQFH5X",
        "colab_type": "code",
        "colab": {}
      },
      "source": [
        ""
      ],
      "execution_count": null,
      "outputs": []
    },
    {
      "cell_type": "code",
      "metadata": {
        "id": "d2sC4MWTFH8e",
        "colab_type": "code",
        "colab": {}
      },
      "source": [
        ""
      ],
      "execution_count": null,
      "outputs": []
    },
    {
      "cell_type": "code",
      "metadata": {
        "id": "E6Syp2PTFwe3",
        "colab_type": "code",
        "colab": {}
      },
      "source": [
        ""
      ],
      "execution_count": null,
      "outputs": []
    },
    {
      "cell_type": "code",
      "metadata": {
        "id": "gX5Sj62VFwj2",
        "colab_type": "code",
        "colab": {}
      },
      "source": [
        ""
      ],
      "execution_count": null,
      "outputs": []
    },
    {
      "cell_type": "code",
      "metadata": {
        "id": "aG29RsP2FwnU",
        "colab_type": "code",
        "colab": {}
      },
      "source": [
        ""
      ],
      "execution_count": null,
      "outputs": []
    },
    {
      "cell_type": "code",
      "metadata": {
        "colab_type": "code",
        "id": "3C5lY5HIW5OV",
        "colab": {}
      },
      "source": [
        "# kata \n",
        "def rthn_between(a, b):\n",
        "    lst = []\n",
        "\n",
        "    if a == 0:\n",
        "        a = 10\n",
        "\n",
        "    for x in range(a,b+1):\n",
        "      l = 1\n",
        "      v = True\n",
        "      while v:\n",
        "        new_num = str(x)[:l] \n",
        "        s = sum([int(digit) for digit in new_num])\n",
        "        if int(new_num)%s != 0:\n",
        "          v = False\n",
        "        elif int(new_num)%s == 0 and len(new_num) == len(str(x)):\n",
        "          lst.append(x)\n",
        "          v = False\n",
        "        else:\n",
        "          l += 1\n",
        "    return lst\n"
      ],
      "execution_count": null,
      "outputs": []
    },
    {
      "cell_type": "code",
      "metadata": {
        "colab_type": "code",
        "id": "XeeuuGHZgSrV",
        "colab": {}
      },
      "source": [
        "# rthn_between(0, 999999)  #[9000004000000, 9000004000008]"
      ],
      "execution_count": null,
      "outputs": []
    },
    {
      "cell_type": "code",
      "metadata": {
        "colab_type": "code",
        "id": "pcZ3KEgfg1AE",
        "colab": {
          "base_uri": "https://localhost:8080/",
          "height": 35
        },
        "outputId": "bd9a734a-8fbe-46ee-8ad0-517290e287f8"
      },
      "source": [
        "0**1"
      ],
      "execution_count": null,
      "outputs": [
        {
          "output_type": "execute_result",
          "data": {
            "text/plain": [
              "0"
            ]
          },
          "metadata": {
            "tags": []
          },
          "execution_count": 5
        }
      ]
    }
  ]
}