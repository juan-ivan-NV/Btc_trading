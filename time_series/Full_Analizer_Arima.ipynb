{
  "nbformat": 4,
  "nbformat_minor": 0,
  "metadata": {
    "colab": {
      "name": "Full_Analizer_Arima.ipynb",
      "provenance": [],
      "toc_visible": true
    },
    "kernelspec": {
      "name": "python3",
      "display_name": "Python 3"
    }
  },
  "cells": [
    {
      "cell_type": "markdown",
      "metadata": {
        "id": "YNLHCi3upHck",
        "colab_type": "text"
      },
      "source": [
        "# Data Extraction"
      ]
    },
    {
      "cell_type": "code",
      "metadata": {
        "id": "jye4FTYgo5hR",
        "colab_type": "code",
        "colab": {}
      },
      "source": [
        "import urllib.request as urllib2\n",
        "from bs4 import BeautifulSoup\n",
        "import pandas as pd\n",
        "import datetime\n",
        "import csv"
      ],
      "execution_count": 1,
      "outputs": []
    },
    {
      "cell_type": "code",
      "metadata": {
        "id": "3FAkHx3JpURy",
        "colab_type": "code",
        "colab": {}
      },
      "source": [
        "today = datetime.date.today()\n",
        "mktcap_page = 'https://coinmarketcap.com/currencies/swipe/historical-data/?start=20130428&amp;end='+\"{:%Y%m%d}\".format(today)\n",
        "page = urllib2.urlopen(mktcap_page)\n",
        "soup = BeautifulSoup(page, 'html.parser')\n",
        "table = soup.find(\"table\")"
      ],
      "execution_count": 2,
      "outputs": []
    },
    {
      "cell_type": "code",
      "metadata": {
        "id": "NV_2JahepbUC",
        "colab_type": "code",
        "colab": {
          "base_uri": "https://localhost:8080/",
          "height": 35
        },
        "outputId": "1a7bcb64-9c6a-4af2-a9b2-2b48927c97b7"
      },
      "source": [
        "headings = [th.get_text().strip() for th in table.find(\"tr\").find_all(\"th\")]\n",
        "headings"
      ],
      "execution_count": 3,
      "outputs": [
        {
          "output_type": "execute_result",
          "data": {
            "text/plain": [
              "['Date', 'Open*', 'High', 'Low', 'Close**', 'Volume', 'Market Cap']"
            ]
          },
          "metadata": {
            "tags": []
          },
          "execution_count": 3
        }
      ]
    },
    {
      "cell_type": "code",
      "metadata": {
        "id": "WxR7kEYbpeNq",
        "colab_type": "code",
        "colab": {
          "base_uri": "https://localhost:8080/",
          "height": 35
        },
        "outputId": "7114d7ba-7cba-4b24-8447-f6e3fee02487"
      },
      "source": [
        "headings = [x.replace('*','') for x in headings]\n",
        "headings"
      ],
      "execution_count": 4,
      "outputs": [
        {
          "output_type": "execute_result",
          "data": {
            "text/plain": [
              "['Date', 'Open', 'High', 'Low', 'Close', 'Volume', 'Market Cap']"
            ]
          },
          "metadata": {
            "tags": []
          },
          "execution_count": 4
        }
      ]
    },
    {
      "cell_type": "code",
      "metadata": {
        "id": "hPuRynwspeQX",
        "colab_type": "code",
        "colab": {
          "base_uri": "https://localhost:8080/",
          "height": 141
        },
        "outputId": "e78f175b-caef-43c5-d24d-a6c388157cca"
      },
      "source": [
        "datasets = []\n",
        "\n",
        "for row in soup.find_all(\"tr\")[1:]:\n",
        "    dataset = dict(zip(headings, (tr.get_text() for tr in row.find_all(\"td\"))))\n",
        "    if len(dataset) > 1:\n",
        "        datasets.append(dataset)\n",
        "\n",
        "datasets[0]"
      ],
      "execution_count": 5,
      "outputs": [
        {
          "output_type": "execute_result",
          "data": {
            "text/plain": [
              "{'Close': '2.01',\n",
              " 'Date': 'Jul 24, 2020',\n",
              " 'High': '2.10',\n",
              " 'Low': '1.58',\n",
              " 'Market Cap': '132,440,961',\n",
              " 'Open': '1.63',\n",
              " 'Volume': '133,396,839'}"
            ]
          },
          "metadata": {
            "tags": []
          },
          "execution_count": 5
        }
      ]
    },
    {
      "cell_type": "code",
      "metadata": {
        "id": "Ke0EvOrypeS5",
        "colab_type": "code",
        "colab": {
          "base_uri": "https://localhost:8080/",
          "height": 194
        },
        "outputId": "d17ccf2d-bf07-48fe-b089-e4af95b9de24"
      },
      "source": [
        "my_df = pd.DataFrame(datasets)\n",
        "my_df.head()"
      ],
      "execution_count": 6,
      "outputs": [
        {
          "output_type": "execute_result",
          "data": {
            "text/html": [
              "<div>\n",
              "<style scoped>\n",
              "    .dataframe tbody tr th:only-of-type {\n",
              "        vertical-align: middle;\n",
              "    }\n",
              "\n",
              "    .dataframe tbody tr th {\n",
              "        vertical-align: top;\n",
              "    }\n",
              "\n",
              "    .dataframe thead th {\n",
              "        text-align: right;\n",
              "    }\n",
              "</style>\n",
              "<table border=\"1\" class=\"dataframe\">\n",
              "  <thead>\n",
              "    <tr style=\"text-align: right;\">\n",
              "      <th></th>\n",
              "      <th>Date</th>\n",
              "      <th>Open</th>\n",
              "      <th>High</th>\n",
              "      <th>Low</th>\n",
              "      <th>Close</th>\n",
              "      <th>Volume</th>\n",
              "      <th>Market Cap</th>\n",
              "    </tr>\n",
              "  </thead>\n",
              "  <tbody>\n",
              "    <tr>\n",
              "      <th>0</th>\n",
              "      <td>Jul 24, 2020</td>\n",
              "      <td>1.63</td>\n",
              "      <td>2.10</td>\n",
              "      <td>1.58</td>\n",
              "      <td>2.01</td>\n",
              "      <td>133,396,839</td>\n",
              "      <td>132,440,961</td>\n",
              "    </tr>\n",
              "    <tr>\n",
              "      <th>1</th>\n",
              "      <td>Jul 23, 2020</td>\n",
              "      <td>1.54</td>\n",
              "      <td>1.68</td>\n",
              "      <td>1.51</td>\n",
              "      <td>1.63</td>\n",
              "      <td>99,217,476</td>\n",
              "      <td>107,579,489</td>\n",
              "    </tr>\n",
              "    <tr>\n",
              "      <th>2</th>\n",
              "      <td>Jul 22, 2020</td>\n",
              "      <td>1.65</td>\n",
              "      <td>1.77</td>\n",
              "      <td>1.48</td>\n",
              "      <td>1.54</td>\n",
              "      <td>61,138,949</td>\n",
              "      <td>101,303,352</td>\n",
              "    </tr>\n",
              "    <tr>\n",
              "      <th>3</th>\n",
              "      <td>Jul 21, 2020</td>\n",
              "      <td>1.66</td>\n",
              "      <td>1.75</td>\n",
              "      <td>1.38</td>\n",
              "      <td>1.65</td>\n",
              "      <td>141,300,603</td>\n",
              "      <td>109,073,753</td>\n",
              "    </tr>\n",
              "    <tr>\n",
              "      <th>4</th>\n",
              "      <td>Jul 20, 2020</td>\n",
              "      <td>1.61</td>\n",
              "      <td>1.97</td>\n",
              "      <td>1.44</td>\n",
              "      <td>1.66</td>\n",
              "      <td>197,782,029</td>\n",
              "      <td>109,296,706</td>\n",
              "    </tr>\n",
              "  </tbody>\n",
              "</table>\n",
              "</div>"
            ],
            "text/plain": [
              "           Date  Open  High   Low Close       Volume   Market Cap\n",
              "0  Jul 24, 2020  1.63  2.10  1.58  2.01  133,396,839  132,440,961\n",
              "1  Jul 23, 2020  1.54  1.68  1.51  1.63   99,217,476  107,579,489\n",
              "2  Jul 22, 2020  1.65  1.77  1.48  1.54   61,138,949  101,303,352\n",
              "3  Jul 21, 2020  1.66  1.75  1.38  1.65  141,300,603  109,073,753\n",
              "4  Jul 20, 2020  1.61  1.97  1.44  1.66  197,782,029  109,296,706"
            ]
          },
          "metadata": {
            "tags": []
          },
          "execution_count": 6
        }
      ]
    },
    {
      "cell_type": "code",
      "metadata": {
        "id": "gd_Xc2oCpeVo",
        "colab_type": "code",
        "colab": {}
      },
      "source": [
        "full_data = my_df.set_index('Date')\n",
        "#full_data = df[['Open', 'High', 'Low', 'Close', 'Volume', 'Market Cap']]\n",
        "full_data.to_csv('full_data_swipe_24072020.csv', index=True, header=True)"
      ],
      "execution_count": 7,
      "outputs": []
    },
    {
      "cell_type": "code",
      "metadata": {
        "id": "N1_9E9uzpeYX",
        "colab_type": "code",
        "colab": {
          "base_uri": "https://localhost:8080/",
          "height": 370
        },
        "outputId": "81446099-c872-4d7b-d34c-61ece76f861f"
      },
      "source": [
        "full_data.head(10)"
      ],
      "execution_count": 8,
      "outputs": [
        {
          "output_type": "execute_result",
          "data": {
            "text/html": [
              "<div>\n",
              "<style scoped>\n",
              "    .dataframe tbody tr th:only-of-type {\n",
              "        vertical-align: middle;\n",
              "    }\n",
              "\n",
              "    .dataframe tbody tr th {\n",
              "        vertical-align: top;\n",
              "    }\n",
              "\n",
              "    .dataframe thead th {\n",
              "        text-align: right;\n",
              "    }\n",
              "</style>\n",
              "<table border=\"1\" class=\"dataframe\">\n",
              "  <thead>\n",
              "    <tr style=\"text-align: right;\">\n",
              "      <th></th>\n",
              "      <th>Open</th>\n",
              "      <th>High</th>\n",
              "      <th>Low</th>\n",
              "      <th>Close</th>\n",
              "      <th>Volume</th>\n",
              "      <th>Market Cap</th>\n",
              "    </tr>\n",
              "    <tr>\n",
              "      <th>Date</th>\n",
              "      <th></th>\n",
              "      <th></th>\n",
              "      <th></th>\n",
              "      <th></th>\n",
              "      <th></th>\n",
              "      <th></th>\n",
              "    </tr>\n",
              "  </thead>\n",
              "  <tbody>\n",
              "    <tr>\n",
              "      <th>Jul 24, 2020</th>\n",
              "      <td>1.63</td>\n",
              "      <td>2.10</td>\n",
              "      <td>1.58</td>\n",
              "      <td>2.01</td>\n",
              "      <td>133,396,839</td>\n",
              "      <td>132,440,961</td>\n",
              "    </tr>\n",
              "    <tr>\n",
              "      <th>Jul 23, 2020</th>\n",
              "      <td>1.54</td>\n",
              "      <td>1.68</td>\n",
              "      <td>1.51</td>\n",
              "      <td>1.63</td>\n",
              "      <td>99,217,476</td>\n",
              "      <td>107,579,489</td>\n",
              "    </tr>\n",
              "    <tr>\n",
              "      <th>Jul 22, 2020</th>\n",
              "      <td>1.65</td>\n",
              "      <td>1.77</td>\n",
              "      <td>1.48</td>\n",
              "      <td>1.54</td>\n",
              "      <td>61,138,949</td>\n",
              "      <td>101,303,352</td>\n",
              "    </tr>\n",
              "    <tr>\n",
              "      <th>Jul 21, 2020</th>\n",
              "      <td>1.66</td>\n",
              "      <td>1.75</td>\n",
              "      <td>1.38</td>\n",
              "      <td>1.65</td>\n",
              "      <td>141,300,603</td>\n",
              "      <td>109,073,753</td>\n",
              "    </tr>\n",
              "    <tr>\n",
              "      <th>Jul 20, 2020</th>\n",
              "      <td>1.61</td>\n",
              "      <td>1.97</td>\n",
              "      <td>1.44</td>\n",
              "      <td>1.66</td>\n",
              "      <td>197,782,029</td>\n",
              "      <td>109,296,706</td>\n",
              "    </tr>\n",
              "    <tr>\n",
              "      <th>Jul 19, 2020</th>\n",
              "      <td>1.19</td>\n",
              "      <td>1.67</td>\n",
              "      <td>1.13</td>\n",
              "      <td>1.61</td>\n",
              "      <td>146,417,008</td>\n",
              "      <td>106,336,359</td>\n",
              "    </tr>\n",
              "    <tr>\n",
              "      <th>Jul 18, 2020</th>\n",
              "      <td>1.03</td>\n",
              "      <td>1.20</td>\n",
              "      <td>0.948122</td>\n",
              "      <td>1.18</td>\n",
              "      <td>49,517,995</td>\n",
              "      <td>78,103,628</td>\n",
              "    </tr>\n",
              "    <tr>\n",
              "      <th>Jul 17, 2020</th>\n",
              "      <td>0.762262</td>\n",
              "      <td>1.05</td>\n",
              "      <td>0.759835</td>\n",
              "      <td>1.03</td>\n",
              "      <td>54,583,403</td>\n",
              "      <td>68,241,551</td>\n",
              "    </tr>\n",
              "    <tr>\n",
              "      <th>Jul 16, 2020</th>\n",
              "      <td>0.809113</td>\n",
              "      <td>0.836219</td>\n",
              "      <td>0.717587</td>\n",
              "      <td>0.763499</td>\n",
              "      <td>26,461,660</td>\n",
              "      <td>50,377,747</td>\n",
              "    </tr>\n",
              "    <tr>\n",
              "      <th>Jul 15, 2020</th>\n",
              "      <td>0.773551</td>\n",
              "      <td>0.885614</td>\n",
              "      <td>0.762345</td>\n",
              "      <td>0.808683</td>\n",
              "      <td>50,105,066</td>\n",
              "      <td>53,359,111</td>\n",
              "    </tr>\n",
              "  </tbody>\n",
              "</table>\n",
              "</div>"
            ],
            "text/plain": [
              "                  Open      High       Low     Close       Volume   Market Cap\n",
              "Date                                                                          \n",
              "Jul 24, 2020      1.63      2.10      1.58      2.01  133,396,839  132,440,961\n",
              "Jul 23, 2020      1.54      1.68      1.51      1.63   99,217,476  107,579,489\n",
              "Jul 22, 2020      1.65      1.77      1.48      1.54   61,138,949  101,303,352\n",
              "Jul 21, 2020      1.66      1.75      1.38      1.65  141,300,603  109,073,753\n",
              "Jul 20, 2020      1.61      1.97      1.44      1.66  197,782,029  109,296,706\n",
              "Jul 19, 2020      1.19      1.67      1.13      1.61  146,417,008  106,336,359\n",
              "Jul 18, 2020      1.03      1.20  0.948122      1.18   49,517,995   78,103,628\n",
              "Jul 17, 2020  0.762262      1.05  0.759835      1.03   54,583,403   68,241,551\n",
              "Jul 16, 2020  0.809113  0.836219  0.717587  0.763499   26,461,660   50,377,747\n",
              "Jul 15, 2020  0.773551  0.885614  0.762345  0.808683   50,105,066   53,359,111"
            ]
          },
          "metadata": {
            "tags": []
          },
          "execution_count": 8
        }
      ]
    },
    {
      "cell_type": "code",
      "metadata": {
        "id": "bDr9VxCcpebr",
        "colab_type": "code",
        "colab": {
          "base_uri": "https://localhost:8080/",
          "height": 35
        },
        "outputId": "d49dffa6-8b8a-4491-8400-a6410acb7f1f"
      },
      "source": [
        "full_data.shape"
      ],
      "execution_count": 9,
      "outputs": [
        {
          "output_type": "execute_result",
          "data": {
            "text/plain": [
              "(334, 6)"
            ]
          },
          "metadata": {
            "tags": []
          },
          "execution_count": 9
        }
      ]
    },
    {
      "cell_type": "code",
      "metadata": {
        "id": "qDpsRZpyp-WT",
        "colab_type": "code",
        "colab": {
          "base_uri": "https://localhost:8080/",
          "height": 141
        },
        "outputId": "fa68a98b-8a4a-4640-9414-3f8725564f5d"
      },
      "source": [
        "full_data.dtypes"
      ],
      "execution_count": 10,
      "outputs": [
        {
          "output_type": "execute_result",
          "data": {
            "text/plain": [
              "Open          object\n",
              "High          object\n",
              "Low           object\n",
              "Close         object\n",
              "Volume        object\n",
              "Market Cap    object\n",
              "dtype: object"
            ]
          },
          "metadata": {
            "tags": []
          },
          "execution_count": 10
        }
      ]
    },
    {
      "cell_type": "code",
      "metadata": {
        "id": "mNVuO2E6p-ZA",
        "colab_type": "code",
        "colab": {
          "base_uri": "https://localhost:8080/",
          "height": 223
        },
        "outputId": "4eea1889-e1c0-4c2f-fad1-c39ee20a11f4"
      },
      "source": [
        "def obj_to_int(x):\n",
        "    x = x.replace(',','')\n",
        "    return float(x)\n",
        "full_data['Low'] = full_data['Low'].apply(obj_to_int)\n",
        "full_data['High'] = full_data['High'].apply(obj_to_int)\n",
        "full_data.head()"
      ],
      "execution_count": 11,
      "outputs": [
        {
          "output_type": "execute_result",
          "data": {
            "text/html": [
              "<div>\n",
              "<style scoped>\n",
              "    .dataframe tbody tr th:only-of-type {\n",
              "        vertical-align: middle;\n",
              "    }\n",
              "\n",
              "    .dataframe tbody tr th {\n",
              "        vertical-align: top;\n",
              "    }\n",
              "\n",
              "    .dataframe thead th {\n",
              "        text-align: right;\n",
              "    }\n",
              "</style>\n",
              "<table border=\"1\" class=\"dataframe\">\n",
              "  <thead>\n",
              "    <tr style=\"text-align: right;\">\n",
              "      <th></th>\n",
              "      <th>Open</th>\n",
              "      <th>High</th>\n",
              "      <th>Low</th>\n",
              "      <th>Close</th>\n",
              "      <th>Volume</th>\n",
              "      <th>Market Cap</th>\n",
              "    </tr>\n",
              "    <tr>\n",
              "      <th>Date</th>\n",
              "      <th></th>\n",
              "      <th></th>\n",
              "      <th></th>\n",
              "      <th></th>\n",
              "      <th></th>\n",
              "      <th></th>\n",
              "    </tr>\n",
              "  </thead>\n",
              "  <tbody>\n",
              "    <tr>\n",
              "      <th>Jul 24, 2020</th>\n",
              "      <td>1.63</td>\n",
              "      <td>2.10</td>\n",
              "      <td>1.58</td>\n",
              "      <td>2.01</td>\n",
              "      <td>133,396,839</td>\n",
              "      <td>132,440,961</td>\n",
              "    </tr>\n",
              "    <tr>\n",
              "      <th>Jul 23, 2020</th>\n",
              "      <td>1.54</td>\n",
              "      <td>1.68</td>\n",
              "      <td>1.51</td>\n",
              "      <td>1.63</td>\n",
              "      <td>99,217,476</td>\n",
              "      <td>107,579,489</td>\n",
              "    </tr>\n",
              "    <tr>\n",
              "      <th>Jul 22, 2020</th>\n",
              "      <td>1.65</td>\n",
              "      <td>1.77</td>\n",
              "      <td>1.48</td>\n",
              "      <td>1.54</td>\n",
              "      <td>61,138,949</td>\n",
              "      <td>101,303,352</td>\n",
              "    </tr>\n",
              "    <tr>\n",
              "      <th>Jul 21, 2020</th>\n",
              "      <td>1.66</td>\n",
              "      <td>1.75</td>\n",
              "      <td>1.38</td>\n",
              "      <td>1.65</td>\n",
              "      <td>141,300,603</td>\n",
              "      <td>109,073,753</td>\n",
              "    </tr>\n",
              "    <tr>\n",
              "      <th>Jul 20, 2020</th>\n",
              "      <td>1.61</td>\n",
              "      <td>1.97</td>\n",
              "      <td>1.44</td>\n",
              "      <td>1.66</td>\n",
              "      <td>197,782,029</td>\n",
              "      <td>109,296,706</td>\n",
              "    </tr>\n",
              "  </tbody>\n",
              "</table>\n",
              "</div>"
            ],
            "text/plain": [
              "              Open  High   Low Close       Volume   Market Cap\n",
              "Date                                                          \n",
              "Jul 24, 2020  1.63  2.10  1.58  2.01  133,396,839  132,440,961\n",
              "Jul 23, 2020  1.54  1.68  1.51  1.63   99,217,476  107,579,489\n",
              "Jul 22, 2020  1.65  1.77  1.48  1.54   61,138,949  101,303,352\n",
              "Jul 21, 2020  1.66  1.75  1.38  1.65  141,300,603  109,073,753\n",
              "Jul 20, 2020  1.61  1.97  1.44  1.66  197,782,029  109,296,706"
            ]
          },
          "metadata": {
            "tags": []
          },
          "execution_count": 11
        }
      ]
    },
    {
      "cell_type": "code",
      "metadata": {
        "id": "wFVgK5qlp-b3",
        "colab_type": "code",
        "colab": {
          "base_uri": "https://localhost:8080/",
          "height": 606
        },
        "outputId": "33396ed0-7599-4e23-97cf-829636803ffb"
      },
      "source": [
        "_= full_data[['Low','High']][::-1].plot(grid=True, figsize=(15, 10))"
      ],
      "execution_count": 12,
      "outputs": [
        {
          "output_type": "display_data",
          "data": {
            "image/png": "[encoded data removed]",
            "text/plain": [
              "<Figure size 1080x720 with 1 Axes>"
            ]
          },
          "metadata": {
            "tags": [],
            "needs_background": "light"
          }
        }
      ]
    },
    {
      "cell_type": "markdown",
      "metadata": {
        "id": "Q7VZtGDzq64i",
        "colab_type": "text"
      },
      "source": [
        "# Preparing data for time series"
      ]
    },
    {
      "cell_type": "code",
      "metadata": {
        "id": "bhMAAwVsp-eW",
        "colab_type": "code",
        "colab": {}
      },
      "source": [
        "def obj_to_num(df,cols):\n",
        "    def obj_to_num(row):\n",
        "        if ',' in str(row):\n",
        "          row = row.replace(',','')\n",
        "          return float(row)\n",
        "        else:\n",
        "          return float(row)\n",
        "\n",
        "    for col in cols: \n",
        "        df[col] = df[col].apply(obj_to_num) \n",
        "    return df\n",
        "    \n",
        "def prepare_data(file):\n",
        "  dateparse = lambda x: pd.datetime.strptime(x, '%b %d, %Y').strftime('%Y-%m-%d')\n",
        "  data  = pd.read_csv(file, parse_dates=[0], date_parser=dateparse)\n",
        "  columns = ['Open','High','Low','Close','Volume','Market Cap']\n",
        "  num_data = obj_to_num(data,columns)\n",
        "  data['Date'] = data['Date'].dt.tz_localize(None)\n",
        "  data = data.groupby([pd.Grouper(key='Date', freq='H')]).first().reset_index()\n",
        "  data = data.set_index('Date')\n",
        "  data = data[['High']]\n",
        "  data.dropna(subset=['High'], inplace=True)\n",
        "  return data"
      ],
      "execution_count": 20,
      "outputs": []
    },
    {
      "cell_type": "code",
      "metadata": {
        "id": "_8DL7DcoqwdK",
        "colab_type": "code",
        "colab": {
          "base_uri": "https://localhost:8080/",
          "height": 279
        },
        "outputId": "a10378ed-8729-46fb-aded-fea23fbf017a"
      },
      "source": [
        "file = 'full_data_swipe_24072020.csv'\n",
        "data = prepare_data(file)\n",
        "data.head()"
      ],
      "execution_count": 21,
      "outputs": [
        {
          "output_type": "stream",
          "text": [
            "/usr/local/lib/python3.6/dist-packages/ipykernel_launcher.py:14: FutureWarning: The pandas.datetime class is deprecated and will be removed from pandas in a future version. Import from datetime instead.\n",
            "  \n"
          ],
          "name": "stderr"
        },
        {
          "output_type": "execute_result",
          "data": {
            "text/html": [
              "<div>\n",
              "<style scoped>\n",
              "    .dataframe tbody tr th:only-of-type {\n",
              "        vertical-align: middle;\n",
              "    }\n",
              "\n",
              "    .dataframe tbody tr th {\n",
              "        vertical-align: top;\n",
              "    }\n",
              "\n",
              "    .dataframe thead th {\n",
              "        text-align: right;\n",
              "    }\n",
              "</style>\n",
              "<table border=\"1\" class=\"dataframe\">\n",
              "  <thead>\n",
              "    <tr style=\"text-align: right;\">\n",
              "      <th></th>\n",
              "      <th>High</th>\n",
              "    </tr>\n",
              "    <tr>\n",
              "      <th>Date</th>\n",
              "      <th></th>\n",
              "    </tr>\n",
              "  </thead>\n",
              "  <tbody>\n",
              "    <tr>\n",
              "      <th>2019-08-26</th>\n",
              "      <td>0.244190</td>\n",
              "    </tr>\n",
              "    <tr>\n",
              "      <th>2019-08-27</th>\n",
              "      <td>0.243457</td>\n",
              "    </tr>\n",
              "    <tr>\n",
              "      <th>2019-08-28</th>\n",
              "      <td>0.234608</td>\n",
              "    </tr>\n",
              "    <tr>\n",
              "      <th>2019-08-29</th>\n",
              "      <td>0.228599</td>\n",
              "    </tr>\n",
              "    <tr>\n",
              "      <th>2019-08-30</th>\n",
              "      <td>0.228015</td>\n",
              "    </tr>\n",
              "  </tbody>\n",
              "</table>\n",
              "</div>"
            ],
            "text/plain": [
              "                High\n",
              "Date                \n",
              "2019-08-26  0.244190\n",
              "2019-08-27  0.243457\n",
              "2019-08-28  0.234608\n",
              "2019-08-29  0.228599\n",
              "2019-08-30  0.228015"
            ]
          },
          "metadata": {
            "tags": []
          },
          "execution_count": 21
        }
      ]
    },
    {
      "cell_type": "code",
      "metadata": {
        "id": "nNhycTqIqwmu",
        "colab_type": "code",
        "colab": {
          "base_uri": "https://localhost:8080/",
          "height": 159
        },
        "outputId": "5958b9a4-2cd4-45ee-b2f7-860de590075f"
      },
      "source": [
        "data.index"
      ],
      "execution_count": 22,
      "outputs": [
        {
          "output_type": "execute_result",
          "data": {
            "text/plain": [
              "DatetimeIndex(['2019-08-26', '2019-08-27', '2019-08-28', '2019-08-29',\n",
              "               '2019-08-30', '2019-08-31', '2019-09-01', '2019-09-02',\n",
              "               '2019-09-03', '2019-09-04',\n",
              "               ...\n",
              "               '2020-07-15', '2020-07-16', '2020-07-17', '2020-07-18',\n",
              "               '2020-07-19', '2020-07-20', '2020-07-21', '2020-07-22',\n",
              "               '2020-07-23', '2020-07-24'],\n",
              "              dtype='datetime64[ns]', name='Date', length=334, freq=None)"
            ]
          },
          "metadata": {
            "tags": []
          },
          "execution_count": 22
        }
      ]
    },
    {
      "cell_type": "code",
      "metadata": {
        "id": "wxSPqJ-Rqwlx",
        "colab_type": "code",
        "colab": {
          "base_uri": "https://localhost:8080/",
          "height": 248
        },
        "outputId": "769087d5-d531-4b4a-fad3-78e673a783ee"
      },
      "source": [
        "!pip install chart_studio"
      ],
      "execution_count": 23,
      "outputs": [
        {
          "output_type": "stream",
          "text": [
            "Collecting chart_studio\n",
            "\u001b[?25l  Downloading https://files.pythonhosted.org/packages/ca/ce/330794a6b6ca4b9182c38fc69dd2a9cbff60fd49421cb8648ee5fee352dc/chart_studio-1.1.0-py3-none-any.whl (64kB)\n",
            "\r\u001b[K     |█████                           | 10kB 17.1MB/s eta 0:00:01\r\u001b[K     |██████████▏                     | 20kB 1.8MB/s eta 0:00:01\r\u001b[K     |███████████████▎                | 30kB 2.3MB/s eta 0:00:01\r\u001b[K     |████████████████████▍           | 40kB 2.6MB/s eta 0:00:01\r\u001b[K     |█████████████████████████▍      | 51kB 2.0MB/s eta 0:00:01\r\u001b[K     |██████████████████████████████▌ | 61kB 2.3MB/s eta 0:00:01\r\u001b[K     |████████████████████████████████| 71kB 2.0MB/s \n",
            "\u001b[?25hRequirement already satisfied: retrying>=1.3.3 in /usr/local/lib/python3.6/dist-packages (from chart_studio) (1.3.3)\n",
            "Requirement already satisfied: six in /usr/local/lib/python3.6/dist-packages (from chart_studio) (1.15.0)\n",
            "Requirement already satisfied: plotly in /usr/local/lib/python3.6/dist-packages (from chart_studio) (4.4.1)\n",
            "Requirement already satisfied: requests in /usr/local/lib/python3.6/dist-packages (from chart_studio) (2.23.0)\n",
            "Requirement already satisfied: idna<3,>=2.5 in /usr/local/lib/python3.6/dist-packages (from requests->chart_studio) (2.10)\n",
            "Requirement already satisfied: chardet<4,>=3.0.2 in /usr/local/lib/python3.6/dist-packages (from requests->chart_studio) (3.0.4)\n",
            "Requirement already satisfied: urllib3!=1.25.0,!=1.25.1,<1.26,>=1.21.1 in /usr/local/lib/python3.6/dist-packages (from requests->chart_studio) (1.24.3)\n",
            "Requirement already satisfied: certifi>=2017.4.17 in /usr/local/lib/python3.6/dist-packages (from requests->chart_studio) (2020.6.20)\n",
            "Installing collected packages: chart-studio\n",
            "Successfully installed chart-studio-1.1.0\n"
          ],
          "name": "stdout"
        }
      ]
    },
    {
      "cell_type": "code",
      "metadata": {
        "id": "xUHuNuV2qwjt",
        "colab_type": "code",
        "colab": {
          "base_uri": "https://localhost:8080/",
          "height": 88
        },
        "outputId": "f3df487b-16fc-44c5-9e16-29f9ab7032fa"
      },
      "source": [
        "import plotly.graph_objects as go\n",
        "import chart_studio as py\n",
        "\n",
        "import seaborn as sns\n",
        "\n",
        "from statsmodels.tsa.seasonal import seasonal_decompose"
      ],
      "execution_count": 24,
      "outputs": [
        {
          "output_type": "stream",
          "text": [
            "/usr/local/lib/python3.6/dist-packages/statsmodels/tools/_testing.py:19: FutureWarning:\n",
            "\n",
            "pandas.util.testing is deprecated. Use the functions in the public API at pandas.testing instead.\n",
            "\n"
          ],
          "name": "stderr"
        }
      ]
    },
    {
      "cell_type": "code",
      "metadata": {
        "id": "zA4zZnv1p-hN",
        "colab_type": "code",
        "colab": {}
      },
      "source": [
        "py.tools.set_credentials_file(username='xxxx', api_key='xxxxxxx')"
      ],
      "execution_count": 25,
      "outputs": []
    },
    {
      "cell_type": "code",
      "metadata": {
        "id": "xr2Cppz8s7D_",
        "colab_type": "code",
        "colab": {
          "base_uri": "https://localhost:8080/",
          "height": 546
        },
        "outputId": "21ae9cb7-3e71-4198-b18b-ed6bcc304ff5"
      },
      "source": [
        "trace1 = go.Scatter(\n",
        "    x = data.index,\n",
        "    y = data['High'].astype(float),\n",
        "    mode = 'lines',\n",
        "    name = 'swipe Price (High)'\n",
        ")\n",
        "\n",
        "layout = dict(\n",
        "    title='Historical swipe High price (USD) (...-2020)',\n",
        "    xaxis=dict(\n",
        "        rangeselector=dict(\n",
        "            buttons=list([\n",
        "                dict(count=1,\n",
        "                     label='1m',\n",
        "                     step='month',\n",
        "                     stepmode='backward'),\n",
        "                dict(count=6,\n",
        "                     label='6m',\n",
        "                     step='month',\n",
        "                     stepmode='backward'),\n",
        "                dict(count=12,\n",
        "                     label='1y',\n",
        "                     step='month',\n",
        "                     stepmode='backward'),\n",
        "                dict(count=36,\n",
        "                     label='3y',\n",
        "                     step='month',\n",
        "                     stepmode='backward'),\n",
        "                dict(step='all')\n",
        "            ])\n",
        "        ),\n",
        "        rangeslider=dict(\n",
        "            visible = True\n",
        "        ),\n",
        "        type='date'\n",
        "    )\n",
        ")\n",
        "\n",
        "data = [trace1]\n",
        "fig = dict(data = data.copy(), layout=layout)\n",
        "py.plotly.iplot(fig, filename = \"Time Series with Rangeslider\")"
      ],
      "execution_count": 27,
      "outputs": [
        {
          "output_type": "execute_result",
          "data": {
            "text/html": [
              "\n",
              "        <iframe\n",
              "            width=\"100%\"\n",
              "            height=\"525px\"\n",
              "            src=\"https://plotly.com/~ji_nb/3.embed\"\n",
              "            frameborder=\"0\"\n",
              "            allowfullscreen\n",
              "        ></iframe>\n",
              "        "
            ],
            "text/plain": [
              "<IPython.lib.display.IFrame at 0x7f92cf94efd0>"
            ]
          },
          "metadata": {
            "tags": []
          },
          "execution_count": 27
        }
      ]
    },
    {
      "cell_type": "markdown",
      "metadata": {
        "id": "WXl3m_2ptnM8",
        "colab_type": "text"
      },
      "source": [
        "# Now the model"
      ]
    },
    {
      "cell_type": "code",
      "metadata": {
        "id": "vKwu-SGwtfEh",
        "colab_type": "code",
        "colab": {
          "base_uri": "https://localhost:8080/",
          "height": 230
        },
        "outputId": "55f559b0-02c4-42c1-d111-b25860e13bf8"
      },
      "source": [
        "!pip install pyramid-arima\n",
        "from pyramid.arima import auto_arima"
      ],
      "execution_count": 30,
      "outputs": [
        {
          "output_type": "stream",
          "text": [
            "Requirement already satisfied: pyramid-arima in /usr/local/lib/python3.6/dist-packages (0.9.0)\n",
            "Requirement already satisfied: pandas>=0.19 in /usr/local/lib/python3.6/dist-packages (from pyramid-arima) (1.0.5)\n",
            "Requirement already satisfied: scikit-learn>=0.17 in /usr/local/lib/python3.6/dist-packages (from pyramid-arima) (0.22.2.post1)\n",
            "Requirement already satisfied: Cython>=0.23 in /usr/local/lib/python3.6/dist-packages (from pyramid-arima) (0.29.21)\n",
            "Requirement already satisfied: scipy>=0.9 in /usr/local/lib/python3.6/dist-packages (from pyramid-arima) (1.4.1)\n",
            "Requirement already satisfied: statsmodels>=0.9.0 in /usr/local/lib/python3.6/dist-packages (from pyramid-arima) (0.10.2)\n",
            "Requirement already satisfied: numpy>=1.10 in /usr/local/lib/python3.6/dist-packages (from pyramid-arima) (1.18.5)\n",
            "Requirement already satisfied: python-dateutil>=2.6.1 in /usr/local/lib/python3.6/dist-packages (from pandas>=0.19->pyramid-arima) (2.8.1)\n",
            "Requirement already satisfied: pytz>=2017.2 in /usr/local/lib/python3.6/dist-packages (from pandas>=0.19->pyramid-arima) (2018.9)\n",
            "Requirement already satisfied: joblib>=0.11 in /usr/local/lib/python3.6/dist-packages (from scikit-learn>=0.17->pyramid-arima) (0.16.0)\n",
            "Requirement already satisfied: patsy>=0.4.0 in /usr/local/lib/python3.6/dist-packages (from statsmodels>=0.9.0->pyramid-arima) (0.5.1)\n",
            "Requirement already satisfied: six>=1.5 in /usr/local/lib/python3.6/dist-packages (from python-dateutil>=2.6.1->pandas>=0.19->pyramid-arima) (1.15.0)\n"
          ],
          "name": "stdout"
        }
      ]
    },
    {
      "cell_type": "code",
      "metadata": {
        "id": "wnRrASkft8ta",
        "colab_type": "code",
        "colab": {
          "base_uri": "https://localhost:8080/",
          "height": 88
        },
        "outputId": "c307f68a-a8bc-430e-f947-9c7a1806782c"
      },
      "source": [
        "# We do this again because the fo@#!ing pyplot plot changed data types \n",
        "file = 'full_data_swipe_24072020.csv'\n",
        "data = prepare_data(file)"
      ],
      "execution_count": 31,
      "outputs": [
        {
          "output_type": "stream",
          "text": [
            "/usr/local/lib/python3.6/dist-packages/ipykernel_launcher.py:14: FutureWarning:\n",
            "\n",
            "The pandas.datetime class is deprecated and will be removed from pandas in a future version. Import from datetime instead.\n",
            "\n"
          ],
          "name": "stderr"
        }
      ]
    },
    {
      "cell_type": "code",
      "metadata": {
        "id": "fXko1s1Ktlej",
        "colab_type": "code",
        "colab": {
          "base_uri": "https://localhost:8080/",
          "height": 301
        },
        "outputId": "b963408d-06d1-4798-f2e6-64ba152979ef"
      },
      "source": [
        "stepwise_model = auto_arima(data, start_p=1, start_q=1,\n",
        "                           max_p=3, max_q=3, m=12,\n",
        "                           start_P=0, seasonal=True,\n",
        "                           d=1, D=1, trace=True,\n",
        "                           error_action='ignore',  \n",
        "                           suppress_warnings=True, \n",
        "                           stepwise=True)"
      ],
      "execution_count": 32,
      "outputs": [
        {
          "output_type": "stream",
          "text": [
            "Fit ARIMA: order=(1, 1, 1) seasonal_order=(0, 1, 1, 12); AIC=-495.538, BIC=-476.681, Fit time=6.307 seconds\n",
            "Fit ARIMA: order=(0, 1, 0) seasonal_order=(0, 1, 0, 12); AIC=-327.429, BIC=-319.886, Fit time=0.135 seconds\n",
            "Fit ARIMA: order=(1, 1, 0) seasonal_order=(1, 1, 0, 12); AIC=-389.549, BIC=-374.463, Fit time=1.946 seconds\n",
            "Fit ARIMA: order=(0, 1, 1) seasonal_order=(0, 1, 1, 12); AIC=-496.985, BIC=-481.899, Fit time=3.862 seconds\n",
            "Fit ARIMA: order=(0, 1, 1) seasonal_order=(1, 1, 1, 12); AIC=-495.131, BIC=-476.274, Fit time=4.847 seconds\n",
            "Fit ARIMA: order=(0, 1, 1) seasonal_order=(0, 1, 0, 12); AIC=-328.592, BIC=-317.278, Fit time=0.508 seconds\n",
            "Fit ARIMA: order=(0, 1, 1) seasonal_order=(0, 1, 2, 12); AIC=-495.186, BIC=-476.328, Fit time=11.132 seconds\n",
            "Fit ARIMA: order=(0, 1, 1) seasonal_order=(1, 1, 2, 12); AIC=-498.354, BIC=-475.725, Fit time=13.077 seconds\n",
            "Fit ARIMA: order=(1, 1, 1) seasonal_order=(1, 1, 2, 12); AIC=-496.553, BIC=-470.153, Fit time=15.962 seconds\n",
            "Fit ARIMA: order=(0, 1, 0) seasonal_order=(1, 1, 2, 12); AIC=-500.086, BIC=-481.229, Fit time=9.473 seconds\n",
            "Fit ARIMA: order=(0, 1, 0) seasonal_order=(0, 1, 2, 12); AIC=-496.941, BIC=-481.855, Fit time=6.735 seconds\n",
            "Fit ARIMA: order=(0, 1, 0) seasonal_order=(2, 1, 2, 12); AIC=-499.229, BIC=-476.600, Fit time=10.184 seconds\n",
            "Fit ARIMA: order=(0, 1, 0) seasonal_order=(1, 1, 1, 12); AIC=-496.868, BIC=-481.782, Fit time=3.307 seconds\n",
            "Fit ARIMA: order=(0, 1, 0) seasonal_order=(0, 1, 1, 12); AIC=-498.698, BIC=-487.383, Fit time=2.517 seconds\n",
            "Fit ARIMA: order=(1, 1, 0) seasonal_order=(1, 1, 2, 12); AIC=-498.423, BIC=-475.795, Fit time=11.778 seconds\n",
            "Total fit time: 101.779 seconds\n"
          ],
          "name": "stdout"
        }
      ]
    },
    {
      "cell_type": "code",
      "metadata": {
        "id": "mxyzcBxltlhd",
        "colab_type": "code",
        "colab": {
          "base_uri": "https://localhost:8080/",
          "height": 35
        },
        "outputId": "3382ffbd-c8be-4dce-a9ba-d8aa855403ad"
      },
      "source": [
        "stepwise_model.aic()"
      ],
      "execution_count": 33,
      "outputs": [
        {
          "output_type": "execute_result",
          "data": {
            "text/plain": [
              "-500.0858257285669"
            ]
          },
          "metadata": {
            "tags": []
          },
          "execution_count": 33
        }
      ]
    },
    {
      "cell_type": "code",
      "metadata": {
        "id": "yx2Ar7cjtlko",
        "colab_type": "code",
        "colab": {
          "base_uri": "https://localhost:8080/",
          "height": 159
        },
        "outputId": "02c58b56-20e3-4462-ede8-3b70cced29d0"
      },
      "source": [
        "data.info()"
      ],
      "execution_count": 34,
      "outputs": [
        {
          "output_type": "stream",
          "text": [
            "<class 'pandas.core.frame.DataFrame'>\n",
            "DatetimeIndex: 334 entries, 2019-08-26 to 2020-07-24\n",
            "Data columns (total 1 columns):\n",
            " #   Column  Non-Null Count  Dtype  \n",
            "---  ------  --------------  -----  \n",
            " 0   High    334 non-null    float64\n",
            "dtypes: float64(1)\n",
            "memory usage: 5.2 KB\n"
          ],
          "name": "stdout"
        }
      ]
    },
    {
      "cell_type": "code",
      "metadata": {
        "id": "DGJhYpmQtlpI",
        "colab_type": "code",
        "colab": {
          "base_uri": "https://localhost:8080/",
          "height": 223
        },
        "outputId": "439f04fb-1dff-41e4-b4e3-c3eb71cddd3d"
      },
      "source": [
        "train = data.loc['2019-08-26':'2020-07-13']\n",
        "train.tail()"
      ],
      "execution_count": 35,
      "outputs": [
        {
          "output_type": "execute_result",
          "data": {
            "text/html": [
              "<div>\n",
              "<style scoped>\n",
              "    .dataframe tbody tr th:only-of-type {\n",
              "        vertical-align: middle;\n",
              "    }\n",
              "\n",
              "    .dataframe tbody tr th {\n",
              "        vertical-align: top;\n",
              "    }\n",
              "\n",
              "    .dataframe thead th {\n",
              "        text-align: right;\n",
              "    }\n",
              "</style>\n",
              "<table border=\"1\" class=\"dataframe\">\n",
              "  <thead>\n",
              "    <tr style=\"text-align: right;\">\n",
              "      <th></th>\n",
              "      <th>High</th>\n",
              "    </tr>\n",
              "    <tr>\n",
              "      <th>Date</th>\n",
              "      <th></th>\n",
              "    </tr>\n",
              "  </thead>\n",
              "  <tbody>\n",
              "    <tr>\n",
              "      <th>2020-07-09</th>\n",
              "      <td>0.584938</td>\n",
              "    </tr>\n",
              "    <tr>\n",
              "      <th>2020-07-10</th>\n",
              "      <td>0.597372</td>\n",
              "    </tr>\n",
              "    <tr>\n",
              "      <th>2020-07-11</th>\n",
              "      <td>0.596602</td>\n",
              "    </tr>\n",
              "    <tr>\n",
              "      <th>2020-07-12</th>\n",
              "      <td>0.605856</td>\n",
              "    </tr>\n",
              "    <tr>\n",
              "      <th>2020-07-13</th>\n",
              "      <td>0.654052</td>\n",
              "    </tr>\n",
              "  </tbody>\n",
              "</table>\n",
              "</div>"
            ],
            "text/plain": [
              "                High\n",
              "Date                \n",
              "2020-07-09  0.584938\n",
              "2020-07-10  0.597372\n",
              "2020-07-11  0.596602\n",
              "2020-07-12  0.605856\n",
              "2020-07-13  0.654052"
            ]
          },
          "metadata": {
            "tags": []
          },
          "execution_count": 35
        }
      ]
    },
    {
      "cell_type": "code",
      "metadata": {
        "id": "9EqgC-4Stls6",
        "colab_type": "code",
        "colab": {
          "base_uri": "https://localhost:8080/",
          "height": 223
        },
        "outputId": "e22676a4-7456-4a36-fd7e-0b918554295d"
      },
      "source": [
        "test = data.loc['2020-07-14':]\n",
        "test.head()"
      ],
      "execution_count": 36,
      "outputs": [
        {
          "output_type": "execute_result",
          "data": {
            "text/html": [
              "<div>\n",
              "<style scoped>\n",
              "    .dataframe tbody tr th:only-of-type {\n",
              "        vertical-align: middle;\n",
              "    }\n",
              "\n",
              "    .dataframe tbody tr th {\n",
              "        vertical-align: top;\n",
              "    }\n",
              "\n",
              "    .dataframe thead th {\n",
              "        text-align: right;\n",
              "    }\n",
              "</style>\n",
              "<table border=\"1\" class=\"dataframe\">\n",
              "  <thead>\n",
              "    <tr style=\"text-align: right;\">\n",
              "      <th></th>\n",
              "      <th>High</th>\n",
              "    </tr>\n",
              "    <tr>\n",
              "      <th>Date</th>\n",
              "      <th></th>\n",
              "    </tr>\n",
              "  </thead>\n",
              "  <tbody>\n",
              "    <tr>\n",
              "      <th>2020-07-14</th>\n",
              "      <td>0.817057</td>\n",
              "    </tr>\n",
              "    <tr>\n",
              "      <th>2020-07-15</th>\n",
              "      <td>0.885614</td>\n",
              "    </tr>\n",
              "    <tr>\n",
              "      <th>2020-07-16</th>\n",
              "      <td>0.836219</td>\n",
              "    </tr>\n",
              "    <tr>\n",
              "      <th>2020-07-17</th>\n",
              "      <td>1.050000</td>\n",
              "    </tr>\n",
              "    <tr>\n",
              "      <th>2020-07-18</th>\n",
              "      <td>1.200000</td>\n",
              "    </tr>\n",
              "  </tbody>\n",
              "</table>\n",
              "</div>"
            ],
            "text/plain": [
              "                High\n",
              "Date                \n",
              "2020-07-14  0.817057\n",
              "2020-07-15  0.885614\n",
              "2020-07-16  0.836219\n",
              "2020-07-17  1.050000\n",
              "2020-07-18  1.200000"
            ]
          },
          "metadata": {
            "tags": []
          },
          "execution_count": 36
        }
      ]
    },
    {
      "cell_type": "code",
      "metadata": {
        "id": "KpZxyxAUtln_",
        "colab_type": "code",
        "colab": {
          "base_uri": "https://localhost:8080/",
          "height": 35
        },
        "outputId": "c1caf2d8-6edb-4790-94ef-483478c81793"
      },
      "source": [
        "len(test)"
      ],
      "execution_count": 37,
      "outputs": [
        {
          "output_type": "execute_result",
          "data": {
            "text/plain": [
              "11"
            ]
          },
          "metadata": {
            "tags": []
          },
          "execution_count": 37
        }
      ]
    },
    {
      "cell_type": "code",
      "metadata": {
        "id": "QypaVnlXvL3A",
        "colab_type": "code",
        "colab": {
          "base_uri": "https://localhost:8080/",
          "height": 88
        },
        "outputId": "70db9345-cd0d-44a8-99c7-ac05c10b5ce0"
      },
      "source": [
        "stepwise_model.fit(train)"
      ],
      "execution_count": 38,
      "outputs": [
        {
          "output_type": "execute_result",
          "data": {
            "text/plain": [
              "ARIMA(callback=None, disp=0, maxiter=50, method=None, order=(0, 1, 0),\n",
              "      out_of_sample_size=0, scoring='mse', scoring_args={},\n",
              "      seasonal_order=(1, 1, 2, 12), solver='lbfgs', start_params=None,\n",
              "      suppress_warnings=True, transparams=True, trend='c')"
            ]
          },
          "metadata": {
            "tags": []
          },
          "execution_count": 38
        }
      ]
    },
    {
      "cell_type": "code",
      "metadata": {
        "id": "RkNcKnWFvL8N",
        "colab_type": "code",
        "colab": {}
      },
      "source": [
        "future_forecast = stepwise_model.predict(n_periods=14)"
      ],
      "execution_count": 39,
      "outputs": []
    },
    {
      "cell_type": "code",
      "metadata": {
        "id": "6dt0yF3SvL6k",
        "colab_type": "code",
        "colab": {
          "base_uri": "https://localhost:8080/",
          "height": 70
        },
        "outputId": "c690c3d5-531a-4309-b2a7-1ff86da52a99"
      },
      "source": [
        "future_forecast"
      ],
      "execution_count": 40,
      "outputs": [
        {
          "output_type": "execute_result",
          "data": {
            "text/plain": [
              "array([0.64716727, 0.63763122, 0.64606066, 0.64527946, 0.63285863,\n",
              "       0.67670795, 0.63700103, 0.60661018, 0.59718874, 0.56116097,\n",
              "       0.55345032, 0.55471943, 0.5440954 , 0.54435631])"
            ]
          },
          "metadata": {
            "tags": []
          },
          "execution_count": 40
        }
      ]
    },
    {
      "cell_type": "code",
      "metadata": {
        "id": "zoVxbjEavrU6",
        "colab_type": "code",
        "colab": {
          "base_uri": "https://localhost:8080/",
          "height": 541
        },
        "outputId": "08d7c6dc-7ee1-472b-e9d9-95b37a6ea97c"
      },
      "source": [
        "test['Prediction'] = future_forecast[0:11].tolist()\n",
        "test"
      ],
      "execution_count": 41,
      "outputs": [
        {
          "output_type": "stream",
          "text": [
            "/usr/local/lib/python3.6/dist-packages/ipykernel_launcher.py:1: SettingWithCopyWarning:\n",
            "\n",
            "\n",
            "A value is trying to be set on a copy of a slice from a DataFrame.\n",
            "Try using .loc[row_indexer,col_indexer] = value instead\n",
            "\n",
            "See the caveats in the documentation: https://pandas.pydata.org/pandas-docs/stable/user_guide/indexing.html#returning-a-view-versus-a-copy\n",
            "\n"
          ],
          "name": "stderr"
        },
        {
          "output_type": "execute_result",
          "data": {
            "text/html": [
              "<div>\n",
              "<style scoped>\n",
              "    .dataframe tbody tr th:only-of-type {\n",
              "        vertical-align: middle;\n",
              "    }\n",
              "\n",
              "    .dataframe tbody tr th {\n",
              "        vertical-align: top;\n",
              "    }\n",
              "\n",
              "    .dataframe thead th {\n",
              "        text-align: right;\n",
              "    }\n",
              "</style>\n",
              "<table border=\"1\" class=\"dataframe\">\n",
              "  <thead>\n",
              "    <tr style=\"text-align: right;\">\n",
              "      <th></th>\n",
              "      <th>High</th>\n",
              "      <th>Prediction</th>\n",
              "    </tr>\n",
              "    <tr>\n",
              "      <th>Date</th>\n",
              "      <th></th>\n",
              "      <th></th>\n",
              "    </tr>\n",
              "  </thead>\n",
              "  <tbody>\n",
              "    <tr>\n",
              "      <th>2020-07-14</th>\n",
              "      <td>0.817057</td>\n",
              "      <td>0.647167</td>\n",
              "    </tr>\n",
              "    <tr>\n",
              "      <th>2020-07-15</th>\n",
              "      <td>0.885614</td>\n",
              "      <td>0.637631</td>\n",
              "    </tr>\n",
              "    <tr>\n",
              "      <th>2020-07-16</th>\n",
              "      <td>0.836219</td>\n",
              "      <td>0.646061</td>\n",
              "    </tr>\n",
              "    <tr>\n",
              "      <th>2020-07-17</th>\n",
              "      <td>1.050000</td>\n",
              "      <td>0.645279</td>\n",
              "    </tr>\n",
              "    <tr>\n",
              "      <th>2020-07-18</th>\n",
              "      <td>1.200000</td>\n",
              "      <td>0.632859</td>\n",
              "    </tr>\n",
              "    <tr>\n",
              "      <th>2020-07-19</th>\n",
              "      <td>1.670000</td>\n",
              "      <td>0.676708</td>\n",
              "    </tr>\n",
              "    <tr>\n",
              "      <th>2020-07-20</th>\n",
              "      <td>1.970000</td>\n",
              "      <td>0.637001</td>\n",
              "    </tr>\n",
              "    <tr>\n",
              "      <th>2020-07-21</th>\n",
              "      <td>1.750000</td>\n",
              "      <td>0.606610</td>\n",
              "    </tr>\n",
              "    <tr>\n",
              "      <th>2020-07-22</th>\n",
              "      <td>1.770000</td>\n",
              "      <td>0.597189</td>\n",
              "    </tr>\n",
              "    <tr>\n",
              "      <th>2020-07-23</th>\n",
              "      <td>1.680000</td>\n",
              "      <td>0.561161</td>\n",
              "    </tr>\n",
              "    <tr>\n",
              "      <th>2020-07-24</th>\n",
              "      <td>2.100000</td>\n",
              "      <td>0.553450</td>\n",
              "    </tr>\n",
              "  </tbody>\n",
              "</table>\n",
              "</div>"
            ],
            "text/plain": [
              "                High  Prediction\n",
              "Date                            \n",
              "2020-07-14  0.817057    0.647167\n",
              "2020-07-15  0.885614    0.637631\n",
              "2020-07-16  0.836219    0.646061\n",
              "2020-07-17  1.050000    0.645279\n",
              "2020-07-18  1.200000    0.632859\n",
              "2020-07-19  1.670000    0.676708\n",
              "2020-07-20  1.970000    0.637001\n",
              "2020-07-21  1.750000    0.606610\n",
              "2020-07-22  1.770000    0.597189\n",
              "2020-07-23  1.680000    0.561161\n",
              "2020-07-24  2.100000    0.553450"
            ]
          },
          "metadata": {
            "tags": []
          },
          "execution_count": 41
        }
      ]
    }
  ]
}