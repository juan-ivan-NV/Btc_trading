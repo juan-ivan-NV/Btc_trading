{
  "nbformat": 4,
  "nbformat_minor": 0,
  "metadata": {
    "colab": {
      "name": "Full_Analizer_Arima_NT.ipynb",
      "provenance": [],
      "toc_visible": true
    },
    "kernelspec": {
      "name": "python3",
      "display_name": "Python 3"
    }
  },
  "cells": [
    {
      "cell_type": "markdown",
      "metadata": {
        "id": "YNLHCi3upHck",
        "colab_type": "text"
      },
      "source": [
        "# Data Extraction"
      ]
    },
    {
      "cell_type": "code",
      "metadata": {
        "id": "jye4FTYgo5hR",
        "colab_type": "code",
        "colab": {}
      },
      "source": [
        "import urllib.request as urllib2\n",
        "from bs4 import BeautifulSoup\n",
        "import pandas as pd\n",
        "import datetime\n",
        "import csv"
      ],
      "execution_count": 1,
      "outputs": []
    },
    {
      "cell_type": "code",
      "metadata": {
        "id": "3FAkHx3JpURy",
        "colab_type": "code",
        "colab": {}
      },
      "source": [
        "today = datetime.date.today()\n",
        "mktcap_page = 'https://coinmarketcap.com/currencies/ethereum/historical-data/?start=20130428&amp;end='+\"{:%Y%m%d}\".format(today)\n",
        "page = urllib2.urlopen(mktcap_page)\n",
        "soup = BeautifulSoup(page, 'html.parser')\n",
        "table = soup.find(\"table\")"
      ],
      "execution_count": 2,
      "outputs": []
    },
    {
      "cell_type": "code",
      "metadata": {
        "id": "NV_2JahepbUC",
        "colab_type": "code",
        "colab": {
          "base_uri": "https://localhost:8080/",
          "height": 35
        },
        "outputId": "d0bbdee7-6635-4366-f403-33419fb5ed64"
      },
      "source": [
        "headings = [th.get_text().strip() for th in table.find(\"tr\").find_all(\"th\")]\n",
        "headings"
      ],
      "execution_count": 3,
      "outputs": [
        {
          "output_type": "execute_result",
          "data": {
            "text/plain": [
              "['Date', 'Open*', 'High', 'Low', 'Close**', 'Volume', 'Market Cap']"
            ]
          },
          "metadata": {
            "tags": []
          },
          "execution_count": 3
        }
      ]
    },
    {
      "cell_type": "code",
      "metadata": {
        "id": "WxR7kEYbpeNq",
        "colab_type": "code",
        "colab": {
          "base_uri": "https://localhost:8080/",
          "height": 35
        },
        "outputId": "de66bb86-e594-4b06-d9b3-d475788631ab"
      },
      "source": [
        "headings = [x.replace('*','') for x in headings]\n",
        "headings"
      ],
      "execution_count": 4,
      "outputs": [
        {
          "output_type": "execute_result",
          "data": {
            "text/plain": [
              "['Date', 'Open', 'High', 'Low', 'Close', 'Volume', 'Market Cap']"
            ]
          },
          "metadata": {
            "tags": []
          },
          "execution_count": 4
        }
      ]
    },
    {
      "cell_type": "code",
      "metadata": {
        "id": "hPuRynwspeQX",
        "colab_type": "code",
        "colab": {
          "base_uri": "https://localhost:8080/",
          "height": 141
        },
        "outputId": "63dd47fc-99ce-409e-f97d-50773cf2c194"
      },
      "source": [
        "datasets = []\n",
        "\n",
        "for row in soup.find_all(\"tr\")[1:]:\n",
        "    dataset = dict(zip(headings, (tr.get_text() for tr in row.find_all(\"td\"))))\n",
        "    if len(dataset) > 1:\n",
        "        datasets.append(dataset)\n",
        "\n",
        "datasets[0]"
      ],
      "execution_count": 5,
      "outputs": [
        {
          "output_type": "execute_result",
          "data": {
            "text/plain": [
              "{'Close': '304.06',\n",
              " 'Date': 'Jul 25, 2020',\n",
              " 'High': '306.74',\n",
              " 'Low': '279.03',\n",
              " 'Market Cap': '34,027,002,730',\n",
              " 'Open': '279.03',\n",
              " 'Volume': '10,785,021,813'}"
            ]
          },
          "metadata": {
            "tags": []
          },
          "execution_count": 5
        }
      ]
    },
    {
      "cell_type": "code",
      "metadata": {
        "id": "Ke0EvOrypeS5",
        "colab_type": "code",
        "colab": {
          "base_uri": "https://localhost:8080/",
          "height": 194
        },
        "outputId": "33e4e815-cf29-4c07-ec41-51294f960dde"
      },
      "source": [
        "my_df = pd.DataFrame(datasets)\n",
        "my_df.head()"
      ],
      "execution_count": 6,
      "outputs": [
        {
          "output_type": "execute_result",
          "data": {
            "text/html": [
              "<div>\n",
              "<style scoped>\n",
              "    .dataframe tbody tr th:only-of-type {\n",
              "        vertical-align: middle;\n",
              "    }\n",
              "\n",
              "    .dataframe tbody tr th {\n",
              "        vertical-align: top;\n",
              "    }\n",
              "\n",
              "    .dataframe thead th {\n",
              "        text-align: right;\n",
              "    }\n",
              "</style>\n",
              "<table border=\"1\" class=\"dataframe\">\n",
              "  <thead>\n",
              "    <tr style=\"text-align: right;\">\n",
              "      <th></th>\n",
              "      <th>Date</th>\n",
              "      <th>Open</th>\n",
              "      <th>High</th>\n",
              "      <th>Low</th>\n",
              "      <th>Close</th>\n",
              "      <th>Volume</th>\n",
              "      <th>Market Cap</th>\n",
              "    </tr>\n",
              "  </thead>\n",
              "  <tbody>\n",
              "    <tr>\n",
              "      <th>0</th>\n",
              "      <td>Jul 25, 2020</td>\n",
              "      <td>279.03</td>\n",
              "      <td>306.74</td>\n",
              "      <td>279.03</td>\n",
              "      <td>304.06</td>\n",
              "      <td>10,785,021,813</td>\n",
              "      <td>34,027,002,730</td>\n",
              "    </tr>\n",
              "    <tr>\n",
              "      <th>1</th>\n",
              "      <td>Jul 24, 2020</td>\n",
              "      <td>274.72</td>\n",
              "      <td>286.19</td>\n",
              "      <td>269.24</td>\n",
              "      <td>279.22</td>\n",
              "      <td>9,466,060,358</td>\n",
              "      <td>31,243,266,716</td>\n",
              "    </tr>\n",
              "    <tr>\n",
              "      <th>2</th>\n",
              "      <td>Jul 23, 2020</td>\n",
              "      <td>262.39</td>\n",
              "      <td>277.58</td>\n",
              "      <td>261.05</td>\n",
              "      <td>274.69</td>\n",
              "      <td>10,281,309,262</td>\n",
              "      <td>30,733,019,165</td>\n",
              "    </tr>\n",
              "    <tr>\n",
              "      <th>3</th>\n",
              "      <td>Jul 22, 2020</td>\n",
              "      <td>245.04</td>\n",
              "      <td>262.99</td>\n",
              "      <td>242.48</td>\n",
              "      <td>262.19</td>\n",
              "      <td>7,702,077,383</td>\n",
              "      <td>29,331,058,164</td>\n",
              "    </tr>\n",
              "    <tr>\n",
              "      <th>4</th>\n",
              "      <td>Jul 21, 2020</td>\n",
              "      <td>236.30</td>\n",
              "      <td>246.19</td>\n",
              "      <td>235.68</td>\n",
              "      <td>245.02</td>\n",
              "      <td>6,806,696,015</td>\n",
              "      <td>27,406,496,758</td>\n",
              "    </tr>\n",
              "  </tbody>\n",
              "</table>\n",
              "</div>"
            ],
            "text/plain": [
              "           Date    Open    High     Low   Close          Volume      Market Cap\n",
              "0  Jul 25, 2020  279.03  306.74  279.03  304.06  10,785,021,813  34,027,002,730\n",
              "1  Jul 24, 2020  274.72  286.19  269.24  279.22   9,466,060,358  31,243,266,716\n",
              "2  Jul 23, 2020  262.39  277.58  261.05  274.69  10,281,309,262  30,733,019,165\n",
              "3  Jul 22, 2020  245.04  262.99  242.48  262.19   7,702,077,383  29,331,058,164\n",
              "4  Jul 21, 2020  236.30  246.19  235.68  245.02   6,806,696,015  27,406,496,758"
            ]
          },
          "metadata": {
            "tags": []
          },
          "execution_count": 6
        }
      ]
    },
    {
      "cell_type": "code",
      "metadata": {
        "id": "gd_Xc2oCpeVo",
        "colab_type": "code",
        "colab": {}
      },
      "source": [
        "full_data = my_df.set_index('Date')\n",
        "#full_data = df[['Open', 'High', 'Low', 'Close', 'Volume', 'Market Cap']]\n",
        "full_data.to_csv('full_data_eth_25072020.csv', index=True, header=True)"
      ],
      "execution_count": 7,
      "outputs": []
    },
    {
      "cell_type": "code",
      "metadata": {
        "id": "N1_9E9uzpeYX",
        "colab_type": "code",
        "colab": {
          "base_uri": "https://localhost:8080/",
          "height": 370
        },
        "outputId": "43adbc2e-d78a-4e4d-c1a8-a17016a8cfbd"
      },
      "source": [
        "full_data.head(10)"
      ],
      "execution_count": 8,
      "outputs": [
        {
          "output_type": "execute_result",
          "data": {
            "text/html": [
              "<div>\n",
              "<style scoped>\n",
              "    .dataframe tbody tr th:only-of-type {\n",
              "        vertical-align: middle;\n",
              "    }\n",
              "\n",
              "    .dataframe tbody tr th {\n",
              "        vertical-align: top;\n",
              "    }\n",
              "\n",
              "    .dataframe thead th {\n",
              "        text-align: right;\n",
              "    }\n",
              "</style>\n",
              "<table border=\"1\" class=\"dataframe\">\n",
              "  <thead>\n",
              "    <tr style=\"text-align: right;\">\n",
              "      <th></th>\n",
              "      <th>Open</th>\n",
              "      <th>High</th>\n",
              "      <th>Low</th>\n",
              "      <th>Close</th>\n",
              "      <th>Volume</th>\n",
              "      <th>Market Cap</th>\n",
              "    </tr>\n",
              "    <tr>\n",
              "      <th>Date</th>\n",
              "      <th></th>\n",
              "      <th></th>\n",
              "      <th></th>\n",
              "      <th></th>\n",
              "      <th></th>\n",
              "      <th></th>\n",
              "    </tr>\n",
              "  </thead>\n",
              "  <tbody>\n",
              "    <tr>\n",
              "      <th>Jul 25, 2020</th>\n",
              "      <td>279.03</td>\n",
              "      <td>306.74</td>\n",
              "      <td>279.03</td>\n",
              "      <td>304.06</td>\n",
              "      <td>10,785,021,813</td>\n",
              "      <td>34,027,002,730</td>\n",
              "    </tr>\n",
              "    <tr>\n",
              "      <th>Jul 24, 2020</th>\n",
              "      <td>274.72</td>\n",
              "      <td>286.19</td>\n",
              "      <td>269.24</td>\n",
              "      <td>279.22</td>\n",
              "      <td>9,466,060,358</td>\n",
              "      <td>31,243,266,716</td>\n",
              "    </tr>\n",
              "    <tr>\n",
              "      <th>Jul 23, 2020</th>\n",
              "      <td>262.39</td>\n",
              "      <td>277.58</td>\n",
              "      <td>261.05</td>\n",
              "      <td>274.69</td>\n",
              "      <td>10,281,309,262</td>\n",
              "      <td>30,733,019,165</td>\n",
              "    </tr>\n",
              "    <tr>\n",
              "      <th>Jul 22, 2020</th>\n",
              "      <td>245.04</td>\n",
              "      <td>262.99</td>\n",
              "      <td>242.48</td>\n",
              "      <td>262.19</td>\n",
              "      <td>7,702,077,383</td>\n",
              "      <td>29,331,058,164</td>\n",
              "    </tr>\n",
              "    <tr>\n",
              "      <th>Jul 21, 2020</th>\n",
              "      <td>236.30</td>\n",
              "      <td>246.19</td>\n",
              "      <td>235.68</td>\n",
              "      <td>245.02</td>\n",
              "      <td>6,806,696,015</td>\n",
              "      <td>27,406,496,758</td>\n",
              "    </tr>\n",
              "    <tr>\n",
              "      <th>Jul 20, 2020</th>\n",
              "      <td>238.49</td>\n",
              "      <td>239.58</td>\n",
              "      <td>234.85</td>\n",
              "      <td>236.15</td>\n",
              "      <td>5,600,686,192</td>\n",
              "      <td>26,411,853,756</td>\n",
              "    </tr>\n",
              "    <tr>\n",
              "      <th>Jul 19, 2020</th>\n",
              "      <td>235.46</td>\n",
              "      <td>239.16</td>\n",
              "      <td>233.28</td>\n",
              "      <td>238.49</td>\n",
              "      <td>6,251,377,305</td>\n",
              "      <td>26,669,691,075</td>\n",
              "    </tr>\n",
              "    <tr>\n",
              "      <th>Jul 18, 2020</th>\n",
              "      <td>232.86</td>\n",
              "      <td>236.54</td>\n",
              "      <td>232.32</td>\n",
              "      <td>235.48</td>\n",
              "      <td>5,397,402,117</td>\n",
              "      <td>26,330,601,164</td>\n",
              "    </tr>\n",
              "    <tr>\n",
              "      <th>Jul 17, 2020</th>\n",
              "      <td>233.69</td>\n",
              "      <td>234.42</td>\n",
              "      <td>232.11</td>\n",
              "      <td>232.77</td>\n",
              "      <td>5,859,850,529</td>\n",
              "      <td>26,024,301,468</td>\n",
              "    </tr>\n",
              "    <tr>\n",
              "      <th>Jul 16, 2020</th>\n",
              "      <td>238.45</td>\n",
              "      <td>239.01</td>\n",
              "      <td>231.62</td>\n",
              "      <td>233.64</td>\n",
              "      <td>5,832,057,567</td>\n",
              "      <td>26,118,155,895</td>\n",
              "    </tr>\n",
              "  </tbody>\n",
              "</table>\n",
              "</div>"
            ],
            "text/plain": [
              "                Open    High     Low   Close          Volume      Market Cap\n",
              "Date                                                                        \n",
              "Jul 25, 2020  279.03  306.74  279.03  304.06  10,785,021,813  34,027,002,730\n",
              "Jul 24, 2020  274.72  286.19  269.24  279.22   9,466,060,358  31,243,266,716\n",
              "Jul 23, 2020  262.39  277.58  261.05  274.69  10,281,309,262  30,733,019,165\n",
              "Jul 22, 2020  245.04  262.99  242.48  262.19   7,702,077,383  29,331,058,164\n",
              "Jul 21, 2020  236.30  246.19  235.68  245.02   6,806,696,015  27,406,496,758\n",
              "Jul 20, 2020  238.49  239.58  234.85  236.15   5,600,686,192  26,411,853,756\n",
              "Jul 19, 2020  235.46  239.16  233.28  238.49   6,251,377,305  26,669,691,075\n",
              "Jul 18, 2020  232.86  236.54  232.32  235.48   5,397,402,117  26,330,601,164\n",
              "Jul 17, 2020  233.69  234.42  232.11  232.77   5,859,850,529  26,024,301,468\n",
              "Jul 16, 2020  238.45  239.01  231.62  233.64   5,832,057,567  26,118,155,895"
            ]
          },
          "metadata": {
            "tags": []
          },
          "execution_count": 8
        }
      ]
    },
    {
      "cell_type": "code",
      "metadata": {
        "id": "bDr9VxCcpebr",
        "colab_type": "code",
        "colab": {
          "base_uri": "https://localhost:8080/",
          "height": 35
        },
        "outputId": "de937dff-06de-4e20-9b63-ce94fca4951c"
      },
      "source": [
        "full_data.shape"
      ],
      "execution_count": 9,
      "outputs": [
        {
          "output_type": "execute_result",
          "data": {
            "text/plain": [
              "(1815, 6)"
            ]
          },
          "metadata": {
            "tags": []
          },
          "execution_count": 9
        }
      ]
    },
    {
      "cell_type": "code",
      "metadata": {
        "id": "qDpsRZpyp-WT",
        "colab_type": "code",
        "colab": {
          "base_uri": "https://localhost:8080/",
          "height": 141
        },
        "outputId": "c17fb1eb-074e-4e61-deca-529fc1a7d0a2"
      },
      "source": [
        "full_data.dtypes"
      ],
      "execution_count": 10,
      "outputs": [
        {
          "output_type": "execute_result",
          "data": {
            "text/plain": [
              "Open          object\n",
              "High          object\n",
              "Low           object\n",
              "Close         object\n",
              "Volume        object\n",
              "Market Cap    object\n",
              "dtype: object"
            ]
          },
          "metadata": {
            "tags": []
          },
          "execution_count": 10
        }
      ]
    },
    {
      "cell_type": "code",
      "metadata": {
        "id": "mNVuO2E6p-ZA",
        "colab_type": "code",
        "colab": {
          "base_uri": "https://localhost:8080/",
          "height": 223
        },
        "outputId": "f2cf1719-3083-43ce-a766-f4c0854ca232"
      },
      "source": [
        "def obj_to_int(x):\n",
        "    x = x.replace(',','')\n",
        "    return float(x)\n",
        "full_data['Low'] = full_data['Low'].apply(obj_to_int)\n",
        "full_data['High'] = full_data['High'].apply(obj_to_int)\n",
        "full_data.head()"
      ],
      "execution_count": 11,
      "outputs": [
        {
          "output_type": "execute_result",
          "data": {
            "text/html": [
              "<div>\n",
              "<style scoped>\n",
              "    .dataframe tbody tr th:only-of-type {\n",
              "        vertical-align: middle;\n",
              "    }\n",
              "\n",
              "    .dataframe tbody tr th {\n",
              "        vertical-align: top;\n",
              "    }\n",
              "\n",
              "    .dataframe thead th {\n",
              "        text-align: right;\n",
              "    }\n",
              "</style>\n",
              "<table border=\"1\" class=\"dataframe\">\n",
              "  <thead>\n",
              "    <tr style=\"text-align: right;\">\n",
              "      <th></th>\n",
              "      <th>Open</th>\n",
              "      <th>High</th>\n",
              "      <th>Low</th>\n",
              "      <th>Close</th>\n",
              "      <th>Volume</th>\n",
              "      <th>Market Cap</th>\n",
              "    </tr>\n",
              "    <tr>\n",
              "      <th>Date</th>\n",
              "      <th></th>\n",
              "      <th></th>\n",
              "      <th></th>\n",
              "      <th></th>\n",
              "      <th></th>\n",
              "      <th></th>\n",
              "    </tr>\n",
              "  </thead>\n",
              "  <tbody>\n",
              "    <tr>\n",
              "      <th>Jul 25, 2020</th>\n",
              "      <td>279.03</td>\n",
              "      <td>306.74</td>\n",
              "      <td>279.03</td>\n",
              "      <td>304.06</td>\n",
              "      <td>10,785,021,813</td>\n",
              "      <td>34,027,002,730</td>\n",
              "    </tr>\n",
              "    <tr>\n",
              "      <th>Jul 24, 2020</th>\n",
              "      <td>274.72</td>\n",
              "      <td>286.19</td>\n",
              "      <td>269.24</td>\n",
              "      <td>279.22</td>\n",
              "      <td>9,466,060,358</td>\n",
              "      <td>31,243,266,716</td>\n",
              "    </tr>\n",
              "    <tr>\n",
              "      <th>Jul 23, 2020</th>\n",
              "      <td>262.39</td>\n",
              "      <td>277.58</td>\n",
              "      <td>261.05</td>\n",
              "      <td>274.69</td>\n",
              "      <td>10,281,309,262</td>\n",
              "      <td>30,733,019,165</td>\n",
              "    </tr>\n",
              "    <tr>\n",
              "      <th>Jul 22, 2020</th>\n",
              "      <td>245.04</td>\n",
              "      <td>262.99</td>\n",
              "      <td>242.48</td>\n",
              "      <td>262.19</td>\n",
              "      <td>7,702,077,383</td>\n",
              "      <td>29,331,058,164</td>\n",
              "    </tr>\n",
              "    <tr>\n",
              "      <th>Jul 21, 2020</th>\n",
              "      <td>236.30</td>\n",
              "      <td>246.19</td>\n",
              "      <td>235.68</td>\n",
              "      <td>245.02</td>\n",
              "      <td>6,806,696,015</td>\n",
              "      <td>27,406,496,758</td>\n",
              "    </tr>\n",
              "  </tbody>\n",
              "</table>\n",
              "</div>"
            ],
            "text/plain": [
              "                Open    High     Low   Close          Volume      Market Cap\n",
              "Date                                                                        \n",
              "Jul 25, 2020  279.03  306.74  279.03  304.06  10,785,021,813  34,027,002,730\n",
              "Jul 24, 2020  274.72  286.19  269.24  279.22   9,466,060,358  31,243,266,716\n",
              "Jul 23, 2020  262.39  277.58  261.05  274.69  10,281,309,262  30,733,019,165\n",
              "Jul 22, 2020  245.04  262.99  242.48  262.19   7,702,077,383  29,331,058,164\n",
              "Jul 21, 2020  236.30  246.19  235.68  245.02   6,806,696,015  27,406,496,758"
            ]
          },
          "metadata": {
            "tags": []
          },
          "execution_count": 11
        }
      ]
    },
    {
      "cell_type": "code",
      "metadata": {
        "id": "wFVgK5qlp-b3",
        "colab_type": "code",
        "colab": {
          "base_uri": "https://localhost:8080/",
          "height": 606
        },
        "outputId": "28a7f45e-e1bf-4bc9-a4bd-6443ac2abfdb"
      },
      "source": [
        "_= full_data[['Low','High']][::-1].plot(grid=True, figsize=(21, 10))"
      ],
      "execution_count": 16,
      "outputs": [
        {
          "output_type": "display_data",
          "data": {
            "image/png": "[encoded data removed]",
            "text/plain": [
              "<Figure size 1512x720 with 1 Axes>"
            ]
          },
          "metadata": {
            "tags": [],
            "needs_background": "light"
          }
        }
      ]
    },
    {
      "cell_type": "markdown",
      "metadata": {
        "id": "Q7VZtGDzq64i",
        "colab_type": "text"
      },
      "source": [
        "# Preparing data for time series"
      ]
    },
    {
      "cell_type": "code",
      "metadata": {
        "id": "bhMAAwVsp-eW",
        "colab_type": "code",
        "colab": {}
      },
      "source": [
        "def obj_to_num(df,cols):\n",
        "    def obj_to_num(row):\n",
        "        if ',' in str(row):\n",
        "          row = row.replace(',','')\n",
        "          return float(row)\n",
        "        else:\n",
        "          return float(row)\n",
        "\n",
        "    for col in cols: \n",
        "        df[col] = df[col].apply(obj_to_num) \n",
        "    return df\n",
        "    \n",
        "def prepare_data(file):\n",
        "  dateparse = lambda x: pd.datetime.strptime(x, '%b %d, %Y').strftime('%Y-%m-%d')\n",
        "  data  = pd.read_csv(file, parse_dates=[0], date_parser=dateparse)\n",
        "  columns = ['Open','High','Low','Close','Volume','Market Cap']\n",
        "  num_data = obj_to_num(data,columns)\n",
        "  data['Date'] = data['Date'].dt.tz_localize(None)\n",
        "  data = data.groupby([pd.Grouper(key='Date', freq='H')]).first().reset_index()\n",
        "  data = data.set_index('Date')\n",
        "  data = data[['High','Low']]\n",
        "  data.dropna(subset=['High','Low'], inplace=True)\n",
        "  return data"
      ],
      "execution_count": 17,
      "outputs": []
    },
    {
      "cell_type": "code",
      "metadata": {
        "id": "_8DL7DcoqwdK",
        "colab_type": "code",
        "colab": {
          "base_uri": "https://localhost:8080/",
          "height": 279
        },
        "outputId": "b348c495-b77a-41a5-a807-bc95630fa25d"
      },
      "source": [
        "file = 'full_data_eth_25072020.csv'\n",
        "data = prepare_data(file)\n",
        "data.head()"
      ],
      "execution_count": 19,
      "outputs": [
        {
          "output_type": "stream",
          "text": [
            "/usr/local/lib/python3.6/dist-packages/ipykernel_launcher.py:14: FutureWarning: The pandas.datetime class is deprecated and will be removed from pandas in a future version. Import from datetime instead.\n",
            "  \n"
          ],
          "name": "stderr"
        },
        {
          "output_type": "execute_result",
          "data": {
            "text/html": [
              "<div>\n",
              "<style scoped>\n",
              "    .dataframe tbody tr th:only-of-type {\n",
              "        vertical-align: middle;\n",
              "    }\n",
              "\n",
              "    .dataframe tbody tr th {\n",
              "        vertical-align: top;\n",
              "    }\n",
              "\n",
              "    .dataframe thead th {\n",
              "        text-align: right;\n",
              "    }\n",
              "</style>\n",
              "<table border=\"1\" class=\"dataframe\">\n",
              "  <thead>\n",
              "    <tr style=\"text-align: right;\">\n",
              "      <th></th>\n",
              "      <th>High</th>\n",
              "      <th>Low</th>\n",
              "    </tr>\n",
              "    <tr>\n",
              "      <th>Date</th>\n",
              "      <th></th>\n",
              "      <th></th>\n",
              "    </tr>\n",
              "  </thead>\n",
              "  <tbody>\n",
              "    <tr>\n",
              "      <th>2015-08-07</th>\n",
              "      <td>3.540000</td>\n",
              "      <td>2.520000</td>\n",
              "    </tr>\n",
              "    <tr>\n",
              "      <th>2015-08-08</th>\n",
              "      <td>2.800000</td>\n",
              "      <td>0.714725</td>\n",
              "    </tr>\n",
              "    <tr>\n",
              "      <th>2015-08-09</th>\n",
              "      <td>0.879810</td>\n",
              "      <td>0.629191</td>\n",
              "    </tr>\n",
              "    <tr>\n",
              "      <th>2015-08-10</th>\n",
              "      <td>0.729854</td>\n",
              "      <td>0.636546</td>\n",
              "    </tr>\n",
              "    <tr>\n",
              "      <th>2015-08-11</th>\n",
              "      <td>1.130000</td>\n",
              "      <td>0.663235</td>\n",
              "    </tr>\n",
              "  </tbody>\n",
              "</table>\n",
              "</div>"
            ],
            "text/plain": [
              "                High       Low\n",
              "Date                          \n",
              "2015-08-07  3.540000  2.520000\n",
              "2015-08-08  2.800000  0.714725\n",
              "2015-08-09  0.879810  0.629191\n",
              "2015-08-10  0.729854  0.636546\n",
              "2015-08-11  1.130000  0.663235"
            ]
          },
          "metadata": {
            "tags": []
          },
          "execution_count": 19
        }
      ]
    },
    {
      "cell_type": "code",
      "metadata": {
        "id": "nNhycTqIqwmu",
        "colab_type": "code",
        "colab": {
          "base_uri": "https://localhost:8080/",
          "height": 159
        },
        "outputId": "14e8befd-d80a-45bc-db73-5d26c5bc8263"
      },
      "source": [
        "data.index"
      ],
      "execution_count": 20,
      "outputs": [
        {
          "output_type": "execute_result",
          "data": {
            "text/plain": [
              "DatetimeIndex(['2015-08-07', '2015-08-08', '2015-08-09', '2015-08-10',\n",
              "               '2015-08-11', '2015-08-12', '2015-08-13', '2015-08-14',\n",
              "               '2015-08-15', '2015-08-16',\n",
              "               ...\n",
              "               '2020-07-16', '2020-07-17', '2020-07-18', '2020-07-19',\n",
              "               '2020-07-20', '2020-07-21', '2020-07-22', '2020-07-23',\n",
              "               '2020-07-24', '2020-07-25'],\n",
              "              dtype='datetime64[ns]', name='Date', length=1815, freq=None)"
            ]
          },
          "metadata": {
            "tags": []
          },
          "execution_count": 20
        }
      ]
    },
    {
      "cell_type": "code",
      "metadata": {
        "id": "wxSPqJ-Rqwlx",
        "colab_type": "code",
        "colab": {
          "base_uri": "https://localhost:8080/",
          "height": 248
        },
        "outputId": "eaea52fb-73b3-47a8-ec4b-ccfac7a11800"
      },
      "source": [
        "!pip install chart_studio"
      ],
      "execution_count": 21,
      "outputs": [
        {
          "output_type": "stream",
          "text": [
            "Collecting chart_studio\n",
            "\u001b[?25l  Downloading https://files.pythonhosted.org/packages/ca/ce/330794a6b6ca4b9182c38fc69dd2a9cbff60fd49421cb8648ee5fee352dc/chart_studio-1.1.0-py3-none-any.whl (64kB)\n",
            "\r\u001b[K     |█████                           | 10kB 16.7MB/s eta 0:00:01\r\u001b[K     |██████████▏                     | 20kB 1.7MB/s eta 0:00:01\r\u001b[K     |███████████████▎                | 30kB 2.2MB/s eta 0:00:01\r\u001b[K     |████████████████████▍           | 40kB 2.5MB/s eta 0:00:01\r\u001b[K     |█████████████████████████▍      | 51kB 1.9MB/s eta 0:00:01\r\u001b[K     |██████████████████████████████▌ | 61kB 2.2MB/s eta 0:00:01\r\u001b[K     |████████████████████████████████| 71kB 2.0MB/s \n",
            "\u001b[?25hRequirement already satisfied: requests in /usr/local/lib/python3.6/dist-packages (from chart_studio) (2.23.0)\n",
            "Requirement already satisfied: retrying>=1.3.3 in /usr/local/lib/python3.6/dist-packages (from chart_studio) (1.3.3)\n",
            "Requirement already satisfied: plotly in /usr/local/lib/python3.6/dist-packages (from chart_studio) (4.4.1)\n",
            "Requirement already satisfied: six in /usr/local/lib/python3.6/dist-packages (from chart_studio) (1.15.0)\n",
            "Requirement already satisfied: idna<3,>=2.5 in /usr/local/lib/python3.6/dist-packages (from requests->chart_studio) (2.10)\n",
            "Requirement already satisfied: certifi>=2017.4.17 in /usr/local/lib/python3.6/dist-packages (from requests->chart_studio) (2020.6.20)\n",
            "Requirement already satisfied: urllib3!=1.25.0,!=1.25.1,<1.26,>=1.21.1 in /usr/local/lib/python3.6/dist-packages (from requests->chart_studio) (1.24.3)\n",
            "Requirement already satisfied: chardet<4,>=3.0.2 in /usr/local/lib/python3.6/dist-packages (from requests->chart_studio) (3.0.4)\n",
            "Installing collected packages: chart-studio\n",
            "Successfully installed chart-studio-1.1.0\n"
          ],
          "name": "stdout"
        }
      ]
    },
    {
      "cell_type": "code",
      "metadata": {
        "id": "xUHuNuV2qwjt",
        "colab_type": "code",
        "colab": {
          "base_uri": "https://localhost:8080/",
          "height": 88
        },
        "outputId": "8377c84c-5775-4e98-879f-df984c9baf67"
      },
      "source": [
        "import plotly.graph_objects as go\n",
        "import chart_studio as py\n",
        "\n",
        "import seaborn as sns\n",
        "\n",
        "from statsmodels.tsa.seasonal import seasonal_decompose"
      ],
      "execution_count": 22,
      "outputs": [
        {
          "output_type": "stream",
          "text": [
            "/usr/local/lib/python3.6/dist-packages/statsmodels/tools/_testing.py:19: FutureWarning:\n",
            "\n",
            "pandas.util.testing is deprecated. Use the functions in the public API at pandas.testing instead.\n",
            "\n"
          ],
          "name": "stderr"
        }
      ]
    },
    {
      "cell_type": "code",
      "metadata": {
        "id": "zA4zZnv1p-hN",
        "colab_type": "code",
        "colab": {}
      },
      "source": [
        "py.tools.set_credentials_file(username='xxxxxx', api_key='xxxxxxx')"
      ],
      "execution_count": 23,
      "outputs": []
    },
    {
      "cell_type": "code",
      "metadata": {
        "id": "xr2Cppz8s7D_",
        "colab_type": "code",
        "colab": {
          "base_uri": "https://localhost:8080/",
          "height": 546
        },
        "outputId": "5b23aa73-8f4a-408c-e173-8b2c89f5cf0a"
      },
      "source": [
        "trace1 = go.Scatter(\n",
        "    x = data.index,\n",
        "    y = data['High'].astype(float),\n",
        "    mode = 'lines',\n",
        "    name = 'swipe Price (High)'\n",
        ")\n",
        "trace2 = go.Scatter(\n",
        "    x = data.index,\n",
        "    y = data['Low'].astype(float),\n",
        "    mode = 'lines',\n",
        "    name = 'swipe Price (High)'\n",
        ")\n",
        "\n",
        "layout = dict(\n",
        "    title='Historical swipe High price (USD) (...-2020)',\n",
        "    xaxis=dict(\n",
        "        rangeselector=dict(\n",
        "            buttons=list([\n",
        "                dict(count=1,\n",
        "                     label='1m',\n",
        "                     step='month',\n",
        "                     stepmode='backward'),\n",
        "                dict(count=6,\n",
        "                     label='6m',\n",
        "                     step='month',\n",
        "                     stepmode='backward'),\n",
        "                dict(count=12,\n",
        "                     label='1y',\n",
        "                     step='month',\n",
        "                     stepmode='backward'),\n",
        "                dict(count=36,\n",
        "                     label='3y',\n",
        "                     step='month',\n",
        "                     stepmode='backward'),\n",
        "                dict(step='all')\n",
        "            ])\n",
        "        ),\n",
        "        rangeslider=dict(\n",
        "            visible = True\n",
        "        ),\n",
        "        type='date'\n",
        "    )\n",
        ")\n",
        "\n",
        "data = [trace1,trace2]\n",
        "fig = dict(data = data.copy(), layout=layout)\n",
        "py.plotly.iplot(fig, filename = \"Time Series with Rangeslider\")"
      ],
      "execution_count": 24,
      "outputs": [
        {
          "output_type": "execute_result",
          "data": {
            "text/html": [
              "\n",
              "        <iframe\n",
              "            width=\"100%\"\n",
              "            height=\"525px\"\n",
              "            src=\"https://plotly.com/~ji_nb/3.embed\"\n",
              "            frameborder=\"0\"\n",
              "            allowfullscreen\n",
              "        ></iframe>\n",
              "        "
            ],
            "text/plain": [
              "<IPython.lib.display.IFrame at 0x7f3fd521de10>"
            ]
          },
          "metadata": {
            "tags": []
          },
          "execution_count": 24
        }
      ]
    },
    {
      "cell_type": "markdown",
      "metadata": {
        "id": "WXl3m_2ptnM8",
        "colab_type": "text"
      },
      "source": [
        "# Now the model"
      ]
    },
    {
      "cell_type": "markdown",
      "metadata": {
        "id": "413Ns75LkN04",
        "colab_type": "text"
      },
      "source": [
        "## To trade dayli we should know low and high prices on x number of days the closer the predictions are the more accurate result we have"
      ]
    },
    {
      "cell_type": "code",
      "metadata": {
        "id": "vKwu-SGwtfEh",
        "colab_type": "code",
        "colab": {
          "base_uri": "https://localhost:8080/",
          "height": 712
        },
        "outputId": "6b3bcf9a-f06a-4f93-f0af-02497525e598"
      },
      "source": [
        "!pip install pyramid-arima\n",
        "from pyramid.arima import auto_arima"
      ],
      "execution_count": 25,
      "outputs": [
        {
          "output_type": "stream",
          "text": [
            "Collecting pyramid-arima\n",
            "\u001b[?25l  Downloading https://files.pythonhosted.org/packages/5c/84/57422f2a6ade3161c586545e38b518ba1b7ab30ee4a4acc29110c0aba2bc/pyramid_arima-0.9.0-cp36-cp36m-manylinux1_x86_64.whl (597kB)\n",
            "\u001b[K     |████████████████████████████████| 604kB 2.8MB/s \n",
            "\u001b[?25hRequirement already satisfied: scipy>=0.9 in /usr/local/lib/python3.6/dist-packages (from pyramid-arima) (1.4.1)\n",
            "Requirement already satisfied: statsmodels>=0.9.0 in /usr/local/lib/python3.6/dist-packages (from pyramid-arima) (0.10.2)\n",
            "Requirement already satisfied: numpy>=1.10 in /usr/local/lib/python3.6/dist-packages (from pyramid-arima) (1.18.5)\n",
            "Requirement already satisfied: pandas>=0.19 in /usr/local/lib/python3.6/dist-packages (from pyramid-arima) (1.0.5)\n",
            "Requirement already satisfied: scikit-learn>=0.17 in /usr/local/lib/python3.6/dist-packages (from pyramid-arima) (0.22.2.post1)\n",
            "Requirement already satisfied: Cython>=0.23 in /usr/local/lib/python3.6/dist-packages (from pyramid-arima) (0.29.21)\n",
            "Requirement already satisfied: patsy>=0.4.0 in /usr/local/lib/python3.6/dist-packages (from statsmodels>=0.9.0->pyramid-arima) (0.5.1)\n",
            "Requirement already satisfied: python-dateutil>=2.6.1 in /usr/local/lib/python3.6/dist-packages (from pandas>=0.19->pyramid-arima) (2.8.1)\n",
            "Requirement already satisfied: pytz>=2017.2 in /usr/local/lib/python3.6/dist-packages (from pandas>=0.19->pyramid-arima) (2018.9)\n",
            "Requirement already satisfied: joblib>=0.11 in /usr/local/lib/python3.6/dist-packages (from scikit-learn>=0.17->pyramid-arima) (0.16.0)\n",
            "Requirement already satisfied: six in /usr/local/lib/python3.6/dist-packages (from patsy>=0.4.0->statsmodels>=0.9.0->pyramid-arima) (1.15.0)\n",
            "Installing collected packages: pyramid-arima\n",
            "Successfully installed pyramid-arima-0.9.0\n"
          ],
          "name": "stdout"
        },
        {
          "output_type": "stream",
          "text": [
            "/usr/local/lib/python3.6/dist-packages/sklearn/externals/six.py:31: FutureWarning:\n",
            "\n",
            "The module is deprecated in version 0.21 and will be removed in version 0.23 since we've dropped support for Python 2.7. Please rely on the official version of six (https://pypi.org/project/six/).\n",
            "\n",
            "/usr/local/lib/python3.6/dist-packages/sklearn/externals/joblib/__init__.py:15: FutureWarning:\n",
            "\n",
            "sklearn.externals.joblib is deprecated in 0.21 and will be removed in 0.23. Please import this functionality directly from joblib, which can be installed with: pip install joblib. If this warning is raised when loading pickled models, you may need to re-serialize those models with scikit-learn 0.21+.\n",
            "\n",
            "/usr/local/lib/python3.6/dist-packages/pyramid/__init__.py:68: UserWarning:\n",
            "\n",
            "\n",
            "    The 'pyramid' package will be migrating to a new namespace beginning in \n",
            "    version 1.0.0: 'pmdarima'. This is due to a package name collision with the\n",
            "    Pyramid web framework. For more information, see Issue #34:\n",
            "    \n",
            "        https://github.com/tgsmith61591/pyramid/issues/34\n",
            "        \n",
            "    The package will subsequently be installable via the name 'pmdarima'; the\n",
            "    only functional change to the user will be the import name. All imports\n",
            "    from 'pyramid' will change to 'pmdarima'.\n",
            "    \n",
            "\n"
          ],
          "name": "stderr"
        }
      ]
    },
    {
      "cell_type": "code",
      "metadata": {
        "id": "wnRrASkft8ta",
        "colab_type": "code",
        "colab": {
          "base_uri": "https://localhost:8080/",
          "height": 88
        },
        "outputId": "92cad05b-9237-419f-9af0-600cdaae0970"
      },
      "source": [
        "# We do this again because the fo@#!ing pyplot plot changed data types \n",
        "file = 'full_data_eth_25072020.csv'\n",
        "data = prepare_data(file)"
      ],
      "execution_count": 26,
      "outputs": [
        {
          "output_type": "stream",
          "text": [
            "/usr/local/lib/python3.6/dist-packages/ipykernel_launcher.py:14: FutureWarning:\n",
            "\n",
            "The pandas.datetime class is deprecated and will be removed from pandas in a future version. Import from datetime instead.\n",
            "\n"
          ],
          "name": "stderr"
        }
      ]
    },
    {
      "cell_type": "code",
      "metadata": {
        "id": "PEM34Na3lS4B",
        "colab_type": "code",
        "colab": {
          "base_uri": "https://localhost:8080/",
          "height": 223
        },
        "outputId": "8951dd02-9735-4ea3-cfd0-2160360b2536"
      },
      "source": [
        "data.head()"
      ],
      "execution_count": 28,
      "outputs": [
        {
          "output_type": "execute_result",
          "data": {
            "text/html": [
              "<div>\n",
              "<style scoped>\n",
              "    .dataframe tbody tr th:only-of-type {\n",
              "        vertical-align: middle;\n",
              "    }\n",
              "\n",
              "    .dataframe tbody tr th {\n",
              "        vertical-align: top;\n",
              "    }\n",
              "\n",
              "    .dataframe thead th {\n",
              "        text-align: right;\n",
              "    }\n",
              "</style>\n",
              "<table border=\"1\" class=\"dataframe\">\n",
              "  <thead>\n",
              "    <tr style=\"text-align: right;\">\n",
              "      <th></th>\n",
              "      <th>High</th>\n",
              "      <th>Low</th>\n",
              "    </tr>\n",
              "    <tr>\n",
              "      <th>Date</th>\n",
              "      <th></th>\n",
              "      <th></th>\n",
              "    </tr>\n",
              "  </thead>\n",
              "  <tbody>\n",
              "    <tr>\n",
              "      <th>2015-08-07</th>\n",
              "      <td>3.540000</td>\n",
              "      <td>2.520000</td>\n",
              "    </tr>\n",
              "    <tr>\n",
              "      <th>2015-08-08</th>\n",
              "      <td>2.800000</td>\n",
              "      <td>0.714725</td>\n",
              "    </tr>\n",
              "    <tr>\n",
              "      <th>2015-08-09</th>\n",
              "      <td>0.879810</td>\n",
              "      <td>0.629191</td>\n",
              "    </tr>\n",
              "    <tr>\n",
              "      <th>2015-08-10</th>\n",
              "      <td>0.729854</td>\n",
              "      <td>0.636546</td>\n",
              "    </tr>\n",
              "    <tr>\n",
              "      <th>2015-08-11</th>\n",
              "      <td>1.130000</td>\n",
              "      <td>0.663235</td>\n",
              "    </tr>\n",
              "  </tbody>\n",
              "</table>\n",
              "</div>"
            ],
            "text/plain": [
              "                High       Low\n",
              "Date                          \n",
              "2015-08-07  3.540000  2.520000\n",
              "2015-08-08  2.800000  0.714725\n",
              "2015-08-09  0.879810  0.629191\n",
              "2015-08-10  0.729854  0.636546\n",
              "2015-08-11  1.130000  0.663235"
            ]
          },
          "metadata": {
            "tags": []
          },
          "execution_count": 28
        }
      ]
    },
    {
      "cell_type": "code",
      "metadata": {
        "id": "DJlCu9Iok8sx",
        "colab_type": "code",
        "colab": {
          "base_uri": "https://localhost:8080/",
          "height": 223
        },
        "outputId": "44d3dd19-bb5f-4186-bf38-71115dfce159"
      },
      "source": [
        "data_high = pd.DataFrame(data['High'].copy())\n",
        "data_high.head()"
      ],
      "execution_count": 39,
      "outputs": [
        {
          "output_type": "execute_result",
          "data": {
            "text/html": [
              "<div>\n",
              "<style scoped>\n",
              "    .dataframe tbody tr th:only-of-type {\n",
              "        vertical-align: middle;\n",
              "    }\n",
              "\n",
              "    .dataframe tbody tr th {\n",
              "        vertical-align: top;\n",
              "    }\n",
              "\n",
              "    .dataframe thead th {\n",
              "        text-align: right;\n",
              "    }\n",
              "</style>\n",
              "<table border=\"1\" class=\"dataframe\">\n",
              "  <thead>\n",
              "    <tr style=\"text-align: right;\">\n",
              "      <th></th>\n",
              "      <th>High</th>\n",
              "    </tr>\n",
              "    <tr>\n",
              "      <th>Date</th>\n",
              "      <th></th>\n",
              "    </tr>\n",
              "  </thead>\n",
              "  <tbody>\n",
              "    <tr>\n",
              "      <th>2015-08-07</th>\n",
              "      <td>3.540000</td>\n",
              "    </tr>\n",
              "    <tr>\n",
              "      <th>2015-08-08</th>\n",
              "      <td>2.800000</td>\n",
              "    </tr>\n",
              "    <tr>\n",
              "      <th>2015-08-09</th>\n",
              "      <td>0.879810</td>\n",
              "    </tr>\n",
              "    <tr>\n",
              "      <th>2015-08-10</th>\n",
              "      <td>0.729854</td>\n",
              "    </tr>\n",
              "    <tr>\n",
              "      <th>2015-08-11</th>\n",
              "      <td>1.130000</td>\n",
              "    </tr>\n",
              "  </tbody>\n",
              "</table>\n",
              "</div>"
            ],
            "text/plain": [
              "                High\n",
              "Date                \n",
              "2015-08-07  3.540000\n",
              "2015-08-08  2.800000\n",
              "2015-08-09  0.879810\n",
              "2015-08-10  0.729854\n",
              "2015-08-11  1.130000"
            ]
          },
          "metadata": {
            "tags": []
          },
          "execution_count": 39
        }
      ]
    },
    {
      "cell_type": "code",
      "metadata": {
        "id": "fXko1s1Ktlej",
        "colab_type": "code",
        "colab": {
          "base_uri": "https://localhost:8080/",
          "height": 230
        },
        "outputId": "d8818072-01e7-4167-e353-7e47ca044353"
      },
      "source": [
        "stepwise_model = auto_arima(data_high, start_p=1, start_q=1,\n",
        "                           max_p=3, max_q=3, m=12,\n",
        "                           start_P=0, seasonal=True,\n",
        "                           d=1, D=1, trace=True,\n",
        "                           error_action='ignore',  \n",
        "                           suppress_warnings=True, \n",
        "                           stepwise=True)"
      ],
      "execution_count": 40,
      "outputs": [
        {
          "output_type": "stream",
          "text": [
            "Fit ARIMA: order=(1, 1, 1) seasonal_order=(0, 1, 1, 12); AIC=15265.381, BIC=15292.864, Fit time=22.569 seconds\n",
            "Fit ARIMA: order=(0, 1, 0) seasonal_order=(0, 1, 0, 12); AIC=16605.287, BIC=16616.281, Fit time=0.135 seconds\n",
            "Fit ARIMA: order=(1, 1, 0) seasonal_order=(1, 1, 0, 12); AIC=15991.526, BIC=16013.512, Fit time=5.471 seconds\n",
            "Fit ARIMA: order=(0, 1, 1) seasonal_order=(0, 1, 1, 12); AIC=15263.788, BIC=15285.775, Fit time=16.854 seconds\n",
            "Fit ARIMA: order=(0, 1, 1) seasonal_order=(1, 1, 1, 12); AIC=15264.652, BIC=15292.136, Fit time=21.596 seconds\n",
            "Fit ARIMA: order=(0, 1, 1) seasonal_order=(0, 1, 0, 12); AIC=16504.461, BIC=16520.951, Fit time=1.543 seconds\n",
            "Fit ARIMA: order=(0, 1, 1) seasonal_order=(0, 1, 2, 12); AIC=15264.608, BIC=15292.091, Fit time=41.217 seconds\n",
            "Fit ARIMA: order=(0, 1, 1) seasonal_order=(1, 1, 2, 12); AIC=15267.548, BIC=15300.528, Fit time=20.879 seconds\n",
            "Fit ARIMA: order=(0, 1, 0) seasonal_order=(0, 1, 1, 12); AIC=15351.354, BIC=15367.844, Fit time=8.717 seconds\n",
            "Fit ARIMA: order=(0, 1, 2) seasonal_order=(0, 1, 1, 12); AIC=15265.740, BIC=15293.223, Fit time=7.297 seconds\n",
            "Fit ARIMA: order=(1, 1, 2) seasonal_order=(0, 1, 1, 12); AIC=15265.785, BIC=15298.765, Fit time=13.445 seconds\n",
            "Total fit time: 159.729 seconds\n"
          ],
          "name": "stdout"
        }
      ]
    },
    {
      "cell_type": "code",
      "metadata": {
        "id": "mxyzcBxltlhd",
        "colab_type": "code",
        "colab": {
          "base_uri": "https://localhost:8080/",
          "height": 35
        },
        "outputId": "da2ecdbf-f75e-4162-ab2f-80ca4ed58b1d"
      },
      "source": [
        "stepwise_model.aic()"
      ],
      "execution_count": 41,
      "outputs": [
        {
          "output_type": "execute_result",
          "data": {
            "text/plain": [
              "15263.78810808924"
            ]
          },
          "metadata": {
            "tags": []
          },
          "execution_count": 41
        }
      ]
    },
    {
      "cell_type": "code",
      "metadata": {
        "id": "DGJhYpmQtlpI",
        "colab_type": "code",
        "colab": {
          "base_uri": "https://localhost:8080/",
          "height": 223
        },
        "outputId": "58d88eea-1438-40d6-cd71-0745a36fb558"
      },
      "source": [
        "train = data_high.loc['2015-08-07':'2020-07-24']\n",
        "train.tail()"
      ],
      "execution_count": 42,
      "outputs": [
        {
          "output_type": "execute_result",
          "data": {
            "text/html": [
              "<div>\n",
              "<style scoped>\n",
              "    .dataframe tbody tr th:only-of-type {\n",
              "        vertical-align: middle;\n",
              "    }\n",
              "\n",
              "    .dataframe tbody tr th {\n",
              "        vertical-align: top;\n",
              "    }\n",
              "\n",
              "    .dataframe thead th {\n",
              "        text-align: right;\n",
              "    }\n",
              "</style>\n",
              "<table border=\"1\" class=\"dataframe\">\n",
              "  <thead>\n",
              "    <tr style=\"text-align: right;\">\n",
              "      <th></th>\n",
              "      <th>High</th>\n",
              "    </tr>\n",
              "    <tr>\n",
              "      <th>Date</th>\n",
              "      <th></th>\n",
              "    </tr>\n",
              "  </thead>\n",
              "  <tbody>\n",
              "    <tr>\n",
              "      <th>2020-07-20</th>\n",
              "      <td>239.58</td>\n",
              "    </tr>\n",
              "    <tr>\n",
              "      <th>2020-07-21</th>\n",
              "      <td>246.19</td>\n",
              "    </tr>\n",
              "    <tr>\n",
              "      <th>2020-07-22</th>\n",
              "      <td>262.99</td>\n",
              "    </tr>\n",
              "    <tr>\n",
              "      <th>2020-07-23</th>\n",
              "      <td>277.58</td>\n",
              "    </tr>\n",
              "    <tr>\n",
              "      <th>2020-07-24</th>\n",
              "      <td>286.19</td>\n",
              "    </tr>\n",
              "  </tbody>\n",
              "</table>\n",
              "</div>"
            ],
            "text/plain": [
              "              High\n",
              "Date              \n",
              "2020-07-20  239.58\n",
              "2020-07-21  246.19\n",
              "2020-07-22  262.99\n",
              "2020-07-23  277.58\n",
              "2020-07-24  286.19"
            ]
          },
          "metadata": {
            "tags": []
          },
          "execution_count": 42
        }
      ]
    },
    {
      "cell_type": "code",
      "metadata": {
        "id": "9EqgC-4Stls6",
        "colab_type": "code",
        "colab": {
          "base_uri": "https://localhost:8080/",
          "height": 223
        },
        "outputId": "1883c30d-e16f-404a-e549-7a7814f13e87"
      },
      "source": [
        "test = data_high.loc['2020-07-10':]\n",
        "test.head()"
      ],
      "execution_count": 49,
      "outputs": [
        {
          "output_type": "execute_result",
          "data": {
            "text/html": [
              "<div>\n",
              "<style scoped>\n",
              "    .dataframe tbody tr th:only-of-type {\n",
              "        vertical-align: middle;\n",
              "    }\n",
              "\n",
              "    .dataframe tbody tr th {\n",
              "        vertical-align: top;\n",
              "    }\n",
              "\n",
              "    .dataframe thead th {\n",
              "        text-align: right;\n",
              "    }\n",
              "</style>\n",
              "<table border=\"1\" class=\"dataframe\">\n",
              "  <thead>\n",
              "    <tr style=\"text-align: right;\">\n",
              "      <th></th>\n",
              "      <th>High</th>\n",
              "    </tr>\n",
              "    <tr>\n",
              "      <th>Date</th>\n",
              "      <th></th>\n",
              "    </tr>\n",
              "  </thead>\n",
              "  <tbody>\n",
              "    <tr>\n",
              "      <th>2020-07-10</th>\n",
              "      <td>242.88</td>\n",
              "    </tr>\n",
              "    <tr>\n",
              "      <th>2020-07-11</th>\n",
              "      <td>241.53</td>\n",
              "    </tr>\n",
              "    <tr>\n",
              "      <th>2020-07-12</th>\n",
              "      <td>243.31</td>\n",
              "    </tr>\n",
              "    <tr>\n",
              "      <th>2020-07-13</th>\n",
              "      <td>244.31</td>\n",
              "    </tr>\n",
              "    <tr>\n",
              "      <th>2020-07-14</th>\n",
              "      <td>242.00</td>\n",
              "    </tr>\n",
              "  </tbody>\n",
              "</table>\n",
              "</div>"
            ],
            "text/plain": [
              "              High\n",
              "Date              \n",
              "2020-07-10  242.88\n",
              "2020-07-11  241.53\n",
              "2020-07-12  243.31\n",
              "2020-07-13  244.31\n",
              "2020-07-14  242.00"
            ]
          },
          "metadata": {
            "tags": []
          },
          "execution_count": 49
        }
      ]
    },
    {
      "cell_type": "code",
      "metadata": {
        "id": "KpZxyxAUtln_",
        "colab_type": "code",
        "colab": {
          "base_uri": "https://localhost:8080/",
          "height": 35
        },
        "outputId": "96bb7259-449e-4788-a2f5-a92f6d2a25bc"
      },
      "source": [
        "len(test)"
      ],
      "execution_count": 50,
      "outputs": [
        {
          "output_type": "execute_result",
          "data": {
            "text/plain": [
              "16"
            ]
          },
          "metadata": {
            "tags": []
          },
          "execution_count": 50
        }
      ]
    },
    {
      "cell_type": "code",
      "metadata": {
        "id": "QypaVnlXvL3A",
        "colab_type": "code",
        "colab": {
          "base_uri": "https://localhost:8080/",
          "height": 88
        },
        "outputId": "4057c340-f85b-4dfb-9db0-4f628470687c"
      },
      "source": [
        "stepwise_model.fit(train)"
      ],
      "execution_count": 45,
      "outputs": [
        {
          "output_type": "execute_result",
          "data": {
            "text/plain": [
              "ARIMA(callback=None, disp=0, maxiter=50, method=None, order=(0, 1, 1),\n",
              "      out_of_sample_size=0, scoring='mse', scoring_args={},\n",
              "      seasonal_order=(0, 1, 1, 12), solver='lbfgs', start_params=None,\n",
              "      suppress_warnings=True, transparams=True, trend='c')"
            ]
          },
          "metadata": {
            "tags": []
          },
          "execution_count": 45
        }
      ]
    },
    {
      "cell_type": "code",
      "metadata": {
        "id": "RkNcKnWFvL8N",
        "colab_type": "code",
        "colab": {}
      },
      "source": [
        "future_forecast = stepwise_model.predict(n_periods=17)"
      ],
      "execution_count": 51,
      "outputs": []
    },
    {
      "cell_type": "code",
      "metadata": {
        "id": "6dt0yF3SvL6k",
        "colab_type": "code",
        "colab": {
          "base_uri": "https://localhost:8080/",
          "height": 106
        },
        "outputId": "12a29baa-435b-4756-c3aa-a035e738142e"
      },
      "source": [
        "future_forecast"
      ],
      "execution_count": 52,
      "outputs": [
        {
          "output_type": "execute_result",
          "data": {
            "text/plain": [
              "array([288.72571417, 290.9794319 , 290.48392412, 291.00391271,\n",
              "       289.92324235, 290.63975423, 290.01143777, 290.19287422,\n",
              "       289.24236602, 288.90866137, 287.49078771, 286.97599303,\n",
              "       288.07896639, 290.3299145 , 289.83163709, 290.34885606,\n",
              "       289.26541607])"
            ]
          },
          "metadata": {
            "tags": []
          },
          "execution_count": 52
        }
      ]
    },
    {
      "cell_type": "code",
      "metadata": {
        "id": "zoVxbjEavrU6",
        "colab_type": "code",
        "colab": {
          "base_uri": "https://localhost:8080/",
          "height": 688
        },
        "outputId": "c31b4d3d-9b96-4cd5-bfb6-bb5608eb0015"
      },
      "source": [
        "test['Prediction'] = future_forecast[0:16].tolist()\n",
        "test"
      ],
      "execution_count": 53,
      "outputs": [
        {
          "output_type": "stream",
          "text": [
            "/usr/local/lib/python3.6/dist-packages/ipykernel_launcher.py:1: SettingWithCopyWarning:\n",
            "\n",
            "\n",
            "A value is trying to be set on a copy of a slice from a DataFrame.\n",
            "Try using .loc[row_indexer,col_indexer] = value instead\n",
            "\n",
            "See the caveats in the documentation: https://pandas.pydata.org/pandas-docs/stable/user_guide/indexing.html#returning-a-view-versus-a-copy\n",
            "\n"
          ],
          "name": "stderr"
        },
        {
          "output_type": "execute_result",
          "data": {
            "text/html": [
              "<div>\n",
              "<style scoped>\n",
              "    .dataframe tbody tr th:only-of-type {\n",
              "        vertical-align: middle;\n",
              "    }\n",
              "\n",
              "    .dataframe tbody tr th {\n",
              "        vertical-align: top;\n",
              "    }\n",
              "\n",
              "    .dataframe thead th {\n",
              "        text-align: right;\n",
              "    }\n",
              "</style>\n",
              "<table border=\"1\" class=\"dataframe\">\n",
              "  <thead>\n",
              "    <tr style=\"text-align: right;\">\n",
              "      <th></th>\n",
              "      <th>High</th>\n",
              "      <th>Prediction</th>\n",
              "    </tr>\n",
              "    <tr>\n",
              "      <th>Date</th>\n",
              "      <th></th>\n",
              "      <th></th>\n",
              "    </tr>\n",
              "  </thead>\n",
              "  <tbody>\n",
              "    <tr>\n",
              "      <th>2020-07-10</th>\n",
              "      <td>242.88</td>\n",
              "      <td>288.725714</td>\n",
              "    </tr>\n",
              "    <tr>\n",
              "      <th>2020-07-11</th>\n",
              "      <td>241.53</td>\n",
              "      <td>290.979432</td>\n",
              "    </tr>\n",
              "    <tr>\n",
              "      <th>2020-07-12</th>\n",
              "      <td>243.31</td>\n",
              "      <td>290.483924</td>\n",
              "    </tr>\n",
              "    <tr>\n",
              "      <th>2020-07-13</th>\n",
              "      <td>244.31</td>\n",
              "      <td>291.003913</td>\n",
              "    </tr>\n",
              "    <tr>\n",
              "      <th>2020-07-14</th>\n",
              "      <td>242.00</td>\n",
              "      <td>289.923242</td>\n",
              "    </tr>\n",
              "    <tr>\n",
              "      <th>2020-07-15</th>\n",
              "      <td>241.40</td>\n",
              "      <td>290.639754</td>\n",
              "    </tr>\n",
              "    <tr>\n",
              "      <th>2020-07-16</th>\n",
              "      <td>239.01</td>\n",
              "      <td>290.011438</td>\n",
              "    </tr>\n",
              "    <tr>\n",
              "      <th>2020-07-17</th>\n",
              "      <td>234.42</td>\n",
              "      <td>290.192874</td>\n",
              "    </tr>\n",
              "    <tr>\n",
              "      <th>2020-07-18</th>\n",
              "      <td>236.54</td>\n",
              "      <td>289.242366</td>\n",
              "    </tr>\n",
              "    <tr>\n",
              "      <th>2020-07-19</th>\n",
              "      <td>239.16</td>\n",
              "      <td>288.908661</td>\n",
              "    </tr>\n",
              "    <tr>\n",
              "      <th>2020-07-20</th>\n",
              "      <td>239.58</td>\n",
              "      <td>287.490788</td>\n",
              "    </tr>\n",
              "    <tr>\n",
              "      <th>2020-07-21</th>\n",
              "      <td>246.19</td>\n",
              "      <td>286.975993</td>\n",
              "    </tr>\n",
              "    <tr>\n",
              "      <th>2020-07-22</th>\n",
              "      <td>262.99</td>\n",
              "      <td>288.078966</td>\n",
              "    </tr>\n",
              "    <tr>\n",
              "      <th>2020-07-23</th>\n",
              "      <td>277.58</td>\n",
              "      <td>290.329914</td>\n",
              "    </tr>\n",
              "    <tr>\n",
              "      <th>2020-07-24</th>\n",
              "      <td>286.19</td>\n",
              "      <td>289.831637</td>\n",
              "    </tr>\n",
              "    <tr>\n",
              "      <th>2020-07-25</th>\n",
              "      <td>306.74</td>\n",
              "      <td>290.348856</td>\n",
              "    </tr>\n",
              "  </tbody>\n",
              "</table>\n",
              "</div>"
            ],
            "text/plain": [
              "              High  Prediction\n",
              "Date                          \n",
              "2020-07-10  242.88  288.725714\n",
              "2020-07-11  241.53  290.979432\n",
              "2020-07-12  243.31  290.483924\n",
              "2020-07-13  244.31  291.003913\n",
              "2020-07-14  242.00  289.923242\n",
              "2020-07-15  241.40  290.639754\n",
              "2020-07-16  239.01  290.011438\n",
              "2020-07-17  234.42  290.192874\n",
              "2020-07-18  236.54  289.242366\n",
              "2020-07-19  239.16  288.908661\n",
              "2020-07-20  239.58  287.490788\n",
              "2020-07-21  246.19  286.975993\n",
              "2020-07-22  262.99  288.078966\n",
              "2020-07-23  277.58  290.329914\n",
              "2020-07-24  286.19  289.831637\n",
              "2020-07-25  306.74  290.348856"
            ]
          },
          "metadata": {
            "tags": []
          },
          "execution_count": 53
        }
      ]
    }
  ]
}