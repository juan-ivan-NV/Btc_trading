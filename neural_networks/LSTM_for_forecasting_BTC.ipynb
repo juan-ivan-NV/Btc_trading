{
  "nbformat": 4,
  "nbformat_minor": 0,
  "metadata": {
    "colab": {
      "name": "LSTM_for_forecasting_BTC.ipynb",
      "provenance": [],
      "collapsed_sections": []
    },
    "kernelspec": {
      "name": "python3",
      "display_name": "Python 3"
    }
  },
  "cells": [
    {
      "cell_type": "markdown",
      "metadata": {
        "id": "8SMWjzrR7qru",
        "colab_type": "text"
      },
      "source": [
        "# Choosing a neural network for forecastings"
      ]
    },
    {
      "cell_type": "markdown",
      "metadata": {
        "id": "cNVTGHpHO1A5",
        "colab_type": "text"
      },
      "source": [
        "Researching to choose a LSTM a RNN or GRU"
      ]
    },
    {
      "cell_type": "markdown",
      "metadata": {
        "id": "JomEiUnT70uZ",
        "colab_type": "text"
      },
      "source": [
        "Data from: https://www.cryptodatadownload.com/data/binance/"
      ]
    },
    {
      "cell_type": "code",
      "metadata": {
        "id": "wc3dSy_m2R57",
        "colab_type": "code",
        "colab": {}
      },
      "source": [
        "#https://stackabuse.com/time-series-prediction-using-lstm-with-pytorch-in-python/\n",
        "#https://medium.com/swlh/stock-price-prediction-with-pytorch-37f52ae84632\n",
        "#https://machinelearningmastery.com/time-series-forecasting-long-short-term-memory-network-python/"
      ],
      "execution_count": null,
      "outputs": []
    },
    {
      "cell_type": "code",
      "metadata": {
        "id": "vZI-0fDlDw-h",
        "colab_type": "code",
        "colab": {}
      },
      "source": [
        "import pandas as pd\n",
        "import datetime"
      ],
      "execution_count": 15,
      "outputs": []
    },
    {
      "cell_type": "code",
      "metadata": {
        "id": "QCWPoW6aNT0K",
        "colab_type": "code",
        "colab": {}
      },
      "source": [
        "def obj_to_num(df,cols):\n",
        "    def obj_to_num(row):\n",
        "        row = row.replace(',','')\n",
        "        return float(row)\n",
        "\n",
        "    for col in cols: \n",
        "        df[col] = df[col].apply(obj_to_num) \n",
        "    return df\n",
        "    \n",
        "def prepare_data(file):\n",
        "  dateparse = lambda x: pd.datetime.strptime(x, '%b %d, %Y').strftime('%Y-%m-%d')\n",
        "  data  = pd.read_csv(file, parse_dates=[0], date_parser=dateparse)\n",
        "  columns = ['Open','High','Low','Close','Volume','Market Cap']\n",
        "  num_data = obj_to_num(data,columns)\n",
        "  data['Date'] = data['Date'].dt.tz_localize(None)\n",
        "  data = data.groupby([pd.Grouper(key='Date', freq='H')]).first().reset_index()\n",
        "  data = data.set_index('Date')\n",
        "  data = data[['High']]\n",
        "  data.dropna(subset=['High'], inplace=True)\n",
        "  return data"
      ],
      "execution_count": null,
      "outputs": []
    },
    {
      "cell_type": "code",
      "metadata": {
        "id": "6ar-bzohJ1Co",
        "colab_type": "code",
        "colab": {
          "base_uri": "https://localhost:8080/",
          "height": 487
        },
        "outputId": "453d48d7-9eb9-47e5-b673-635305459069"
      },
      "source": [
        "data = pd.read_csv('Binance_BTCUSDT_1h.csv', header=1)\n",
        "kill_am = lambda x: datetime.datetime.strptime(x,'%Y-%m-%d %I-%p')\n",
        "data['Date'] = data['Date'].apply(kill_am)\n",
        "data.head(15)"
      ],
      "execution_count": 21,
      "outputs": [
        {
          "output_type": "execute_result",
          "data": {
            "text/html": [
              "<div>\n",
              "<style scoped>\n",
              "    .dataframe tbody tr th:only-of-type {\n",
              "        vertical-align: middle;\n",
              "    }\n",
              "\n",
              "    .dataframe tbody tr th {\n",
              "        vertical-align: top;\n",
              "    }\n",
              "\n",
              "    .dataframe thead th {\n",
              "        text-align: right;\n",
              "    }\n",
              "</style>\n",
              "<table border=\"1\" class=\"dataframe\">\n",
              "  <thead>\n",
              "    <tr style=\"text-align: right;\">\n",
              "      <th></th>\n",
              "      <th>Date</th>\n",
              "      <th>Symbol</th>\n",
              "      <th>Open</th>\n",
              "      <th>High</th>\n",
              "      <th>Low</th>\n",
              "      <th>Close</th>\n",
              "      <th>Volume BTC</th>\n",
              "      <th>Volume USDT</th>\n",
              "    </tr>\n",
              "  </thead>\n",
              "  <tbody>\n",
              "    <tr>\n",
              "      <th>0</th>\n",
              "      <td>2020-08-14 22:00:00</td>\n",
              "      <td>BTCUSDT</td>\n",
              "      <td>11761.80</td>\n",
              "      <td>11798.05</td>\n",
              "      <td>11720.00</td>\n",
              "      <td>11771.93</td>\n",
              "      <td>1574.82</td>\n",
              "      <td>18511548.54</td>\n",
              "    </tr>\n",
              "    <tr>\n",
              "      <th>1</th>\n",
              "      <td>2020-08-14 21:00:00</td>\n",
              "      <td>BTCUSDT</td>\n",
              "      <td>11762.04</td>\n",
              "      <td>11780.27</td>\n",
              "      <td>11701.00</td>\n",
              "      <td>11761.80</td>\n",
              "      <td>1658.38</td>\n",
              "      <td>19471891.50</td>\n",
              "    </tr>\n",
              "    <tr>\n",
              "      <th>2</th>\n",
              "      <td>2020-08-14 20:00:00</td>\n",
              "      <td>BTCUSDT</td>\n",
              "      <td>11801.94</td>\n",
              "      <td>11825.36</td>\n",
              "      <td>11736.16</td>\n",
              "      <td>11762.04</td>\n",
              "      <td>1941.45</td>\n",
              "      <td>22869349.57</td>\n",
              "    </tr>\n",
              "    <tr>\n",
              "      <th>3</th>\n",
              "      <td>2020-08-14 19:00:00</td>\n",
              "      <td>BTCUSDT</td>\n",
              "      <td>11823.24</td>\n",
              "      <td>11825.09</td>\n",
              "      <td>11766.66</td>\n",
              "      <td>11801.94</td>\n",
              "      <td>2019.25</td>\n",
              "      <td>23836092.04</td>\n",
              "    </tr>\n",
              "    <tr>\n",
              "      <th>4</th>\n",
              "      <td>2020-08-14 18:00:00</td>\n",
              "      <td>BTCUSDT</td>\n",
              "      <td>11787.66</td>\n",
              "      <td>11833.34</td>\n",
              "      <td>11778.86</td>\n",
              "      <td>11823.24</td>\n",
              "      <td>2323.34</td>\n",
              "      <td>27446101.75</td>\n",
              "    </tr>\n",
              "    <tr>\n",
              "      <th>5</th>\n",
              "      <td>2020-08-14 17:00:00</td>\n",
              "      <td>BTCUSDT</td>\n",
              "      <td>11809.85</td>\n",
              "      <td>11842.00</td>\n",
              "      <td>11773.14</td>\n",
              "      <td>11787.66</td>\n",
              "      <td>2838.34</td>\n",
              "      <td>33512270.42</td>\n",
              "    </tr>\n",
              "    <tr>\n",
              "      <th>6</th>\n",
              "      <td>2020-08-14 16:00:00</td>\n",
              "      <td>BTCUSDT</td>\n",
              "      <td>11740.35</td>\n",
              "      <td>11850.00</td>\n",
              "      <td>11706.43</td>\n",
              "      <td>11809.85</td>\n",
              "      <td>5536.04</td>\n",
              "      <td>65335221.33</td>\n",
              "    </tr>\n",
              "    <tr>\n",
              "      <th>7</th>\n",
              "      <td>2020-08-14 15:00:00</td>\n",
              "      <td>BTCUSDT</td>\n",
              "      <td>11706.71</td>\n",
              "      <td>11748.78</td>\n",
              "      <td>11652.27</td>\n",
              "      <td>11740.35</td>\n",
              "      <td>3015.38</td>\n",
              "      <td>35280004.71</td>\n",
              "    </tr>\n",
              "    <tr>\n",
              "      <th>8</th>\n",
              "      <td>2020-08-14 14:00:00</td>\n",
              "      <td>BTCUSDT</td>\n",
              "      <td>11714.02</td>\n",
              "      <td>11714.02</td>\n",
              "      <td>11635.02</td>\n",
              "      <td>11706.71</td>\n",
              "      <td>2649.71</td>\n",
              "      <td>30965363.45</td>\n",
              "    </tr>\n",
              "    <tr>\n",
              "      <th>9</th>\n",
              "      <td>2020-08-14 13:00:00</td>\n",
              "      <td>BTCUSDT</td>\n",
              "      <td>11739.00</td>\n",
              "      <td>11739.47</td>\n",
              "      <td>11666.13</td>\n",
              "      <td>11714.02</td>\n",
              "      <td>3061.48</td>\n",
              "      <td>35801032.70</td>\n",
              "    </tr>\n",
              "    <tr>\n",
              "      <th>10</th>\n",
              "      <td>2020-08-14 12:00:00</td>\n",
              "      <td>BTCUSDT</td>\n",
              "      <td>11760.81</td>\n",
              "      <td>11762.32</td>\n",
              "      <td>11713.11</td>\n",
              "      <td>11739.00</td>\n",
              "      <td>2220.75</td>\n",
              "      <td>26060125.67</td>\n",
              "    </tr>\n",
              "    <tr>\n",
              "      <th>11</th>\n",
              "      <td>2020-08-14 11:00:00</td>\n",
              "      <td>BTCUSDT</td>\n",
              "      <td>11720.72</td>\n",
              "      <td>11774.99</td>\n",
              "      <td>11696.16</td>\n",
              "      <td>11760.81</td>\n",
              "      <td>2399.52</td>\n",
              "      <td>28153089.36</td>\n",
              "    </tr>\n",
              "    <tr>\n",
              "      <th>12</th>\n",
              "      <td>2020-08-14 10:00:00</td>\n",
              "      <td>BTCUSDT</td>\n",
              "      <td>11698.38</td>\n",
              "      <td>11758.37</td>\n",
              "      <td>11692.27</td>\n",
              "      <td>11720.72</td>\n",
              "      <td>2279.51</td>\n",
              "      <td>26727549.01</td>\n",
              "    </tr>\n",
              "    <tr>\n",
              "      <th>13</th>\n",
              "      <td>2020-08-14 09:00:00</td>\n",
              "      <td>BTCUSDT</td>\n",
              "      <td>11681.37</td>\n",
              "      <td>11706.92</td>\n",
              "      <td>11662.00</td>\n",
              "      <td>11698.38</td>\n",
              "      <td>2538.00</td>\n",
              "      <td>29659039.42</td>\n",
              "    </tr>\n",
              "    <tr>\n",
              "      <th>14</th>\n",
              "      <td>2020-08-14 08:00:00</td>\n",
              "      <td>BTCUSDT</td>\n",
              "      <td>11696.98</td>\n",
              "      <td>11736.79</td>\n",
              "      <td>11663.00</td>\n",
              "      <td>11681.37</td>\n",
              "      <td>2687.11</td>\n",
              "      <td>31441870.80</td>\n",
              "    </tr>\n",
              "  </tbody>\n",
              "</table>\n",
              "</div>"
            ],
            "text/plain": [
              "                  Date   Symbol      Open  ...     Close  Volume BTC  Volume USDT\n",
              "0  2020-08-14 22:00:00  BTCUSDT  11761.80  ...  11771.93     1574.82  18511548.54\n",
              "1  2020-08-14 21:00:00  BTCUSDT  11762.04  ...  11761.80     1658.38  19471891.50\n",
              "2  2020-08-14 20:00:00  BTCUSDT  11801.94  ...  11762.04     1941.45  22869349.57\n",
              "3  2020-08-14 19:00:00  BTCUSDT  11823.24  ...  11801.94     2019.25  23836092.04\n",
              "4  2020-08-14 18:00:00  BTCUSDT  11787.66  ...  11823.24     2323.34  27446101.75\n",
              "5  2020-08-14 17:00:00  BTCUSDT  11809.85  ...  11787.66     2838.34  33512270.42\n",
              "6  2020-08-14 16:00:00  BTCUSDT  11740.35  ...  11809.85     5536.04  65335221.33\n",
              "7  2020-08-14 15:00:00  BTCUSDT  11706.71  ...  11740.35     3015.38  35280004.71\n",
              "8  2020-08-14 14:00:00  BTCUSDT  11714.02  ...  11706.71     2649.71  30965363.45\n",
              "9  2020-08-14 13:00:00  BTCUSDT  11739.00  ...  11714.02     3061.48  35801032.70\n",
              "10 2020-08-14 12:00:00  BTCUSDT  11760.81  ...  11739.00     2220.75  26060125.67\n",
              "11 2020-08-14 11:00:00  BTCUSDT  11720.72  ...  11760.81     2399.52  28153089.36\n",
              "12 2020-08-14 10:00:00  BTCUSDT  11698.38  ...  11720.72     2279.51  26727549.01\n",
              "13 2020-08-14 09:00:00  BTCUSDT  11681.37  ...  11698.38     2538.00  29659039.42\n",
              "14 2020-08-14 08:00:00  BTCUSDT  11696.98  ...  11681.37     2687.11  31441870.80\n",
              "\n",
              "[15 rows x 8 columns]"
            ]
          },
          "metadata": {
            "tags": []
          },
          "execution_count": 21
        }
      ]
    },
    {
      "cell_type": "code",
      "metadata": {
        "id": "rYNVxoPONKcO",
        "colab_type": "code",
        "colab": {
          "base_uri": "https://localhost:8080/",
          "height": 177
        },
        "outputId": "bb518810-6816-4103-c64a-1ae772a3b1c6"
      },
      "source": [
        "data.dtypes"
      ],
      "execution_count": 23,
      "outputs": [
        {
          "output_type": "execute_result",
          "data": {
            "text/plain": [
              "Date           datetime64[ns]\n",
              "Symbol                 object\n",
              "Open                  float64\n",
              "High                  float64\n",
              "Low                   float64\n",
              "Close                 float64\n",
              "Volume BTC            float64\n",
              "Volume USDT           float64\n",
              "dtype: object"
            ]
          },
          "metadata": {
            "tags": []
          },
          "execution_count": 23
        }
      ]
    },
    {
      "cell_type": "code",
      "metadata": {
        "id": "cpdW8Uh3oZiO",
        "colab_type": "code",
        "colab": {
          "base_uri": "https://localhost:8080/",
          "height": 35
        },
        "outputId": "37c7f12a-e85b-4782-f00d-646dcaaebd90"
      },
      "source": [
        "len(data)"
      ],
      "execution_count": 24,
      "outputs": [
        {
          "output_type": "execute_result",
          "data": {
            "text/plain": [
              "26251"
            ]
          },
          "metadata": {
            "tags": []
          },
          "execution_count": 24
        }
      ]
    },
    {
      "cell_type": "code",
      "metadata": {
        "id": "Na4lWLPvouHD",
        "colab_type": "code",
        "colab": {}
      },
      "source": [
        "# some insights \n",
        "1.- Hour more high in the last month\n",
        "2.- "
      ],
      "execution_count": null,
      "outputs": []
    }
  ]
}